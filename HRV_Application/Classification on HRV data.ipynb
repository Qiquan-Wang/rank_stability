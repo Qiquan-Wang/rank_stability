{
 "cells": [
  {
   "attachments": {},
   "cell_type": "markdown",
   "id": "99d196c0",
   "metadata": {},
   "source": [
    "# Classification of Heart Rate Variability data (RR-series)"
   ]
  },
  {
   "cell_type": "code",
   "execution_count": 1,
   "id": "20fcde8c",
   "metadata": {},
   "outputs": [],
   "source": [
    "# import modules\n",
    "using Pkg\n",
    "using CSV\n",
    "using DataFrames\n",
    "using Ripserer\n",
    "using Plots\n",
    "using MultivariateStats\n",
    "using Statistics\n",
    "using MultivariateAnomalies\n",
    "using LIBSVM\n",
    "using GLM\n",
    "using StatsBase\n",
    "using Lathe\n",
    "using MLBase\n",
    "using ClassImbalance\n",
    "using ROCAnalysis\n",
    "using Lathe.preprocess: TrainTestSplit\n",
    "using Random"
   ]
  },
  {
   "attachments": {},
   "cell_type": "markdown",
   "id": "7fd1e7ce",
   "metadata": {},
   "source": [
    "## Loading data"
   ]
  },
  {
   "cell_type": "code",
   "execution_count": 2,
   "id": "f3df8a2a",
   "metadata": {},
   "outputs": [],
   "source": [
    "# load the data\n",
    "Control = CSV.read(\"C:\\\\Users\\\\qwang\\\\OneDrive\\\\Desktop\\\\rank functions\\\\Data\\\\normalRRs_CON.csv\", header=false)\n",
    "Stroke = CSV.read(\"C:\\\\Users\\\\qwang\\\\OneDrive\\\\Desktop\\\\rank functions\\\\Data\\\\normalRRs_STR.csv\", header=false)\n",
    "# convert DataFrame to array\n",
    "Control_subjects = Control[:,1];\n",
    "Control_data = Control[:,2:501];# length reduced because of missing values\n",
    "Control_data = Matrix{Float64}(Control_data);\n",
    "Stroke = Stroke[setdiff(1:end, 26),:];\n",
    "Stroke_subjects = Stroke[:,1];\n",
    "Stroke_data = Stroke[:,2:501];\n",
    "Stroke_data = Matrix{Float64}(Stroke_data);"
   ]
  },
  {
   "cell_type": "code",
   "execution_count": 3,
   "id": "f8bf73e5",
   "metadata": {},
   "outputs": [],
   "source": [
    "# creat an empty array of arrays\n",
    "Control_size = size(Control_data)[1];\n",
    "Stroke_size = size(Stroke_data)[1];\n",
    "Control_barcodes = Array{Array{Float64}}(undef,Control_size);\n",
    "Stroke_barcodes = Array{Array{Float64}}(undef,Stroke_size);"
   ]
  },
  {
   "attachments": {},
   "cell_type": "markdown",
   "id": "be754cf2",
   "metadata": {},
   "source": [
    "## Define functions"
   ]
  },
  {
   "cell_type": "code",
   "execution_count": 4,
   "id": "fe2003ad",
   "metadata": {},
   "outputs": [],
   "source": [
    "# define a function that converts the outputted PersistenceDiagram into array\n",
    "function PD_to_array(result)\n",
    "    output = Array{Float64}(undef, (length(result),2))\n",
    "    for i in 1:length(result)\n",
    "        output[i,:] = [result[i][1],result[i][2]]\n",
    "    end\n",
    "    return output\n",
    "end  \n",
    "\n",
    "# for each row of RR intervals of a person calculate the barcode of the curve\n",
    "for i in 1:Control_size\n",
    "    result, _ = ripserer(Cubical(Control_data[i,:]));\n",
    "    Control_barcodes[i] = PD_to_array(result);\n",
    "end\n",
    "for j in 1:Stroke_size\n",
    "    result, _ = ripserer(Cubical(Stroke_data[j,:]));\n",
    "    Stroke_barcodes[j] = PD_to_array(result);\n",
    "end\n",
    "\n",
    "# functions to convert barcodes to rank functions (main function \"B2rank\")\n",
    "function B2rank(Barcode,minval,maxval,maxord)\n",
    "    f                           =   interval2ordinal(minval,maxval,maxord)\n",
    "    B                           =   f.(Barcode).+1\n",
    "    r                           =   barcode2rankfun(B,maxord)\n",
    "    return r\n",
    "end\n",
    "\n",
    "# assumes an integer barcode with minval 1\n",
    "# B is an arbitrary (floating point) barcode\n",
    "# B will be translated on to an integer interval [1,gridmax]\n",
    "function barcode2rankfun(B,gridmax)\n",
    "    if isempty(B)\n",
    "        return zeros(Int64,gridmax,gridmax)\n",
    "    elseif maximum(B) > gridmax ###### infinity from essential cycle\n",
    "        print(maximum(B))\n",
    "        print(\"Error: B may take values no greater than gridmax.\")\n",
    "        return\n",
    "    end\n",
    "    M                           =   zeros(Int64,gridmax,gridmax)\n",
    "    for p                       =   1:size(B,1)\n",
    "        I                       =   B[p,1]: B[p,2]\n",
    "        M[I,I].+=1\n",
    "    end\n",
    "    return M\n",
    "end\n",
    "\n",
    "function interval2ordinal(a,b,maxord)\n",
    "    function f(u)\n",
    "        u                       =   (u-a)/(b-a)\n",
    "        u                       =   ceil.(Int64,u*maxord)\n",
    "    end\n",
    "    return f\n",
    "end\n",
    "\n",
    "function expand2interval(B;lowerlim=0,upperlim=1) # changing range of interval\n",
    "    if isempty(B)\n",
    "        return B\n",
    "    end\n",
    "    minval                      =   minimum(B)\n",
    "    maxval                      =   maximum(B)\n",
    "    C                           =   (B-minval)/(maxval-minval)\n",
    "    C                           =   C*(upperlim-lowerlim)+lowerlim\n",
    "end\n",
    "\n",
    "# find maximum of all barcodes\n",
    "maxs = Array{Float64}(undef,0)\n",
    "for a in Control_barcodes\n",
    "    append!(maxs, [maximum(a[1:(end-1),:])])\n",
    "end\n",
    "for b in Stroke_barcodes\n",
    "    append!(maxs, [maximum(b[1:(end-1),:])])\n",
    "end\n",
    "maxi = maximum(maxs);\n",
    "\n",
    "# find minimum of all barcodes\n",
    "mins = Array{Float64}(undef,0)\n",
    "for a in Control_barcodes\n",
    "    append!(mins, [minimum(a[1:(end-1),:])])\n",
    "end\n",
    "for b in Stroke_barcodes\n",
    "    append!(mins, [minimum(b[1:(end-1),:])])\n",
    "end\n",
    "mini = minimum(mins);\n",
    "\n",
    "# for ease of use substitute all infinities with value for maxi\n",
    "for a in Control_barcodes\n",
    "    a[end,2] = maxi;\n",
    "end\n",
    "for b in Stroke_barcodes\n",
    "    b[end,2] = maxi;\n",
    "end\n"
   ]
  },
  {
   "cell_type": "code",
   "execution_count": 5,
   "id": "bf0622b1",
   "metadata": {},
   "outputs": [],
   "source": [
    "# Convert barcodes into rank functions (matrix)\n",
    "# gridsize = 100\n",
    "Control_rankfunc = Array{Array{Float64}}(undef,Control_size);\n",
    "Stroke_rankfunc = Array{Array{Float64}}(undef,Stroke_size);\n",
    "f_mini = floor(mini);\n",
    "c_maxi = ceil(maxi)+15 # add on some values to ensure max of barcodes does not go over gridmax when converted usually (c_maxi-f_mini)/gridmax would be sufficient\n",
    "for i in 1:Control_size\n",
    "    Control_rankfunc[i] = B2rank(Control_barcodes[i],f_mini,c_maxi,100)\n",
    "end\n",
    "for j in 1:Stroke_size\n",
    "    Stroke_rankfunc[j] = B2rank(Stroke_barcodes[j],f_mini,c_maxi,100)\n",
    "end\n",
    "\n",
    "# Convert rank function matrices to vectors\n",
    "Control_rankvec = Array{Array{Float64}}(undef,Control_size);\n",
    "Stroke_rankvec = Array{Array{Float64}}(undef,Stroke_size);\n",
    "for i in 1:Control_size\n",
    "    Control_rankvec[i] = vec(Control_rankfunc[i])\n",
    "end\n",
    "for j in 1:Stroke_size\n",
    "    Stroke_rankvec[j] = vec(Stroke_rankfunc[j])\n",
    "end\n",
    "\n",
    "# Combine vectors into matrix\n",
    "d = length(Control_rankvec[1])\n",
    "Control_rankmatrix_all = Array{Float64}(undef,d,Control_size);\n",
    "Stroke_rankmatrix_all = Array{Float64}(undef,d,Stroke_size);\n",
    "for i in 1:Control_size\n",
    "    Control_rankmatrix_all[:,i] = Control_rankvec[i]\n",
    "end\n",
    "for j in 1:Stroke_size\n",
    "    Stroke_rankmatrix_all[:,j] = Stroke_rankvec[j]\n",
    "end\n",
    "\n",
    "\n",
    "Control_meanrank = mean(Control_rankmatrix_all, dims=2)\n",
    "Stroke_meanrank = mean(Stroke_rankmatrix_all, dims=2)\n",
    "# create centred rank matrix\n",
    "Control_rankmatrix_centred = Array{Float64}(undef,d,Control_size);\n",
    "Stroke_rankmatrix_centred = Array{Float64}(undef,d,Stroke_size);\n",
    "for i in 1:Control_size\n",
    "    Control_rankmatrix_centred[:,i] = Control_rankmatrix_all[:,i]-Control_meanrank\n",
    "end\n",
    "for j in 1:Stroke_size\n",
    "    Stroke_rankmatrix_centred[:,j] = Stroke_rankmatrix_all[:,j]-Stroke_meanrank\n",
    "end"
   ]
  },
  {
   "cell_type": "code",
   "execution_count": 8,
   "id": "d09887c6",
   "metadata": {},
   "outputs": [],
   "source": [
    "# Combine two matrices (control and stroke) together\n",
    "Rankmatrix_all_centred = hcat(Control_rankmatrix_centred, Stroke_rankmatrix_centred);\n",
    "Rankmatrix_all = hcat(Control_rankmatrix_all, Stroke_rankmatrix_all);"
   ]
  },
  {
   "attachments": {},
   "cell_type": "markdown",
   "id": "470a26ae",
   "metadata": {},
   "source": [
    "# Some visualization\n"
   ]
  },
  {
   "cell_type": "code",
   "execution_count": null,
   "id": "2a605232",
   "metadata": {},
   "outputs": [],
   "source": [
    "# examples of RR-series \n",
    "plot(1:500, Stroke_data[1:5,:]',legend=true)\n",
    "ylabel!(\"RR-intervals\")\n",
    "xlabel!(\"Time\")"
   ]
  },
  {
   "cell_type": "code",
   "execution_count": null,
   "id": "7df65108",
   "metadata": {},
   "outputs": [],
   "source": [
    "# one series from healthy individual and one series from stroke patient\n",
    "plot(1:500, hcat(Control_data[8,:], Stroke_data[5,:]),label=[\"Healthy individual 1\" \"Stroke patient 1\"])\n",
    "ylabel!(\"RR-intervals\")\n",
    "xlabel!(\"Time\")"
   ]
  },
  {
   "cell_type": "code",
   "execution_count": null,
   "id": "eb1b37a3",
   "metadata": {},
   "outputs": [],
   "source": [
    "# computed persistence diagram on example\n",
    "bars = ripserer(Cubical(Control_data[1,:]))\n",
    "plot(bars)\n",
    "# savefig(\"pd.png\") "
   ]
  },
  {
   "cell_type": "code",
   "execution_count": null,
   "id": "3d5be6bc",
   "metadata": {},
   "outputs": [],
   "source": [
    "# plot barcode\n",
    "barcode(bars, linewidth=3)\n",
    "# savefig(\"barcodes.png\") "
   ]
  },
  {
   "cell_type": "code",
   "execution_count": null,
   "id": "435597a4",
   "metadata": {},
   "outputs": [],
   "source": [
    "# heatmap of rank function\n",
    "heatmap(1:100,1:100,Control_rankfunc[1],c=cgrad([:white, :blue]))"
   ]
  },
  {
   "cell_type": "code",
   "execution_count": null,
   "id": "50e07b1a",
   "metadata": {},
   "outputs": [],
   "source": [
    "# plot example rank function in 3D\n",
    "pyplot()\n",
    "x=range(f_mini,stop=c_maxi,length=100)\n",
    "y=range(f_mini,stop=c_maxi,length=100)\n",
    "plot(x,y,Control_rankfunc[1],st=:surface,camera=(-10,30))"
   ]
  },
  {
   "attachments": {},
   "cell_type": "markdown",
   "id": "d4ec1436",
   "metadata": {},
   "source": [
    "# Train svm on functions\n"
   ]
  },
  {
   "cell_type": "code",
   "execution_count": 9,
   "id": "803d85a7",
   "metadata": {},
   "outputs": [],
   "source": [
    "# Add labels to each rank function 0 for control and 1 for Stroke\n",
    "labels = hcat(zeros(1,Control_size),ones(1,Stroke_size));\n",
    "# Stack labels and matrix together\n",
    "Data_all = vcat(labels, Rankmatrix_all_centred);\n",
    "\n",
    "Control_rank = DataFrame(Control_rankmatrix_centred');\n",
    "Stroke_rank = DataFrame(Stroke_rankmatrix_centred');\n",
    "# make into a dataframe and add column names\n",
    "colnames = vcat([\"labels\"],names(Control_rank));\n",
    "df = DataFrame(Data_all');\n",
    "rename!(df, Symbol.(colnames));"
   ]
  },
  {
   "cell_type": "code",
   "execution_count": 74,
   "id": "69b4dc16",
   "metadata": {},
   "outputs": [],
   "source": [
    "# model performance very variable\n",
    "# 10 iterations of 5-fold cv\n",
    "iter = 10\n",
    "ac = zeros(iter)\n",
    "ac_list = Array{Float64}(undef,5,iter);\n",
    "aucs_rec = zeros(iter)\n",
    "auc_list = Array{Float64}(undef,5,iter);\n",
    "for k in 1:iter\n",
    "    # first shuffle dataframe to ensure an even mix of control and stroke patients\n",
    "    shuffled_df = df[shuffle(axes(df, 1)), :];\n",
    "    # choose 5 folds for cross validation\n",
    "    tot_num = Control_size + Stroke_size\n",
    "    folds_allocation = collect(Kfold(tot_num, 5))\n",
    "    # record accuracy and AUC\n",
    "    test_accuracy = zeros(5);\n",
    "    AUCs = zeros(5);\n",
    "    for i in 1:5\n",
    "        train_set = shuffled_df[folds_allocation[i],:];\n",
    "        test_set = shuffled_df[Not(folds_allocation[i]),:];\n",
    "        # accuracy on test set \n",
    "        model = svmtrain(convert(Array, train_set[:,2:end])',train_set[:,1])\n",
    "        (predicted_labels, decision_values) = svmpredict(model, convert(Array, test_set[:,2:end])');\n",
    "        test_accuracy[i] = sum(predicted_labels .== test_set[:,1])/length(test_set[:,1])*100;\n",
    "        AUCs[i] = MultivariateAnomalies.auc(convert(Array{Int},predicted_labels), convert(Array{Int},test_set[:,1]));\n",
    "    end\n",
    "    ac[k] = mean(test_accuracy);\n",
    "    ac_list[:,k] = test_accuracy;\n",
    "    aucs_rec[k] = mean(AUCs);\n",
    "    auc_list[:,k] = AUCs;\n",
    "end"
   ]
  },
  {
   "cell_type": "code",
   "execution_count": 75,
   "id": "d6db1932",
   "metadata": {},
   "outputs": [
    {
     "name": "stdout",
     "output_type": "stream",
     "text": [
      "[74.70588235294117, 73.3986928104575, 74.44444444444443, 76.66666666666666, 64.9673202614379, 72.09150326797385, 74.37908496732027, 80.13071895424837, 75.49019607843138, 79.34640522875817]Average accuracy: \n",
      "74.56209150326796"
     ]
    }
   ],
   "source": [
    "print(ac) # average accuracy\n",
    "print(\"Average accuracy: \\n\", mean(ac))"
   ]
  },
  {
   "cell_type": "code",
   "execution_count": 76,
   "id": "1e737b16",
   "metadata": {},
   "outputs": [
    {
     "name": "stdout",
     "output_type": "stream",
     "text": [
      "[0.7584199134199133, 0.7296969696969697, 0.7322619047619048, 0.7691666666666667, 0.6906080031080031, 0.743531746031746, 0.7460042735042736, 0.790873015873016, 0.7328571428571429, 0.7913888888888889]Average AUC_ROC: \n",
      "0.7484808524808525"
     ]
    }
   ],
   "source": [
    "print(aucs_rec) # average accuracy\n",
    "print(\"Average AUC_ROC: \\n\", mean(aucs_rec))"
   ]
  },
  {
   "attachments": {},
   "cell_type": "markdown",
   "id": "10366979",
   "metadata": {},
   "source": [
    "## Linear Kernel\n"
   ]
  },
  {
   "cell_type": "code",
   "execution_count": 10,
   "id": "15a5ca7b",
   "metadata": {},
   "outputs": [
    {
     "name": "stdout",
     "output_type": "stream",
     "text": [
      "[34.37908496732026, 39.607843137254896, 29.2156862745098, 37.84313725490197, 36.66666666666667, 35.294117647058826, 41.11111111111111, 44.18300653594771, 49.28104575163398, 47.385620915032675]Average accuracy on Linear Kernel: \n",
      "39.496732026143796sd: \n",
      "6.172006009770957[0.35892857142857143, 0.40062409812409816, 0.28575396825396826, 0.40241647241647244, 0.36949494949494943, 0.37144688644688645, 0.42725829725829734, 0.46036075036075036, 0.4986330336330337, 0.5048096348096348]Average AUC_ROC on Linear Kernel: \n",
      "0.4079726662226662sd: \n",
      "0.06745815246922615"
     ]
    }
   ],
   "source": [
    "# model performance very variable\n",
    "# 10 iterations of 5-fold cv\n",
    "iter = 10\n",
    "ac = zeros(iter)\n",
    "ac_list = Array{Float64}(undef,5,iter);\n",
    "aucs_rec = zeros(iter)\n",
    "auc_list = Array{Float64}(undef,5,iter);\n",
    "for k in 1:iter\n",
    "    # first shuffle dataframe to ensure an even mix of control and stroke patients\n",
    "    shuffled_df = df[shuffle(axes(df, 1)), :];\n",
    "    # choose 5 folds for cross validation\n",
    "    tot_num = Control_size + Stroke_size\n",
    "    folds_allocation = collect(Kfold(tot_num, 5))\n",
    "    # record accuracy and AUC\n",
    "    test_accuracy = zeros(5);\n",
    "    AUCs = zeros(5);\n",
    "    for i in 1:5\n",
    "        train_set = shuffled_df[folds_allocation[i],:];\n",
    "        test_set = shuffled_df[Not(folds_allocation[i]),:];\n",
    "        # accuracy on test set \n",
    "        model = svmtrain(convert(Array, train_set[:,2:end])',train_set[:,1], kernel= Kernel.Linear)\n",
    "        (predicted_labels, decision_values) = svmpredict(model, convert(Array, test_set[:,2:end])');\n",
    "        test_accuracy[i] = sum(predicted_labels .== test_set[:,1])/length(test_set[:,1])*100;\n",
    "        AUCs[i] = MultivariateAnomalies.auc(convert(Array{Int},predicted_labels), convert(Array{Int},test_set[:,1]));\n",
    "    end\n",
    "    ac[k] = mean(test_accuracy);\n",
    "    ac_list[:,k] = test_accuracy;\n",
    "    aucs_rec[k] = mean(AUCs);\n",
    "    auc_list[:,k] = AUCs;\n",
    "end\n",
    "print(ac) # average accuracy\n",
    "print(\"Average accuracy on Linear Kernel: \\n\", mean(ac), \"sd: \\n\", std(ac))\n",
    "print(aucs_rec) # average accuracy\n",
    "print(\"Average AUC_ROC on Linear Kernel: \\n\", mean(aucs_rec), \"sd: \\n\", std(aucs_rec))"
   ]
  },
  {
   "attachments": {},
   "cell_type": "markdown",
   "id": "7c073194",
   "metadata": {},
   "source": [
    "## Sigmoid Kernel"
   ]
  },
  {
   "cell_type": "code",
   "execution_count": 78,
   "id": "54300198",
   "metadata": {},
   "outputs": [
    {
     "name": "stdout",
     "output_type": "stream",
     "text": [
      "[25.62091503267974, 30.26143790849673, 23.333333333333332, 26.862745098039216, 26.79738562091503, 29.084967320261438, 32.48366013071895, 31.241830065359476, 24.640522875816995, 24.37908496732026]Average accuracy on Linear Kernel: \n",
      "27.470588235294116[0.2904700854700855, 0.3142352092352092, 0.22873015873015873, 0.32456349206349205, 0.26535714285714285, 0.28583333333333333, 0.3297727272727273, 0.31452380952380954, 0.261978021978022, 0.2625793650793651]Average AUC_ROC on Linear Kernel: \n",
      "0.2878043345543346"
     ]
    }
   ],
   "source": [
    "# model performance very variable\n",
    "# 10 iterations of 5-fold cv\n",
    "iter = 10\n",
    "ac = zeros(iter)\n",
    "ac_list = Array{Float64}(undef,5,iter);\n",
    "aucs_rec = zeros(iter)\n",
    "auc_list = Array{Float64}(undef,5,iter);\n",
    "for k in 1:iter\n",
    "    # first shuffle dataframe to ensure an even mix of control and stroke patients\n",
    "    shuffled_df = df[shuffle(axes(df, 1)), :];\n",
    "    # choose 5 folds for cross validation\n",
    "    tot_num = Control_size + Stroke_size\n",
    "    folds_allocation = collect(Kfold(tot_num, 5))\n",
    "    # record accuracy and AUC\n",
    "    test_accuracy = zeros(5);\n",
    "    AUCs = zeros(5);\n",
    "    for i in 1:5\n",
    "        train_set = shuffled_df[folds_allocation[i],:];\n",
    "        test_set = shuffled_df[Not(folds_allocation[i]),:];\n",
    "        # accuracy on test set \n",
    "        model = svmtrain(convert(Array, train_set[:,2:end])',train_set[:,1], kernel= Kernel.Sigmoid)\n",
    "        (predicted_labels, decision_values) = svmpredict(model, convert(Array, test_set[:,2:end])');\n",
    "        test_accuracy[i] = sum(predicted_labels .== test_set[:,1])/length(test_set[:,1])*100;\n",
    "        AUCs[i] = MultivariateAnomalies.auc(convert(Array{Int},predicted_labels), convert(Array{Int},test_set[:,1]));\n",
    "    end\n",
    "    ac[k] = mean(test_accuracy);\n",
    "    ac_list[:,k] = test_accuracy;\n",
    "    aucs_rec[k] = mean(AUCs);\n",
    "    auc_list[:,k] = AUCs;\n",
    "end\n",
    "print(ac) # average accuracy\n",
    "print(\"Average accuracy on Linear Kernel: \\n\", mean(ac))\n",
    "print(aucs_rec) # average accuracy\n",
    "print(\"Average AUC_ROC on Linear Kernel: \\n\", mean(aucs_rec))"
   ]
  },
  {
   "attachments": {},
   "cell_type": "markdown",
   "id": "a51a1247",
   "metadata": {},
   "source": [
    "## Polynomial Kernel"
   ]
  },
  {
   "cell_type": "code",
   "execution_count": 11,
   "id": "34e1f5f3",
   "metadata": {},
   "outputs": [
    {
     "name": "stdout",
     "output_type": "stream",
     "text": [
      "Average accuracy on Linear Kernel: \n",
      "82.75163398692811sd: \n",
      "2.2704932858435294Average AUC_ROC on Linear Kernel: \n",
      "0.8379918692418693sd: \n",
      "0.020340080521201325"
     ]
    }
   ],
   "source": [
    "# model performance very variable\n",
    "# 10 iterations of 5-fold cv\n",
    "iter = 10\n",
    "ac = zeros(iter)\n",
    "ac_list = Array{Float64}(undef,5,iter);\n",
    "aucs_rec = zeros(iter)\n",
    "auc_list = Array{Float64}(undef,5,iter);\n",
    "for k in 1:iter\n",
    "    # first shuffle dataframe to ensure an even mix of control and stroke patients\n",
    "    shuffled_df = df[shuffle(axes(df, 1)), :];\n",
    "    # choose 5 folds for cross validation\n",
    "    tot_num = Control_size + Stroke_size\n",
    "    folds_allocation = collect(Kfold(tot_num, 5))\n",
    "    # record accuracy and AUC\n",
    "    test_accuracy = zeros(5);\n",
    "    AUCs = zeros(5);\n",
    "    for i in 1:5\n",
    "        train_set = shuffled_df[folds_allocation[i],:];\n",
    "        test_set = shuffled_df[Not(folds_allocation[i]),:];\n",
    "        # accuracy on test set \n",
    "        model = svmtrain(convert(Array, train_set[:,2:end])',train_set[:,1], kernel= Kernel.Polynomial)\n",
    "        (predicted_labels, decision_values) = svmpredict(model, convert(Array, test_set[:,2:end])');\n",
    "        test_accuracy[i] = sum(predicted_labels .== test_set[:,1])/length(test_set[:,1])*100;\n",
    "        AUCs[i] = MultivariateAnomalies.auc(convert(Array{Int},predicted_labels), convert(Array{Int},test_set[:,1]));\n",
    "    end\n",
    "    ac[k] = mean(test_accuracy);\n",
    "    ac_list[:,k] = test_accuracy;\n",
    "    aucs_rec[k] = mean(AUCs);\n",
    "    auc_list[:,k] = AUCs;\n",
    "end\n",
    "#print(ac) # average accuracy\n",
    "print(\"Average accuracy on Linear Kernel: \\n\", mean(ac), \"sd: \\n\", std(ac))\n",
    "#print(aucs_rec) # average accuracy\n",
    "print(\"Average AUC_ROC on Linear Kernel: \\n\", mean(aucs_rec), \"sd: \\n\", std(aucs_rec))"
   ]
  },
  {
   "cell_type": "code",
   "execution_count": 13,
   "id": "e264c38c",
   "metadata": {},
   "outputs": [
    {
     "name": "stdout",
     "output_type": "stream",
     "text": [
      "Average accuracy on Polynomial 2 Kernel: \n",
      "82.56862745098039sd: \n",
      "1.2309078987097506Average AUC_ROC on polynomial 2 Kernel: \n",
      "0.828917748917749sd: \n",
      "0.013832509896864133"
     ]
    }
   ],
   "source": [
    "# 10 iterations of 5-fold cv\n",
    "iter = 10\n",
    "ac = zeros(iter)\n",
    "ac_list = Array{Float64}(undef,5,iter);\n",
    "aucs_rec = zeros(iter)\n",
    "auc_list = Array{Float64}(undef,5,iter);\n",
    "for k in 1:iter\n",
    "    # first shuffle dataframe to ensure an even mix of control and stroke patients\n",
    "    shuffled_df = df[shuffle(axes(df, 1)), :];\n",
    "    # choose 5 folds for cross validation\n",
    "    tot_num = Control_size + Stroke_size\n",
    "    folds_allocation = collect(Kfold(tot_num, 5))\n",
    "    # record accuracy and AUC\n",
    "    test_accuracy = zeros(5);\n",
    "    AUCs = zeros(5);\n",
    "    for i in 1:5\n",
    "        train_set = shuffled_df[folds_allocation[i],:];\n",
    "        test_set = shuffled_df[Not(folds_allocation[i]),:];\n",
    "        # accuracy on test set \n",
    "        model = svmtrain(convert(Array, train_set[:,2:end])',train_set[:,1], kernel= Kernel.Polynomial, degree=2)\n",
    "        (predicted_labels, decision_values) = svmpredict(model, convert(Array, test_set[:,2:end])');\n",
    "        test_accuracy[i] = sum(predicted_labels .== test_set[:,1])/length(test_set[:,1])*100;\n",
    "        AUCs[i] = MultivariateAnomalies.auc(convert(Array{Int},predicted_labels), convert(Array{Int},test_set[:,1]));\n",
    "    end\n",
    "    ac[k] = mean(test_accuracy);\n",
    "    ac_list[:,k] = test_accuracy;\n",
    "    aucs_rec[k] = mean(AUCs);\n",
    "    auc_list[:,k] = AUCs;\n",
    "end\n",
    "#print(ac) # average accuracy\n",
    "print(\"Average accuracy on Polynomial 2 Kernel: \\n\", mean(ac))\n",
    "print(\"sd: \\n\", std(ac))\n",
    "#print(aucs_rec) # average accuracy\n",
    "print(\"Average AUC_ROC on polynomial 2 Kernel: \\n\", mean(aucs_rec))\n",
    "print(\"sd: \\n\", std(aucs_rec))"
   ]
  },
  {
   "cell_type": "code",
   "execution_count": 14,
   "id": "3393a98a",
   "metadata": {},
   "outputs": [
    {
     "name": "stdout",
     "output_type": "stream",
     "text": [
      "[79.15032679738563, 83.72549019607843, 79.281045751634, 81.37254901960785, 77.97385620915034, 83.72549019607843, 82.41830065359476, 82.61437908496733, 80.3921568627451, 84.9673202614379]Average accuracy on Polynomial 3 Kernel: \n",
      "81.56209150326798[0.8, 0.8608585858585858, 0.807936507936508, 0.8269444444444444, 0.7903663003663004, 0.836926406926407, 0.8286111111111112, 0.8394444444444444, 0.8185714285714287, 0.8799825174825175]Average AUC_ROC on polynomial 3 Kernel: \n",
      "0.8289641747141747sd: \n",
      "2.311720346096856sd: \n",
      "0.027236522017148476"
     ]
    }
   ],
   "source": [
    "# 10 iterations of 5-fold cv\n",
    "iter = 10\n",
    "ac = zeros(iter)\n",
    "ac_list = Array{Float64}(undef,5,iter);\n",
    "aucs_rec = zeros(iter)\n",
    "auc_list = Array{Float64}(undef,5,iter);\n",
    "for k in 1:iter\n",
    "    # first shuffle dataframe to ensure an even mix of control and stroke patients\n",
    "    shuffled_df = df[shuffle(axes(df, 1)), :];\n",
    "    # choose 5 folds for cross validation\n",
    "    tot_num = Control_size + Stroke_size\n",
    "    folds_allocation = collect(Kfold(tot_num, 5))\n",
    "    # record accuracy and AUC\n",
    "    test_accuracy = zeros(5);\n",
    "    AUCs = zeros(5);\n",
    "    for i in 1:5\n",
    "        train_set = shuffled_df[folds_allocation[i],:];\n",
    "        test_set = shuffled_df[Not(folds_allocation[i]),:];\n",
    "        # accuracy on test set \n",
    "        model = svmtrain(convert(Array, train_set[:,2:end])',train_set[:,1], kernel= Kernel.Polynomial, degree=3)\n",
    "        (predicted_labels, decision_values) = svmpredict(model, convert(Array, test_set[:,2:end])');\n",
    "        test_accuracy[i] = sum(predicted_labels .== test_set[:,1])/length(test_set[:,1])*100;\n",
    "        AUCs[i] = MultivariateAnomalies.auc(convert(Array{Int},predicted_labels), convert(Array{Int},test_set[:,1]));\n",
    "    end\n",
    "    ac[k] = mean(test_accuracy);\n",
    "    ac_list[:,k] = test_accuracy;\n",
    "    aucs_rec[k] = mean(AUCs);\n",
    "    auc_list[:,k] = AUCs;\n",
    "end\n",
    "print(ac) # average accuracy\n",
    "print(\"Average accuracy on Polynomial 3 Kernel: \\n\", mean(ac))\n",
    "print(aucs_rec) # average accuracy\n",
    "print(\"Average AUC_ROC on polynomial 3 Kernel: \\n\", mean(aucs_rec))\n",
    "print(\"sd: \\n\", std(ac))\n",
    "print(\"sd: \\n\", std(aucs_rec))"
   ]
  },
  {
   "cell_type": "code",
   "execution_count": 15,
   "id": "2fbef207",
   "metadata": {},
   "outputs": [
    {
     "name": "stdout",
     "output_type": "stream",
     "text": [
      "[81.30718954248366, 84.83660130718954, 79.01960784313727, 83.8562091503268, 81.43790849673202, 82.54901960784314, 82.61437908496733, 81.37254901960785, 83.79084967320262, 84.9673202614379]Average accuracy on Polynomial Kernel: \n",
      "82.57516339869281[0.8278751803751805, 0.8519769119769119, 0.7969733044733045, 0.845544733044733, 0.8144841269841269, 0.8133333333333332, 0.8322619047619048, 0.8199025974025973, 0.8454545454545453, 0.860108225108225]Average AUC_ROC on polynomial Kernel: \n",
      "0.8307914862914864sd: \n",
      "1.8543364083836058sd: \n",
      "0.019957116235096897"
     ]
    }
   ],
   "source": [
    "# 10 iterations of 5-fold cv\n",
    "iter = 10\n",
    "ac = zeros(iter)\n",
    "ac_list = Array{Float64}(undef,5,iter);\n",
    "aucs_rec = zeros(iter)\n",
    "auc_list = Array{Float64}(undef,5,iter);\n",
    "for k in 1:iter\n",
    "    # first shuffle dataframe to ensure an even mix of control and stroke patients\n",
    "    shuffled_df = df[shuffle(axes(df, 1)), :];\n",
    "    # choose 5 folds for cross validation\n",
    "    tot_num = Control_size + Stroke_size\n",
    "    folds_allocation = collect(Kfold(tot_num, 5))\n",
    "    # record accuracy and AUC\n",
    "    test_accuracy = zeros(5);\n",
    "    AUCs = zeros(5);\n",
    "    for i in 1:5\n",
    "        train_set = shuffled_df[folds_allocation[i],:];\n",
    "        test_set = shuffled_df[Not(folds_allocation[i]),:];\n",
    "        # accuracy on test set \n",
    "        model = svmtrain(convert(Array, train_set[:,2:end])',train_set[:,1], kernel= Kernel.Polynomial, degree=3)\n",
    "        (predicted_labels, decision_values) = svmpredict(model, convert(Array, test_set[:,2:end])');\n",
    "        test_accuracy[i] = sum(predicted_labels .== test_set[:,1])/length(test_set[:,1])*100;\n",
    "        AUCs[i] = MultivariateAnomalies.auc(convert(Array{Int},predicted_labels), convert(Array{Int},test_set[:,1]));\n",
    "    end\n",
    "    ac[k] = mean(test_accuracy);\n",
    "    ac_list[:,k] = test_accuracy;\n",
    "    aucs_rec[k] = mean(AUCs);\n",
    "    auc_list[:,k] = AUCs;\n",
    "end\n",
    "print(ac) # average accuracy\n",
    "print(\"Average accuracy on Polynomial Kernel: \\n\", mean(ac))\n",
    "print(aucs_rec) # average accuracy\n",
    "print(\"Average AUC_ROC on polynomial Kernel: \\n\", mean(aucs_rec))\n",
    "print(\"sd: \\n\", std(ac))\n",
    "print(\"sd: \\n\", std(aucs_rec))"
   ]
  },
  {
   "cell_type": "code",
   "execution_count": 16,
   "id": "9a8ec619",
   "metadata": {},
   "outputs": [
    {
     "name": "stdout",
     "output_type": "stream",
     "text": [
      "Average accuracy on Polynomial 5 Kernel: \n",
      "76.04575163398691Average AUC_ROC on polynomial 5 Kernel: \n",
      "0.7748165723165725sd: \n",
      "2.6058776080315282sd: \n",
      "0.020157481141709458"
     ]
    }
   ],
   "source": [
    "# 10 iterations of 5-fold cv\n",
    "iter = 10\n",
    "ac = zeros(iter)\n",
    "ac_list = Array{Float64}(undef,5,iter);\n",
    "aucs_rec = zeros(iter)\n",
    "auc_list = Array{Float64}(undef,5,iter);\n",
    "for k in 1:iter\n",
    "    # first shuffle dataframe to ensure an even mix of control and stroke patients\n",
    "    shuffled_df = df[shuffle(axes(df, 1)), :];\n",
    "    # choose 5 folds for cross validation\n",
    "    tot_num = Control_size + Stroke_size\n",
    "    folds_allocation = collect(Kfold(tot_num, 5))\n",
    "    # record accuracy and AUC\n",
    "    test_accuracy = zeros(5);\n",
    "    AUCs = zeros(5);\n",
    "    for i in 1:5\n",
    "        train_set = shuffled_df[folds_allocation[i],:];\n",
    "        test_set = shuffled_df[Not(folds_allocation[i]),:];\n",
    "        # accuracy on test set \n",
    "        model = svmtrain(convert(Array, train_set[:,2:end])',train_set[:,1], kernel= Kernel.Polynomial, degree=5)\n",
    "        (predicted_labels, decision_values) = svmpredict(model, convert(Array, test_set[:,2:end])');\n",
    "        test_accuracy[i] = sum(predicted_labels .== test_set[:,1])/length(test_set[:,1])*100;\n",
    "        AUCs[i] = MultivariateAnomalies.auc(convert(Array{Int},predicted_labels), convert(Array{Int},test_set[:,1]));\n",
    "    end\n",
    "    ac[k] = mean(test_accuracy);\n",
    "    ac_list[:,k] = test_accuracy;\n",
    "    aucs_rec[k] = mean(AUCs);\n",
    "    auc_list[:,k] = AUCs;\n",
    "end\n",
    "#print(ac) # average accuracy\n",
    "print(\"Average accuracy on Polynomial 5 Kernel: \\n\", mean(ac))\n",
    "#print(aucs_rec) # average accuracy\n",
    "print(\"Average AUC_ROC on polynomial 5 Kernel: \\n\", mean(aucs_rec))\n",
    "print(\"sd: \\n\", std(ac))\n",
    "print(\"sd: \\n\", std(aucs_rec))"
   ]
  },
  {
   "cell_type": "code",
   "execution_count": 17,
   "id": "8f1b5336",
   "metadata": {},
   "outputs": [
    {
     "name": "stdout",
     "output_type": "stream",
     "text": [
      "Average accuracy on RBF Kernel: \n",
      "75.76470588235294Average AUC_ROC on RBF Kernel: \n",
      "0.7615501720501722sd: \n",
      "4.537012844288927sd: \n",
      "0.03730722474196066"
     ]
    }
   ],
   "source": [
    "# 10 iterations of 5-fold cv\n",
    "iter = 10\n",
    "ac = zeros(iter)\n",
    "ac_list = Array{Float64}(undef,5,iter);\n",
    "aucs_rec = zeros(iter)\n",
    "auc_list = Array{Float64}(undef,5,iter);\n",
    "for k in 1:iter\n",
    "    # first shuffle dataframe to ensure an even mix of control and stroke patients\n",
    "    shuffled_df = df[shuffle(axes(df, 1)), :];\n",
    "    # choose 5 folds for cross validation\n",
    "    tot_num = Control_size + Stroke_size\n",
    "    folds_allocation = collect(Kfold(tot_num, 5))\n",
    "    # record accuracy and AUC\n",
    "    test_accuracy = zeros(5);\n",
    "    AUCs = zeros(5);\n",
    "    for i in 1:5\n",
    "        train_set = shuffled_df[folds_allocation[i],:];\n",
    "        test_set = shuffled_df[Not(folds_allocation[i]),:];\n",
    "        # accuracy on test set \n",
    "        model = svmtrain(convert(Array, train_set[:,2:end])',train_set[:,1], kernel= Kernel.RadialBasis, degree=3)\n",
    "        (predicted_labels, decision_values) = svmpredict(model, convert(Array, test_set[:,2:end])');\n",
    "        test_accuracy[i] = sum(predicted_labels .== test_set[:,1])/length(test_set[:,1])*100;\n",
    "        AUCs[i] = MultivariateAnomalies.auc(convert(Array{Int},predicted_labels), convert(Array{Int},test_set[:,1]));\n",
    "    end\n",
    "    ac[k] = mean(test_accuracy);\n",
    "    ac_list[:,k] = test_accuracy;\n",
    "    aucs_rec[k] = mean(AUCs);\n",
    "    auc_list[:,k] = AUCs;\n",
    "end\n",
    "#print(ac) # average accuracy\n",
    "print(\"Average accuracy on RBF Kernel: \\n\", mean(ac))\n",
    "#print(aucs_rec) # average accuracy\n",
    "print(\"Average AUC_ROC on RBF Kernel: \\n\", mean(aucs_rec))\n",
    "print(\"sd: \\n\", std(ac))\n",
    "print(\"sd: \\n\", std(aucs_rec))"
   ]
  },
  {
   "attachments": {},
   "cell_type": "markdown",
   "id": "8f7b64a1",
   "metadata": {},
   "source": [
    "# PCA & SVM"
   ]
  },
  {
   "cell_type": "code",
   "execution_count": 18,
   "id": "6343c575",
   "metadata": {},
   "outputs": [
    {
     "data": {
      "text/plain": [
       "(30, 86)"
      ]
     },
     "execution_count": 18,
     "metadata": {},
     "output_type": "execute_result"
    }
   ],
   "source": [
    "M = MultivariateStats.fit(PCA,Rankmatrix_all_centred,maxoutdim=200);# where 0.99 of variances preserved in the principal subspace\n",
    "Rankmatrix_pc = MultivariateStats.transform(M,Rankmatrix_all_centred);\n",
    "size(Rankmatrix_pc)"
   ]
  },
  {
   "cell_type": "code",
   "execution_count": 19,
   "id": "9446c95c",
   "metadata": {},
   "outputs": [
    {
     "data": {
      "text/html": [
       "<table class=\"data-frame\"><thead><tr><th></th><th>labels</th><th>x1</th><th>x2</th><th>x3</th><th>x4</th><th>x5</th><th>x6</th><th>x7</th><th>x8</th></tr><tr><th></th><th>Float64</th><th>Float64</th><th>Float64</th><th>Float64</th><th>Float64</th><th>Float64</th><th>Float64</th><th>Float64</th><th>Float64</th></tr></thead><tbody><p>5 rows × 31 columns (omitted printing of 22 columns)</p><tr><th>1</th><td>0.0</td><td>-172.589</td><td>182.782</td><td>68.8925</td><td>-18.6114</td><td>-164.719</td><td>60.3388</td><td>-54.9248</td><td>88.8277</td></tr><tr><th>2</th><td>0.0</td><td>258.017</td><td>-28.9971</td><td>-3.27234</td><td>3.7357</td><td>-80.6344</td><td>-7.26449</td><td>-27.8529</td><td>5.42965</td></tr><tr><th>3</th><td>0.0</td><td>341.043</td><td>-67.9044</td><td>-13.7642</td><td>-27.3186</td><td>-32.242</td><td>22.2072</td><td>-19.9863</td><td>11.9234</td></tr><tr><th>4</th><td>0.0</td><td>-319.083</td><td>-666.266</td><td>-71.3241</td><td>251.432</td><td>-68.6331</td><td>125.647</td><td>-32.2654</td><td>-9.06935</td></tr><tr><th>5</th><td>0.0</td><td>-176.036</td><td>207.247</td><td>60.4541</td><td>19.6871</td><td>-236.378</td><td>9.38392</td><td>-55.6536</td><td>-115.045</td></tr></tbody></table>"
      ],
      "text/latex": [
       "\\begin{tabular}{r|cccccccccc}\n",
       "\t& labels & x1 & x2 & x3 & x4 & x5 & x6 & x7 & x8 & \\\\\n",
       "\t\\hline\n",
       "\t& Float64 & Float64 & Float64 & Float64 & Float64 & Float64 & Float64 & Float64 & Float64 & \\\\\n",
       "\t\\hline\n",
       "\t1 & 0.0 & -172.589 & 182.782 & 68.8925 & -18.6114 & -164.719 & 60.3388 & -54.9248 & 88.8277 & $\\dots$ \\\\\n",
       "\t2 & 0.0 & 258.017 & -28.9971 & -3.27234 & 3.7357 & -80.6344 & -7.26449 & -27.8529 & 5.42965 & $\\dots$ \\\\\n",
       "\t3 & 0.0 & 341.043 & -67.9044 & -13.7642 & -27.3186 & -32.242 & 22.2072 & -19.9863 & 11.9234 & $\\dots$ \\\\\n",
       "\t4 & 0.0 & -319.083 & -666.266 & -71.3241 & 251.432 & -68.6331 & 125.647 & -32.2654 & -9.06935 & $\\dots$ \\\\\n",
       "\t5 & 0.0 & -176.036 & 207.247 & 60.4541 & 19.6871 & -236.378 & 9.38392 & -55.6536 & -115.045 & $\\dots$ \\\\\n",
       "\\end{tabular}\n"
      ],
      "text/plain": [
       "5×31 typename(DataFrame). Omitted printing of 25 columns\n",
       "│ Row │ labels  │ x1       │ x2       │ x3       │ x4       │ x5       │\n",
       "│     │ \u001b[90mFloat64\u001b[39m │ \u001b[90mFloat64\u001b[39m  │ \u001b[90mFloat64\u001b[39m  │ \u001b[90mFloat64\u001b[39m  │ \u001b[90mFloat64\u001b[39m  │ \u001b[90mFloat64\u001b[39m  │\n",
       "├─────┼─────────┼──────────┼──────────┼──────────┼──────────┼──────────┤\n",
       "│ 1   │ 0.0     │ -172.589 │ 182.782  │ 68.8925  │ -18.6114 │ -164.719 │\n",
       "│ 2   │ 0.0     │ 258.017  │ -28.9971 │ -3.27234 │ 3.7357   │ -80.6344 │\n",
       "│ 3   │ 0.0     │ 341.043  │ -67.9044 │ -13.7642 │ -27.3186 │ -32.242  │\n",
       "│ 4   │ 0.0     │ -319.083 │ -666.266 │ -71.3241 │ 251.432  │ -68.6331 │\n",
       "│ 5   │ 0.0     │ -176.036 │ 207.247  │ 60.4541  │ 19.6871  │ -236.378 │"
      ]
     },
     "execution_count": 19,
     "metadata": {},
     "output_type": "execute_result"
    }
   ],
   "source": [
    "# dimensionality of data is reduced to 30 and still retains 99% of its variance\n",
    "# combine with labels into a dataframe\n",
    "data_pc = vcat(labels, Rankmatrix_pc)\n",
    "df_pc = DataFrame(data_pc')\n",
    "colnames = vcat([\"labels\"],names(df_pc)[1:end-1])\n",
    "rename!(df_pc, Symbol.(colnames))\n",
    "first(df_pc,5)"
   ]
  },
  {
   "cell_type": "code",
   "execution_count": 20,
   "id": "91a7b0a0",
   "metadata": {},
   "outputs": [
    {
     "name": "stdout",
     "output_type": "stream",
     "text": [
      "Average accuracy: \n",
      "47.44444444444444Average AUC_ROC: \n",
      "0.5066666666666666sd: \n",
      "5.41651372639803sd: \n",
      "0.016101529717988283"
     ]
    }
   ],
   "source": [
    "# 10 iterations of 5-fold cv\n",
    "iter = 10\n",
    "ac = zeros(iter)\n",
    "ac_list = Array{Float64}(undef,5,iter);\n",
    "aucs_rec = zeros(iter)\n",
    "auc_list = Array{Float64}(undef,5,iter);\n",
    "for k in 1:iter\n",
    "    # first shuffle dataframe to ensure an even mix of control and stroke patients\n",
    "    shuffled_df = df_pc[shuffle(axes(df_pc, 1)), :];\n",
    "    # choose 5 folds for cross validation\n",
    "    tot_num = Control_size + Stroke_size\n",
    "    folds_allocation = collect(Kfold(tot_num, 5))\n",
    "    # record accuracy and AUC\n",
    "    test_accuracy = zeros(5);\n",
    "    AUCs = zeros(5);\n",
    "    for i in 1:5\n",
    "        train_set = shuffled_df[folds_allocation[i],:];\n",
    "        test_set = shuffled_df[Not(folds_allocation[i]),:];\n",
    "        # accuracy on test set \n",
    "        model = svmtrain(convert(Array, train_set[:,2:end])',train_set[:,1])#, kernel= Kernel.RadialBasis, degree=3)\n",
    "        (predicted_labels, decision_values) = svmpredict(model, convert(Array, test_set[:,2:end])');\n",
    "        test_accuracy[i] = sum(predicted_labels .== test_set[:,1])/length(test_set[:,1])*100;\n",
    "        AUCs[i] = MultivariateAnomalies.auc(convert(Array{Int},predicted_labels), convert(Array{Int},test_set[:,1]));\n",
    "    end\n",
    "    ac[k] = mean(test_accuracy);\n",
    "    ac_list[:,k] = test_accuracy;\n",
    "    aucs_rec[k] = mean(AUCs);\n",
    "    auc_list[:,k] = AUCs;\n",
    "end\n",
    "#print(ac) # average accuracy\n",
    "print(\"Average accuracy: \\n\", mean(ac))\n",
    "#print(aucs_rec) # average accuracy\n",
    "print(\"Average AUC_ROC: \\n\", mean(aucs_rec))\n",
    "print(\"sd: \\n\", std(ac))\n",
    "print(\"sd: \\n\", std(aucs_rec))"
   ]
  },
  {
   "cell_type": "code",
   "execution_count": 21,
   "id": "e4b958c7",
   "metadata": {},
   "outputs": [
    {
     "name": "stdout",
     "output_type": "stream",
     "text": [
      "Average accuracy on Linear Kernel: \n",
      "66.84313725490196Average AUC_ROC on Linear Kernel: \n",
      "0.6807392607392607sd: \n",
      "7.941829440804971sd: \n",
      "0.08163499727277132"
     ]
    },
    {
     "name": "stderr",
     "output_type": "stream",
     "text": [
      "\n",
      "WARNING: reaching max number of iterations\n",
      "\n",
      "WARNING: reaching max number of iterations\n",
      "\n",
      "WARNING: reaching max number of iterations\n",
      "\n",
      "WARNING: reaching max number of iterations\n",
      "\n",
      "WARNING: reaching max number of iterations\n",
      "\n",
      "WARNING: reaching max number of iterations\n",
      "\n",
      "WARNING: reaching max number of iterations\n",
      "\n",
      "WARNING: reaching max number of iterations\n",
      "\n",
      "WARNING: reaching max number of iterations\n",
      "\n",
      "WARNING: reaching max number of iterations\n",
      "\n",
      "WARNING: reaching max number of iterations\n",
      "\n",
      "WARNING: reaching max number of iterations\n"
     ]
    }
   ],
   "source": [
    "# 10 iterations of 5-fold cv\n",
    "iter = 10\n",
    "ac = zeros(iter)\n",
    "ac_list = Array{Float64}(undef,5,iter);\n",
    "aucs_rec = zeros(iter)\n",
    "auc_list = Array{Float64}(undef,5,iter);\n",
    "for k in 1:iter\n",
    "    # first shuffle dataframe to ensure an even mix of control and stroke patients\n",
    "    shuffled_df = df_pc[shuffle(axes(df_pc, 1)), :];\n",
    "    # choose 5 folds for cross validation\n",
    "    tot_num = Control_size + Stroke_size\n",
    "    folds_allocation = collect(Kfold(tot_num, 5))\n",
    "    # record accuracy and AUC\n",
    "    test_accuracy = zeros(5);\n",
    "    AUCs = zeros(5);\n",
    "    for i in 1:5\n",
    "        train_set = shuffled_df[folds_allocation[i],:];\n",
    "        test_set = shuffled_df[Not(folds_allocation[i]),:];\n",
    "        # accuracy on test set \n",
    "        model = svmtrain(convert(Array, train_set[:,2:end])',train_set[:,1], kernel= Kernel.Linear)\n",
    "        (predicted_labels, decision_values) = svmpredict(model, convert(Array, test_set[:,2:end])');\n",
    "        test_accuracy[i] = sum(predicted_labels .== test_set[:,1])/length(test_set[:,1])*100;\n",
    "        AUCs[i] = MultivariateAnomalies.auc(convert(Array{Int},predicted_labels), convert(Array{Int},test_set[:,1]));\n",
    "    end\n",
    "    ac[k] = mean(test_accuracy);\n",
    "    ac_list[:,k] = test_accuracy;\n",
    "    aucs_rec[k] = mean(AUCs);\n",
    "    auc_list[:,k] = AUCs;\n",
    "end\n",
    "#print(ac) # average accuracy\n",
    "print(\"Average accuracy on Linear Kernel: \\n\", mean(ac))\n",
    "#print(aucs_rec) # average accuracy\n",
    "print(\"Average AUC_ROC on Linear Kernel: \\n\", mean(aucs_rec))\n",
    "print(\"sd: \\n\", std(ac))\n",
    "print(\"sd: \\n\", std(aucs_rec))"
   ]
  },
  {
   "cell_type": "code",
   "execution_count": 22,
   "id": "3bfd62dc",
   "metadata": {},
   "outputs": [
    {
     "name": "stdout",
     "output_type": "stream",
     "text": [
      "Average accuracy on RBF Kernel: \n",
      "50.31372549019608Average AUC_ROC on RBF Kernel: \n",
      "0.5016666666666667sd: \n",
      "4.304450758722694sd: \n",
      "0.005270462766947316"
     ]
    }
   ],
   "source": [
    "# 10 iterations of 5-fold cv\n",
    "iter = 10\n",
    "ac = zeros(iter)\n",
    "ac_list = Array{Float64}(undef,5,iter);\n",
    "aucs_rec = zeros(iter)\n",
    "auc_list = Array{Float64}(undef,5,iter);\n",
    "for k in 1:iter\n",
    "    # first shuffle dataframe to ensure an even mix of control and stroke patients\n",
    "    shuffled_df = df_pc[shuffle(axes(df_pc, 1)), :];\n",
    "    # choose 5 folds for cross validation\n",
    "    tot_num = Control_size + Stroke_size\n",
    "    folds_allocation = collect(Kfold(tot_num, 5))\n",
    "    # record accuracy and AUC\n",
    "    test_accuracy = zeros(5);\n",
    "    AUCs = zeros(5);\n",
    "    for i in 1:5\n",
    "        train_set = shuffled_df[folds_allocation[i],:];\n",
    "        test_set = shuffled_df[Not(folds_allocation[i]),:];\n",
    "        # accuracy on test set \n",
    "        model = svmtrain(convert(Array, train_set[:,2:end])',train_set[:,1], kernel= Kernel.RadialBasis, degree=3)\n",
    "        (predicted_labels, decision_values) = svmpredict(model, convert(Array, test_set[:,2:end])');\n",
    "        test_accuracy[i] = sum(predicted_labels .== test_set[:,1])/length(test_set[:,1])*100;\n",
    "        AUCs[i] = MultivariateAnomalies.auc(convert(Array{Int},predicted_labels), convert(Array{Int},test_set[:,1]));\n",
    "    end\n",
    "    ac[k] = mean(test_accuracy);\n",
    "    ac_list[:,k] = test_accuracy;\n",
    "    aucs_rec[k] = mean(AUCs);\n",
    "    auc_list[:,k] = AUCs;\n",
    "end\n",
    "#print(ac) # average accuracy\n",
    "print(\"Average accuracy on RBF Kernel: \\n\", mean(ac))\n",
    "#print(aucs_rec) # average accuracy\n",
    "print(\"Average AUC_ROC on RBF Kernel: \\n\", mean(aucs_rec))\n",
    "print(\"sd: \\n\", std(ac))\n",
    "print(\"sd: \\n\", std(aucs_rec))"
   ]
  },
  {
   "cell_type": "code",
   "execution_count": 27,
   "id": "941e5bea",
   "metadata": {},
   "outputs": [
    {
     "name": "stdout",
     "output_type": "stream",
     "text": [
      "Average accuracy on Polynomial 2 Kernel: \n",
      "84.19607843137254Average AUC_ROC on Polynomial 2 Kernel: \n",
      "0.8422443944943945sd: \n",
      "1.7848443432019958sd: \n",
      "0.024060892499139355"
     ]
    }
   ],
   "source": [
    "# 10 iterations of 5-fold cv\n",
    "iter = 10\n",
    "ac = zeros(iter)\n",
    "ac_list = Array{Float64}(undef,5,iter);\n",
    "aucs_rec = zeros(iter)\n",
    "auc_list = Array{Float64}(undef,5,iter);\n",
    "for k in 1:iter\n",
    "    # first shuffle dataframe to ensure an even mix of control and stroke patients\n",
    "    shuffled_df = df_pc[shuffle(axes(df_pc, 1)), :];\n",
    "    # choose 5 folds for cross validation\n",
    "    tot_num = Control_size + Stroke_size\n",
    "    folds_allocation = collect(Kfold(tot_num, 5))\n",
    "    # record accuracy and AUC\n",
    "    test_accuracy = zeros(5);\n",
    "    AUCs = zeros(5);\n",
    "    for i in 1:5\n",
    "        train_set = shuffled_df[folds_allocation[i],:];\n",
    "        test_set = shuffled_df[Not(folds_allocation[i]),:];\n",
    "        # accuracy on test set \n",
    "        model = svmtrain(convert(Array, train_set[:,2:end])',train_set[:,1], kernel= Kernel.Polynomial, degree=2)\n",
    "        (predicted_labels, decision_values) = svmpredict(model, convert(Array, test_set[:,2:end])');\n",
    "        test_accuracy[i] = sum(predicted_labels .== test_set[:,1])/length(test_set[:,1])*100;\n",
    "        AUCs[i] = MultivariateAnomalies.auc(convert(Array{Int},predicted_labels), convert(Array{Int},test_set[:,1]));\n",
    "    end\n",
    "    ac[k] = mean(test_accuracy);\n",
    "    ac_list[:,k] = test_accuracy;\n",
    "    aucs_rec[k] = mean(AUCs);\n",
    "    auc_list[:,k] = AUCs;\n",
    "end\n",
    "#print(ac) # average accuracy\n",
    "print(\"Average accuracy on Polynomial 2 Kernel: \\n\", mean(ac))\n",
    "#print(aucs_rec) # average accuracy\n",
    "print(\"Average AUC_ROC on Polynomial 2 Kernel: \\n\", mean(aucs_rec))\n",
    "print(\"sd: \\n\", std(ac))\n",
    "print(\"sd: \\n\", std(aucs_rec))"
   ]
  },
  {
   "cell_type": "code",
   "execution_count": 31,
   "id": "6e9e646f",
   "metadata": {},
   "outputs": [
    {
     "name": "stdout",
     "output_type": "stream",
     "text": [
      "Average accuracy on Polynomial 3 Kernel: \n",
      "82.01307189542483Average AUC_ROC on Polynomial 3 Kernel: \n",
      "0.8287987845487844sd: \n",
      "2.0388246091677513sd: \n",
      "0.02020303788495808"
     ]
    }
   ],
   "source": [
    "# 10 iterations of 5-fold cv\n",
    "iter = 10\n",
    "ac = zeros(iter)\n",
    "ac_list = Array{Float64}(undef,5,iter);\n",
    "aucs_rec = zeros(iter)\n",
    "auc_list = Array{Float64}(undef,5,iter);\n",
    "for k in 1:iter\n",
    "    # first shuffle dataframe to ensure an even mix of control and stroke patients\n",
    "    shuffled_df = df_pc[shuffle(axes(df_pc, 1)), :];\n",
    "    # choose 5 folds for cross validation\n",
    "    tot_num = Control_size + Stroke_size\n",
    "    folds_allocation = collect(Kfold(tot_num, 5))\n",
    "    # record accuracy and AUC\n",
    "    test_accuracy = zeros(5);\n",
    "    AUCs = zeros(5);\n",
    "    for i in 1:5\n",
    "        train_set = shuffled_df[folds_allocation[i],:];\n",
    "        test_set = shuffled_df[Not(folds_allocation[i]),:];\n",
    "        # accuracy on test set \n",
    "        model = svmtrain(convert(Array, train_set[:,2:end])',train_set[:,1], kernel= Kernel.Polynomial, degree=3)\n",
    "        (predicted_labels, decision_values) = svmpredict(model, convert(Array, test_set[:,2:end])');\n",
    "        test_accuracy[i] = sum(predicted_labels .== test_set[:,1])/length(test_set[:,1])*100;\n",
    "        AUCs[i] = MultivariateAnomalies.auc(convert(Array{Int},predicted_labels), convert(Array{Int},test_set[:,1]));\n",
    "    end\n",
    "    ac[k] = mean(test_accuracy);\n",
    "    ac_list[:,k] = test_accuracy;\n",
    "    aucs_rec[k] = mean(AUCs);\n",
    "    auc_list[:,k] = AUCs;\n",
    "end\n",
    "#print(ac) # average accuracy\n",
    "print(\"Average accuracy on Polynomial 3 Kernel: \\n\", mean(ac))\n",
    "#print(aucs_rec) # average accuracy\n",
    "print(\"Average AUC_ROC on Polynomial 3 Kernel: \\n\", mean(aucs_rec))\n",
    "print(\"sd: \\n\", std(ac))\n",
    "print(\"sd: \\n\", std(aucs_rec))"
   ]
  },
  {
   "cell_type": "code",
   "execution_count": 32,
   "id": "4ca8a665",
   "metadata": {},
   "outputs": [
    {
     "name": "stdout",
     "output_type": "stream",
     "text": [
      "Average accuracy on Polynomial 5 Kernel: \n",
      "75.50980392156863Average AUC_ROC on Polynomial 5 Kernel: \n",
      "0.7735602453102453sd: \n",
      "2.1910431779326003sd: \n",
      "0.023204564002515724"
     ]
    }
   ],
   "source": [
    "# 10 iterations of 5-fold cv\n",
    "iter = 10\n",
    "ac = zeros(iter)\n",
    "ac_list = Array{Float64}(undef,5,iter);\n",
    "aucs_rec = zeros(iter)\n",
    "auc_list = Array{Float64}(undef,5,iter);\n",
    "for k in 1:iter\n",
    "    # first shuffle dataframe to ensure an even mix of control and stroke patients\n",
    "    shuffled_df = df_pc[shuffle(axes(df_pc, 1)), :];\n",
    "    # choose 5 folds for cross validation\n",
    "    tot_num = Control_size + Stroke_size\n",
    "    folds_allocation = collect(Kfold(tot_num, 5))\n",
    "    # record accuracy and AUC\n",
    "    test_accuracy = zeros(5);\n",
    "    AUCs = zeros(5);\n",
    "    for i in 1:5\n",
    "        train_set = shuffled_df[folds_allocation[i],:];\n",
    "        test_set = shuffled_df[Not(folds_allocation[i]),:];\n",
    "        # accuracy on test set \n",
    "        model = svmtrain(convert(Array, train_set[:,2:end])',train_set[:,1], kernel= Kernel.Polynomial, degree=5)\n",
    "        (predicted_labels, decision_values) = svmpredict(model, convert(Array, test_set[:,2:end])');\n",
    "        test_accuracy[i] = sum(predicted_labels .== test_set[:,1])/length(test_set[:,1])*100;\n",
    "        AUCs[i] = MultivariateAnomalies.auc(convert(Array{Int},predicted_labels), convert(Array{Int},test_set[:,1]));\n",
    "    end\n",
    "    ac[k] = mean(test_accuracy);\n",
    "    ac_list[:,k] = test_accuracy;\n",
    "    aucs_rec[k] = mean(AUCs);\n",
    "    auc_list[:,k] = AUCs;\n",
    "end\n",
    "#print(ac) # average accuracy\n",
    "print(\"Average accuracy on Polynomial 5 Kernel: \\n\", mean(ac))\n",
    "#print(aucs_rec) # average accuracy\n",
    "print(\"Average AUC_ROC on Polynomial 5 Kernel: \\n\", mean(aucs_rec))\n",
    "print(\"sd: \\n\", std(ac))\n",
    "print(\"sd: \\n\", std(aucs_rec))"
   ]
  },
  {
   "attachments": {},
   "cell_type": "markdown",
   "id": "8092695c",
   "metadata": {},
   "source": [
    "# Basis & SVM"
   ]
  },
  {
   "cell_type": "code",
   "execution_count": 35,
   "id": "a2ad0775",
   "metadata": {},
   "outputs": [],
   "source": [
    "using Wavelets"
   ]
  },
  {
   "attachments": {},
   "cell_type": "markdown",
   "id": "886e9df6",
   "metadata": {},
   "source": [
    "## Haar"
   ]
  },
  {
   "cell_type": "code",
   "execution_count": 42,
   "id": "c135f5c1",
   "metadata": {},
   "outputs": [],
   "source": [
    "# convert centred rankfunctions by wavelets \n",
    "Rankmatrix_W_haar = Array{Float64}(undef,10000,86);\n",
    "for i in 1:86\n",
    "    current = reshape(Rankmatrix_all_centred[:,i], 100,100);\n",
    "    transform = dwt(current, wavelet(WT.haar));\n",
    "    Rankmatrix_W_haar[:,i] = vec(transform);\n",
    "end\n",
    "data_W_haar = vcat(labels, Rankmatrix_W_haar);\n",
    "df_W = DataFrame(data_W_haar');\n",
    "colnames = vcat([\"labels\"],names(df_W)[1:end-1]);\n",
    "rename!(df_W, Symbol.(colnames));"
   ]
  },
  {
   "cell_type": "code",
   "execution_count": 43,
   "id": "6f9e13db",
   "metadata": {},
   "outputs": [
    {
     "name": "stdout",
     "output_type": "stream",
     "text": [
      "Average accuracy on Linear Kernel: \n",
      "39.65359477124183Average AUC_ROC on Linear Kernel: \n",
      "0.40374916749916745sd: \n",
      "6.6773413335374485sd: \n",
      "0.06894689884314317"
     ]
    }
   ],
   "source": [
    "# 10 iterations of 5-fold cv\n",
    "iter = 10\n",
    "ac = zeros(iter)\n",
    "ac_list = Array{Float64}(undef,5,iter);\n",
    "aucs_rec = zeros(iter)\n",
    "auc_list = Array{Float64}(undef,5,iter);\n",
    "for k in 1:iter\n",
    "    # first shuffle dataframe to ensure an even mix of control and stroke patients\n",
    "    shuffled_df = df_W[shuffle(axes(df_W, 1)), :];\n",
    "    # choose 5 folds for cross validation\n",
    "    tot_num = Control_size + Stroke_size\n",
    "    folds_allocation = collect(Kfold(tot_num, 5))\n",
    "    # record accuracy and AUC\n",
    "    test_accuracy = zeros(5);\n",
    "    AUCs = zeros(5);\n",
    "    for i in 1:5\n",
    "        train_set = shuffled_df[folds_allocation[i],:];\n",
    "        test_set = shuffled_df[Not(folds_allocation[i]),:];\n",
    "        # accuracy on test set \n",
    "        model = svmtrain(convert(Array, train_set[:,2:end])',train_set[:,1], kernel= Kernel.Linear)\n",
    "        (predicted_labels, decision_values) = svmpredict(model, convert(Array, test_set[:,2:end])');\n",
    "        test_accuracy[i] = sum(predicted_labels .== test_set[:,1])/length(test_set[:,1])*100;\n",
    "        AUCs[i] = MultivariateAnomalies.auc(convert(Array{Int},predicted_labels), convert(Array{Int},test_set[:,1]));\n",
    "    end\n",
    "    ac[k] = mean(test_accuracy);\n",
    "    ac_list[:,k] = test_accuracy;\n",
    "    aucs_rec[k] = mean(AUCs);\n",
    "    auc_list[:,k] = AUCs;\n",
    "end\n",
    "#print(ac) # average accuracy\n",
    "print(\"Average accuracy on Linear Kernel: \\n\", mean(ac))\n",
    "#\n",
    "#print(aucs_rec) # average accuracy\n",
    "print(\"Average AUC_ROC on Linear Kernel: \\n\", mean(aucs_rec))\n",
    "print(\"sd: \\n\", std(ac))\n",
    "print(\"sd: \\n\", std(aucs_rec))"
   ]
  },
  {
   "cell_type": "code",
   "execution_count": 44,
   "id": "e3706961",
   "metadata": {},
   "outputs": [
    {
     "name": "stdout",
     "output_type": "stream",
     "text": [
      "Average accuracy on RBF Kernel: \n",
      "74.98692810457516Average AUC_ROC on RBF Kernel: \n",
      "0.7557225552225553sd: \n",
      "2.8319171924731066sd: \n",
      "0.02473558808802646"
     ]
    }
   ],
   "source": [
    "# 10 iterations of 5-fold cv\n",
    "iter = 10\n",
    "ac = zeros(iter)\n",
    "ac_list = Array{Float64}(undef,5,iter);\n",
    "aucs_rec = zeros(iter)\n",
    "auc_list = Array{Float64}(undef,5,iter);\n",
    "for k in 1:iter\n",
    "    # first shuffle dataframe to ensure an even mix of control and stroke patients\n",
    "    shuffled_df = df_W[shuffle(axes(df_W, 1)), :];\n",
    "    # choose 5 folds for cross validation\n",
    "    tot_num = Control_size + Stroke_size\n",
    "    folds_allocation = collect(Kfold(tot_num, 5))\n",
    "    # record accuracy and AUC\n",
    "    test_accuracy = zeros(5);\n",
    "    AUCs = zeros(5);\n",
    "    for i in 1:5\n",
    "        train_set = shuffled_df[folds_allocation[i],:];\n",
    "        test_set = shuffled_df[Not(folds_allocation[i]),:];\n",
    "        # accuracy on test set \n",
    "        model = svmtrain(convert(Array, train_set[:,2:end])',train_set[:,1], kernel= Kernel.RadialBasis, degree=3)\n",
    "        (predicted_labels, decision_values) = svmpredict(model, convert(Array, test_set[:,2:end])');\n",
    "        test_accuracy[i] = sum(predicted_labels .== test_set[:,1])/length(test_set[:,1])*100;\n",
    "        AUCs[i] = MultivariateAnomalies.auc(convert(Array{Int},predicted_labels), convert(Array{Int},test_set[:,1]));\n",
    "    end\n",
    "    ac[k] = mean(test_accuracy);\n",
    "    ac_list[:,k] = test_accuracy;\n",
    "    aucs_rec[k] = mean(AUCs);\n",
    "    auc_list[:,k] = AUCs;\n",
    "end\n",
    "#print(ac) # average accuracy\n",
    "print(\"Average accuracy on RBF Kernel: \\n\", mean(ac))\n",
    "#print(aucs_rec) # average accuracy\n",
    "print(\"Average AUC_ROC on RBF Kernel: \\n\", mean(aucs_rec))\n",
    "print(\"sd: \\n\", std(ac))\n",
    "print(\"sd: \\n\", std(aucs_rec))"
   ]
  },
  {
   "cell_type": "code",
   "execution_count": 60,
   "id": "4ff9d857",
   "metadata": {},
   "outputs": [
    {
     "name": "stdout",
     "output_type": "stream",
     "text": [
      "Average accuracy on Polynomial 2 Kernel: \n",
      "83.95424836601308Average AUC_ROC on Polynomial 2 Kernel: \n",
      "0.8424294594294593sd: \n",
      "3.0147735338680683sd: \n",
      "0.0317995839414399"
     ]
    }
   ],
   "source": [
    "# 10 iterations of 5-fold cv\n",
    "iter = 10\n",
    "ac = zeros(iter)\n",
    "ac_list = Array{Float64}(undef,5,iter);\n",
    "aucs_rec = zeros(iter)\n",
    "auc_list = Array{Float64}(undef,5,iter);\n",
    "for k in 1:iter\n",
    "    # first shuffle dataframe to ensure an even mix of control and stroke patients\n",
    "    shuffled_df = df_W[shuffle(axes(df_W, 1)), :];\n",
    "    # choose 5 folds for cross validation\n",
    "    tot_num = Control_size + Stroke_size\n",
    "    folds_allocation = collect(Kfold(tot_num, 5))\n",
    "    # record accuracy and AUC\n",
    "    test_accuracy = zeros(5);\n",
    "    AUCs = zeros(5);\n",
    "    for i in 1:5\n",
    "        train_set = shuffled_df[folds_allocation[i],:];\n",
    "        test_set = shuffled_df[Not(folds_allocation[i]),:];\n",
    "        # accuracy on test set \n",
    "        model = svmtrain(convert(Array, train_set[:,2:end])',train_set[:,1], kernel= Kernel.Polynomial, degree=2)\n",
    "        (predicted_labels, decision_values) = svmpredict(model, convert(Array, test_set[:,2:end])');\n",
    "        test_accuracy[i] = sum(predicted_labels .== test_set[:,1])/length(test_set[:,1])*100;\n",
    "        AUCs[i] = MultivariateAnomalies.auc(convert(Array{Int},predicted_labels), convert(Array{Int},test_set[:,1]));\n",
    "    end\n",
    "    ac[k] = mean(test_accuracy);\n",
    "    ac_list[:,k] = test_accuracy;\n",
    "    aucs_rec[k] = mean(AUCs);\n",
    "    auc_list[:,k] = AUCs;\n",
    "    \n",
    "end\n",
    "#print(ac) # average accuracy\n",
    "print(\"Average accuracy on Polynomial 2 Kernel: \\n\", mean(ac))\n",
    "#print(aucs_rec) # average accuracy\n",
    "print(\"Average AUC_ROC on Polynomial 2 Kernel: \\n\", mean(aucs_rec))\n",
    "print(\"sd: \\n\", std(ac))\n",
    "print(\"sd: \\n\", std(aucs_rec))"
   ]
  },
  {
   "cell_type": "code",
   "execution_count": 52,
   "id": "6150a18f",
   "metadata": {},
   "outputs": [
    {
     "name": "stdout",
     "output_type": "stream",
     "text": [
      "Average accuracy on Polynomial 3 Kernel: \n",
      "80.33333333333334Average AUC_ROC on Polynomial 3 Kernel: \n",
      "0.816205932955933sd: \n",
      "1.2352960388530003sd: \n",
      "0.01320480530812734"
     ]
    }
   ],
   "source": [
    "# 10 iterations of 5-fold cv\n",
    "iter = 10\n",
    "ac = zeros(iter)\n",
    "ac_list = Array{Float64}(undef,5,iter);\n",
    "aucs_rec = zeros(iter)\n",
    "auc_list = Array{Float64}(undef,5,iter);\n",
    "for k in 1:iter\n",
    "    # first shuffle dataframe to ensure an even mix of control and stroke patients\n",
    "    shuffled_df = df_W[shuffle(axes(df_W, 1)), :];\n",
    "    # choose 5 folds for cross validation\n",
    "    tot_num = Control_size + Stroke_size\n",
    "    folds_allocation = collect(Kfold(tot_num, 5))\n",
    "    # record accuracy and AUC\n",
    "    test_accuracy = zeros(5);\n",
    "    AUCs = zeros(5);\n",
    "    for i in 1:5\n",
    "        train_set = shuffled_df[folds_allocation[i],:];\n",
    "        test_set = shuffled_df[Not(folds_allocation[i]),:];\n",
    "        # accuracy on test set \n",
    "        model = svmtrain(convert(Array, train_set[:,2:end])',train_set[:,1], kernel= Kernel.Polynomial, degree=3)\n",
    "        (predicted_labels, decision_values) = svmpredict(model, convert(Array, test_set[:,2:end])');\n",
    "        test_accuracy[i] = sum(predicted_labels .== test_set[:,1])/length(test_set[:,1])*100;\n",
    "        AUCs[i] = MultivariateAnomalies.auc(convert(Array{Int},predicted_labels), convert(Array{Int},test_set[:,1]));\n",
    "    end\n",
    "    ac[k] = mean(test_accuracy);\n",
    "    ac_list[:,k] = test_accuracy;\n",
    "    aucs_rec[k] = mean(AUCs);\n",
    "    auc_list[:,k] = AUCs;\n",
    "end\n",
    "#print(ac) # average accuracy\n",
    "print(\"Average accuracy on Polynomial 3 Kernel: \\n\", mean(ac))\n",
    "#print(aucs_rec) # average accuracy\n",
    "print(\"Average AUC_ROC on Polynomial 3 Kernel: \\n\", mean(aucs_rec))\n",
    "print(\"sd: \\n\", std(ac))\n",
    "print(\"sd: \\n\", std(aucs_rec))"
   ]
  },
  {
   "cell_type": "code",
   "execution_count": 53,
   "id": "36f77867",
   "metadata": {},
   "outputs": [
    {
     "name": "stdout",
     "output_type": "stream",
     "text": [
      "Average accuracy on Polynomial 5 Kernel: \n",
      "76.62091503267973Average AUC_ROC on Polynomial 5 Kernel: \n",
      "0.7861602286602287sd: \n",
      "2.039581089359529sd: \n",
      "0.015267319314436633"
     ]
    }
   ],
   "source": [
    "# 10 iterations of 5-fold cv\n",
    "iter = 10\n",
    "ac = zeros(iter)\n",
    "ac_list = Array{Float64}(undef,5,iter);\n",
    "aucs_rec = zeros(iter)\n",
    "auc_list = Array{Float64}(undef,5,iter);\n",
    "for k in 1:iter\n",
    "    # first shuffle dataframe to ensure an even mix of control and stroke patients\n",
    "    shuffled_df = df_W[shuffle(axes(df_W, 1)), :];\n",
    "    # choose 5 folds for cross validation\n",
    "    tot_num = Control_size + Stroke_size\n",
    "    folds_allocation = collect(Kfold(tot_num, 5))\n",
    "    # record accuracy and AUC\n",
    "    test_accuracy = zeros(5);\n",
    "    AUCs = zeros(5);\n",
    "    for i in 1:5\n",
    "        train_set = shuffled_df[folds_allocation[i],:];\n",
    "        test_set = shuffled_df[Not(folds_allocation[i]),:];\n",
    "        # accuracy on test set \n",
    "        model = svmtrain(convert(Array, train_set[:,2:end])',train_set[:,1], kernel= Kernel.Polynomial, degree=5)\n",
    "        (predicted_labels, decision_values) = svmpredict(model, convert(Array, test_set[:,2:end])');\n",
    "        test_accuracy[i] = sum(predicted_labels .== test_set[:,1])/length(test_set[:,1])*100;\n",
    "        AUCs[i] = MultivariateAnomalies.auc(convert(Array{Int},predicted_labels), convert(Array{Int},test_set[:,1]));\n",
    "    end\n",
    "    ac[k] = mean(test_accuracy);\n",
    "    ac_list[:,k] = test_accuracy;\n",
    "    aucs_rec[k] = mean(AUCs);\n",
    "    auc_list[:,k] = AUCs;\n",
    "end\n",
    "#print(ac) # average accuracy\n",
    "print(\"Average accuracy on Polynomial 5 Kernel: \\n\", mean(ac))\n",
    "#print(aucs_rec) # average accuracy\n",
    "print(\"Average AUC_ROC on Polynomial 5 Kernel: \\n\", mean(aucs_rec))\n",
    "print(\"sd: \\n\", std(ac))\n",
    "print(\"sd: \\n\", std(aucs_rec))"
   ]
  }
 ],
 "metadata": {
  "kernelspec": {
   "display_name": "Julia 1.7.0",
   "language": "julia",
   "name": "julia-1.7"
  },
  "language_info": {
   "file_extension": ".jl",
   "mimetype": "application/julia",
   "name": "julia",
   "version": "1.7.0"
  }
 },
 "nbformat": 4,
 "nbformat_minor": 5
}

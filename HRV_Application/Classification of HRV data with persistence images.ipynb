{
 "cells": [
  {
   "cell_type": "markdown",
   "id": "166bef9c",
   "metadata": {},
   "source": [
    "# Load data"
   ]
  },
  {
   "cell_type": "code",
   "execution_count": 1,
   "id": "870a8fa4",
   "metadata": {},
   "outputs": [],
   "source": [
    "import numpy as np\n",
    "Control = np.genfromtxt(\"normalRRs_CON.csv\", delimiter =\",\")\n",
    "Stroke = np.genfromtxt(\"normalRRs_STR.csv\", delimiter =\",\")\n"
   ]
  },
  {
   "cell_type": "code",
   "execution_count": 2,
   "id": "739b9286",
   "metadata": {},
   "outputs": [],
   "source": [
    "# extract data used for Rank function analysis\n",
    "Control = Control[:,1:501]\n",
    "Stroke = Stroke[:,1:501]\n",
    "Stroke = np.delete(Stroke,26,0)"
   ]
  },
  {
   "cell_type": "markdown",
   "id": "30732974",
   "metadata": {},
   "source": [
    "# Compute PH and PI"
   ]
  },
  {
   "cell_type": "code",
   "execution_count": 3,
   "id": "94a137ae",
   "metadata": {},
   "outputs": [
    {
     "name": "stderr",
     "output_type": "stream",
     "text": [
      "C:\\Users\\qw817\\Anaconda3\\lib\\site-packages\\scipy\\__init__.py:146: UserWarning: A NumPy version >=1.16.5 and <1.23.0 is required for this version of SciPy (detected version 1.26.4\n",
      "  warnings.warn(f\"A NumPy version >={np_minversion} and <{np_maxversion}\"\n"
     ]
    }
   ],
   "source": [
    "import cripser\n",
    "from persim import PersistenceImager\n",
    "import matplotlib.pyplot as plt\n",
    "import persim"
   ]
  },
  {
   "cell_type": "code",
   "execution_count": 4,
   "id": "dd1cd1a3",
   "metadata": {},
   "outputs": [],
   "source": [
    "# compute PH for all data\n",
    "nc = Control.shape[0]\n",
    "ns = Stroke.shape[0]\n",
    "# for Controls\n",
    "Control_PH = []\n",
    "for i in range(nc):\n",
    "    Control_PH.append(cripser.computePH(Control[i,:],maxdim=0)[:,1:3])\n",
    "\n",
    "# for Stroke\n",
    "Stroke_PH = []\n",
    "for i in range(ns):\n",
    "    Stroke_PH.append(cripser.computePH(Stroke[i,:],maxdim=0)[:,1:3])\n",
    "    \n",
    "# we only require the 1:3 columns of the computed PH\n",
    "# since the array consists of dimension of the cycle, birth-time, death-time, location (x1,y1,z1) of the cell giving birth to the cycle, \n",
    "# and location (x2,y2,z2) of the cell destroying the cycle\n"
   ]
  },
  {
   "cell_type": "code",
   "execution_count": 5,
   "id": "1b7e9edf",
   "metadata": {},
   "outputs": [],
   "source": [
    "# replace the last death time with the maximum of the death times other than infinity value\n",
    "min_birth_times = []\n",
    "max_birth_times = []\n",
    "max_death_times = []\n",
    "for i in range(nc):\n",
    "    min_birth_times.append(np.min(Control_PH[i][:,0]))\n",
    "    max_birth_times.append(np.max(Control_PH[i][:,0]))\n",
    "    max_death_times.append(np.partition(Control_PH[i].flatten(), -2)[-2])\n",
    "    \n",
    "for j in range(ns):\n",
    "    min_birth_times.append(np.min(Stroke_PH[j][:,0]))\n",
    "    max_birth_times.append(np.max(Stroke_PH[j][:,0]))\n",
    "    max_death_times.append(np.partition(Stroke_PH[j].flatten(), -2)[-2])\n",
    "    \n",
    "min_birth_time = min(min_birth_times)\n",
    "max_birth_time = max(max_birth_times)\n",
    "max_death_time = max(max_death_times)\n"
   ]
  },
  {
   "cell_type": "code",
   "execution_count": 8,
   "id": "175421a8",
   "metadata": {},
   "outputs": [
    {
     "data": {
      "text/plain": [
       "538.351"
      ]
     },
     "execution_count": 8,
     "metadata": {},
     "output_type": "execute_result"
    }
   ],
   "source": [
    "min_birth_time"
   ]
  },
  {
   "cell_type": "code",
   "execution_count": 9,
   "id": "66d46dc8",
   "metadata": {},
   "outputs": [
    {
     "data": {
      "text/plain": [
       "1468.64"
      ]
     },
     "execution_count": 9,
     "metadata": {},
     "output_type": "execute_result"
    }
   ],
   "source": [
    "max_birth_time"
   ]
  },
  {
   "cell_type": "code",
   "execution_count": 6,
   "id": "0275df85",
   "metadata": {},
   "outputs": [],
   "source": [
    "# remove all lines with the value 1.7976931348623157e+308 which is equivalent to infinity here\n",
    "for i in range(nc):\n",
    "    mat = Control_PH[i]\n",
    "    # print(np.where(mat==1.7976931348623157e+308)[0])\n",
    "    Control_PH[i] = np.delete(mat, np.where(mat==1.7976931348623157e+308)[0],0)\n",
    "\n",
    "for i in range(ns):\n",
    "    mat = Stroke_PH[i]\n",
    "    Stroke_PH[i] = np.delete(mat, np.where(mat==1.7976931348623157e+308)[0],0)"
   ]
  },
  {
   "cell_type": "code",
   "execution_count": 7,
   "id": "237f805a",
   "metadata": {},
   "outputs": [],
   "source": [
    "# remove the nan in Stroke 25\n",
    "mat = Stroke_PH[25]\n",
    "Stroke_PH[25] = np.delete(mat, np.where(np.isnan(mat))[0],0)"
   ]
  },
  {
   "cell_type": "code",
   "execution_count": 8,
   "id": "0bb61f57",
   "metadata": {},
   "outputs": [
    {
     "name": "stdout",
     "output_type": "stream",
     "text": [
      "0.0060000000000854925\n",
      "935.0\n"
     ]
    }
   ],
   "source": [
    "# check maximum persistence\n",
    "max_persistences = []\n",
    "min_persistences = []\n",
    "\n",
    "for i in range(nc):\n",
    "    mat = Control_PH[i]\n",
    "    pers = mat[:,1] - mat[:,0]\n",
    "    min_persistences.append(np.min(pers))\n",
    "    max_persistences.append(np.max(pers))\n",
    "    \n",
    "for i in range(ns):\n",
    "    mat = Stroke_PH[i]\n",
    "    pers = mat[:,1] - mat[:,0]\n",
    "    min_persistences.append(np.min(pers))\n",
    "    max_persistences.append(np.max(pers))\n",
    "\n",
    "print(min(min_persistences))\n",
    "print(max(max_persistences))"
   ]
  },
  {
   "cell_type": "code",
   "execution_count": 9,
   "id": "cd08038a",
   "metadata": {},
   "outputs": [],
   "source": [
    "# try to obtain all the variable to define a PersistenceImager including:\n",
    "# birth_range; pers_range; pixel_size; weight_params; kernel_params\n",
    "\n",
    "# gridsize of rank functions is 100x100 so to have the same size input, pixwl_size = 10\n",
    "# min_birth_time is 538.351\n",
    "# max_birth_time is 1468.64\n",
    "pimgr = PersistenceImager(pixel_size=10, birth_range=(500,1500), pers_range=(0,1000))"
   ]
  },
  {
   "cell_type": "code",
   "execution_count": 10,
   "id": "79d1f6b3",
   "metadata": {},
   "outputs": [],
   "source": [
    "# compute persistence images\n",
    "Control_PI = []\n",
    "Stroke_PI = []\n",
    "\n",
    "for i in range(nc):\n",
    "    Control_PI.append(pimgr.transform([Control_PH[i]], skew=True)[0])\n",
    "    \n",
    "for i in range(ns):\n",
    "    Stroke_PI.append(pimgr.transform([Stroke_PH[i]], skew=True)[0])"
   ]
  },
  {
   "cell_type": "markdown",
   "id": "d0701855",
   "metadata": {},
   "source": [
    "# SVM "
   ]
  },
  {
   "cell_type": "code",
   "execution_count": 11,
   "id": "bbe72964",
   "metadata": {},
   "outputs": [],
   "source": [
    "from sklearn.model_selection import cross_val_score\n",
    "from sklearn import svm\n"
   ]
  },
  {
   "cell_type": "code",
   "execution_count": 13,
   "id": "a298788d",
   "metadata": {},
   "outputs": [],
   "source": [
    "# stack PIs into feature matrix\n",
    "Control_PI_mat = np.array([mat.flatten() for mat in Control_PI])\n",
    "Stroke_PI_mat = np.array([mat.flatten() for mat in Stroke_PI])\n",
    "\n",
    "PI_mat = np.vstack([Control_PI_mat,Stroke_PI_mat])"
   ]
  },
  {
   "cell_type": "code",
   "execution_count": 14,
   "id": "0125abcc",
   "metadata": {},
   "outputs": [],
   "source": [
    "# labels\n",
    "y = np.array([0 for i in range(nc)]+[1 for i in range(ns)])"
   ]
  },
  {
   "cell_type": "code",
   "execution_count": 19,
   "id": "01e9e795",
   "metadata": {},
   "outputs": [
    {
     "name": "stdout",
     "output_type": "stream",
     "text": [
      "Accuracy for each fold: [0.44444444 0.70588235 0.64705882 0.64705882 0.58823529]\n",
      "Average accuracy: 0.6065359477124183\n",
      "AUC_ROC for each fold: [0.65       0.80555556 0.83333333 0.77777778 0.70833333]\n",
      "Average AUC_ROC: 0.7550000000000001\n"
     ]
    }
   ],
   "source": [
    "# Create SVM classifier\n",
    "clf = svm.SVC(kernel='linear', C=1)\n",
    "\n",
    "# Perform k-fold cross-validation\n",
    "k = 5  # Number of folds\n",
    "scores = cross_val_score(clf, PI_mat, y, cv=k)\n",
    "\n",
    "# Print the accuracy for each fold\n",
    "print(\"Accuracy for each fold:\", scores)\n",
    "\n",
    "# Calculate and print the average accuracy\n",
    "print(\"Average accuracy:\", np.mean(scores))\n",
    "\n",
    "auc = cross_val_score(clf, PI_mat, y, scoring = \"roc_auc\", cv=k)\n",
    "\n",
    "# Print the AUC_ROC for each fold\n",
    "print(\"AUC_ROC for each fold:\", auc)\n",
    "\n",
    "# Calculate and print the average AUC_ROC\n",
    "print(\"Average AUC_ROC:\", np.mean(auc))"
   ]
  },
  {
   "cell_type": "code",
   "execution_count": 22,
   "id": "53f08561",
   "metadata": {},
   "outputs": [
    {
     "name": "stdout",
     "output_type": "stream",
     "text": [
      "accuracy: 0.6330065359477126\n",
      "AUC-ROC: 0.7817609489276156\n"
     ]
    }
   ],
   "source": [
    "from sklearn.model_selection import KFold\n",
    "\n",
    "clf = svm.SVC(kernel='linear', C=1)\n",
    "\n",
    "# compute average accuracy and AUC-ROC over 10 iterations\n",
    "accs = []\n",
    "aucs = []\n",
    "for i in range(10):\n",
    "    scores = cross_val_score(clf, PI_mat, y, cv=KFold(shuffle=True))\n",
    "    accs.append(np.mean(scores))\n",
    "    \n",
    "    auc_scores = cross_val_score(clf, PI_mat, y, scoring = \"roc_auc\", cv=KFold(shuffle=True))\n",
    "    aucs.append(np.mean(auc_scores))\n",
    "    \n",
    "print(\"accuracy:\", sum(accs)/10)\n",
    "print(\"AUC-ROC:\", sum(aucs)/10)"
   ]
  },
  {
   "cell_type": "code",
   "execution_count": 20,
   "id": "218c3b21",
   "metadata": {},
   "outputs": [
    {
     "name": "stdout",
     "output_type": "stream",
     "text": [
      "Accuracy for each fold: [0.44444444 0.47058824 0.52941176 0.47058824 0.52941176]\n",
      "Average accuracy: 0.4888888888888888\n",
      "AUC_ROC for each fold: [0.7375     0.72222222 0.70833333 0.77777778 0.58333333]\n",
      "Average AUC_ROC: 0.7058333333333333\n"
     ]
    }
   ],
   "source": [
    "# Create SVM classifier\n",
    "clf = svm.SVC(kernel='poly', C=1, degree = 3)\n",
    "\n",
    "# Perform k-fold cross-validation\n",
    "k = 5  # Number of folds\n",
    "scores = cross_val_score(clf, PI_mat, y, cv=k)\n",
    "\n",
    "# Print the accuracy for each fold\n",
    "print(\"Accuracy for each fold:\", scores)\n",
    "\n",
    "# Calculate and print the average accuracy\n",
    "print(\"Average accuracy:\", np.mean(scores))\n",
    "\n",
    "auc = cross_val_score(clf, PI_mat, y, scoring = \"roc_auc\", cv=k)\n",
    "\n",
    "# Print the AUC_ROC for each fold\n",
    "print(\"AUC_ROC for each fold:\", auc)\n",
    "\n",
    "# Calculate and print the average AUC_ROC\n",
    "print(\"Average AUC_ROC:\", np.mean(auc))"
   ]
  },
  {
   "cell_type": "code",
   "execution_count": 23,
   "id": "53a60ca1",
   "metadata": {},
   "outputs": [
    {
     "name": "stdout",
     "output_type": "stream",
     "text": [
      "accuracy: 0.4518954248366013\n",
      "AUC-ROC: 0.6841050646883982\n"
     ]
    }
   ],
   "source": [
    "clf = svm.SVC(kernel='poly', C=1, degree=3)\n",
    "\n",
    "# compute average accuracy and AUC-ROC over 10 iterations\n",
    "accs = []\n",
    "aucs = []\n",
    "for i in range(10):\n",
    "    scores = cross_val_score(clf, PI_mat, y, cv=KFold(shuffle=True))\n",
    "    accs.append(np.mean(scores))\n",
    "    \n",
    "    auc_scores = cross_val_score(clf, PI_mat, y, scoring = \"roc_auc\", cv=KFold(shuffle=True))\n",
    "    aucs.append(np.mean(auc_scores))\n",
    "    \n",
    "print(\"accuracy:\", sum(accs)/10)\n",
    "print(\"AUC-ROC:\", sum(aucs)/10)"
   ]
  },
  {
   "cell_type": "code",
   "execution_count": 216,
   "id": "6467aa98",
   "metadata": {},
   "outputs": [
    {
     "name": "stdout",
     "output_type": "stream",
     "text": [
      "Accuracy for each fold: [0.44444444 0.47058824 0.47058824 0.47058824 0.47058824]\n",
      "Average accuracy: 0.465359477124183\n",
      "AUC_ROC for each fold: [0.7125     0.77777778 0.70833333 0.80555556 0.54166667]\n",
      "Average AUC_ROC: 0.7091666666666666\n"
     ]
    }
   ],
   "source": [
    "# Create SVM classifier\n",
    "clf = svm.SVC(kernel='poly', C=1, degree = 5)\n",
    "\n",
    "# Perform k-fold cross-validation\n",
    "k = 5  # Number of folds\n",
    "scores = cross_val_score(clf, PI_mat, y, cv=k)\n",
    "\n",
    "# Print the accuracy for each fold\n",
    "print(\"Accuracy for each fold:\", scores)\n",
    "\n",
    "# Calculate and print the average accuracy\n",
    "print(\"Average accuracy:\", np.mean(scores))\n",
    "\n",
    "auc = cross_val_score(clf, PI_mat, y, scoring = \"roc_auc\", cv=k)\n",
    "\n",
    "# Print the AUC_ROC for each fold\n",
    "print(\"AUC_ROC for each fold:\", auc)\n",
    "\n",
    "# Calculate and print the average AUC_ROC\n",
    "print(\"Average AUC_ROC:\", np.mean(auc))"
   ]
  },
  {
   "cell_type": "code",
   "execution_count": 24,
   "id": "fdcf324c",
   "metadata": {},
   "outputs": [
    {
     "name": "stdout",
     "output_type": "stream",
     "text": [
      "accuracy: 0.43352941176470583\n",
      "AUC-ROC: 0.6770052971719639\n"
     ]
    }
   ],
   "source": [
    "clf = svm.SVC(kernel='poly', C=1, degree=5)\n",
    "\n",
    "accs = []\n",
    "aucs = []\n",
    "for i in range(10):\n",
    "    scores = cross_val_score(clf, PI_mat, y, cv=KFold(shuffle=True))\n",
    "    accs.append(np.mean(scores))\n",
    "    \n",
    "    auc_scores = cross_val_score(clf, PI_mat, y, scoring = \"roc_auc\", cv=KFold(shuffle=True))\n",
    "    aucs.append(np.mean(auc_scores))\n",
    "    \n",
    "print(\"accuracy:\", sum(accs)/10)\n",
    "print(\"AUC-ROC:\", sum(aucs)/10)"
   ]
  },
  {
   "cell_type": "code",
   "execution_count": 212,
   "id": "39113cbf",
   "metadata": {},
   "outputs": [
    {
     "name": "stdout",
     "output_type": "stream",
     "text": [
      "Accuracy for each fold: [0.44444444 0.58823529 0.52941176 0.47058824 0.52941176]\n",
      "Average accuracy: 0.5124183006535947\n",
      "Average AUC_ROC: 0.7144444444444444\n"
     ]
    }
   ],
   "source": [
    "# Create SVM classifier\n",
    "clf = svm.SVC(kernel='poly', C=1, degree = 2)\n",
    "\n",
    "# Perform k-fold cross-validation\n",
    "k = 5  # Number of folds\n",
    "scores = cross_val_score(clf, PI_mat, y, cv=k)\n",
    "\n",
    "# Print the accuracy for each fold\n",
    "print(\"Accuracy for each fold:\", scores)\n",
    "\n",
    "# Calculate and print the average accuracy\n",
    "print(\"Average accuracy:\", np.mean(scores))\n",
    "\n",
    "# Calculate and print the average AUC_ROC\n",
    "print(\"Average AUC_ROC:\", np.mean(cross_val_score(clf, PI_mat, y, scoring = \"roc_auc\", cv=k)))"
   ]
  },
  {
   "cell_type": "code",
   "execution_count": 25,
   "id": "0e2da8df",
   "metadata": {},
   "outputs": [
    {
     "name": "stdout",
     "output_type": "stream",
     "text": [
      "accuracy: 0.45862745098039215\n",
      "AUC-ROC: 0.6995929934263267\n"
     ]
    }
   ],
   "source": [
    "clf = svm.SVC(kernel='poly', C=1, degree=2)\n",
    "\n",
    "# compute average accuracy and AUC-ROC over 10 iterations\n",
    "accs = []\n",
    "aucs = []\n",
    "for i in range(10):\n",
    "    scores = cross_val_score(clf, PI_mat, y, cv=KFold(shuffle=True))\n",
    "    accs.append(np.mean(scores))\n",
    "    \n",
    "    auc_scores = cross_val_score(clf, PI_mat, y, scoring = \"roc_auc\", cv=KFold(shuffle=True))\n",
    "    aucs.append(np.mean(auc_scores))\n",
    "    \n",
    "print(\"accuracy:\", sum(accs)/10)\n",
    "print(\"AUC-ROC:\", sum(aucs)/10)"
   ]
  },
  {
   "cell_type": "code",
   "execution_count": 217,
   "id": "76d4fefe",
   "metadata": {},
   "outputs": [
    {
     "name": "stdout",
     "output_type": "stream",
     "text": [
      "Accuracy for each fold: [0.77777778 0.70588235 0.52941176 0.64705882 0.70588235]\n",
      "Average accuracy: 0.673202614379085\n",
      "AUC_ROC for each fold: [0.8125     0.72222222 0.70833333 0.77777778 0.72222222]\n",
      "Average AUC_ROC: 0.7486111111111111\n"
     ]
    }
   ],
   "source": [
    "# Create SVM classifier\n",
    "clf = svm.SVC(kernel='rbf', C=1)\n",
    "\n",
    "# Perform k-fold cross-validation\n",
    "k = 5  # Number of folds\n",
    "scores = cross_val_score(clf, PI_mat, y, cv=k)\n",
    "\n",
    "# Print the accuracy for each fold\n",
    "print(\"Accuracy for each fold:\", scores)\n",
    "\n",
    "# Calculate and print the average accuracy\n",
    "print(\"Average accuracy:\", np.mean(scores))\n",
    "\n",
    "auc = cross_val_score(clf, PI_mat, y, scoring = \"roc_auc\", cv=k)\n",
    "\n",
    "# Print the AUC_ROC for each fold\n",
    "print(\"AUC_ROC for each fold:\", auc)\n",
    "\n",
    "# Calculate and print the average AUC_ROC\n",
    "print(\"Average AUC_ROC:\", np.mean(auc))"
   ]
  },
  {
   "cell_type": "code",
   "execution_count": 26,
   "id": "ac9252f3",
   "metadata": {},
   "outputs": [
    {
     "name": "stdout",
     "output_type": "stream",
     "text": [
      "accuracy: 0.6582352941176473\n",
      "AUC-ROC: 0.7556579192412525\n"
     ]
    }
   ],
   "source": [
    "clf = svm.SVC(kernel='rbf', C=1)\n",
    "\n",
    "accs = []\n",
    "aucs = []\n",
    "for i in range(10):\n",
    "    scores = cross_val_score(clf, PI_mat, y, cv=KFold(shuffle=True))\n",
    "    accs.append(np.mean(scores))\n",
    "    \n",
    "    auc_scores = cross_val_score(clf, PI_mat, y, scoring = \"roc_auc\", cv=KFold(shuffle=True))\n",
    "    aucs.append(np.mean(auc_scores))\n",
    "    \n",
    "print(\"accuracy:\", sum(accs)/10)\n",
    "print(\"AUC-ROC:\", sum(aucs)/10)"
   ]
  },
  {
   "cell_type": "code",
   "execution_count": 218,
   "id": "7316d500",
   "metadata": {},
   "outputs": [
    {
     "name": "stdout",
     "output_type": "stream",
     "text": [
      "Accuracy for each fold: [0.61111111 0.58823529 0.76470588 0.64705882 0.64705882]\n",
      "Average accuracy: 0.6516339869281046\n",
      "AUC_ROC for each fold: [0.7        0.77777778 0.81944444 0.68055556 0.63888889]\n",
      "Average AUC_ROC: 0.7233333333333334\n"
     ]
    }
   ],
   "source": [
    "# Create SVM classifier\n",
    "clf = svm.SVC(kernel='sigmoid', C=1)\n",
    "\n",
    "# Perform k-fold cross-validation\n",
    "k = 5  # Number of folds\n",
    "scores = cross_val_score(clf, PI_mat, y, cv=k)\n",
    "\n",
    "# Print the accuracy for each fold\n",
    "print(\"Accuracy for each fold:\", scores)\n",
    "\n",
    "# Calculate and print the average accuracy\n",
    "print(\"Average accuracy:\", np.mean(scores))\n",
    "\n",
    "auc = cross_val_score(clf, PI_mat, y, scoring = \"roc_auc\", cv=k)\n",
    "\n",
    "# Print the AUC_ROC for each fold\n",
    "print(\"AUC_ROC for each fold:\", auc)\n",
    "\n",
    "# Calculate and print the average AUC_ROC\n",
    "print(\"Average AUC_ROC:\", np.mean(auc))"
   ]
  },
  {
   "cell_type": "code",
   "execution_count": 27,
   "id": "0b2f59fc",
   "metadata": {},
   "outputs": [
    {
     "name": "stdout",
     "output_type": "stream",
     "text": [
      "accuracy: 0.58\n",
      "AUC-ROC: 0.7450121267621268\n"
     ]
    }
   ],
   "source": [
    "clf = svm.SVC(kernel='sigmoid', C=1)\n",
    "\n",
    "accs = []\n",
    "aucs = []\n",
    "for i in range(10):\n",
    "    scores = cross_val_score(clf, PI_mat, y, cv=KFold(shuffle=True))\n",
    "    accs.append(np.mean(scores))\n",
    "    \n",
    "    auc_scores = cross_val_score(clf, PI_mat, y, scoring = \"roc_auc\", cv=KFold(shuffle=True))\n",
    "    aucs.append(np.mean(auc_scores))\n",
    "    \n",
    "print(\"accuracy:\", sum(accs)/10)\n",
    "print(\"AUC-ROC:\", sum(aucs)/10)"
   ]
  },
  {
   "cell_type": "markdown",
   "id": "11a96189",
   "metadata": {},
   "source": [
    "# Sparse Linear SVM"
   ]
  },
  {
   "cell_type": "code",
   "execution_count": 15,
   "id": "4ea03aad",
   "metadata": {},
   "outputs": [
    {
     "name": "stdout",
     "output_type": "stream",
     "text": [
      "Accuracy for each fold: [0.61111111 0.76470588 0.70588235 0.64705882 0.64705882]\n",
      "Average accuracy: 0.6751633986928105\n",
      "AUC_ROC for each fold: [0.7        0.875      0.81944444 0.81944444 0.72222222]\n",
      "Average AUC_ROC: 0.7872222222222224\n"
     ]
    }
   ],
   "source": [
    "from sklearn.svm import LinearSVC\n",
    "\n",
    "lsvc2 = LinearSVC(penalty=\"l2\")\n",
    "\n",
    "# Perform k-fold cross-validation*\n",
    "k = 5  # Number of folds\n",
    "scores = cross_val_score(lsvc2, PI_mat, y, cv=k)\n",
    "\n",
    "# Print the accuracy for each fold\n",
    "print(\"Accuracy for each fold:\", scores)\n",
    "\n",
    "# Calculate and print the average accuracy\n",
    "print(\"Average accuracy:\", np.mean(scores))\n",
    "\n",
    "auc = cross_val_score(lsvc2, PI_mat, y, scoring = \"roc_auc\", cv=k)\n",
    "\n",
    "# Print the AUC_ROC for each fold\n",
    "print(\"AUC_ROC for each fold:\", auc)\n",
    "\n",
    "# Calculate and print the average AUC_ROC\n",
    "print(\"Average AUC_ROC:\", np.mean(auc))"
   ]
  },
  {
   "cell_type": "code",
   "execution_count": 19,
   "id": "a435d0e6",
   "metadata": {},
   "outputs": [
    {
     "name": "stdout",
     "output_type": "stream",
     "text": [
      "accuracy: 0.684575163398693\n",
      "AUC-ROC: 0.7932567155067155\n"
     ]
    }
   ],
   "source": [
    "from sklearn.model_selection import KFold\n",
    "accs = []\n",
    "aucs = []\n",
    "for i in range(10):\n",
    "    scores = cross_val_score(lsvc2, PI_mat, y, cv=KFold(shuffle=True))\n",
    "    accs.append(np.mean(scores))\n",
    "    \n",
    "    auc_scores = cross_val_score(lsvc2, PI_mat, y, scoring = \"roc_auc\", cv=KFold(shuffle=True))\n",
    "    aucs.append(np.mean(auc_scores))\n",
    "    \n",
    "print(\"accuracy:\", sum(accs)/10)\n",
    "print(\"AUC-ROC:\", sum(aucs)/10)"
   ]
  },
  {
   "cell_type": "code",
   "execution_count": 21,
   "id": "22185dc9",
   "metadata": {},
   "outputs": [
    {
     "name": "stdout",
     "output_type": "stream",
     "text": [
      "Accuracy for each fold: [0.72222222 0.70588235 0.76470588 0.82352941 0.47058824]\n",
      "Average accuracy: 0.6973856209150326\n",
      "AUC_ROC for each fold: [0.6        0.69444444 0.75       0.80555556 0.56944444]\n",
      "Average AUC_ROC: 0.6838888888888889\n"
     ]
    }
   ],
   "source": [
    "# sparse svm\n",
    "\n",
    "lsvc1 = LinearSVC(penalty=\"l1\", dual=False, max_iter = 50000)\n",
    "\n",
    "# Perform k-fold cross-validation*\n",
    "k = 5  # Number of folds\n",
    "scores = cross_val_score(lsvc1, PI_mat, y, cv=k)\n",
    "\n",
    "# Print the accuracy for each fold\n",
    "print(\"Accuracy for each fold:\", scores)\n",
    "\n",
    "# Calculate and print the average accuracy\n",
    "print(\"Average accuracy:\", np.mean(scores))\n",
    "\n",
    "auc = cross_val_score(lsvc1, PI_mat, y, scoring = \"roc_auc\", cv=k)\n",
    "\n",
    "# Print the AUC_ROC for each fold\n",
    "print(\"AUC_ROC for each fold:\", auc)\n",
    "\n",
    "# Calculate and print the average AUC_ROC\n",
    "print(\"Average AUC_ROC:\", np.mean(auc))"
   ]
  },
  {
   "cell_type": "code",
   "execution_count": 22,
   "id": "a06260a2",
   "metadata": {},
   "outputs": [
    {
     "name": "stdout",
     "output_type": "stream",
     "text": [
      "accuracy: 0.6573856209150328\n",
      "AUC-ROC: 0.6819287070953737\n"
     ]
    }
   ],
   "source": [
    "\n",
    "accs = []\n",
    "aucs = []\n",
    "for i in range(10):\n",
    "    scores = cross_val_score(lsvc1, PI_mat, y, cv=KFold(shuffle=True))\n",
    "    accs.append(np.mean(scores))\n",
    "    \n",
    "    auc_scores = cross_val_score(lsvc1, PI_mat, y, scoring = \"roc_auc\", cv=KFold(shuffle=True))\n",
    "    aucs.append(np.mean(auc_scores))\n",
    "    \n",
    "print(\"accuracy:\", sum(accs)/10)\n",
    "print(\"AUC-ROC:\", sum(aucs)/10)"
   ]
  },
  {
   "cell_type": "markdown",
   "id": "dd3cd97a",
   "metadata": {},
   "source": [
    "# Reduce feature matrix with PCA and apply SVM\n"
   ]
  },
  {
   "cell_type": "code",
   "execution_count": 34,
   "id": "9b9fa3f2",
   "metadata": {},
   "outputs": [],
   "source": [
    "from sklearn. decomposition import PCA\n"
   ]
  },
  {
   "cell_type": "code",
   "execution_count": 35,
   "id": "eaa9e083",
   "metadata": {},
   "outputs": [
    {
     "data": {
      "text/plain": [
       "PCA()"
      ]
     },
     "execution_count": 35,
     "metadata": {},
     "output_type": "execute_result"
    }
   ],
   "source": [
    "pca = PCA()\n",
    "pca.fit(PI_mat)"
   ]
  },
  {
   "cell_type": "code",
   "execution_count": 37,
   "id": "f30c3cc1",
   "metadata": {},
   "outputs": [],
   "source": [
    "PI_pca = pca.fit_transform(PI_mat)"
   ]
  },
  {
   "cell_type": "code",
   "execution_count": 238,
   "id": "58afb866",
   "metadata": {},
   "outputs": [
    {
     "name": "stdout",
     "output_type": "stream",
     "text": [
      "Accuracy for each fold: [0.38888889 0.70588235 0.64705882 0.64705882 0.52941176]\n",
      "Average accuracy: 0.5836601307189542\n",
      "AUC_ROC for each fold: [0.6        0.75       0.79166667 0.73611111 0.69444444]\n",
      "Average AUC_ROC: 0.7144444444444444\n"
     ]
    }
   ],
   "source": [
    "lsvc2 = LinearSVC(penalty=\"l2\")\n",
    "\n",
    "# Perform k-fold cross-validation*\n",
    "k = 5  # Number of folds\n",
    "scores = cross_val_score(lsvc2, PI_pca, y, cv=k)\n",
    "\n",
    "# Print the accuracy for each fold\n",
    "print(\"Accuracy for each fold:\", scores)\n",
    "\n",
    "# Calculate and print the average accuracy\n",
    "print(\"Average accuracy:\", np.mean(scores))\n",
    "\n",
    "auc = cross_val_score(lsvc2, PI_pca, y, scoring = \"roc_auc\", cv=k)\n",
    "\n",
    "# Print the AUC_ROC for each fold\n",
    "print(\"AUC_ROC for each fold:\", auc)\n",
    "\n",
    "# Calculate and print the average AUC_ROC\n",
    "print(\"Average AUC_ROC:\", np.mean(auc))"
   ]
  },
  {
   "cell_type": "code",
   "execution_count": 39,
   "id": "b4c59e61",
   "metadata": {},
   "outputs": [
    {
     "name": "stdout",
     "output_type": "stream",
     "text": [
      "Accuracy for each fold: [0.61111111 0.64705882 0.58823529 0.64705882 0.58823529]\n",
      "Average accuracy: 0.6163398692810458\n",
      "AUC_ROC for each fold: [0.7        0.77777778 0.81944444 0.70833333 0.63888889]\n",
      "Average AUC_ROC: 0.7288888888888889\n"
     ]
    }
   ],
   "source": [
    "# Create SVM classifier\n",
    "clf = svm.SVC(kernel='sigmoid', C=1)\n",
    "\n",
    "# Perform k-fold cross-validation\n",
    "k = 5  # Number of folds\n",
    "scores = cross_val_score(clf, PI_pca, y, cv=k)\n",
    "\n",
    "# Print the accuracy for each fold\n",
    "print(\"Accuracy for each fold:\", scores)\n",
    "\n",
    "# Calculate and print the average accuracy\n",
    "print(\"Average accuracy:\", np.mean(scores))\n",
    "\n",
    "auc = cross_val_score(clf, PI_pca, y, scoring = \"roc_auc\", cv=k)\n",
    "\n",
    "# Print the AUC_ROC for each fold\n",
    "print(\"AUC_ROC for each fold:\", auc)\n",
    "\n",
    "# Calculate and print the average AUC_ROC\n",
    "print(\"Average AUC_ROC:\", np.mean(auc))"
   ]
  },
  {
   "cell_type": "code",
   "execution_count": 40,
   "id": "de00b932",
   "metadata": {},
   "outputs": [
    {
     "name": "stdout",
     "output_type": "stream",
     "text": [
      "accuracy: 0.6300000000000001\n",
      "AUC-ROC: 0.7393796882130215\n"
     ]
    }
   ],
   "source": [
    "clf = svm.SVC(kernel='sigmoid', C=1)\n",
    "\n",
    "accs = []\n",
    "aucs = []\n",
    "for i in range(10):\n",
    "    scores = cross_val_score(clf, PI_pca, y, cv=KFold(shuffle=True))\n",
    "    accs.append(np.mean(scores))\n",
    "    \n",
    "    auc_scores = cross_val_score(clf, PI_pca, y, scoring = \"roc_auc\", cv=KFold(shuffle=True))\n",
    "    aucs.append(np.mean(auc_scores))\n",
    "    \n",
    "print(\"accuracy:\", sum(accs)/10)\n",
    "print(\"AUC-ROC:\", sum(aucs)/10)"
   ]
  },
  {
   "cell_type": "code",
   "execution_count": 240,
   "id": "71854e10",
   "metadata": {},
   "outputs": [
    {
     "name": "stdout",
     "output_type": "stream",
     "text": [
      "Accuracy for each fold: [0.77777778 0.70588235 0.52941176 0.64705882 0.70588235]\n",
      "Average accuracy: 0.673202614379085\n",
      "AUC_ROC for each fold: [0.8125     0.72222222 0.69444444 0.77777778 0.70833333]\n",
      "Average AUC_ROC: 0.7430555555555556\n"
     ]
    }
   ],
   "source": [
    "# Create SVM classifier\n",
    "clf = svm.SVC(kernel='rbf', C=1)\n",
    "\n",
    "# Perform k-fold cross-validation\n",
    "k = 5  # Number of folds\n",
    "scores = cross_val_score(clf, PI_pca, y, cv=k)\n",
    "\n",
    "# Print the accuracy for each fold\n",
    "print(\"Accuracy for each fold:\", scores)\n",
    "\n",
    "# Calculate and print the average accuracy\n",
    "print(\"Average accuracy:\", np.mean(scores))\n",
    "\n",
    "auc = cross_val_score(clf, PI_pca, y, scoring = \"roc_auc\", cv=k)\n",
    "\n",
    "# Print the AUC_ROC for each fold\n",
    "print(\"AUC_ROC for each fold:\", auc)\n",
    "\n",
    "# Calculate and print the average AUC_ROC\n",
    "print(\"Average AUC_ROC:\", np.mean(auc))"
   ]
  },
  {
   "cell_type": "code",
   "execution_count": 41,
   "id": "815651f9",
   "metadata": {},
   "outputs": [
    {
     "name": "stdout",
     "output_type": "stream",
     "text": [
      "accuracy: 0.6616993464052286\n",
      "AUC-ROC: 0.7468121323121323\n"
     ]
    }
   ],
   "source": [
    "clf = svm.SVC(kernel='rbf', C=1)\n",
    "\n",
    "accs = []\n",
    "aucs = []\n",
    "for i in range(10):\n",
    "    scores = cross_val_score(clf, PI_pca, y, cv=KFold(shuffle=True))\n",
    "    accs.append(np.mean(scores))\n",
    "    \n",
    "    auc_scores = cross_val_score(clf, PI_pca, y, scoring = \"roc_auc\", cv=KFold(shuffle=True))\n",
    "    aucs.append(np.mean(auc_scores))\n",
    "    \n",
    "print(\"accuracy:\", sum(accs)/10)\n",
    "print(\"AUC-ROC:\", sum(aucs)/10)"
   ]
  },
  {
   "cell_type": "code",
   "execution_count": 241,
   "id": "13829f3a",
   "metadata": {},
   "outputs": [
    {
     "name": "stdout",
     "output_type": "stream",
     "text": [
      "Accuracy for each fold: [0.44444444 0.70588235 0.64705882 0.64705882 0.58823529]\n",
      "Average accuracy: 0.6065359477124183\n",
      "AUC_ROC for each fold: [0.65       0.80555556 0.83333333 0.77777778 0.70833333]\n",
      "Average AUC_ROC: 0.7550000000000001\n"
     ]
    }
   ],
   "source": [
    "# Create SVM classifier\n",
    "clf = svm.SVC(kernel='linear', C=1)\n",
    "\n",
    "# Perform k-fold cross-validation\n",
    "k = 5  # Number of folds\n",
    "scores = cross_val_score(clf, PI_pca, y, cv=k)\n",
    "\n",
    "# Print the accuracy for each fold\n",
    "print(\"Accuracy for each fold:\", scores)\n",
    "\n",
    "# Calculate and print the average accuracy\n",
    "print(\"Average accuracy:\", np.mean(scores))\n",
    "\n",
    "auc = cross_val_score(clf, PI_pca, y, scoring = \"roc_auc\", cv=k)\n",
    "\n",
    "# Print the AUC_ROC for each fold\n",
    "print(\"AUC_ROC for each fold:\", auc)\n",
    "\n",
    "# Calculate and print the average AUC_ROC\n",
    "print(\"Average AUC_ROC:\", np.mean(auc))"
   ]
  },
  {
   "cell_type": "code",
   "execution_count": 42,
   "id": "64c023af",
   "metadata": {},
   "outputs": [
    {
     "name": "stdout",
     "output_type": "stream",
     "text": [
      "accuracy: 0.6324183006535948\n",
      "AUC-ROC: 0.7627622932622933\n"
     ]
    }
   ],
   "source": [
    "clf = svm.SVC(kernel='linear', C=1)\n",
    "\n",
    "accs = []\n",
    "aucs = []\n",
    "for i in range(10):\n",
    "    scores = cross_val_score(clf, PI_pca, y, cv=KFold(shuffle=True))\n",
    "    accs.append(np.mean(scores))\n",
    "    \n",
    "    auc_scores = cross_val_score(clf, PI_pca, y, scoring = \"roc_auc\", cv=KFold(shuffle=True))\n",
    "    aucs.append(np.mean(auc_scores))\n",
    "    \n",
    "print(\"accuracy:\", sum(accs)/10)\n",
    "print(\"AUC-ROC:\", sum(aucs)/10)"
   ]
  },
  {
   "cell_type": "code",
   "execution_count": 243,
   "id": "a72d4521",
   "metadata": {},
   "outputs": [
    {
     "name": "stdout",
     "output_type": "stream",
     "text": [
      "Accuracy for each fold: [0.38888889 0.47058824 0.52941176 0.47058824 0.52941176]\n",
      "Average accuracy: 0.47777777777777775\n",
      "AUC_ROC for each fold: [0.775      0.83333333 0.79166667 0.81944444 0.55555556]\n",
      "Average AUC_ROC: 0.7550000000000001\n"
     ]
    }
   ],
   "source": [
    "# Create SVM classifier\n",
    "clf = svm.SVC(kernel='poly', degree = 2, C=1)\n",
    "\n",
    "# Perform k-fold cross-validation\n",
    "k = 5  # Number of folds\n",
    "scores = cross_val_score(clf, PI_pca, y, cv=k)\n",
    "\n",
    "# Print the accuracy for each fold\n",
    "print(\"Accuracy for each fold:\", scores)\n",
    "\n",
    "# Calculate and print the average accuracy\n",
    "print(\"Average accuracy:\", np.mean(scores))\n",
    "\n",
    "auc = cross_val_score(clf, PI_pca, y, scoring = \"roc_auc\", cv=k)\n",
    "\n",
    "# Print the AUC_ROC for each fold\n",
    "print(\"AUC_ROC for each fold:\", auc)\n",
    "\n",
    "# Calculate and print the average AUC_ROC\n",
    "print(\"Average AUC_ROC:\", np.mean(auc))"
   ]
  },
  {
   "cell_type": "code",
   "execution_count": 43,
   "id": "fac691dc",
   "metadata": {},
   "outputs": [
    {
     "name": "stdout",
     "output_type": "stream",
     "text": [
      "accuracy: 0.426797385620915\n",
      "AUC-ROC: 0.7172067469567469\n"
     ]
    }
   ],
   "source": [
    "clf = svm.SVC(kernel='poly', C=1, degree=2)\n",
    "\n",
    "accs = []\n",
    "aucs = []\n",
    "for i in range(10):\n",
    "    scores = cross_val_score(clf, PI_pca, y, cv=KFold(shuffle=True))\n",
    "    accs.append(np.mean(scores))\n",
    "    \n",
    "    auc_scores = cross_val_score(clf, PI_pca, y, scoring = \"roc_auc\", cv=KFold(shuffle=True))\n",
    "    aucs.append(np.mean(auc_scores))\n",
    "    \n",
    "print(\"accuracy:\", sum(accs)/10)\n",
    "print(\"AUC-ROC:\", sum(aucs)/10)"
   ]
  },
  {
   "cell_type": "code",
   "execution_count": 244,
   "id": "ab395b74",
   "metadata": {},
   "outputs": [
    {
     "name": "stdout",
     "output_type": "stream",
     "text": [
      "Accuracy for each fold: [0.44444444 0.47058824 0.47058824 0.47058824 0.47058824]\n",
      "Average accuracy: 0.465359477124183\n",
      "AUC_ROC for each fold: [0.75       0.75       0.68055556 0.80555556 0.55555556]\n",
      "Average AUC_ROC: 0.7083333333333333\n"
     ]
    }
   ],
   "source": [
    "# Create SVM classifier\n",
    "clf = svm.SVC(kernel='poly', degree = 3, C=1)\n",
    "\n",
    "# Perform k-fold cross-validation\n",
    "k = 5  # Number of folds\n",
    "scores = cross_val_score(clf, PI_pca, y, cv=k)\n",
    "\n",
    "# Print the accuracy for each fold\n",
    "print(\"Accuracy for each fold:\", scores)\n",
    "\n",
    "# Calculate and print the average accuracy\n",
    "print(\"Average accuracy:\", np.mean(scores))\n",
    "\n",
    "auc = cross_val_score(clf, PI_pca, y, scoring = \"roc_auc\", cv=k)\n",
    "\n",
    "# Print the AUC_ROC for each fold\n",
    "print(\"AUC_ROC for each fold:\", auc)\n",
    "\n",
    "# Calculate and print the average AUC_ROC\n",
    "print(\"Average AUC_ROC:\", np.mean(auc))"
   ]
  },
  {
   "cell_type": "code",
   "execution_count": 44,
   "id": "2ac442e8",
   "metadata": {},
   "outputs": [
    {
     "name": "stdout",
     "output_type": "stream",
     "text": [
      "accuracy: 0.4220261437908497\n",
      "AUC-ROC: 0.6951687510020843\n"
     ]
    }
   ],
   "source": [
    "clf = svm.SVC(kernel='poly', C=1, degree=3)\n",
    "\n",
    "accs = []\n",
    "aucs = []\n",
    "for i in range(10):\n",
    "    scores = cross_val_score(clf, PI_pca, y, cv=KFold(shuffle=True))\n",
    "    accs.append(np.mean(scores))\n",
    "    \n",
    "    auc_scores = cross_val_score(clf, PI_pca, y, scoring = \"roc_auc\", cv=KFold(shuffle=True))\n",
    "    aucs.append(np.mean(auc_scores))\n",
    "    \n",
    "print(\"accuracy:\", sum(accs)/10)\n",
    "print(\"AUC-ROC:\", sum(aucs)/10)"
   ]
  },
  {
   "cell_type": "code",
   "execution_count": 245,
   "id": "50293261",
   "metadata": {},
   "outputs": [
    {
     "name": "stdout",
     "output_type": "stream",
     "text": [
      "Accuracy for each fold: [0.44444444 0.47058824 0.47058824 0.47058824 0.47058824]\n",
      "Average accuracy: 0.465359477124183\n",
      "AUC_ROC for each fold: [0.7125     0.79166667 0.61111111 0.86111111 0.55555556]\n",
      "Average AUC_ROC: 0.706388888888889\n"
     ]
    }
   ],
   "source": [
    "# Create SVM classifier\n",
    "clf = svm.SVC(kernel='poly', degree = 5, C=1)\n",
    "\n",
    "# Perform k-fold cross-validation\n",
    "k = 5  # Number of folds\n",
    "scores = cross_val_score(clf, PI_pca, y, cv=k)\n",
    "\n",
    "# Print the accuracy for each fold\n",
    "print(\"Accuracy for each fold:\", scores)\n",
    "\n",
    "# Calculate and print the average accuracy\n",
    "print(\"Average accuracy:\", np.mean(scores))\n",
    "\n",
    "auc = cross_val_score(clf, PI_pca, y, scoring = \"roc_auc\", cv=k)\n",
    "\n",
    "# Print the AUC_ROC for each fold\n",
    "print(\"AUC_ROC for each fold:\", auc)\n",
    "\n",
    "# Calculate and print the average AUC_ROC\n",
    "print(\"Average AUC_ROC:\", np.mean(auc))"
   ]
  },
  {
   "cell_type": "code",
   "execution_count": 45,
   "id": "73788a05",
   "metadata": {},
   "outputs": [
    {
     "name": "stdout",
     "output_type": "stream",
     "text": [
      "accuracy: 0.4341176470588236\n",
      "AUC-ROC: 0.6627600208433542\n"
     ]
    }
   ],
   "source": [
    "clf = svm.SVC(kernel='poly', C=1, degree=5)\n",
    "\n",
    "accs = []\n",
    "aucs = []\n",
    "for i in range(10):\n",
    "    scores = cross_val_score(clf, PI_pca, y, cv=KFold(shuffle=True))\n",
    "    accs.append(np.mean(scores))\n",
    "    \n",
    "    auc_scores = cross_val_score(clf, PI_pca, y, scoring = \"roc_auc\", cv=KFold(shuffle=True))\n",
    "    aucs.append(np.mean(auc_scores))\n",
    "    \n",
    "print(\"accuracy:\", sum(accs)/10)\n",
    "print(\"AUC-ROC:\", sum(aucs)/10)"
   ]
  },
  {
   "cell_type": "code",
   "execution_count": null,
   "id": "13f562bd",
   "metadata": {},
   "outputs": [],
   "source": []
  }
 ],
 "metadata": {
  "kernelspec": {
   "display_name": "Python 3 (ipykernel)",
   "language": "python",
   "name": "python3"
  },
  "language_info": {
   "codemirror_mode": {
    "name": "ipython",
    "version": 3
   },
   "file_extension": ".py",
   "mimetype": "text/x-python",
   "name": "python",
   "nbconvert_exporter": "python",
   "pygments_lexer": "ipython3",
   "version": "3.9.7"
  }
 },
 "nbformat": 4,
 "nbformat_minor": 5
}

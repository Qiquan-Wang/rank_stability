{
 "cells": [
  {
   "cell_type": "code",
   "execution_count": 1,
   "metadata": {},
   "outputs": [],
   "source": [
    "import numpy as np\n",
    "import os\n",
    "import matplotlib.pyplot as plt\n",
    "import random\n",
    "import math\n",
    "from gtda.homology import VietorisRipsPersistence\n",
    "import gudhi\n",
    "import ripser\n",
    "from persim import plot_diagrams\n",
    "from compute_rank_function_from_barcode import rank_function\n",
    "import matplotlib.pyplot as plt"
   ]
  },
  {
   "cell_type": "code",
   "execution_count": 2,
   "metadata": {},
   "outputs": [],
   "source": [
    "# function to generate n pts on the circle of radius r around centre (x,y) normally set to be (0,0)\n",
    "def sample_circle(r, n, centre = [0,0]):\n",
    "    theta = np.random.rand(n)*2*np.pi\n",
    "    x = centre[0] + r * np.cos(theta)\n",
    "    y = centre[1] + r * np.sin(theta)\n",
    "    return np.transpose(np.array([x,y])) # output is a nx2 matrix"
   ]
  },
  {
   "cell_type": "code",
   "execution_count": 3,
   "metadata": {},
   "outputs": [],
   "source": [
    "# function to add gaussian noise (of given sd) to the pts\n",
    "def add_noise(pts, noise_sd=0.1):\n",
    "    n,m = pts.shape\n",
    "    noisy_pts = pts + np.random.normal(0,noise_sd, [n,m])\n",
    "    return noisy_pts\n",
    "\n",
    "def sample_noisy_circle(r, n, noise_sd, centre=[0,0]):\n",
    "    pts = sample_circle(r,n, centre)\n",
    "    noisy_circle = add_noise(pts, noise_sd)\n",
    "    return noisy_circle"
   ]
  },
  {
   "cell_type": "code",
   "execution_count": 4,
   "metadata": {},
   "outputs": [],
   "source": [
    "# list of noise levels to try\n",
    "noises = np.linspace(0,0.25, 26)"
   ]
  },
  {
   "cell_type": "code",
   "execution_count": 7,
   "metadata": {},
   "outputs": [
    {
     "data": {
      "text/plain": [
       "array([0.  , 0.01, 0.02, 0.03, 0.04, 0.05, 0.06, 0.07, 0.08, 0.09, 0.1 ,\n",
       "       0.11, 0.12, 0.13, 0.14, 0.15, 0.16, 0.17, 0.18, 0.19, 0.2 , 0.21,\n",
       "       0.22, 0.23, 0.24, 0.25])"
      ]
     },
     "execution_count": 7,
     "metadata": {},
     "output_type": "execute_result"
    }
   ],
   "source": [
    "noises"
   ]
  },
  {
   "cell_type": "code",
   "execution_count": 4,
   "metadata": {},
   "outputs": [],
   "source": [
    "import persim\n",
    "# define a function that given a distance matrix and indices of 2 groups compute the total variance\n",
    "def dist_variance(dist_mat, index1, index2):\n",
    "    var1 = 0\n",
    "    for i in index1:\n",
    "        for j in index1:\n",
    "            var1 += dist_mat[i,j]\n",
    "    var2 = 0\n",
    "    for m in index2:\n",
    "        for l in index2:\n",
    "            var2 += dist_mat[m,l]\n",
    "    n1 = len(index1)\n",
    "    n2 = len(index2)\n",
    "    tot_var = (var1/(2*n1*(n1-1))) + (var2/(2*n2*(n2-1)))\n",
    "    return tot_var\n",
    "def PD_permutation_test(sample1, sample2, N, dist_type=\"bottleneck\", plot=False):\n",
    "    # default distance type is bottleneck, but can have wasserstein dsitance as well\n",
    "    n1 = len(sample1)\n",
    "    n2 = len(sample2)\n",
    "    labels = [i for i in range(n1+n2)]\n",
    "    all_samples = sample1+sample2\n",
    "    # compute a distance matrix between the two sets\n",
    "    distances = np.zeros([n1+n2,n1+n2])\n",
    "    for i in range(n1+n2):\n",
    "        for j in range(i+1,n2):\n",
    "            if dist_type == \"bottleneck\":\n",
    "                dist = persim.bottleneck(np.vstack(all_samples[i]), np.vstack(all_samples[j]))\n",
    "                distances[i,j] = dist\n",
    "                distances[j,i] = dist\n",
    "            elif dist_type == \"wasserstein\":\n",
    "                dist = persim.wasserstein(np.vstack(all_samples[i]), np.vstack(all_samples[j]))\n",
    "                distances[i,j] = dist\n",
    "                distances[j,i] = dist\n",
    "                \n",
    "    initial_variance = dist_variance(distances, [i for i in range(n1)], [i for i in range(n1,n1+n2)])\n",
    "    \n",
    "    variances = []\n",
    "    z = 1\n",
    "    # permute\n",
    "    for k in range(N-1):\n",
    "        random.shuffle(labels)\n",
    "        ind1 = labels[:n1]\n",
    "        ind2 = labels[n1:]\n",
    "        \n",
    "        new_variance = dist_variance(distances, ind1, ind2)\n",
    "        \n",
    "        variances.append(new_variance)\n",
    "        \n",
    "        if new_variance <= initial_variance:\n",
    "            z += 1        \n",
    "     \n",
    "    # compute Z/N\n",
    "    p_val = z/(N+1)\n",
    "    \n",
    "    if plot!=False:\n",
    "        # plot the distribution of the variances under permutation\n",
    "        result = plt.hist(variances, bins = 10,  color='c', edgecolor='k', alpha=0.65)\n",
    "        plt.axvline(initial_variance, color='k', linestyle='dashed', linewidth=1)\n",
    "        min_ylim, max_ylim = plt.ylim()\n",
    "        plt.text(initial_variance, max_ylim, 'Observed loss: {:.2f}'.format(initial_variance))\n",
    "        plt.savefig(plot)\n",
    "        plt.show()\n",
    "    \n",
    "    return p_val, variances"
   ]
  },
  {
   "cell_type": "code",
   "execution_count": 9,
   "metadata": {},
   "outputs": [],
   "source": [
    "from compute_rank_function_from_barcode import rank_function\n",
    "def total_variance(sample1, sample2):\n",
    "    # takes in two lists of samples and computes their total variance\n",
    "    n1 = len(sample1)\n",
    "    n2 = len(sample2)\n",
    "    \n",
    "    # compute variance of the two samples\n",
    "    # compute mean of each sample\n",
    "    mean1 = sum(sample1)/n1\n",
    "    mean2 = sum(sample2)/n2\n",
    "    \n",
    "    # compute variance\n",
    "    var1 = np.sum([np.square(i-mean1) for i in sample1])/(n1-1)\n",
    "    var2 = np.sum([np.square(i-mean2) for i in sample2])/(n2-1)\n",
    "    \n",
    "    return var1 + var2\n",
    "def Permutation_test(sample1, sample2, N, plot=False):\n",
    "    # takes in two lists of samples and carries out permutation testing\n",
    "    # function returns p-value \n",
    "    \n",
    "    n1 = len(sample1)\n",
    "    n2 = len(sample2)\n",
    "    labels = [1 for i in range(n1)] + [2 for i in range(n2)]\n",
    "    initial_variance = total_variance(sample1, sample2)\n",
    "    \n",
    "    all_samples = sample1 + sample2\n",
    "    \n",
    "    z = 1\n",
    "    variances = []\n",
    "    \n",
    "    # permute over N interation\n",
    "    for i in range(N-1):\n",
    "        random.shuffle(labels)\n",
    "        ind1 = [int(u) for u, x in enumerate(labels) if x == 1]\n",
    "        ind2 = [int(u) for u, x in enumerate(labels) if x == 2]\n",
    "        new_sample1 = [all_samples[w] for w in ind1]\n",
    "        new_sample2 = [all_samples[w] for w in ind2]\n",
    "        \n",
    "        new_variance = total_variance(new_sample1, new_sample2)\n",
    "        # print(new_variance)\n",
    "        variances.append(new_variance)\n",
    "        \n",
    "        if new_variance <= initial_variance:\n",
    "            z += 1\n",
    "    \n",
    "    # compute Z/N\n",
    "    p_val = z/(N+1)\n",
    "    \n",
    "    if plot:\n",
    "        # plot the distribution of the variances under permutation\n",
    "        result = plt.hist(variances, bins = 10,  color='c', edgecolor='k', alpha=0.65)\n",
    "        plt.axvline(initial_variance, color='k', linestyle='dashed', linewidth=1)\n",
    "        min_ylim, max_ylim = plt.ylim()\n",
    "        plt.text(initial_variance, max_ylim, 'Observed loss: {:.2f}'.format(initial_variance))\n",
    "        plt.show()\n",
    "    \n",
    "    return p_val, variances"
   ]
  },
  {
   "cell_type": "code",
   "execution_count": 5,
   "metadata": {},
   "outputs": [],
   "source": [
    "from rank import rank_function as rank_function2d\n",
    "from helper_functions import Compute_Rivet"
   ]
  },
  {
   "cell_type": "code",
   "execution_count": 6,
   "metadata": {},
   "outputs": [],
   "source": [
    "import warnings\n",
    "warnings.filterwarnings('ignore')"
   ]
  },
  {
   "cell_type": "code",
   "execution_count": null,
   "metadata": {},
   "outputs": [
    {
     "name": "stdout",
     "output_type": "stream",
     "text": [
      "0\n",
      "1\n",
      "2\n",
      "3\n",
      "4\n",
      "5\n",
      "6\n",
      "7\n",
      "8\n",
      "9\n",
      "10\n",
      "11\n",
      "12\n",
      "13\n",
      "14\n",
      "15\n",
      "16\n"
     ]
    }
   ],
   "source": [
    "bottleneck_pvals = [0 for i in range(26)]\n",
    "wasserstein_pvals = [0 for i in range(26)]\n",
    "rank1_pvals1 = [0 for i in range(26)]\n",
    "rank2_pvals1 = [0 for i in range(26)]\n",
    "for i in range(26):\n",
    "    # for each i sample 100 each from circle and noisy circle with different variance\n",
    "    circle_samples = [0 for j in range(100)]\n",
    "    for j in range(100):\n",
    "        circle_samples[j] = sample_circle(2,100)\n",
    "        \n",
    "    noisy_circle_samples = [0 for j in range(100)]\n",
    "    for j in range(100):\n",
    "        noisy_circle_samples[j] = sample_noisy_circle(2,100, noises[i])\n",
    "        \n",
    "    # compute the PD\n",
    "    circle_samples_PD = [0 for i in range(100)]\n",
    "    noisy_circle_samples_PD = [0 for i in range(100)]\n",
    "    \n",
    "    for k in range(100):\n",
    "        circle_samples_PD[k] = ripser.ripser(circle_samples[k], maxdim=2)['dgms']\n",
    "        noisy_circle_samples_PD[k] = ripser.ripser(noisy_circle_samples[k], maxdim=2)['dgms']\n",
    "    \n",
    "    bottleneck_pvals[i], var = PD_permutation_test(circle_samples_PD,noisy_circle_samples_PD, 5000, dist_type=\"bottleneck\", plot=False)\n",
    "    wasserstein_pvals[i], var = PD_permutation_test(circle_samples_PD,noisy_circle_samples_PD, 5000, dist_type=\"wasserstein\", plot=False)\n",
    "    \n",
    "    # compute rank function+\n",
    "    circle_samples_rank_fns = [0 for l in range(100)]\n",
    "    noisy_circle_samples_rank_fns = [0 for l in range(100)]\n",
    "    \n",
    "    for l in range(100):\n",
    "        circle_samples_rank_fns[l] = rank_function(circle_samples_PD[l], 0, 20, [0,5]) + rank_function(circle_samples_PD[l], 1, 20, [0,5])\n",
    "        noisy_circle_samples_rank_fns[l] = rank_function(noisy_circle_samples_PD[l], 0, 20, [0,5]) + rank_function(noisy_circle_samples_PD[l], 1, 20, [0,5])\n",
    "\n",
    "    rank1_pvals1[i], de = Permutation_test(circle_samples_rank_fns,noisy_circle_samples_rank_fns, 5000, plot=False)\n",
    "    \n",
    "    \n",
    "    # compute 2 parameter rank functions\n",
    "    circle_samples_ranks = [0 for p in range(100)]\n",
    "    noisy_circle_samples_ranks = [0 for p in range(100)]\n",
    "    \n",
    "    for p in range(100):\n",
    "        current = Compute_Rivet(circle_samples[p], resolution=50, dim=0, RipsMax=5)\n",
    "        circle_samples_ranks[p] = rank_function2d(current, grid_size=20, fixed_bounds=None, use_weights=False, normalize=False, minimum_rank=0)\n",
    "    \n",
    "        current = Compute_Rivet(noisy_circle_samples[p], resolution=50, dim=0, RipsMax=5)\n",
    "        noisy_circle_samples_ranks[p] = rank_function2d(current, grid_size=20, fixed_bounds=None, use_weights=False, normalize=False, minimum_rank=0)\n",
    "        \n",
    "    rank2_pvals1[i], dr = Permutation_test(circle_samples_ranks, noisy_circle_samples_ranks, 5000, plot=False)\n",
    "    \n",
    "    print(i)\n",
    "    \n",
    "    "
   ]
  },
  {
   "cell_type": "code",
   "execution_count": null,
   "metadata": {},
   "outputs": [],
   "source": [
    "plt.plot(noises, bottleneck_pvals)\n",
    "plt.xlabel(\"noise level\")\n",
    "plt.ylabel(\"p-value\")\n",
    "plt.savefig(\"bottleneck_pvals.png\")\n",
    "plt.show()\n",
    "\n",
    "plt.plot(noises, wasserstein_pvals)\n",
    "plt.xlabel(\"noise level\")\n",
    "plt.ylabel(\"p-value\")\n",
    "plt.savefig(\"wasserstein_pvals.png\")\n",
    "plt.show()\n",
    "\n",
    "plt.plot(noises, rank1_pvals1)\n",
    "plt.xlabel(\"noise level\")\n",
    "plt.ylabel(\"p-value\")\n",
    "plt.savefig(\"rank1_pvals1.png\")\n",
    "plt.show()\n",
    "\n",
    "plt.plot(noises, rank2_pvals1)\n",
    "plt.xlabel(\"noise level\")\n",
    "plt.ylabel(\"p-value\")\n",
    "plt.savefig(\"rank2_pvals1.png\")\n",
    "plt.show()"
   ]
  },
  {
   "cell_type": "code",
   "execution_count": null,
   "metadata": {},
   "outputs": [],
   "source": [
    "print(bottleneck_pvals)\n",
    "print(wasserstein_pvals)\n",
    "print(rank1_pvals1)\n",
    "print(rank2_pvals1)\n"
   ]
  },
  {
   "cell_type": "code",
   "execution_count": null,
   "metadata": {},
   "outputs": [],
   "source": []
  },
  {
   "cell_type": "code",
   "execution_count": null,
   "metadata": {},
   "outputs": [],
   "source": []
  },
  {
   "cell_type": "code",
   "execution_count": 18,
   "metadata": {},
   "outputs": [
    {
     "data": {
      "image/png": "[encoded data removed]",
      "text/plain": [
       "<Figure size 432x288 with 1 Axes>"
      ]
     },
     "metadata": {
      "needs_background": "light"
     },
     "output_type": "display_data"
    },
    {
     "data": {
      "image/png": "[encoded data removed]",
      "text/plain": [
       "<Figure size 432x288 with 1 Axes>"
      ]
     },
     "metadata": {
      "needs_background": "light"
     },
     "output_type": "display_data"
    },
    {
     "data": {
      "image/png": "[encoded data removed]",
      "text/plain": [
       "<Figure size 432x288 with 1 Axes>"
      ]
     },
     "metadata": {
      "needs_background": "light"
     },
     "output_type": "display_data"
    },
    {
     "data": {
      "image/png": "[encoded data removed]",
      "text/plain": [
       "<Figure size 432x288 with 1 Axes>"
      ]
     },
     "metadata": {
      "needs_background": "light"
     },
     "output_type": "display_data"
    }
   ],
   "source": [
    "plt.plot(noises, bottleneck_pvals)\n",
    "plt.xlabel(\"noise level\")\n",
    "plt.ylabel(\"p-value\")\n",
    "plt.savefig(\"bottleneck_pvals.png\")\n",
    "plt.show()\n",
    "\n",
    "plt.plot(noises, wasserstein_pvals)\n",
    "plt.xlabel(\"noise level\")\n",
    "plt.ylabel(\"p-value\")\n",
    "plt.savefig(\"wasserstein_pvals.png\")\n",
    "plt.show()\n",
    "\n",
    "plt.plot(noises, rank1_pvals)\n",
    "plt.xlabel(\"noise level\")\n",
    "plt.ylabel(\"p-value\")\n",
    "plt.savefig(\"rank1_pvals.png\")\n",
    "plt.show()\n",
    "\n",
    "plt.plot(noises, rank2_pvals)\n",
    "plt.xlabel(\"noise level\")\n",
    "plt.ylabel(\"p-value\")\n",
    "plt.savefig(\"rank2_pvals.png\")\n",
    "plt.show()"
   ]
  },
  {
   "cell_type": "code",
   "execution_count": 19,
   "metadata": {
    "scrolled": true
   },
   "outputs": [
    {
     "name": "stdout",
     "output_type": "stream",
     "text": [
      "[0.9998000399920016, 0.9998000399920016, 0.9998000399920016, 0.9998000399920016, 0.9998000399920016, 0.9998000399920016, 0.9998000399920016, 0.9998000399920016, 0.9998000399920016, 0.9998000399920016, 0.9998000399920016, 0.9998000399920016, 0.9998000399920016, 0.9998000399920016, 0.9998000399920016, 0.9998000399920016, 0.9998000399920016, 0.9998000399920016, 0.9998000399920016, 0.9998000399920016, 0.9998000399920016, 0.9998000399920016, 0.9998000399920016, 0.9998000399920016, 0.9998000399920016, 0.9998000399920016]\n",
      "[0.9998000399920016, 0.9998000399920016, 0.9998000399920016, 0.9998000399920016, 0.9998000399920016, 0.9998000399920016, 0.9998000399920016, 0.9998000399920016, 0.9998000399920016, 0.9998000399920016, 0.9998000399920016, 0.9998000399920016, 0.9998000399920016, 0.9998000399920016, 0.9998000399920016, 0.9998000399920016, 0.9998000399920016, 0.9998000399920016, 0.9998000399920016, 0.9998000399920016, 0.9998000399920016, 0.9998000399920016, 0.9998000399920016, 0.9998000399920016, 0.9998000399920016, 0.9998000399920016]\n",
      "[0.74625074985003, 0.8436312737452509, 0.1259748050389922, 0.0001999600079984003, 0.0001999600079984003, 0.0001999600079984003, 0.0001999600079984003, 0.0001999600079984003, 0.0001999600079984003, 0.0001999600079984003, 0.0001999600079984003, 0.0001999600079984003, 0.0001999600079984003, 0.0001999600079984003, 0.0001999600079984003, 0.0001999600079984003, 0.0001999600079984003, 0.0001999600079984003, 0.0001999600079984003, 0.0001999600079984003, 0.0001999600079984003, 0.0001999600079984003, 0.0001999600079984003, 0.0001999600079984003, 0.0001999600079984003, 0.0001999600079984003]\n",
      "[0.24055188962207558, 0.3147370525894821, 0.08738252349530094, 0.47390521895620874, 0.16556688662267546, 0.1975604879024195, 0.3625274945010998, 0.054989002199560086, 0.027194561087782444, 0.006998600279944011, 0.1285742851429714, 0.1285742851429714, 0.042191561687662464, 0.0637872425514897, 0.03579284143171366, 0.02299540091981604, 0.0009998000399920016, 0.003999200159968006, 0.0033993201359728054, 0.0057988402319536095, 0.0013997200559888023, 0.0003999200159968006, 0.003999200159968006, 0.0001999600079984003, 0.0001999600079984003, 0.0003999200159968006]\n"
     ]
    }
   ],
   "source": [
    "print(bottleneck_pvals)\n",
    "print(wasserstein_pvals)\n",
    "print(rank1_pvals)\n",
    "print(rank2_pvals)\n"
   ]
  },
  {
   "cell_type": "markdown",
   "metadata": {},
   "source": [
    "check if the same sample gives a reasonable p-value"
   ]
  },
  {
   "cell_type": "code",
   "execution_count": 20,
   "metadata": {},
   "outputs": [
    {
     "name": "stderr",
     "output_type": "stream",
     "text": [
      "/home/qw817/anaconda3/lib/python3.7/site-packages/persim/bottleneck.py:57: UserWarning: dgm1 has points with non-finite death times;ignoring those points\n",
      "  \"dgm1 has points with non-finite death times;\"+\n",
      "/home/qw817/anaconda3/lib/python3.7/site-packages/persim/bottleneck.py:67: UserWarning: dgm2 has points with non-finite death times;ignoring those points\n",
      "  \"dgm2 has points with non-finite death times;\"+\n"
     ]
    },
    {
     "data": {
      "image/png": "[encoded data removed]",
      "text/plain": [
       "<Figure size 432x288 with 1 Axes>"
      ]
     },
     "metadata": {
      "needs_background": "light"
     },
     "output_type": "display_data"
    }
   ],
   "source": [
    "circle_samples = [0 for j in range(100)]\n",
    "for j in range(100):\n",
    "    circle_samples[j] = sample_circle(2,100)\n",
    "\n",
    "\n",
    "# compute the PD\n",
    "circle_samples_PD = [0 for i in range(100)]\n",
    "\n",
    "for k in range(100):\n",
    "    circle_samples_PD[k] = ripser.ripser(circle_samples[k], maxdim=2)['dgms']\n",
    "\n",
    "bottleneck_pvals, var = PD_permutation_test(circle_samples_PD,circle_samples_PD, 5000, dist_type=\"bottleneck\", plot=\"two_circle_test.png\")\n"
   ]
  },
  {
   "cell_type": "code",
   "execution_count": 21,
   "metadata": {},
   "outputs": [
    {
     "name": "stdout",
     "output_type": "stream",
     "text": [
      "0.9998000399920016\n"
     ]
    }
   ],
   "source": [
    "print(bottleneck_pvals)"
   ]
  },
  {
   "cell_type": "markdown",
   "metadata": {},
   "source": [
    "check if the distances are correct from a smaller sample eg 5\n"
   ]
  },
  {
   "cell_type": "code",
   "execution_count": 29,
   "metadata": {},
   "outputs": [
    {
     "name": "stderr",
     "output_type": "stream",
     "text": [
      "/home/qw817/anaconda3/lib/python3.7/site-packages/persim/bottleneck.py:57: UserWarning: dgm1 has points with non-finite death times;ignoring those points\n",
      "  \"dgm1 has points with non-finite death times;\"+\n",
      "/home/qw817/anaconda3/lib/python3.7/site-packages/persim/bottleneck.py:67: UserWarning: dgm2 has points with non-finite death times;ignoring those points\n",
      "  \"dgm2 has points with non-finite death times;\"+\n"
     ]
    },
    {
     "name": "stdout",
     "output_type": "stream",
     "text": [
      "[[0.         0.15552318 0.1870808  0.10773176 0.08233792 0.29141557\n",
      "  0.2161296  0.22710231 0.18086272 0.22767669]\n",
      " [0.15552318 0.         0.34260398 0.26325494 0.14370626 0.13589239\n",
      "  0.37165278 0.19303721 0.33638591 0.38319987]\n",
      " [0.1870808  0.34260398 0.         0.07934904 0.19889772 0.47849637\n",
      "  0.0796451  0.14956677 0.0997752  0.07175189]\n",
      " [0.10773176 0.26325494 0.07934904 0.         0.11954868 0.39914733\n",
      "  0.10839784 0.132487   0.09074137 0.11994493]\n",
      " [0.08233792 0.14370626 0.19889772 0.11954868 0.         0.27959865\n",
      "  0.22794652 0.16154745 0.19267964 0.23949361]\n",
      " [0.29141557 0.13589239 0.47849637 0.39914733 0.27959865 0.\n",
      "  0.50754517 0.3289296  0.4722783  0.51909226]\n",
      " [0.2161296  0.37165278 0.0796451  0.10839784 0.22794652 0.50754517\n",
      "  0.         0.17861557 0.05393058 0.04108948]\n",
      " [0.22710231 0.19303721 0.14956677 0.132487   0.16154745 0.3289296\n",
      "  0.17861557 0.         0.1945084  0.19016266]\n",
      " [0.18086272 0.33638591 0.0997752  0.09074137 0.19267964 0.4722783\n",
      "  0.05393058 0.1945084  0.         0.05291066]\n",
      " [0.22767669 0.38319987 0.07175189 0.11994493 0.23949361 0.51909226\n",
      "  0.04108948 0.19016266 0.05291066 0.        ]]\n"
     ]
    }
   ],
   "source": [
    "circle_samples1 = [sample_circle(2,100) for j in range(5)]\n",
    "circle_samples2 = [sample_circle(2,100) for j in range(5)]\n",
    "circle_pds1 = [ripser.ripser(w, maxdim=2)['dgms'] for w in circle_samples1]\n",
    "circle_pds2 = [ripser.ripser(w, maxdim=2)['dgms'] for w in circle_samples2]\n",
    "\n",
    "all_samples = circle_pds1 + circle_pds2\n",
    "distances = np.zeros([10,10])\n",
    "for i in range(10):\n",
    "    for j in range(10):\n",
    "        dist = persim.bottleneck(np.vstack(all_samples[i]), np.vstack(all_samples[j]))\n",
    "        distances[i,j] = dist\n",
    "        distances[j,i] = dist\n",
    "print(distances)"
   ]
  },
  {
   "cell_type": "code",
   "execution_count": null,
   "metadata": {},
   "outputs": [],
   "source": []
  },
  {
   "cell_type": "code",
   "execution_count": 30,
   "metadata": {},
   "outputs": [
    {
     "data": {
      "text/plain": [
       "0.21095484793186187"
      ]
     },
     "execution_count": 30,
     "metadata": {},
     "output_type": "execute_result"
    }
   ],
   "source": [
    "dist_variance(distances, [0,1,2,3,4],[5,6,7,8,9])"
   ]
  },
  {
   "cell_type": "code",
   "execution_count": 31,
   "metadata": {},
   "outputs": [
    {
     "data": {
      "text/plain": [
       "0.21095484793186187"
      ]
     },
     "execution_count": 31,
     "metadata": {},
     "output_type": "execute_result"
    }
   ],
   "source": [
    "dist_variance(distances, [5,6,7,8,9],[0,1,2,3,4])"
   ]
  },
  {
   "cell_type": "code",
   "execution_count": 35,
   "metadata": {},
   "outputs": [
    {
     "data": {
      "text/plain": [
       "0.21032407581806184"
      ]
     },
     "execution_count": 35,
     "metadata": {},
     "output_type": "execute_result"
    }
   ],
   "source": [
    "dist_variance(distances, [5,2,7,0,4],[8,1,9,3,6])"
   ]
  },
  {
   "cell_type": "code",
   "execution_count": 34,
   "metadata": {},
   "outputs": [
    {
     "data": {
      "image/png": "[encoded data removed]",
      "text/plain": [
       "<Figure size 432x288 with 1 Axes>"
      ]
     },
     "metadata": {
      "needs_background": "light"
     },
     "output_type": "display_data"
    },
    {
     "data": {
      "text/plain": [
       "(0.9803921568627451,\n",
       " [0.03874729573726654,\n",
       "  0.027665930986404418,\n",
       "  0.036578568816185,\n",
       "  0.03567953407764435,\n",
       "  0.0362703800201416,\n",
       "  0.036578568816185,\n",
       "  0.025893393158912658,\n",
       "  0.056777185201644896,\n",
       "  0.04023783206939697,\n",
       "  0.025893393158912658,\n",
       "  0.04023783206939697,\n",
       "  0.039646986126899715,\n",
       "  0.027665930986404418,\n",
       "  0.03837729394435883,\n",
       "  0.03567953407764435,\n",
       "  0.0362703800201416,\n",
       "  0.023045819997787476,\n",
       "  0.05736803114414215,\n",
       "  0.032611116766929626,\n",
       "  0.036578568816185,\n",
       "  0.036578568816185,\n",
       "  0.056777185201644896,\n",
       "  0.04023783206939697,\n",
       "  0.023045819997787476,\n",
       "  0.032611116766929626,\n",
       "  0.032611116766929626,\n",
       "  0.055507493019104,\n",
       "  0.03837729394435883,\n",
       "  0.03567953407764435,\n",
       "  0.03567953407764435,\n",
       "  0.025893393158912658,\n",
       "  0.032611116766929626,\n",
       "  0.025893393158912658,\n",
       "  0.04023783206939697,\n",
       "  0.03874729573726654,\n",
       "  0.023045819997787476,\n",
       "  0.036578568816185,\n",
       "  0.036578568816185,\n",
       "  0.025893393158912658,\n",
       "  0.08400171399116516,\n",
       "  0.027665930986404418,\n",
       "  0.04360513687133789,\n",
       "  0.027665930986404418,\n",
       "  0.04360513687133789,\n",
       "  0.023045819997787476,\n",
       "  0.032611116766929626,\n",
       "  0.023045819997787476,\n",
       "  0.03567953407764435,\n",
       "  0.04360513687133789])"
      ]
     },
     "execution_count": 34,
     "metadata": {},
     "output_type": "execute_result"
    }
   ],
   "source": [
    "PD_permutation_test(circle_pds1, circle_pds2, 50, dist_type=\"bottleneck\", plot=\"trial_pd_shuffle.png\")\n"
   ]
  },
  {
   "cell_type": "code",
   "execution_count": 36,
   "metadata": {},
   "outputs": [
    {
     "name": "stdout",
     "output_type": "stream",
     "text": [
      "0.23099710196256637\n",
      "0.21088336259126664\n",
      "0.2186546728014946\n",
      "0.2295456901192665\n",
      "0.22407673597335814\n",
      "0.21598134189844131\n",
      "0.22150414884090425\n",
      "0.20010271668434143\n",
      "0.2001742020249367\n",
      "0.22226325869560243\n",
      "0.22121509313583373\n",
      "0.21450567245483398\n",
      "0.20850479900836943\n",
      "0.198668996989727\n",
      "0.20762133449316025\n",
      "0.1710845410823822\n",
      "0.22407673597335814\n",
      "0.2170543074607849\n",
      "0.21341591328382492\n",
      "0.2170543074607849\n",
      "0.22545104771852492\n",
      "0.22586649358272554\n",
      "0.2243119388818741\n",
      "0.2227115735411644\n",
      "0.20593558847904203\n",
      "0.2309971019625664\n",
      "0.20593558847904203\n",
      "0.2293196365237236\n",
      "0.21928544491529467\n",
      "0.20956196188926696\n",
      "0.19514717161655426\n",
      "0.1796472981572151\n",
      "0.18891519904136658\n",
      "0.22794532477855683\n",
      "0.22586649358272554\n",
      "0.2295456901192665\n",
      "0.21928544491529464\n",
      "0.2275439590215683\n",
      "0.2170543074607849\n",
      "0.20956196188926696\n",
      "0.19813958555459976\n",
      "0.2237422212958336\n",
      "0.21734650433063507\n",
      "0.13983133137226106\n",
      "0.2252863183617592\n",
      "0.22541968673467636\n",
      "0.22897597253322602\n",
      "0.21032407581806184\n",
      "0.20956196188926696\n"
     ]
    }
   ],
   "source": [
    "labels = [i for i in range(10)]\n",
    "n1=5\n",
    "N=50\n",
    "variances = []\n",
    "z = 1\n",
    "initial_variance = dist_variance(distances, [0,1,2,3,4],[5,6,7,8,9])\n",
    "for k in range(N-1):\n",
    "    random.shuffle(labels)\n",
    "    ind1 = labels[:n1]\n",
    "    ind2 = labels[n1:]\n",
    "    new_variance = dist_variance(distances, ind1, ind2)\n",
    "    print(new_variance)\n",
    "    variances.append(new_variance)\n",
    "    if new_variance <= initial_variance:\n",
    "            z += 1 "
   ]
  },
  {
   "cell_type": "code",
   "execution_count": 38,
   "metadata": {},
   "outputs": [
    {
     "name": "stdout",
     "output_type": "stream",
     "text": [
      "[0.23099710196256637, 0.21088336259126664, 0.2186546728014946, 0.2295456901192665, 0.22407673597335814, 0.21598134189844131, 0.22150414884090425, 0.20010271668434143, 0.2001742020249367, 0.22226325869560243, 0.22121509313583373, 0.21450567245483398, 0.20850479900836943, 0.198668996989727, 0.20762133449316025, 0.1710845410823822, 0.22407673597335814, 0.2170543074607849, 0.21341591328382492, 0.2170543074607849, 0.22545104771852492, 0.22586649358272554, 0.2243119388818741, 0.2227115735411644, 0.20593558847904203, 0.2309971019625664, 0.20593558847904203, 0.2293196365237236, 0.21928544491529467, 0.20956196188926696, 0.19514717161655426, 0.1796472981572151, 0.18891519904136658, 0.22794532477855683, 0.22586649358272554, 0.2295456901192665, 0.21928544491529464, 0.2275439590215683, 0.2170543074607849, 0.20956196188926696, 0.19813958555459976, 0.2237422212958336, 0.21734650433063507, 0.13983133137226106, 0.2252863183617592, 0.22541968673467636, 0.22897597253322602, 0.21032407581806184, 0.20956196188926696]\n"
     ]
    }
   ],
   "source": [
    "initial_variance\n",
    "print(variances)"
   ]
  },
  {
   "cell_type": "code",
   "execution_count": 39,
   "metadata": {},
   "outputs": [
    {
     "data": {
      "image/png": "[encoded data removed]",
      "text/plain": [
       "<Figure size 432x288 with 1 Axes>"
      ]
     },
     "metadata": {
      "needs_background": "light"
     },
     "output_type": "display_data"
    }
   ],
   "source": [
    "    # plot the distribution of the variances under permutation\n",
    "    result = plt.hist(variances, bins = 10,  color='c', edgecolor='k', alpha=0.65)\n",
    "    plt.axvline(initial_variance, color='k', linestyle='dashed', linewidth=1)\n",
    "    min_ylim, max_ylim = plt.ylim()\n",
    "    plt.text(initial_variance, max_ylim, 'Observed loss: {:.2f}'.format(initial_variance))\n",
    "    plt.show()"
   ]
  },
  {
   "cell_type": "code",
   "execution_count": 51,
   "metadata": {},
   "outputs": [],
   "source": [
    "def PD_permutation_test(sample1, sample2, N, dist_type=\"bottleneck\", plot=False):\n",
    "    # default distance type is bottleneck, but can have wasserstein dsitance as well\n",
    "    n1 = len(sample1)\n",
    "    n2 = len(sample2)\n",
    "    labels = [i for i in range(n1+n2)]\n",
    "    all_samples = sample1+sample2\n",
    "    # compute a distance matrix between the two sets\n",
    "    distances = np.zeros([n1+n2,n1+n2])\n",
    "    if dist_type == \"bottleneck\":\n",
    "        for i in range(n1+n2):\n",
    "            for j in range(i+1,n1+n2):\n",
    "                    dist = persim.bottleneck(np.vstack(all_samples[i]), np.vstack(all_samples[j]))\n",
    "                    distances[i,j] = dist\n",
    "                    distances[j,i] = dist\n",
    "    elif dist_type == \"wasserstein\":\n",
    "        for i in range(n1+n2):\n",
    "            for j in range(i+1,n1+n2):\n",
    "                dist = persim.wasserstein(np.vstack(all_samples[i]), np.vstack(all_samples[j]))\n",
    "                distances[i,j] = dist\n",
    "                distances[j,i] = dist\n",
    "    #print(distances)\n",
    "    \n",
    "    initial_variance = dist_variance(distances, [i for i in range(n1)], [i for i in range(n1,n1+n2)])\n",
    "    \n",
    "    variances = []\n",
    "    z = 1\n",
    "    # permute\n",
    "    for k in range(N-1):\n",
    "        random.shuffle(labels)\n",
    "        #print(labels)\n",
    "        ind1 = labels[:n1]\n",
    "        ind2 = labels[n1:]\n",
    "        \n",
    "        new_variance = dist_variance(distances, ind1, ind2)\n",
    "        #print(new_variance)\n",
    "        variances.append(new_variance)\n",
    "        \n",
    "        if new_variance <= initial_variance:\n",
    "            z += 1        \n",
    "     \n",
    "    # compute Z/N\n",
    "    p_val = z/(N+1)\n",
    "    \n",
    "    if plot!=False:\n",
    "        # plot the distribution of the variances under permutation\n",
    "        result = plt.hist(variances, bins = 10,  color='c', edgecolor='k', alpha=0.65)\n",
    "        plt.axvline(initial_variance, color='k', linestyle='dashed', linewidth=1)\n",
    "        min_ylim, max_ylim = plt.ylim()\n",
    "        plt.text(initial_variance, max_ylim, 'Observed loss: {:.2f}'.format(initial_variance))\n",
    "        plt.savefig(plot)\n",
    "        plt.show()\n",
    "    \n",
    "    return p_val, variances"
   ]
  },
  {
   "cell_type": "code",
   "execution_count": 52,
   "metadata": {},
   "outputs": [
    {
     "data": {
      "image/png": "[encoded data removed]",
      "text/plain": [
       "<Figure size 432x288 with 1 Axes>"
      ]
     },
     "metadata": {
      "needs_background": "light"
     },
     "output_type": "display_data"
    },
    {
     "data": {
      "text/plain": [
       "(0.35294117647058826,\n",
       " [0.19813958555459976,\n",
       "  0.21928544491529464,\n",
       "  0.2170543074607849,\n",
       "  0.2092182978987694,\n",
       "  0.2271285131573677,\n",
       "  0.21032944768667222,\n",
       "  0.2218478128314018,\n",
       "  0.22586649358272554,\n",
       "  0.2249426543712616,\n",
       "  0.21032944768667222,\n",
       "  0.21148261278867722,\n",
       "  0.22239098995923995,\n",
       "  0.22150414884090425,\n",
       "  0.2249426543712616,\n",
       "  0.2108833625912666,\n",
       "  0.1901000201702118,\n",
       "  0.22545104771852492,\n",
       "  0.2240858852863312,\n",
       "  0.22570176422595978,\n",
       "  0.13983133137226106,\n",
       "  0.20865198224782944,\n",
       "  0.21450567245483398,\n",
       "  0.1710845410823822,\n",
       "  0.22150414884090425,\n",
       "  0.23141254782676696,\n",
       "  0.20941109210252762,\n",
       "  0.22570176422595978,\n",
       "  0.20010271668434143,\n",
       "  0.21148261278867722,\n",
       "  0.22121509313583373,\n",
       "  0.2218478128314018,\n",
       "  0.21598134189844131,\n",
       "  0.21768507957458497,\n",
       "  0.20956196188926696,\n",
       "  0.1901000201702118,\n",
       "  0.22567710131406782,\n",
       "  0.2240858852863312,\n",
       "  0.22586649358272554,\n",
       "  0.21088336259126664,\n",
       "  0.22586649358272554,\n",
       "  0.23065343797206878,\n",
       "  0.2141620084643364,\n",
       "  0.2237422212958336,\n",
       "  0.20922169983386996,\n",
       "  0.20865198224782944,\n",
       "  0.2267848491668701,\n",
       "  0.22897597253322602,\n",
       "  0.21106716692447663,\n",
       "  0.18891519904136658])"
      ]
     },
     "execution_count": 52,
     "metadata": {},
     "output_type": "execute_result"
    }
   ],
   "source": [
    "PD_permutation_test(circle_pds1, circle_pds2, 50, dist_type=\"bottleneck\", plot=\"trial_pd_shuffle.png\")\n"
   ]
  },
  {
   "cell_type": "markdown",
   "metadata": {},
   "source": [
    "### recompute the biparameter rank functions\n"
   ]
  },
  {
   "cell_type": "code",
   "execution_count": 10,
   "metadata": {},
   "outputs": [
    {
     "name": "stdout",
     "output_type": "stream",
     "text": [
      "[0, [0.5724855028994201, 0, 0, 0, 0, 0, 0, 0, 0, 0, 0, 0, 0, 0, 0, 0, 0, 0, 0, 0, 0, 0, 0, 0, 0, 0]]\n",
      "[1, [0.5724855028994201, 0.356128774245151, 0, 0, 0, 0, 0, 0, 0, 0, 0, 0, 0, 0, 0, 0, 0, 0, 0, 0, 0, 0, 0, 0, 0, 0]]\n",
      "[2, [0.5724855028994201, 0.356128774245151, 0.5118976204759048, 0, 0, 0, 0, 0, 0, 0, 0, 0, 0, 0, 0, 0, 0, 0, 0, 0, 0, 0, 0, 0, 0, 0]]\n",
      "[3, [0.5724855028994201, 0.356128774245151, 0.5118976204759048, 0.09978004399120176, 0, 0, 0, 0, 0, 0, 0, 0, 0, 0, 0, 0, 0, 0, 0, 0, 0, 0, 0, 0, 0, 0]]\n",
      "[4, [0.5724855028994201, 0.356128774245151, 0.5118976204759048, 0.09978004399120176, 0.028994201159768047, 0, 0, 0, 0, 0, 0, 0, 0, 0, 0, 0, 0, 0, 0, 0, 0, 0, 0, 0, 0, 0]]\n",
      "[5, [0.5724855028994201, 0.356128774245151, 0.5118976204759048, 0.09978004399120176, 0.028994201159768047, 0.0649870025994801, 0, 0, 0, 0, 0, 0, 0, 0, 0, 0, 0, 0, 0, 0, 0, 0, 0, 0, 0, 0]]\n",
      "[6, [0.5724855028994201, 0.356128774245151, 0.5118976204759048, 0.09978004399120176, 0.028994201159768047, 0.0649870025994801, 0.05798840231953609, 0, 0, 0, 0, 0, 0, 0, 0, 0, 0, 0, 0, 0, 0, 0, 0, 0, 0, 0]]\n",
      "[7, [0.5724855028994201, 0.356128774245151, 0.5118976204759048, 0.09978004399120176, 0.028994201159768047, 0.0649870025994801, 0.05798840231953609, 0.1889622075584883, 0, 0, 0, 0, 0, 0, 0, 0, 0, 0, 0, 0, 0, 0, 0, 0, 0, 0]]\n",
      "[8, [0.5724855028994201, 0.356128774245151, 0.5118976204759048, 0.09978004399120176, 0.028994201159768047, 0.0649870025994801, 0.05798840231953609, 0.1889622075584883, 0.17556488702259548, 0, 0, 0, 0, 0, 0, 0, 0, 0, 0, 0, 0, 0, 0, 0, 0, 0]]\n",
      "[9, [0.5724855028994201, 0.356128774245151, 0.5118976204759048, 0.09978004399120176, 0.028994201159768047, 0.0649870025994801, 0.05798840231953609, 0.1889622075584883, 0.17556488702259548, 0.236752649470106, 0, 0, 0, 0, 0, 0, 0, 0, 0, 0, 0, 0, 0, 0, 0, 0]]\n",
      "[10, [0.5724855028994201, 0.356128774245151, 0.5118976204759048, 0.09978004399120176, 0.028994201159768047, 0.0649870025994801, 0.05798840231953609, 0.1889622075584883, 0.17556488702259548, 0.236752649470106, 0.049590081983603276, 0, 0, 0, 0, 0, 0, 0, 0, 0, 0, 0, 0, 0, 0, 0]]\n",
      "[11, [0.5724855028994201, 0.356128774245151, 0.5118976204759048, 0.09978004399120176, 0.028994201159768047, 0.0649870025994801, 0.05798840231953609, 0.1889622075584883, 0.17556488702259548, 0.236752649470106, 0.049590081983603276, 0.10397920415916817, 0, 0, 0, 0, 0, 0, 0, 0, 0, 0, 0, 0, 0, 0]]\n",
      "[12, [0.5724855028994201, 0.356128774245151, 0.5118976204759048, 0.09978004399120176, 0.028994201159768047, 0.0649870025994801, 0.05798840231953609, 0.1889622075584883, 0.17556488702259548, 0.236752649470106, 0.049590081983603276, 0.10397920415916817, 0.04499100179964007, 0, 0, 0, 0, 0, 0, 0, 0, 0, 0, 0, 0, 0]]\n",
      "[13, [0.5724855028994201, 0.356128774245151, 0.5118976204759048, 0.09978004399120176, 0.028994201159768047, 0.0649870025994801, 0.05798840231953609, 0.1889622075584883, 0.17556488702259548, 0.236752649470106, 0.049590081983603276, 0.10397920415916817, 0.04499100179964007, 0.004999000199960008, 0, 0, 0, 0, 0, 0, 0, 0, 0, 0, 0, 0]]\n",
      "[14, [0.5724855028994201, 0.356128774245151, 0.5118976204759048, 0.09978004399120176, 0.028994201159768047, 0.0649870025994801, 0.05798840231953609, 0.1889622075584883, 0.17556488702259548, 0.236752649470106, 0.049590081983603276, 0.10397920415916817, 0.04499100179964007, 0.004999000199960008, 0.012397520495900819, 0, 0, 0, 0, 0, 0, 0, 0, 0, 0, 0]]\n",
      "[15, [0.5724855028994201, 0.356128774245151, 0.5118976204759048, 0.09978004399120176, 0.028994201159768047, 0.0649870025994801, 0.05798840231953609, 0.1889622075584883, 0.17556488702259548, 0.236752649470106, 0.049590081983603276, 0.10397920415916817, 0.04499100179964007, 0.004999000199960008, 0.012397520495900819, 0.009198160367926415, 0, 0, 0, 0, 0, 0, 0, 0, 0, 0]]\n",
      "[16, [0.5724855028994201, 0.356128774245151, 0.5118976204759048, 0.09978004399120176, 0.028994201159768047, 0.0649870025994801, 0.05798840231953609, 0.1889622075584883, 0.17556488702259548, 0.236752649470106, 0.049590081983603276, 0.10397920415916817, 0.04499100179964007, 0.004999000199960008, 0.012397520495900819, 0.009198160367926415, 0.0023995200959808036, 0, 0, 0, 0, 0, 0, 0, 0, 0]]\n",
      "[17, [0.5724855028994201, 0.356128774245151, 0.5118976204759048, 0.09978004399120176, 0.028994201159768047, 0.0649870025994801, 0.05798840231953609, 0.1889622075584883, 0.17556488702259548, 0.236752649470106, 0.049590081983603276, 0.10397920415916817, 0.04499100179964007, 0.004999000199960008, 0.012397520495900819, 0.009198160367926415, 0.0023995200959808036, 0.005598880223955209, 0, 0, 0, 0, 0, 0, 0, 0]]\n",
      "[18, [0.5724855028994201, 0.356128774245151, 0.5118976204759048, 0.09978004399120176, 0.028994201159768047, 0.0649870025994801, 0.05798840231953609, 0.1889622075584883, 0.17556488702259548, 0.236752649470106, 0.049590081983603276, 0.10397920415916817, 0.04499100179964007, 0.004999000199960008, 0.012397520495900819, 0.009198160367926415, 0.0023995200959808036, 0.005598880223955209, 0.0003999200159968006, 0, 0, 0, 0, 0, 0, 0]]\n",
      "[19, [0.5724855028994201, 0.356128774245151, 0.5118976204759048, 0.09978004399120176, 0.028994201159768047, 0.0649870025994801, 0.05798840231953609, 0.1889622075584883, 0.17556488702259548, 0.236752649470106, 0.049590081983603276, 0.10397920415916817, 0.04499100179964007, 0.004999000199960008, 0.012397520495900819, 0.009198160367926415, 0.0023995200959808036, 0.005598880223955209, 0.0003999200159968006, 0.008398320335932814, 0, 0, 0, 0, 0, 0]]\n",
      "[20, [0.5724855028994201, 0.356128774245151, 0.5118976204759048, 0.09978004399120176, 0.028994201159768047, 0.0649870025994801, 0.05798840231953609, 0.1889622075584883, 0.17556488702259548, 0.236752649470106, 0.049590081983603276, 0.10397920415916817, 0.04499100179964007, 0.004999000199960008, 0.012397520495900819, 0.009198160367926415, 0.0023995200959808036, 0.005598880223955209, 0.0003999200159968006, 0.008398320335932814, 0.0001999600079984003, 0, 0, 0, 0, 0]]\n",
      "[21, [0.5724855028994201, 0.356128774245151, 0.5118976204759048, 0.09978004399120176, 0.028994201159768047, 0.0649870025994801, 0.05798840231953609, 0.1889622075584883, 0.17556488702259548, 0.236752649470106, 0.049590081983603276, 0.10397920415916817, 0.04499100179964007, 0.004999000199960008, 0.012397520495900819, 0.009198160367926415, 0.0023995200959808036, 0.005598880223955209, 0.0003999200159968006, 0.008398320335932814, 0.0001999600079984003, 0.0001999600079984003, 0, 0, 0, 0]]\n",
      "[22, [0.5724855028994201, 0.356128774245151, 0.5118976204759048, 0.09978004399120176, 0.028994201159768047, 0.0649870025994801, 0.05798840231953609, 0.1889622075584883, 0.17556488702259548, 0.236752649470106, 0.049590081983603276, 0.10397920415916817, 0.04499100179964007, 0.004999000199960008, 0.012397520495900819, 0.009198160367926415, 0.0023995200959808036, 0.005598880223955209, 0.0003999200159968006, 0.008398320335932814, 0.0001999600079984003, 0.0001999600079984003, 0.0005998800239952009, 0, 0, 0]]\n",
      "[23, [0.5724855028994201, 0.356128774245151, 0.5118976204759048, 0.09978004399120176, 0.028994201159768047, 0.0649870025994801, 0.05798840231953609, 0.1889622075584883, 0.17556488702259548, 0.236752649470106, 0.049590081983603276, 0.10397920415916817, 0.04499100179964007, 0.004999000199960008, 0.012397520495900819, 0.009198160367926415, 0.0023995200959808036, 0.005598880223955209, 0.0003999200159968006, 0.008398320335932814, 0.0001999600079984003, 0.0001999600079984003, 0.0005998800239952009, 0.0001999600079984003, 0, 0]]\n",
      "[24, [0.5724855028994201, 0.356128774245151, 0.5118976204759048, 0.09978004399120176, 0.028994201159768047, 0.0649870025994801, 0.05798840231953609, 0.1889622075584883, 0.17556488702259548, 0.236752649470106, 0.049590081983603276, 0.10397920415916817, 0.04499100179964007, 0.004999000199960008, 0.012397520495900819, 0.009198160367926415, 0.0023995200959808036, 0.005598880223955209, 0.0003999200159968006, 0.008398320335932814, 0.0001999600079984003, 0.0001999600079984003, 0.0005998800239952009, 0.0001999600079984003, 0.0001999600079984003, 0]]\n",
      "[25, [0.5724855028994201, 0.356128774245151, 0.5118976204759048, 0.09978004399120176, 0.028994201159768047, 0.0649870025994801, 0.05798840231953609, 0.1889622075584883, 0.17556488702259548, 0.236752649470106, 0.049590081983603276, 0.10397920415916817, 0.04499100179964007, 0.004999000199960008, 0.012397520495900819, 0.009198160367926415, 0.0023995200959808036, 0.005598880223955209, 0.0003999200159968006, 0.008398320335932814, 0.0001999600079984003, 0.0001999600079984003, 0.0005998800239952009, 0.0001999600079984003, 0.0001999600079984003, 0.0011997600479904018]]\n"
     ]
    }
   ],
   "source": [
    "rank2_pvals = [0 for i in range(26)]\n",
    "for i in range(26):\n",
    "    # for each i sample 100 each from circle and noisy circle with different variance\n",
    "    circle_samples = [0 for j in range(100)]\n",
    "    for j in range(100):\n",
    "        circle_samples[j] = sample_circle(2,100)\n",
    "        \n",
    "    noisy_circle_samples = [0 for j in range(100)]\n",
    "    for j in range(100):\n",
    "        noisy_circle_samples[j] = sample_noisy_circle(2,100, noises[i])\n",
    "        \n",
    "    \n",
    "    # compute 2 parameter rank functions\n",
    "    circle_samples_ranks = [0 for p in range(100)]\n",
    "    noisy_circle_samples_ranks = [0 for p in range(100)]\n",
    "    \n",
    "    for p in range(100):\n",
    "        current = Compute_Rivet(circle_samples[p], resolution=50, dim=0, RipsMax=5)\n",
    "        circle_samples_ranks[p] = rank_function2d(current, grid_size=20, fixed_bounds=None, use_weights=False, normalize=False, minimum_rank=0)\n",
    "    \n",
    "        current = Compute_Rivet(noisy_circle_samples[p], resolution=50, dim=0, RipsMax=5)\n",
    "        noisy_circle_samples_ranks[p] = rank_function2d(current, grid_size=20, fixed_bounds=None, use_weights=False, normalize=False, minimum_rank=0)\n",
    "        \n",
    "    rank2_pvals[i], dr = Permutation_test(circle_samples_ranks, noisy_circle_samples_ranks, 5000, plot=False)\n",
    "    \n",
    "    print([i,rank2_pvals])\n",
    "    \n",
    "    "
   ]
  },
  {
   "cell_type": "code",
   "execution_count": 11,
   "metadata": {},
   "outputs": [
    {
     "data": {
      "text/plain": [
       "[<matplotlib.lines.Line2D at 0x7f1fc45857d0>]"
      ]
     },
     "execution_count": 11,
     "metadata": {},
     "output_type": "execute_result"
    },
    {
     "data": {
      "image/png": "[encoded data removed]",
      "text/plain": [
       "<Figure size 432x288 with 1 Axes>"
      ]
     },
     "metadata": {
      "needs_background": "light"
     },
     "output_type": "display_data"
    }
   ],
   "source": [
    "plt.plot(noises, rank2_pvals)"
   ]
  },
  {
   "cell_type": "code",
   "execution_count": 12,
   "metadata": {},
   "outputs": [
    {
     "name": "stdout",
     "output_type": "stream",
     "text": [
      "[0.5724855028994201, 0.356128774245151, 0.5118976204759048, 0.09978004399120176, 0.028994201159768047, 0.0649870025994801, 0.05798840231953609, 0.1889622075584883, 0.17556488702259548, 0.236752649470106, 0.049590081983603276, 0.10397920415916817, 0.04499100179964007, 0.004999000199960008, 0.012397520495900819, 0.009198160367926415, 0.0023995200959808036, 0.005598880223955209, 0.0003999200159968006, 0.008398320335932814, 0.0001999600079984003, 0.0001999600079984003, 0.0005998800239952009, 0.0001999600079984003, 0.0001999600079984003, 0.0011997600479904018]\n"
     ]
    }
   ],
   "source": [
    "print(rank2_pvals)"
   ]
  },
  {
   "cell_type": "code",
   "execution_count": null,
   "metadata": {},
   "outputs": [],
   "source": []
  },
  {
   "cell_type": "code",
   "execution_count": null,
   "metadata": {},
   "outputs": [],
   "source": []
  },
  {
   "cell_type": "markdown",
   "metadata": {},
   "source": [
    "## Another biparameter rank function"
   ]
  },
  {
   "cell_type": "code",
   "execution_count": 10,
   "metadata": {},
   "outputs": [
    {
     "name": "stdout",
     "output_type": "stream",
     "text": [
      "[0, 0.31073785242951407]\n",
      "[1, 0.35032993401319734]\n",
      "[2, 0.16116776644671066]\n",
      "[3, 0.0597880423915217]\n",
      "[4, 0.5518896220755849]\n",
      "[5, 0.2663467306538692]\n",
      "[6, 0.11437712457508498]\n",
      "[7, 0.13917216556688664]\n",
      "[8, 0.04459108178364327]\n",
      "[9, 0.05638872225554889]\n",
      "[10, 0.0013997200559888023]\n",
      "[11, 0.005398920215956809]\n",
      "[12, 0.023595280943811237]\n",
      "[13, 0.07938412317536493]\n",
      "[14, 0.0003999200159968006]\n",
      "[15, 0.027994401119776045]\n",
      "[16, 0.02519496100779844]\n",
      "[17, 0.0005998800239952009]\n",
      "[18, 0.009998000399920015]\n",
      "[19, 0.0023995200959808036]\n",
      "[20, 0.0001999600079984003]\n",
      "[21, 0.0021995600879824036]\n",
      "[22, 0.001999600079984003]\n",
      "[23, 0.0001999600079984003]\n",
      "[24, 0.0005998800239952009]\n",
      "[25, 0.0001999600079984003]\n"
     ]
    }
   ],
   "source": [
    "noises = np.linspace(0,0.25, 26)\n",
    "rank2_pvals = [0 for i in range(26)]\n",
    "for i in range(26):\n",
    "    # for each i sample 100 each from circle and noisy circle with different variance\n",
    "    circle_samples = [0 for j in range(100)]\n",
    "    for j in range(100):\n",
    "        circle_samples[j] = sample_circle(2,100)\n",
    "        \n",
    "    noisy_circle_samples = [0 for j in range(100)]\n",
    "    for j in range(100):\n",
    "        noisy_circle_samples[j] = sample_noisy_circle(2,100, noises[i])\n",
    "        \n",
    "    \n",
    "    # compute 2 parameter rank functions\n",
    "    circle_samples_ranks = [0 for p in range(100)]\n",
    "    noisy_circle_samples_ranks = [0 for p in range(100)]\n",
    "    \n",
    "    for p in range(100):\n",
    "        current = Compute_Rivet(circle_samples[p], resolution=50, dim=0, RipsMax=5)\n",
    "        circle_samples_ranks[p] = rank_function2d(current, grid_size=20, fixed_bounds=None, use_weights=False, normalize=False, minimum_rank=0)\n",
    "    \n",
    "        current = Compute_Rivet(noisy_circle_samples[p], resolution=50, dim=0, RipsMax=5)\n",
    "        noisy_circle_samples_ranks[p] = rank_function2d(current, grid_size=20, fixed_bounds=None, use_weights=False, normalize=False, minimum_rank=0)\n",
    "        \n",
    "    rank2_pvals[i], dr = Permutation_test(circle_samples_ranks, noisy_circle_samples_ranks, 5000, plot=False)\n",
    "    \n",
    "    print([i,rank2_pvals[i]])\n",
    "    \n",
    "    "
   ]
  },
  {
   "cell_type": "code",
   "execution_count": 11,
   "metadata": {},
   "outputs": [
    {
     "name": "stdout",
     "output_type": "stream",
     "text": [
      "[0.31073785242951407, 0.35032993401319734, 0.16116776644671066, 0.0597880423915217, 0.5518896220755849, 0.2663467306538692, 0.11437712457508498, 0.13917216556688664, 0.04459108178364327, 0.05638872225554889, 0.0013997200559888023, 0.005398920215956809, 0.023595280943811237, 0.07938412317536493, 0.0003999200159968006, 0.027994401119776045, 0.02519496100779844, 0.0005998800239952009, 0.009998000399920015, 0.0023995200959808036, 0.0001999600079984003, 0.0021995600879824036, 0.001999600079984003, 0.0001999600079984003, 0.0005998800239952009, 0.0001999600079984003]\n"
     ]
    }
   ],
   "source": [
    "print(rank2_pvals)"
   ]
  },
  {
   "cell_type": "code",
   "execution_count": null,
   "metadata": {},
   "outputs": [],
   "source": []
  },
  {
   "cell_type": "markdown",
   "metadata": {},
   "source": [
    "copy from here"
   ]
  },
  {
   "cell_type": "code",
   "execution_count": 12,
   "metadata": {},
   "outputs": [
    {
     "name": "stdout",
     "output_type": "stream",
     "text": [
      "[0, 0.21215756848630274]\n",
      "[1, 0.7812437512497501]\n",
      "[2, 0.1861627674465107]\n",
      "[3, 0.20655868826234752]\n",
      "[4, 0.2463507298540292]\n",
      "[5, 0.6740651869626075]\n",
      "[6, 0.18156368726254749]\n",
      "[7, 0.2855428914217157]\n",
      "[8, 0.1259748050389922]\n",
      "[9, 0.0623875224955009]\n",
      "[10, 0.016596680663867228]\n",
      "[11, 0.01759648070385923]\n",
      "[12, 0.07278544291141771]\n",
      "[13, 0.021995600879824034]\n",
      "[14, 0.009598080383923215]\n",
      "[15, 0.006998600279944011]\n",
      "[16, 0.0003999200159968006]\n",
      "[17, 0.0061987602479504095]\n",
      "[18, 0.0009998000399920016]\n",
      "[19, 0.001799640071985603]\n",
      "[20, 0.0001999600079984003]\n",
      "[21, 0.0021995600879824036]\n",
      "[22, 0.0005998800239952009]\n",
      "[23, 0.0003999200159968006]\n",
      "[24, 0.0013997200559888023]\n",
      "[25, 0.0001999600079984003]\n"
     ]
    }
   ],
   "source": [
    "noises = np.linspace(0,0.25, 26)\n",
    "rank2_pvals = [0 for i in range(26)]\n",
    "for i in range(26):\n",
    "    # for each i sample 100 each from circle and noisy circle with different variance\n",
    "    circle_samples = [0 for j in range(100)]\n",
    "    for j in range(100):\n",
    "        circle_samples[j] = sample_circle(2,100)\n",
    "        \n",
    "    noisy_circle_samples = [0 for j in range(100)]\n",
    "    for j in range(100):\n",
    "        noisy_circle_samples[j] = sample_noisy_circle(2,100, noises[i])\n",
    "        \n",
    "    \n",
    "    # compute 2 parameter rank functions\n",
    "    circle_samples_ranks = [0 for p in range(100)]\n",
    "    noisy_circle_samples_ranks = [0 for p in range(100)]\n",
    "    \n",
    "    for p in range(100):\n",
    "        current = Compute_Rivet(circle_samples[p], resolution=50, dim=0, RipsMax=5)\n",
    "        circle_samples_ranks[p] = rank_function2d(current, grid_size=20, fixed_bounds=None, use_weights=False, normalize=False, minimum_rank=0)\n",
    "    \n",
    "        current = Compute_Rivet(noisy_circle_samples[p], resolution=50, dim=0, RipsMax=5)\n",
    "        noisy_circle_samples_ranks[p] = rank_function2d(current, grid_size=20, fixed_bounds=None, use_weights=False, normalize=False, minimum_rank=0)\n",
    "        \n",
    "    rank2_pvals[i], dr = Permutation_test(circle_samples_ranks, noisy_circle_samples_ranks, 5000, plot=False)\n",
    "    \n",
    "    print([i,rank2_pvals[i]])\n",
    "    \n",
    "    "
   ]
  },
  {
   "cell_type": "code",
   "execution_count": 13,
   "metadata": {},
   "outputs": [
    {
     "name": "stdout",
     "output_type": "stream",
     "text": [
      "[0.21215756848630274, 0.7812437512497501, 0.1861627674465107, 0.20655868826234752, 0.2463507298540292, 0.6740651869626075, 0.18156368726254749, 0.2855428914217157, 0.1259748050389922, 0.0623875224955009, 0.016596680663867228, 0.01759648070385923, 0.07278544291141771, 0.021995600879824034, 0.009598080383923215, 0.006998600279944011, 0.0003999200159968006, 0.0061987602479504095, 0.0009998000399920016, 0.001799640071985603, 0.0001999600079984003, 0.0021995600879824036, 0.0005998800239952009, 0.0003999200159968006, 0.0013997200559888023, 0.0001999600079984003]\n"
     ]
    }
   ],
   "source": [
    "print(rank2_pvals)"
   ]
  },
  {
   "cell_type": "code",
   "execution_count": null,
   "metadata": {},
   "outputs": [],
   "source": []
  },
  {
   "cell_type": "code",
   "execution_count": 14,
   "metadata": {},
   "outputs": [
    {
     "name": "stdout",
     "output_type": "stream",
     "text": [
      "[0, 0.3635272945410918]\n",
      "[1, 0.6038792241551689]\n",
      "[2, 0.09118176364727054]\n",
      "[3, 0.20675864827034593]\n",
      "[4, 0.484503099380124]\n",
      "[5, 0.4375124975004999]\n",
      "[6, 0.0007998400319936012]\n",
      "[7, 0.13897220555888823]\n",
      "[8, 0.09038192361527694]\n",
      "[9, 0.027394521095780843]\n",
      "[10, 0.05318936212757448]\n",
      "[11, 0.007398520295940812]\n",
      "[12, 0.0027994401119776045]\n",
      "[13, 0.008398320335932814]\n",
      "[14, 0.014597080583883223]\n",
      "[15, 0.002999400119976005]\n",
      "[16, 0.001999600079984003]\n",
      "[17, 0.05298940211957608]\n",
      "[18, 0.005598880223955209]\n",
      "[19, 0.0003999200159968006]\n",
      "[20, 0.0001999600079984003]\n",
      "[21, 0.0001999600079984003]\n",
      "[22, 0.0001999600079984003]\n",
      "[23, 0.0015996800639872025]\n",
      "[24, 0.0015996800639872025]\n",
      "[25, 0.0001999600079984003]\n"
     ]
    }
   ],
   "source": [
    "noises = np.linspace(0,0.25, 26)\n",
    "rank2_pvals = [0 for i in range(26)]\n",
    "for i in range(26):\n",
    "    # for each i sample 100 each from circle and noisy circle with different variance\n",
    "    circle_samples = [0 for j in range(100)]\n",
    "    for j in range(100):\n",
    "        circle_samples[j] = sample_circle(2,100)\n",
    "        \n",
    "    noisy_circle_samples = [0 for j in range(100)]\n",
    "    for j in range(100):\n",
    "        noisy_circle_samples[j] = sample_noisy_circle(2,100, noises[i])\n",
    "        \n",
    "    \n",
    "    # compute 2 parameter rank functions\n",
    "    circle_samples_ranks = [0 for p in range(100)]\n",
    "    noisy_circle_samples_ranks = [0 for p in range(100)]\n",
    "    \n",
    "    for p in range(100):\n",
    "        current = Compute_Rivet(circle_samples[p], resolution=50, dim=0, RipsMax=5)\n",
    "        circle_samples_ranks[p] = rank_function2d(current, grid_size=20, fixed_bounds=None, use_weights=False, normalize=False, minimum_rank=0)\n",
    "    \n",
    "        current = Compute_Rivet(noisy_circle_samples[p], resolution=50, dim=0, RipsMax=5)\n",
    "        noisy_circle_samples_ranks[p] = rank_function2d(current, grid_size=20, fixed_bounds=None, use_weights=False, normalize=False, minimum_rank=0)\n",
    "        \n",
    "    rank2_pvals[i], dr = Permutation_test(circle_samples_ranks, noisy_circle_samples_ranks, 5000, plot=False)\n",
    "    \n",
    "    print([i,rank2_pvals[i]])\n",
    "    \n",
    "    "
   ]
  },
  {
   "cell_type": "code",
   "execution_count": 15,
   "metadata": {},
   "outputs": [
    {
     "name": "stdout",
     "output_type": "stream",
     "text": [
      "[0.3635272945410918, 0.6038792241551689, 0.09118176364727054, 0.20675864827034593, 0.484503099380124, 0.4375124975004999, 0.0007998400319936012, 0.13897220555888823, 0.09038192361527694, 0.027394521095780843, 0.05318936212757448, 0.007398520295940812, 0.0027994401119776045, 0.008398320335932814, 0.014597080583883223, 0.002999400119976005, 0.001999600079984003, 0.05298940211957608, 0.005598880223955209, 0.0003999200159968006, 0.0001999600079984003, 0.0001999600079984003, 0.0001999600079984003, 0.0015996800639872025, 0.0015996800639872025, 0.0001999600079984003]\n"
     ]
    }
   ],
   "source": [
    "print(rank2_pvals)"
   ]
  },
  {
   "cell_type": "code",
   "execution_count": null,
   "metadata": {},
   "outputs": [],
   "source": []
  },
  {
   "cell_type": "code",
   "execution_count": 16,
   "metadata": {},
   "outputs": [
    {
     "name": "stdout",
     "output_type": "stream",
     "text": [
      "[0, 0.1803639272145571]\n",
      "[1, 0.3061387722455509]\n",
      "[2, 0.5566886622675465]\n",
      "[3, 0.7440511897620475]\n",
      "[4, 0.12917416516696661]\n",
      "[5, 0.21155768846230755]\n",
      "[6, 0.14197160567886422]\n",
      "[7, 0.1307738452309538]\n",
      "[8, 0.015396920615876825]\n",
      "[9, 0.04099180163967207]\n",
      "[10, 0.0621875624875025]\n",
      "[11, 0.1959608078384323]\n",
      "[12, 0.03099380123975205]\n",
      "[13, 0.01259748050389922]\n",
      "[14, 0.03199360127974405]\n",
      "[15, 0.012397520495900819]\n",
      "[16, 0.002599480103979204]\n",
      "[17, 0.0001999600079984003]\n",
      "[18, 0.007198560287942412]\n",
      "[19, 0.0001999600079984003]\n",
      "[20, 0.0003999200159968006]\n",
      "[21, 0.0005998800239952009]\n",
      "[22, 0.0001999600079984003]\n",
      "[23, 0.0001999600079984003]\n",
      "[24, 0.0001999600079984003]\n",
      "[25, 0.0001999600079984003]\n"
     ]
    }
   ],
   "source": [
    "rank2_pvals = [0 for i in range(26)]\n",
    "for i in range(26):\n",
    "    # for each i sample 100 each from circle and noisy circle with different variance\n",
    "    circle_samples = [0 for j in range(100)]\n",
    "    for j in range(100):\n",
    "        circle_samples[j] = sample_circle(2,100)\n",
    "        \n",
    "    noisy_circle_samples = [0 for j in range(100)]\n",
    "    for j in range(100):\n",
    "        noisy_circle_samples[j] = sample_noisy_circle(2,100, noises[i])\n",
    "        \n",
    "    \n",
    "    # compute 2 parameter rank functions\n",
    "    circle_samples_ranks = [0 for p in range(100)]\n",
    "    noisy_circle_samples_ranks = [0 for p in range(100)]\n",
    "    \n",
    "    for p in range(100):\n",
    "        current = Compute_Rivet(circle_samples[p], resolution=50, dim=0, RipsMax=5)\n",
    "        circle_samples_ranks[p] = rank_function2d(current, grid_size=20, fixed_bounds=None, use_weights=False, normalize=False, minimum_rank=0)\n",
    "    \n",
    "        current = Compute_Rivet(noisy_circle_samples[p], resolution=50, dim=0, RipsMax=5)\n",
    "        noisy_circle_samples_ranks[p] = rank_function2d(current, grid_size=20, fixed_bounds=None, use_weights=False, normalize=False, minimum_rank=0)\n",
    "        \n",
    "    rank2_pvals[i], dr = Permutation_test(circle_samples_ranks, noisy_circle_samples_ranks, 5000, plot=False)\n",
    "    \n",
    "    print([i,rank2_pvals[i]])\n",
    "    \n",
    "    "
   ]
  },
  {
   "cell_type": "code",
   "execution_count": 17,
   "metadata": {},
   "outputs": [
    {
     "name": "stdout",
     "output_type": "stream",
     "text": [
      "[0.1803639272145571, 0.3061387722455509, 0.5566886622675465, 0.7440511897620475, 0.12917416516696661, 0.21155768846230755, 0.14197160567886422, 0.1307738452309538, 0.015396920615876825, 0.04099180163967207, 0.0621875624875025, 0.1959608078384323, 0.03099380123975205, 0.01259748050389922, 0.03199360127974405, 0.012397520495900819, 0.002599480103979204, 0.0001999600079984003, 0.007198560287942412, 0.0001999600079984003, 0.0003999200159968006, 0.0005998800239952009, 0.0001999600079984003, 0.0001999600079984003, 0.0001999600079984003, 0.0001999600079984003]\n"
     ]
    }
   ],
   "source": [
    "print(rank2_pvals)"
   ]
  },
  {
   "cell_type": "code",
   "execution_count": null,
   "metadata": {},
   "outputs": [],
   "source": []
  },
  {
   "cell_type": "code",
   "execution_count": null,
   "metadata": {},
   "outputs": [],
   "source": []
  }
 ],
 "metadata": {
  "kernelspec": {
   "display_name": "Python 3",
   "language": "python",
   "name": "python3"
  },
  "language_info": {
   "codemirror_mode": {
    "name": "ipython",
    "version": 3
   },
   "file_extension": ".py",
   "mimetype": "text/x-python",
   "name": "python",
   "nbconvert_exporter": "python",
   "pygments_lexer": "ipython3",
   "version": "3.7.6"
  }
 },
 "nbformat": 4,
 "nbformat_minor": 4
}

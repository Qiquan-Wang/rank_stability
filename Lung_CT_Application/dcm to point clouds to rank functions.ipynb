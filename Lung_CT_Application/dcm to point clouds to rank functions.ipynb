{
 "cells": [
  {
   "cell_type": "markdown",
   "metadata": {},
   "source": [
    "# Convert Dicom images and masks to point clouds\n"
   ]
  },
  {
   "cell_type": "code",
   "execution_count": 1,
   "metadata": {},
   "outputs": [],
   "source": [
    "import pylidc as pl\n",
    "import matplotlib.pyplot as plt\n",
    "import pandas as pd \n",
    "import numpy as np\n",
    "import csv"
   ]
  },
  {
   "cell_type": "markdown",
   "metadata": {},
   "source": [
    "## From annotations generate binary masks\n",
    "## Sample points on tumour surface\n"
   ]
  },
  {
   "cell_type": "code",
   "execution_count": 2,
   "metadata": {},
   "outputs": [],
   "source": [
    "# set working directory\n",
    "workdir = \"/home/qw817/Desktop/Lung_TDA_application\"\n",
    "import os\n",
    "import sys\n",
    "os.chdir(workdir)\n",
    "sys.path.insert(0, os.path.join(workdir, \"Functions\"))\n",
    "# Handling arrays\n",
    "import numpy as np\n",
    "\n",
    "# Handling dicom images\n",
    "import SimpleITK as sitk\n",
    "\n",
    "# Persistent homology and topological feature extraction\n",
    "import TDAfeatures as tf\n",
    "from ripser import ripser\n",
    "from persim import plot_diagrams"
   ]
  },
  {
   "cell_type": "code",
   "execution_count": 3,
   "metadata": {},
   "outputs": [],
   "source": [
    "df = pd.read_excel('Diagnosis.xls') \n",
    "diagnosis = np.asarray(df) "
   ]
  },
  {
   "cell_type": "code",
   "execution_count": 32,
   "metadata": {},
   "outputs": [
    {
     "name": "stdout",
     "output_type": "stream",
     "text": [
      "10\n",
      "20\n",
      "30\n",
      "40\n",
      "50\n",
      "60\n",
      "70\n",
      "80\n",
      "90\n",
      "100\n",
      "110\n",
      "120\n",
      "130\n",
      "139\n"
     ]
    }
   ],
   "source": [
    "ids = []\n",
    "sizes = []\n",
    "num = 0\n",
    "all_masks = []\n",
    "all_pc =[]\n",
    "for i in diagnosis[:,0]: # skipped 0178 due to bad annotation\n",
    "    if i not in ['LIDC-IDRI-0178','LIDC-IDRI-0200','LIDC-IDRI-0247']:\n",
    "        # if annotation available generate binary masks and point clouds\n",
    "        if len(pl.query(pl.Scan).filter(pl.Scan.patient_id == i).first().annotations)!=0:\n",
    "            # identify annotation\n",
    "            ann = pl.query(pl.Annotation).join(pl.Scan)\\\n",
    "                    .filter(pl.Scan.patient_id == i).first()\n",
    "            # binary mask\n",
    "            mask = ann.boolean_mask()\n",
    "            all_masks.append(mask)\n",
    "            # concate mask into one large matrix\n",
    "            test1 = np.concatenate([mask[:,:,j] for j in range(mask.shape[2])], axis=0)\n",
    "            # save np array as csv\n",
    "            np.savetxt(\"masks/\"+i+\"_mask.csv\", test1, delimiter=\",\")\n",
    "            # save id\n",
    "            ids.append(i)\n",
    "            # save mask shape\n",
    "            sizes.append(mask.shape)\n",
    "\n",
    "            # generate pc\n",
    "            vol = tf.read_dcm(\"dcm/\"+i[-4:])\n",
    "            verts, faces = tf.mesh_from_lesion(vol, mask)\n",
    "            all_pc.append(verts)\n",
    "            # save point clouds\n",
    "            np.savetxt(\"point_clouds/\"+i+\"_pc.csv\", verts, delimiter = \",\")\n",
    "\n",
    "            num +=1\n",
    "            if num%10==0:\n",
    "                print(num)\n",
    "print(num)"
   ]
  },
  {
   "cell_type": "markdown",
   "metadata": {},
   "source": [
    "## 139 in total"
   ]
  },
  {
   "cell_type": "markdown",
   "metadata": {},
   "source": [
    "for i in ids:\n",
    "    print(\"/home/qw817/rivet/rivet_console /home/qw817/Desktop/Lung_TDA_application/point_clouds/\"+i+\"_pc.csv /home/qw817/Desktop/Lung_TDA_application/rivet_outputs/rivet\"+i[-4:]+\".rivet --datatype points --homology 0 --xbins 20 --ybins 20\")\n"
   ]
  },
  {
   "cell_type": "code",
   "execution_count": 42,
   "metadata": {},
   "outputs": [],
   "source": [
    "# printed to the terminal \n",
    "# only for point cloud - default degree rips\n"
   ]
  },
  {
   "cell_type": "code",
   "execution_count": 53,
   "metadata": {},
   "outputs": [
    {
     "data": {
      "text/plain": [
       "[(989, 3),\n",
       " (6188, 3),\n",
       " (185, 3),\n",
       " (197, 3),\n",
       " (317, 3),\n",
       " (94, 3),\n",
       " (32, 3),\n",
       " (114, 3),\n",
       " (94, 3),\n",
       " (1309, 3),\n",
       " (3092, 3),\n",
       " (107, 3),\n",
       " (659, 3),\n",
       " (369, 3),\n",
       " (404, 3),\n",
       " (1782, 3),\n",
       " (888, 3),\n",
       " (117, 3),\n",
       " (5059, 3),\n",
       " (64, 3),\n",
       " (185, 3),\n",
       " (139, 3),\n",
       " (128, 3),\n",
       " (116, 3),\n",
       " (348, 3),\n",
       " (420, 3),\n",
       " (879, 3),\n",
       " (109, 3),\n",
       " (879, 3),\n",
       " (505, 3),\n",
       " (177, 3),\n",
       " (195, 3),\n",
       " (65, 3),\n",
       " (1937, 3),\n",
       " (1647, 3),\n",
       " (2348, 3),\n",
       " (1149, 3),\n",
       " (1666, 3),\n",
       " (488, 3),\n",
       " (212, 3),\n",
       " (928, 3),\n",
       " (69, 3),\n",
       " (90, 3),\n",
       " (112, 3),\n",
       " (1286, 3),\n",
       " (143, 3),\n",
       " (3312, 3),\n",
       " (43, 3),\n",
       " (225, 3),\n",
       " (463, 3),\n",
       " (1961, 3),\n",
       " (2368, 3),\n",
       " (136, 3),\n",
       " (2486, 3),\n",
       " (142, 3),\n",
       " (54, 3),\n",
       " (63, 3),\n",
       " (63, 3),\n",
       " (208, 3),\n",
       " (286, 3),\n",
       " (239, 3),\n",
       " (368, 3),\n",
       " (2236, 3),\n",
       " (66, 3),\n",
       " (1031, 3),\n",
       " (71, 3),\n",
       " (204, 3),\n",
       " (56, 3),\n",
       " (405, 3),\n",
       " (570, 3),\n",
       " (272, 3),\n",
       " (1739, 3),\n",
       " (199, 3),\n",
       " (82, 3),\n",
       " (124, 3),\n",
       " (667, 3),\n",
       " (173, 3),\n",
       " (881, 3),\n",
       " (455, 3),\n",
       " (2096, 3),\n",
       " (5947, 3),\n",
       " (87, 3),\n",
       " (29, 3),\n",
       " (130, 3),\n",
       " (92, 3),\n",
       " (63, 3),\n",
       " (162, 3),\n",
       " (328, 3),\n",
       " (43, 3),\n",
       " (270, 3),\n",
       " (472, 3),\n",
       " (225, 3),\n",
       " (103, 3),\n",
       " (142, 3),\n",
       " (141, 3),\n",
       " (173, 3),\n",
       " (196, 3),\n",
       " (145, 3),\n",
       " (57, 3),\n",
       " (183, 3),\n",
       " (1985, 3),\n",
       " (72, 3),\n",
       " (1772, 3),\n",
       " (5781, 3),\n",
       " (8416, 3),\n",
       " (149, 3),\n",
       " (959, 3),\n",
       " (198, 3),\n",
       " (252, 3),\n",
       " (4617, 3),\n",
       " (4487, 3),\n",
       " (134, 3),\n",
       " (513, 3),\n",
       " (82, 3),\n",
       " (2324, 3),\n",
       " (99, 3),\n",
       " (1809, 3),\n",
       " (276, 3),\n",
       " (7953, 3),\n",
       " (182, 3),\n",
       " (155, 3),\n",
       " (4411, 3),\n",
       " (599, 3),\n",
       " (451, 3),\n",
       " (3570, 3),\n",
       " (7925, 3),\n",
       " (70, 3),\n",
       " (1670, 3),\n",
       " (1091, 3),\n",
       " (1209, 3),\n",
       " (569, 3),\n",
       " (433, 3),\n",
       " (2200, 3),\n",
       " (1909, 3),\n",
       " (2211, 3),\n",
       " (691, 3),\n",
       " (5862, 3),\n",
       " (72, 3),\n",
       " (764, 3)]"
      ]
     },
     "execution_count": 53,
     "metadata": {},
     "output_type": "execute_result"
    }
   ],
   "source": [
    "[i.shape for i in all_pc]"
   ]
  },
  {
   "cell_type": "code",
   "execution_count": 51,
   "metadata": {},
   "outputs": [],
   "source": [
    "# subsample for point clouds larger than 1000\n",
    "small_pc =[]\n",
    "for i in range(len(ids)):\n",
    "    current = all_pc[i]\n",
    "    if current.shape[0]>1000:\n",
    "        # randomly shuffle data\n",
    "        np.random.shuffle(current)\n",
    "        current = current[:1000,:]\n",
    "        small_pc.append(current)\n",
    "    else:\n",
    "        small_pc.append(current)\n",
    "    np.savetxt(\"small_point_clouds/pc_\"+ids[i][-4:]+\".txt\", current, delimiter=',')\n",
    "\n",
    "    \n"
   ]
  },
  {
   "cell_type": "code",
   "execution_count": 52,
   "metadata": {},
   "outputs": [
    {
     "name": "stdout",
     "output_type": "stream",
     "text": [
      "/home/qw817/rivet/rivet_console /home/qw817/Desktop/Lung_TDA_application/small_point_clouds/pc_0068.txt /home/qw817/Desktop/Lung_TDA_application/rivet_outputs/rivet0068.rivet --datatype points --homology 0 --xbins 20 --ybins 20\n",
      "/home/qw817/rivet/rivet_console /home/qw817/Desktop/Lung_TDA_application/small_point_clouds/pc_0072.txt /home/qw817/Desktop/Lung_TDA_application/rivet_outputs/rivet0072.rivet --datatype points --homology 0 --xbins 20 --ybins 20\n",
      "/home/qw817/rivet/rivet_console /home/qw817/Desktop/Lung_TDA_application/small_point_clouds/pc_0088.txt /home/qw817/Desktop/Lung_TDA_application/rivet_outputs/rivet0088.rivet --datatype points --homology 0 --xbins 20 --ybins 20\n",
      "/home/qw817/rivet/rivet_console /home/qw817/Desktop/Lung_TDA_application/small_point_clouds/pc_0090.txt /home/qw817/Desktop/Lung_TDA_application/rivet_outputs/rivet0090.rivet --datatype points --homology 0 --xbins 20 --ybins 20\n",
      "/home/qw817/rivet/rivet_console /home/qw817/Desktop/Lung_TDA_application/small_point_clouds/pc_0091.txt /home/qw817/Desktop/Lung_TDA_application/rivet_outputs/rivet0091.rivet --datatype points --homology 0 --xbins 20 --ybins 20\n",
      "/home/qw817/rivet/rivet_console /home/qw817/Desktop/Lung_TDA_application/small_point_clouds/pc_0118.txt /home/qw817/Desktop/Lung_TDA_application/rivet_outputs/rivet0118.rivet --datatype points --homology 0 --xbins 20 --ybins 20\n",
      "/home/qw817/rivet/rivet_console /home/qw817/Desktop/Lung_TDA_application/small_point_clouds/pc_0124.txt /home/qw817/Desktop/Lung_TDA_application/rivet_outputs/rivet0124.rivet --datatype points --homology 0 --xbins 20 --ybins 20\n",
      "/home/qw817/rivet/rivet_console /home/qw817/Desktop/Lung_TDA_application/small_point_clouds/pc_0129.txt /home/qw817/Desktop/Lung_TDA_application/rivet_outputs/rivet0129.rivet --datatype points --homology 0 --xbins 20 --ybins 20\n",
      "/home/qw817/rivet/rivet_console /home/qw817/Desktop/Lung_TDA_application/small_point_clouds/pc_0135.txt /home/qw817/Desktop/Lung_TDA_application/rivet_outputs/rivet0135.rivet --datatype points --homology 0 --xbins 20 --ybins 20\n",
      "/home/qw817/rivet/rivet_console /home/qw817/Desktop/Lung_TDA_application/small_point_clouds/pc_0137.txt /home/qw817/Desktop/Lung_TDA_application/rivet_outputs/rivet0137.rivet --datatype points --homology 0 --xbins 20 --ybins 20\n",
      "/home/qw817/rivet/rivet_console /home/qw817/Desktop/Lung_TDA_application/small_point_clouds/pc_0138.txt /home/qw817/Desktop/Lung_TDA_application/rivet_outputs/rivet0138.rivet --datatype points --homology 0 --xbins 20 --ybins 20\n",
      "/home/qw817/rivet/rivet_console /home/qw817/Desktop/Lung_TDA_application/small_point_clouds/pc_0149.txt /home/qw817/Desktop/Lung_TDA_application/rivet_outputs/rivet0149.rivet --datatype points --homology 0 --xbins 20 --ybins 20\n",
      "/home/qw817/rivet/rivet_console /home/qw817/Desktop/Lung_TDA_application/small_point_clouds/pc_0159.txt /home/qw817/Desktop/Lung_TDA_application/rivet_outputs/rivet0159.rivet --datatype points --homology 0 --xbins 20 --ybins 20\n",
      "/home/qw817/rivet/rivet_console /home/qw817/Desktop/Lung_TDA_application/small_point_clouds/pc_0161.txt /home/qw817/Desktop/Lung_TDA_application/rivet_outputs/rivet0161.rivet --datatype points --homology 0 --xbins 20 --ybins 20\n",
      "/home/qw817/rivet/rivet_console /home/qw817/Desktop/Lung_TDA_application/small_point_clouds/pc_0162.txt /home/qw817/Desktop/Lung_TDA_application/rivet_outputs/rivet0162.rivet --datatype points --homology 0 --xbins 20 --ybins 20\n",
      "/home/qw817/rivet/rivet_console /home/qw817/Desktop/Lung_TDA_application/small_point_clouds/pc_0163.txt /home/qw817/Desktop/Lung_TDA_application/rivet_outputs/rivet0163.rivet --datatype points --homology 0 --xbins 20 --ybins 20\n",
      "/home/qw817/rivet/rivet_console /home/qw817/Desktop/Lung_TDA_application/small_point_clouds/pc_0164.txt /home/qw817/Desktop/Lung_TDA_application/rivet_outputs/rivet0164.rivet --datatype points --homology 0 --xbins 20 --ybins 20\n",
      "/home/qw817/rivet/rivet_console /home/qw817/Desktop/Lung_TDA_application/small_point_clouds/pc_0165.txt /home/qw817/Desktop/Lung_TDA_application/rivet_outputs/rivet0165.rivet --datatype points --homology 0 --xbins 20 --ybins 20\n",
      "/home/qw817/rivet/rivet_console /home/qw817/Desktop/Lung_TDA_application/small_point_clouds/pc_0166.txt /home/qw817/Desktop/Lung_TDA_application/rivet_outputs/rivet0166.rivet --datatype points --homology 0 --xbins 20 --ybins 20\n",
      "/home/qw817/rivet/rivet_console /home/qw817/Desktop/Lung_TDA_application/small_point_clouds/pc_0167.txt /home/qw817/Desktop/Lung_TDA_application/rivet_outputs/rivet0167.rivet --datatype points --homology 0 --xbins 20 --ybins 20\n",
      "/home/qw817/rivet/rivet_console /home/qw817/Desktop/Lung_TDA_application/small_point_clouds/pc_0168.txt /home/qw817/Desktop/Lung_TDA_application/rivet_outputs/rivet0168.rivet --datatype points --homology 0 --xbins 20 --ybins 20\n",
      "/home/qw817/rivet/rivet_console /home/qw817/Desktop/Lung_TDA_application/small_point_clouds/pc_0169.txt /home/qw817/Desktop/Lung_TDA_application/rivet_outputs/rivet0169.rivet --datatype points --homology 0 --xbins 20 --ybins 20\n",
      "/home/qw817/rivet/rivet_console /home/qw817/Desktop/Lung_TDA_application/small_point_clouds/pc_0171.txt /home/qw817/Desktop/Lung_TDA_application/rivet_outputs/rivet0171.rivet --datatype points --homology 0 --xbins 20 --ybins 20\n",
      "/home/qw817/rivet/rivet_console /home/qw817/Desktop/Lung_TDA_application/small_point_clouds/pc_0173.txt /home/qw817/Desktop/Lung_TDA_application/rivet_outputs/rivet0173.rivet --datatype points --homology 0 --xbins 20 --ybins 20\n",
      "/home/qw817/rivet/rivet_console /home/qw817/Desktop/Lung_TDA_application/small_point_clouds/pc_0175.txt /home/qw817/Desktop/Lung_TDA_application/rivet_outputs/rivet0175.rivet --datatype points --homology 0 --xbins 20 --ybins 20\n",
      "/home/qw817/rivet/rivet_console /home/qw817/Desktop/Lung_TDA_application/small_point_clouds/pc_0176.txt /home/qw817/Desktop/Lung_TDA_application/rivet_outputs/rivet0176.rivet --datatype points --homology 0 --xbins 20 --ybins 20\n",
      "/home/qw817/rivet/rivet_console /home/qw817/Desktop/Lung_TDA_application/small_point_clouds/pc_0179.txt /home/qw817/Desktop/Lung_TDA_application/rivet_outputs/rivet0179.rivet --datatype points --homology 0 --xbins 20 --ybins 20\n",
      "/home/qw817/rivet/rivet_console /home/qw817/Desktop/Lung_TDA_application/small_point_clouds/pc_0180.txt /home/qw817/Desktop/Lung_TDA_application/rivet_outputs/rivet0180.rivet --datatype points --homology 0 --xbins 20 --ybins 20\n",
      "/home/qw817/rivet/rivet_console /home/qw817/Desktop/Lung_TDA_application/small_point_clouds/pc_0181.txt /home/qw817/Desktop/Lung_TDA_application/rivet_outputs/rivet0181.rivet --datatype points --homology 0 --xbins 20 --ybins 20\n",
      "/home/qw817/rivet/rivet_console /home/qw817/Desktop/Lung_TDA_application/small_point_clouds/pc_0182.txt /home/qw817/Desktop/Lung_TDA_application/rivet_outputs/rivet0182.rivet --datatype points --homology 0 --xbins 20 --ybins 20\n",
      "/home/qw817/rivet/rivet_console /home/qw817/Desktop/Lung_TDA_application/small_point_clouds/pc_0183.txt /home/qw817/Desktop/Lung_TDA_application/rivet_outputs/rivet0183.rivet --datatype points --homology 0 --xbins 20 --ybins 20\n",
      "/home/qw817/rivet/rivet_console /home/qw817/Desktop/Lung_TDA_application/small_point_clouds/pc_0184.txt /home/qw817/Desktop/Lung_TDA_application/rivet_outputs/rivet0184.rivet --datatype points --homology 0 --xbins 20 --ybins 20\n",
      "/home/qw817/rivet/rivet_console /home/qw817/Desktop/Lung_TDA_application/small_point_clouds/pc_0185.txt /home/qw817/Desktop/Lung_TDA_application/rivet_outputs/rivet0185.rivet --datatype points --homology 0 --xbins 20 --ybins 20\n",
      "/home/qw817/rivet/rivet_console /home/qw817/Desktop/Lung_TDA_application/small_point_clouds/pc_0186.txt /home/qw817/Desktop/Lung_TDA_application/rivet_outputs/rivet0186.rivet --datatype points --homology 0 --xbins 20 --ybins 20\n",
      "/home/qw817/rivet/rivet_console /home/qw817/Desktop/Lung_TDA_application/small_point_clouds/pc_0187.txt /home/qw817/Desktop/Lung_TDA_application/rivet_outputs/rivet0187.rivet --datatype points --homology 0 --xbins 20 --ybins 20\n",
      "/home/qw817/rivet/rivet_console /home/qw817/Desktop/Lung_TDA_application/small_point_clouds/pc_0188.txt /home/qw817/Desktop/Lung_TDA_application/rivet_outputs/rivet0188.rivet --datatype points --homology 0 --xbins 20 --ybins 20\n",
      "/home/qw817/rivet/rivet_console /home/qw817/Desktop/Lung_TDA_application/small_point_clouds/pc_0190.txt /home/qw817/Desktop/Lung_TDA_application/rivet_outputs/rivet0190.rivet --datatype points --homology 0 --xbins 20 --ybins 20\n",
      "/home/qw817/rivet/rivet_console /home/qw817/Desktop/Lung_TDA_application/small_point_clouds/pc_0191.txt /home/qw817/Desktop/Lung_TDA_application/rivet_outputs/rivet0191.rivet --datatype points --homology 0 --xbins 20 --ybins 20\n",
      "/home/qw817/rivet/rivet_console /home/qw817/Desktop/Lung_TDA_application/small_point_clouds/pc_0192.txt /home/qw817/Desktop/Lung_TDA_application/rivet_outputs/rivet0192.rivet --datatype points --homology 0 --xbins 20 --ybins 20\n",
      "/home/qw817/rivet/rivet_console /home/qw817/Desktop/Lung_TDA_application/small_point_clouds/pc_0193.txt /home/qw817/Desktop/Lung_TDA_application/rivet_outputs/rivet0193.rivet --datatype points --homology 0 --xbins 20 --ybins 20\n",
      "/home/qw817/rivet/rivet_console /home/qw817/Desktop/Lung_TDA_application/small_point_clouds/pc_0194.txt /home/qw817/Desktop/Lung_TDA_application/rivet_outputs/rivet0194.rivet --datatype points --homology 0 --xbins 20 --ybins 20\n",
      "/home/qw817/rivet/rivet_console /home/qw817/Desktop/Lung_TDA_application/small_point_clouds/pc_0198.txt /home/qw817/Desktop/Lung_TDA_application/rivet_outputs/rivet0198.rivet --datatype points --homology 0 --xbins 20 --ybins 20\n",
      "/home/qw817/rivet/rivet_console /home/qw817/Desktop/Lung_TDA_application/small_point_clouds/pc_0202.txt /home/qw817/Desktop/Lung_TDA_application/rivet_outputs/rivet0202.rivet --datatype points --homology 0 --xbins 20 --ybins 20\n",
      "/home/qw817/rivet/rivet_console /home/qw817/Desktop/Lung_TDA_application/small_point_clouds/pc_0203.txt /home/qw817/Desktop/Lung_TDA_application/rivet_outputs/rivet0203.rivet --datatype points --homology 0 --xbins 20 --ybins 20\n",
      "/home/qw817/rivet/rivet_console /home/qw817/Desktop/Lung_TDA_application/small_point_clouds/pc_0207.txt /home/qw817/Desktop/Lung_TDA_application/rivet_outputs/rivet0207.rivet --datatype points --homology 0 --xbins 20 --ybins 20\n",
      "/home/qw817/rivet/rivet_console /home/qw817/Desktop/Lung_TDA_application/small_point_clouds/pc_0210.txt /home/qw817/Desktop/Lung_TDA_application/rivet_outputs/rivet0210.rivet --datatype points --homology 0 --xbins 20 --ybins 20\n",
      "/home/qw817/rivet/rivet_console /home/qw817/Desktop/Lung_TDA_application/small_point_clouds/pc_0211.txt /home/qw817/Desktop/Lung_TDA_application/rivet_outputs/rivet0211.rivet --datatype points --homology 0 --xbins 20 --ybins 20\n",
      "/home/qw817/rivet/rivet_console /home/qw817/Desktop/Lung_TDA_application/small_point_clouds/pc_0212.txt /home/qw817/Desktop/Lung_TDA_application/rivet_outputs/rivet0212.rivet --datatype points --homology 0 --xbins 20 --ybins 20\n",
      "/home/qw817/rivet/rivet_console /home/qw817/Desktop/Lung_TDA_application/small_point_clouds/pc_0213.txt /home/qw817/Desktop/Lung_TDA_application/rivet_outputs/rivet0213.rivet --datatype points --homology 0 --xbins 20 --ybins 20\n",
      "/home/qw817/rivet/rivet_console /home/qw817/Desktop/Lung_TDA_application/small_point_clouds/pc_0217.txt /home/qw817/Desktop/Lung_TDA_application/rivet_outputs/rivet0217.rivet --datatype points --homology 0 --xbins 20 --ybins 20\n",
      "/home/qw817/rivet/rivet_console /home/qw817/Desktop/Lung_TDA_application/small_point_clouds/pc_0220.txt /home/qw817/Desktop/Lung_TDA_application/rivet_outputs/rivet0220.rivet --datatype points --homology 0 --xbins 20 --ybins 20\n",
      "/home/qw817/rivet/rivet_console /home/qw817/Desktop/Lung_TDA_application/small_point_clouds/pc_0221.txt /home/qw817/Desktop/Lung_TDA_application/rivet_outputs/rivet0221.rivet --datatype points --homology 0 --xbins 20 --ybins 20\n",
      "/home/qw817/rivet/rivet_console /home/qw817/Desktop/Lung_TDA_application/small_point_clouds/pc_0222.txt /home/qw817/Desktop/Lung_TDA_application/rivet_outputs/rivet0222.rivet --datatype points --homology 0 --xbins 20 --ybins 20\n",
      "/home/qw817/rivet/rivet_console /home/qw817/Desktop/Lung_TDA_application/small_point_clouds/pc_0223.txt /home/qw817/Desktop/Lung_TDA_application/rivet_outputs/rivet0223.rivet --datatype points --homology 0 --xbins 20 --ybins 20\n",
      "/home/qw817/rivet/rivet_console /home/qw817/Desktop/Lung_TDA_application/small_point_clouds/pc_0230.txt /home/qw817/Desktop/Lung_TDA_application/rivet_outputs/rivet0230.rivet --datatype points --homology 0 --xbins 20 --ybins 20\n",
      "/home/qw817/rivet/rivet_console /home/qw817/Desktop/Lung_TDA_application/small_point_clouds/pc_0231.txt /home/qw817/Desktop/Lung_TDA_application/rivet_outputs/rivet0231.rivet --datatype points --homology 0 --xbins 20 --ybins 20\n",
      "/home/qw817/rivet/rivet_console /home/qw817/Desktop/Lung_TDA_application/small_point_clouds/pc_0232.txt /home/qw817/Desktop/Lung_TDA_application/rivet_outputs/rivet0232.rivet --datatype points --homology 0 --xbins 20 --ybins 20\n",
      "/home/qw817/rivet/rivet_console /home/qw817/Desktop/Lung_TDA_application/small_point_clouds/pc_0233.txt /home/qw817/Desktop/Lung_TDA_application/rivet_outputs/rivet0233.rivet --datatype points --homology 0 --xbins 20 --ybins 20\n",
      "/home/qw817/rivet/rivet_console /home/qw817/Desktop/Lung_TDA_application/small_point_clouds/pc_0234.txt /home/qw817/Desktop/Lung_TDA_application/rivet_outputs/rivet0234.rivet --datatype points --homology 0 --xbins 20 --ybins 20\n",
      "/home/qw817/rivet/rivet_console /home/qw817/Desktop/Lung_TDA_application/small_point_clouds/pc_0235.txt /home/qw817/Desktop/Lung_TDA_application/rivet_outputs/rivet0235.rivet --datatype points --homology 0 --xbins 20 --ybins 20\n",
      "/home/qw817/rivet/rivet_console /home/qw817/Desktop/Lung_TDA_application/small_point_clouds/pc_0236.txt /home/qw817/Desktop/Lung_TDA_application/rivet_outputs/rivet0236.rivet --datatype points --homology 0 --xbins 20 --ybins 20\n",
      "/home/qw817/rivet/rivet_console /home/qw817/Desktop/Lung_TDA_application/small_point_clouds/pc_0237.txt /home/qw817/Desktop/Lung_TDA_application/rivet_outputs/rivet0237.rivet --datatype points --homology 0 --xbins 20 --ybins 20\n",
      "/home/qw817/rivet/rivet_console /home/qw817/Desktop/Lung_TDA_application/small_point_clouds/pc_0242.txt /home/qw817/Desktop/Lung_TDA_application/rivet_outputs/rivet0242.rivet --datatype points --homology 0 --xbins 20 --ybins 20\n",
      "/home/qw817/rivet/rivet_console /home/qw817/Desktop/Lung_TDA_application/small_point_clouds/pc_0243.txt /home/qw817/Desktop/Lung_TDA_application/rivet_outputs/rivet0243.rivet --datatype points --homology 0 --xbins 20 --ybins 20\n",
      "/home/qw817/rivet/rivet_console /home/qw817/Desktop/Lung_TDA_application/small_point_clouds/pc_0244.txt /home/qw817/Desktop/Lung_TDA_application/rivet_outputs/rivet0244.rivet --datatype points --homology 0 --xbins 20 --ybins 20\n",
      "/home/qw817/rivet/rivet_console /home/qw817/Desktop/Lung_TDA_application/small_point_clouds/pc_0245.txt /home/qw817/Desktop/Lung_TDA_application/rivet_outputs/rivet0245.rivet --datatype points --homology 0 --xbins 20 --ybins 20\n",
      "/home/qw817/rivet/rivet_console /home/qw817/Desktop/Lung_TDA_application/small_point_clouds/pc_0246.txt /home/qw817/Desktop/Lung_TDA_application/rivet_outputs/rivet0246.rivet --datatype points --homology 0 --xbins 20 --ybins 20\n",
      "/home/qw817/rivet/rivet_console /home/qw817/Desktop/Lung_TDA_application/small_point_clouds/pc_0248.txt /home/qw817/Desktop/Lung_TDA_application/rivet_outputs/rivet0248.rivet --datatype points --homology 0 --xbins 20 --ybins 20\n",
      "/home/qw817/rivet/rivet_console /home/qw817/Desktop/Lung_TDA_application/small_point_clouds/pc_0249.txt /home/qw817/Desktop/Lung_TDA_application/rivet_outputs/rivet0249.rivet --datatype points --homology 0 --xbins 20 --ybins 20\n",
      "/home/qw817/rivet/rivet_console /home/qw817/Desktop/Lung_TDA_application/small_point_clouds/pc_0250.txt /home/qw817/Desktop/Lung_TDA_application/rivet_outputs/rivet0250.rivet --datatype points --homology 0 --xbins 20 --ybins 20\n",
      "/home/qw817/rivet/rivet_console /home/qw817/Desktop/Lung_TDA_application/small_point_clouds/pc_0251.txt /home/qw817/Desktop/Lung_TDA_application/rivet_outputs/rivet0251.rivet --datatype points --homology 0 --xbins 20 --ybins 20\n",
      "/home/qw817/rivet/rivet_console /home/qw817/Desktop/Lung_TDA_application/small_point_clouds/pc_0252.txt /home/qw817/Desktop/Lung_TDA_application/rivet_outputs/rivet0252.rivet --datatype points --homology 0 --xbins 20 --ybins 20\n",
      "/home/qw817/rivet/rivet_console /home/qw817/Desktop/Lung_TDA_application/small_point_clouds/pc_0254.txt /home/qw817/Desktop/Lung_TDA_application/rivet_outputs/rivet0254.rivet --datatype points --homology 0 --xbins 20 --ybins 20\n",
      "/home/qw817/rivet/rivet_console /home/qw817/Desktop/Lung_TDA_application/small_point_clouds/pc_0255.txt /home/qw817/Desktop/Lung_TDA_application/rivet_outputs/rivet0255.rivet --datatype points --homology 0 --xbins 20 --ybins 20\n",
      "/home/qw817/rivet/rivet_console /home/qw817/Desktop/Lung_TDA_application/small_point_clouds/pc_0256.txt /home/qw817/Desktop/Lung_TDA_application/rivet_outputs/rivet0256.rivet --datatype points --homology 0 --xbins 20 --ybins 20\n",
      "/home/qw817/rivet/rivet_console /home/qw817/Desktop/Lung_TDA_application/small_point_clouds/pc_0257.txt /home/qw817/Desktop/Lung_TDA_application/rivet_outputs/rivet0257.rivet --datatype points --homology 0 --xbins 20 --ybins 20\n",
      "/home/qw817/rivet/rivet_console /home/qw817/Desktop/Lung_TDA_application/small_point_clouds/pc_0258.txt /home/qw817/Desktop/Lung_TDA_application/rivet_outputs/rivet0258.rivet --datatype points --homology 0 --xbins 20 --ybins 20\n",
      "/home/qw817/rivet/rivet_console /home/qw817/Desktop/Lung_TDA_application/small_point_clouds/pc_0260.txt /home/qw817/Desktop/Lung_TDA_application/rivet_outputs/rivet0260.rivet --datatype points --homology 0 --xbins 20 --ybins 20\n",
      "/home/qw817/rivet/rivet_console /home/qw817/Desktop/Lung_TDA_application/small_point_clouds/pc_0264.txt /home/qw817/Desktop/Lung_TDA_application/rivet_outputs/rivet0264.rivet --datatype points --homology 0 --xbins 20 --ybins 20\n",
      "/home/qw817/rivet/rivet_console /home/qw817/Desktop/Lung_TDA_application/small_point_clouds/pc_0265.txt /home/qw817/Desktop/Lung_TDA_application/rivet_outputs/rivet0265.rivet --datatype points --homology 0 --xbins 20 --ybins 20\n",
      "/home/qw817/rivet/rivet_console /home/qw817/Desktop/Lung_TDA_application/small_point_clouds/pc_0266.txt /home/qw817/Desktop/Lung_TDA_application/rivet_outputs/rivet0266.rivet --datatype points --homology 0 --xbins 20 --ybins 20\n",
      "/home/qw817/rivet/rivet_console /home/qw817/Desktop/Lung_TDA_application/small_point_clouds/pc_0267.txt /home/qw817/Desktop/Lung_TDA_application/rivet_outputs/rivet0267.rivet --datatype points --homology 0 --xbins 20 --ybins 20\n",
      "/home/qw817/rivet/rivet_console /home/qw817/Desktop/Lung_TDA_application/small_point_clouds/pc_0268.txt /home/qw817/Desktop/Lung_TDA_application/rivet_outputs/rivet0268.rivet --datatype points --homology 0 --xbins 20 --ybins 20\n",
      "/home/qw817/rivet/rivet_console /home/qw817/Desktop/Lung_TDA_application/small_point_clouds/pc_0270.txt /home/qw817/Desktop/Lung_TDA_application/rivet_outputs/rivet0270.rivet --datatype points --homology 0 --xbins 20 --ybins 20\n",
      "/home/qw817/rivet/rivet_console /home/qw817/Desktop/Lung_TDA_application/small_point_clouds/pc_0271.txt /home/qw817/Desktop/Lung_TDA_application/rivet_outputs/rivet0271.rivet --datatype points --homology 0 --xbins 20 --ybins 20\n",
      "/home/qw817/rivet/rivet_console /home/qw817/Desktop/Lung_TDA_application/small_point_clouds/pc_0272.txt /home/qw817/Desktop/Lung_TDA_application/rivet_outputs/rivet0272.rivet --datatype points --homology 0 --xbins 20 --ybins 20\n",
      "/home/qw817/rivet/rivet_console /home/qw817/Desktop/Lung_TDA_application/small_point_clouds/pc_0273.txt /home/qw817/Desktop/Lung_TDA_application/rivet_outputs/rivet0273.rivet --datatype points --homology 0 --xbins 20 --ybins 20\n",
      "/home/qw817/rivet/rivet_console /home/qw817/Desktop/Lung_TDA_application/small_point_clouds/pc_0274.txt /home/qw817/Desktop/Lung_TDA_application/rivet_outputs/rivet0274.rivet --datatype points --homology 0 --xbins 20 --ybins 20\n",
      "/home/qw817/rivet/rivet_console /home/qw817/Desktop/Lung_TDA_application/small_point_clouds/pc_0275.txt /home/qw817/Desktop/Lung_TDA_application/rivet_outputs/rivet0275.rivet --datatype points --homology 0 --xbins 20 --ybins 20\n",
      "/home/qw817/rivet/rivet_console /home/qw817/Desktop/Lung_TDA_application/small_point_clouds/pc_0276.txt /home/qw817/Desktop/Lung_TDA_application/rivet_outputs/rivet0276.rivet --datatype points --homology 0 --xbins 20 --ybins 20\n",
      "/home/qw817/rivet/rivet_console /home/qw817/Desktop/Lung_TDA_application/small_point_clouds/pc_0277.txt /home/qw817/Desktop/Lung_TDA_application/rivet_outputs/rivet0277.rivet --datatype points --homology 0 --xbins 20 --ybins 20\n",
      "/home/qw817/rivet/rivet_console /home/qw817/Desktop/Lung_TDA_application/small_point_clouds/pc_0278.txt /home/qw817/Desktop/Lung_TDA_application/rivet_outputs/rivet0278.rivet --datatype points --homology 0 --xbins 20 --ybins 20\n",
      "/home/qw817/rivet/rivet_console /home/qw817/Desktop/Lung_TDA_application/small_point_clouds/pc_0280.txt /home/qw817/Desktop/Lung_TDA_application/rivet_outputs/rivet0280.rivet --datatype points --homology 0 --xbins 20 --ybins 20\n",
      "/home/qw817/rivet/rivet_console /home/qw817/Desktop/Lung_TDA_application/small_point_clouds/pc_0281.txt /home/qw817/Desktop/Lung_TDA_application/rivet_outputs/rivet0281.rivet --datatype points --homology 0 --xbins 20 --ybins 20\n",
      "/home/qw817/rivet/rivet_console /home/qw817/Desktop/Lung_TDA_application/small_point_clouds/pc_0282.txt /home/qw817/Desktop/Lung_TDA_application/rivet_outputs/rivet0282.rivet --datatype points --homology 0 --xbins 20 --ybins 20\n",
      "/home/qw817/rivet/rivet_console /home/qw817/Desktop/Lung_TDA_application/small_point_clouds/pc_0283.txt /home/qw817/Desktop/Lung_TDA_application/rivet_outputs/rivet0283.rivet --datatype points --homology 0 --xbins 20 --ybins 20\n",
      "/home/qw817/rivet/rivet_console /home/qw817/Desktop/Lung_TDA_application/small_point_clouds/pc_0285.txt /home/qw817/Desktop/Lung_TDA_application/rivet_outputs/rivet0285.rivet --datatype points --homology 0 --xbins 20 --ybins 20\n",
      "/home/qw817/rivet/rivet_console /home/qw817/Desktop/Lung_TDA_application/small_point_clouds/pc_0286.txt /home/qw817/Desktop/Lung_TDA_application/rivet_outputs/rivet0286.rivet --datatype points --homology 0 --xbins 20 --ybins 20\n",
      "/home/qw817/rivet/rivet_console /home/qw817/Desktop/Lung_TDA_application/small_point_clouds/pc_0287.txt /home/qw817/Desktop/Lung_TDA_application/rivet_outputs/rivet0287.rivet --datatype points --homology 0 --xbins 20 --ybins 20\n",
      "/home/qw817/rivet/rivet_console /home/qw817/Desktop/Lung_TDA_application/small_point_clouds/pc_0288.txt /home/qw817/Desktop/Lung_TDA_application/rivet_outputs/rivet0288.rivet --datatype points --homology 0 --xbins 20 --ybins 20\n",
      "/home/qw817/rivet/rivet_console /home/qw817/Desktop/Lung_TDA_application/small_point_clouds/pc_0289.txt /home/qw817/Desktop/Lung_TDA_application/rivet_outputs/rivet0289.rivet --datatype points --homology 0 --xbins 20 --ybins 20\n",
      "/home/qw817/rivet/rivet_console /home/qw817/Desktop/Lung_TDA_application/small_point_clouds/pc_0290.txt /home/qw817/Desktop/Lung_TDA_application/rivet_outputs/rivet0290.rivet --datatype points --homology 0 --xbins 20 --ybins 20\n",
      "/home/qw817/rivet/rivet_console /home/qw817/Desktop/Lung_TDA_application/small_point_clouds/pc_0314.txt /home/qw817/Desktop/Lung_TDA_application/rivet_outputs/rivet0314.rivet --datatype points --homology 0 --xbins 20 --ybins 20\n",
      "/home/qw817/rivet/rivet_console /home/qw817/Desktop/Lung_TDA_application/small_point_clouds/pc_0325.txt /home/qw817/Desktop/Lung_TDA_application/rivet_outputs/rivet0325.rivet --datatype points --homology 0 --xbins 20 --ybins 20\n",
      "/home/qw817/rivet/rivet_console /home/qw817/Desktop/Lung_TDA_application/small_point_clouds/pc_0332.txt /home/qw817/Desktop/Lung_TDA_application/rivet_outputs/rivet0332.rivet --datatype points --homology 0 --xbins 20 --ybins 20\n",
      "/home/qw817/rivet/rivet_console /home/qw817/Desktop/Lung_TDA_application/small_point_clouds/pc_0377.txt /home/qw817/Desktop/Lung_TDA_application/rivet_outputs/rivet0377.rivet --datatype points --homology 0 --xbins 20 --ybins 20\n",
      "/home/qw817/rivet/rivet_console /home/qw817/Desktop/Lung_TDA_application/small_point_clouds/pc_0385.txt /home/qw817/Desktop/Lung_TDA_application/rivet_outputs/rivet0385.rivet --datatype points --homology 0 --xbins 20 --ybins 20\n",
      "/home/qw817/rivet/rivet_console /home/qw817/Desktop/Lung_TDA_application/small_point_clouds/pc_0399.txt /home/qw817/Desktop/Lung_TDA_application/rivet_outputs/rivet0399.rivet --datatype points --homology 0 --xbins 20 --ybins 20\n",
      "/home/qw817/rivet/rivet_console /home/qw817/Desktop/Lung_TDA_application/small_point_clouds/pc_0405.txt /home/qw817/Desktop/Lung_TDA_application/rivet_outputs/rivet0405.rivet --datatype points --homology 0 --xbins 20 --ybins 20\n",
      "/home/qw817/rivet/rivet_console /home/qw817/Desktop/Lung_TDA_application/small_point_clouds/pc_0454.txt /home/qw817/Desktop/Lung_TDA_application/rivet_outputs/rivet0454.rivet --datatype points --homology 0 --xbins 20 --ybins 20\n",
      "/home/qw817/rivet/rivet_console /home/qw817/Desktop/Lung_TDA_application/small_point_clouds/pc_0470.txt /home/qw817/Desktop/Lung_TDA_application/rivet_outputs/rivet0470.rivet --datatype points --homology 0 --xbins 20 --ybins 20\n",
      "/home/qw817/rivet/rivet_console /home/qw817/Desktop/Lung_TDA_application/small_point_clouds/pc_0493.txt /home/qw817/Desktop/Lung_TDA_application/rivet_outputs/rivet0493.rivet --datatype points --homology 0 --xbins 20 --ybins 20\n",
      "/home/qw817/rivet/rivet_console /home/qw817/Desktop/Lung_TDA_application/small_point_clouds/pc_0510.txt /home/qw817/Desktop/Lung_TDA_application/rivet_outputs/rivet0510.rivet --datatype points --homology 0 --xbins 20 --ybins 20\n",
      "/home/qw817/rivet/rivet_console /home/qw817/Desktop/Lung_TDA_application/small_point_clouds/pc_0522.txt /home/qw817/Desktop/Lung_TDA_application/rivet_outputs/rivet0522.rivet --datatype points --homology 0 --xbins 20 --ybins 20\n",
      "/home/qw817/rivet/rivet_console /home/qw817/Desktop/Lung_TDA_application/small_point_clouds/pc_0543.txt /home/qw817/Desktop/Lung_TDA_application/rivet_outputs/rivet0543.rivet --datatype points --homology 0 --xbins 20 --ybins 20\n",
      "/home/qw817/rivet/rivet_console /home/qw817/Desktop/Lung_TDA_application/small_point_clouds/pc_0559.txt /home/qw817/Desktop/Lung_TDA_application/rivet_outputs/rivet0559.rivet --datatype points --homology 0 --xbins 20 --ybins 20\n",
      "/home/qw817/rivet/rivet_console /home/qw817/Desktop/Lung_TDA_application/small_point_clouds/pc_0562.txt /home/qw817/Desktop/Lung_TDA_application/rivet_outputs/rivet0562.rivet --datatype points --homology 0 --xbins 20 --ybins 20\n",
      "/home/qw817/rivet/rivet_console /home/qw817/Desktop/Lung_TDA_application/small_point_clouds/pc_0568.txt /home/qw817/Desktop/Lung_TDA_application/rivet_outputs/rivet0568.rivet --datatype points --homology 0 --xbins 20 --ybins 20\n",
      "/home/qw817/rivet/rivet_console /home/qw817/Desktop/Lung_TDA_application/small_point_clouds/pc_0576.txt /home/qw817/Desktop/Lung_TDA_application/rivet_outputs/rivet0576.rivet --datatype points --homology 0 --xbins 20 --ybins 20\n",
      "/home/qw817/rivet/rivet_console /home/qw817/Desktop/Lung_TDA_application/small_point_clouds/pc_0580.txt /home/qw817/Desktop/Lung_TDA_application/rivet_outputs/rivet0580.rivet --datatype points --homology 0 --xbins 20 --ybins 20\n",
      "/home/qw817/rivet/rivet_console /home/qw817/Desktop/Lung_TDA_application/small_point_clouds/pc_0610.txt /home/qw817/Desktop/Lung_TDA_application/rivet_outputs/rivet0610.rivet --datatype points --homology 0 --xbins 20 --ybins 20\n",
      "/home/qw817/rivet/rivet_console /home/qw817/Desktop/Lung_TDA_application/small_point_clouds/pc_0624.txt /home/qw817/Desktop/Lung_TDA_application/rivet_outputs/rivet0624.rivet --datatype points --homology 0 --xbins 20 --ybins 20\n",
      "/home/qw817/rivet/rivet_console /home/qw817/Desktop/Lung_TDA_application/small_point_clouds/pc_0766.txt /home/qw817/Desktop/Lung_TDA_application/rivet_outputs/rivet0766.rivet --datatype points --homology 0 --xbins 20 --ybins 20\n",
      "/home/qw817/rivet/rivet_console /home/qw817/Desktop/Lung_TDA_application/small_point_clouds/pc_0771.txt /home/qw817/Desktop/Lung_TDA_application/rivet_outputs/rivet0771.rivet --datatype points --homology 0 --xbins 20 --ybins 20\n",
      "/home/qw817/rivet/rivet_console /home/qw817/Desktop/Lung_TDA_application/small_point_clouds/pc_0772.txt /home/qw817/Desktop/Lung_TDA_application/rivet_outputs/rivet0772.rivet --datatype points --homology 0 --xbins 20 --ybins 20\n",
      "/home/qw817/rivet/rivet_console /home/qw817/Desktop/Lung_TDA_application/small_point_clouds/pc_0811.txt /home/qw817/Desktop/Lung_TDA_application/rivet_outputs/rivet0811.rivet --datatype points --homology 0 --xbins 20 --ybins 20\n",
      "/home/qw817/rivet/rivet_console /home/qw817/Desktop/Lung_TDA_application/small_point_clouds/pc_0818.txt /home/qw817/Desktop/Lung_TDA_application/rivet_outputs/rivet0818.rivet --datatype points --homology 0 --xbins 20 --ybins 20\n",
      "/home/qw817/rivet/rivet_console /home/qw817/Desktop/Lung_TDA_application/small_point_clouds/pc_0875.txt /home/qw817/Desktop/Lung_TDA_application/rivet_outputs/rivet0875.rivet --datatype points --homology 0 --xbins 20 --ybins 20\n",
      "/home/qw817/rivet/rivet_console /home/qw817/Desktop/Lung_TDA_application/small_point_clouds/pc_0893.txt /home/qw817/Desktop/Lung_TDA_application/rivet_outputs/rivet0893.rivet --datatype points --homology 0 --xbins 20 --ybins 20\n",
      "/home/qw817/rivet/rivet_console /home/qw817/Desktop/Lung_TDA_application/small_point_clouds/pc_0905.txt /home/qw817/Desktop/Lung_TDA_application/rivet_outputs/rivet0905.rivet --datatype points --homology 0 --xbins 20 --ybins 20\n",
      "/home/qw817/rivet/rivet_console /home/qw817/Desktop/Lung_TDA_application/small_point_clouds/pc_0921.txt /home/qw817/Desktop/Lung_TDA_application/rivet_outputs/rivet0921.rivet --datatype points --homology 0 --xbins 20 --ybins 20\n",
      "/home/qw817/rivet/rivet_console /home/qw817/Desktop/Lung_TDA_application/small_point_clouds/pc_0924.txt /home/qw817/Desktop/Lung_TDA_application/rivet_outputs/rivet0924.rivet --datatype points --homology 0 --xbins 20 --ybins 20\n",
      "/home/qw817/rivet/rivet_console /home/qw817/Desktop/Lung_TDA_application/small_point_clouds/pc_0939.txt /home/qw817/Desktop/Lung_TDA_application/rivet_outputs/rivet0939.rivet --datatype points --homology 0 --xbins 20 --ybins 20\n",
      "/home/qw817/rivet/rivet_console /home/qw817/Desktop/Lung_TDA_application/small_point_clouds/pc_0965.txt /home/qw817/Desktop/Lung_TDA_application/rivet_outputs/rivet0965.rivet --datatype points --homology 0 --xbins 20 --ybins 20\n",
      "/home/qw817/rivet/rivet_console /home/qw817/Desktop/Lung_TDA_application/small_point_clouds/pc_0994.txt /home/qw817/Desktop/Lung_TDA_application/rivet_outputs/rivet0994.rivet --datatype points --homology 0 --xbins 20 --ybins 20\n",
      "/home/qw817/rivet/rivet_console /home/qw817/Desktop/Lung_TDA_application/small_point_clouds/pc_1002.txt /home/qw817/Desktop/Lung_TDA_application/rivet_outputs/rivet1002.rivet --datatype points --homology 0 --xbins 20 --ybins 20\n",
      "/home/qw817/rivet/rivet_console /home/qw817/Desktop/Lung_TDA_application/small_point_clouds/pc_1004.txt /home/qw817/Desktop/Lung_TDA_application/rivet_outputs/rivet1004.rivet --datatype points --homology 0 --xbins 20 --ybins 20\n",
      "/home/qw817/rivet/rivet_console /home/qw817/Desktop/Lung_TDA_application/small_point_clouds/pc_1010.txt /home/qw817/Desktop/Lung_TDA_application/rivet_outputs/rivet1010.rivet --datatype points --homology 0 --xbins 20 --ybins 20\n",
      "/home/qw817/rivet/rivet_console /home/qw817/Desktop/Lung_TDA_application/small_point_clouds/pc_1011.txt /home/qw817/Desktop/Lung_TDA_application/rivet_outputs/rivet1011.rivet --datatype points --homology 0 --xbins 20 --ybins 20\n"
     ]
    }
   ],
   "source": [
    "for i in ids:\n",
    "    print(\"/home/qw817/rivet/rivet_console /home/qw817/Desktop/Lung_TDA_application/small_point_clouds/pc_\"+i[-4:]+\".txt /home/qw817/Desktop/Lung_TDA_application/rivet_outputs/rivet\"+i[-4:]+\".rivet --datatype points --homology 0 --xbins 20 --ybins 20\")"
   ]
  },
  {
   "cell_type": "code",
   "execution_count": 54,
   "metadata": {},
   "outputs": [
    {
     "data": {
      "text/plain": [
       "[(989, 3),\n",
       " (1000, 3),\n",
       " (185, 3),\n",
       " (197, 3),\n",
       " (317, 3),\n",
       " (94, 3),\n",
       " (32, 3),\n",
       " (114, 3),\n",
       " (94, 3),\n",
       " (1000, 3),\n",
       " (1000, 3),\n",
       " (107, 3),\n",
       " (659, 3),\n",
       " (369, 3),\n",
       " (404, 3),\n",
       " (1000, 3),\n",
       " (888, 3),\n",
       " (117, 3),\n",
       " (1000, 3),\n",
       " (64, 3),\n",
       " (185, 3),\n",
       " (139, 3),\n",
       " (128, 3),\n",
       " (116, 3),\n",
       " (348, 3),\n",
       " (420, 3),\n",
       " (879, 3),\n",
       " (109, 3),\n",
       " (879, 3),\n",
       " (505, 3),\n",
       " (177, 3),\n",
       " (195, 3),\n",
       " (65, 3),\n",
       " (1000, 3),\n",
       " (1000, 3),\n",
       " (1000, 3),\n",
       " (1000, 3),\n",
       " (1000, 3),\n",
       " (488, 3),\n",
       " (212, 3),\n",
       " (928, 3),\n",
       " (69, 3),\n",
       " (90, 3),\n",
       " (112, 3),\n",
       " (1000, 3),\n",
       " (143, 3),\n",
       " (1000, 3),\n",
       " (43, 3),\n",
       " (225, 3),\n",
       " (463, 3),\n",
       " (1000, 3),\n",
       " (1000, 3),\n",
       " (136, 3),\n",
       " (1000, 3),\n",
       " (142, 3),\n",
       " (54, 3),\n",
       " (63, 3),\n",
       " (63, 3),\n",
       " (208, 3),\n",
       " (286, 3),\n",
       " (239, 3),\n",
       " (368, 3),\n",
       " (1000, 3),\n",
       " (66, 3),\n",
       " (1000, 3),\n",
       " (71, 3),\n",
       " (204, 3),\n",
       " (56, 3),\n",
       " (405, 3),\n",
       " (570, 3),\n",
       " (272, 3),\n",
       " (1000, 3),\n",
       " (199, 3),\n",
       " (82, 3),\n",
       " (124, 3),\n",
       " (667, 3),\n",
       " (173, 3),\n",
       " (881, 3),\n",
       " (455, 3),\n",
       " (1000, 3),\n",
       " (1000, 3),\n",
       " (87, 3),\n",
       " (29, 3),\n",
       " (130, 3),\n",
       " (92, 3),\n",
       " (63, 3),\n",
       " (162, 3),\n",
       " (328, 3),\n",
       " (43, 3),\n",
       " (270, 3),\n",
       " (472, 3),\n",
       " (225, 3),\n",
       " (103, 3),\n",
       " (142, 3),\n",
       " (141, 3),\n",
       " (173, 3),\n",
       " (196, 3),\n",
       " (145, 3),\n",
       " (57, 3),\n",
       " (183, 3),\n",
       " (1000, 3),\n",
       " (72, 3),\n",
       " (1000, 3),\n",
       " (1000, 3),\n",
       " (1000, 3),\n",
       " (149, 3),\n",
       " (959, 3),\n",
       " (198, 3),\n",
       " (252, 3),\n",
       " (1000, 3),\n",
       " (1000, 3),\n",
       " (134, 3),\n",
       " (513, 3),\n",
       " (82, 3),\n",
       " (1000, 3),\n",
       " (99, 3),\n",
       " (1000, 3),\n",
       " (276, 3),\n",
       " (1000, 3),\n",
       " (182, 3),\n",
       " (155, 3),\n",
       " (1000, 3),\n",
       " (599, 3),\n",
       " (451, 3),\n",
       " (1000, 3),\n",
       " (1000, 3),\n",
       " (70, 3),\n",
       " (1000, 3),\n",
       " (1000, 3),\n",
       " (1000, 3),\n",
       " (569, 3),\n",
       " (433, 3),\n",
       " (1000, 3),\n",
       " (1000, 3),\n",
       " (1000, 3),\n",
       " (691, 3),\n",
       " (1000, 3),\n",
       " (72, 3),\n",
       " (764, 3)]"
      ]
     },
     "execution_count": 54,
     "metadata": {},
     "output_type": "execute_result"
    }
   ],
   "source": [
    "[i.shape for i in small_pc]"
   ]
  },
  {
   "cell_type": "markdown",
   "metadata": {},
   "source": [
    "## Convert rivet outputs into rank functions\n"
   ]
  },
  {
   "cell_type": "code",
   "execution_count": 56,
   "metadata": {},
   "outputs": [],
   "source": [
    "from rank import rank_function"
   ]
  },
  {
   "cell_type": "code",
   "execution_count": 57,
   "metadata": {},
   "outputs": [],
   "source": [
    "with open(\"rivet_outputs/rivet0068.rivet\", 'rb') as f:\n",
    "    computed_data = f.read()\n",
    "r1 = rank_function(computed_data, grid_size=20, fixed_bounds=None, use_weights=False, normalize=False, minimum_rank=0)"
   ]
  },
  {
   "cell_type": "code",
   "execution_count": 59,
   "metadata": {},
   "outputs": [
    {
     "data": {
      "text/plain": [
       "9319.0"
      ]
     },
     "execution_count": 59,
     "metadata": {},
     "output_type": "execute_result"
    }
   ],
   "source": [
    "sum(r1)"
   ]
  },
  {
   "cell_type": "code",
   "execution_count": 61,
   "metadata": {},
   "outputs": [
    {
     "data": {
      "text/plain": [
       "34781"
      ]
     },
     "execution_count": 61,
     "metadata": {},
     "output_type": "execute_result"
    }
   ],
   "source": [
    "sum(r1==0)"
   ]
  },
  {
   "cell_type": "code",
   "execution_count": 63,
   "metadata": {},
   "outputs": [],
   "source": [
    "all_ranks = []\n",
    "for i in ids:\n",
    "    with open(\"rivet_outputs/rivet\"+i[-4:]+\".rivet\", 'rb') as f:\n",
    "        computed_data = f.read()\n",
    "    current_rank = rank_function(computed_data, grid_size=20, fixed_bounds=None, use_weights=False, normalize=False, minimum_rank=0)\n",
    "    all_ranks.append(current_rank)"
   ]
  },
  {
   "cell_type": "code",
   "execution_count": 64,
   "metadata": {},
   "outputs": [],
   "source": [
    "np.savetxt(\"computed_rank_functions_degree_rips.csv\", np.array(all_ranks), delimiter=',')"
   ]
  },
  {
   "cell_type": "code",
   "execution_count": 65,
   "metadata": {},
   "outputs": [
    {
     "data": {
      "text/plain": [
       "(139, 44100)"
      ]
     },
     "execution_count": 65,
     "metadata": {},
     "output_type": "execute_result"
    }
   ],
   "source": [
    "rank_mat = np.array(all_ranks)\n",
    "rank_mat.shape"
   ]
  },
  {
   "cell_type": "code",
   "execution_count": 76,
   "metadata": {},
   "outputs": [
    {
     "data": {
      "text/plain": [
       "(157, 14)"
      ]
     },
     "execution_count": 76,
     "metadata": {},
     "output_type": "execute_result"
    }
   ],
   "source": [
    "diagnosis.shape"
   ]
  },
  {
   "cell_type": "code",
   "execution_count": 77,
   "metadata": {},
   "outputs": [],
   "source": [
    "indices = []\n",
    "for i in range(157):\n",
    "    if diagnosis[i,0] in ids:\n",
    "        indices.append(i)"
   ]
  },
  {
   "cell_type": "code",
   "execution_count": 78,
   "metadata": {},
   "outputs": [
    {
     "data": {
      "text/plain": [
       "139"
      ]
     },
     "execution_count": 78,
     "metadata": {},
     "output_type": "execute_result"
    }
   ],
   "source": [
    "len(indices)"
   ]
  },
  {
   "cell_type": "code",
   "execution_count": 79,
   "metadata": {},
   "outputs": [],
   "source": [
    "useful_diagnosis = diagnosis[indices,:]"
   ]
  },
  {
   "cell_type": "code",
   "execution_count": 81,
   "metadata": {},
   "outputs": [
    {
     "data": {
      "text/plain": [
       "array([ True,  True,  True,  True,  True,  True,  True,  True,  True,\n",
       "        True,  True,  True,  True,  True,  True,  True,  True,  True,\n",
       "        True,  True,  True,  True,  True,  True,  True,  True,  True,\n",
       "        True,  True,  True,  True,  True,  True,  True,  True,  True,\n",
       "        True,  True,  True,  True,  True,  True,  True,  True,  True,\n",
       "        True,  True,  True,  True,  True,  True,  True,  True,  True,\n",
       "        True,  True,  True,  True,  True,  True,  True,  True,  True,\n",
       "        True,  True,  True,  True,  True,  True,  True,  True,  True,\n",
       "        True,  True,  True,  True,  True,  True,  True,  True,  True,\n",
       "        True,  True,  True,  True,  True,  True,  True,  True,  True,\n",
       "        True,  True,  True,  True,  True,  True,  True,  True,  True,\n",
       "        True,  True,  True,  True,  True,  True,  True,  True,  True,\n",
       "        True,  True,  True,  True,  True,  True,  True,  True,  True,\n",
       "        True,  True,  True,  True,  True,  True,  True,  True,  True,\n",
       "        True,  True,  True,  True,  True,  True,  True,  True,  True,\n",
       "        True,  True,  True,  True])"
      ]
     },
     "execution_count": 81,
     "metadata": {},
     "output_type": "execute_result"
    }
   ],
   "source": [
    "useful_diagnosis[:,0]==ids"
   ]
  },
  {
   "cell_type": "code",
   "execution_count": 82,
   "metadata": {},
   "outputs": [
    {
     "data": {
      "text/plain": [
       "array([False, False, False, False, False, False, False, False, False,\n",
       "       False, False, False, False, False, False, False, False, False,\n",
       "       False, False, False, False, False,  True, False,  True, False,\n",
       "       False, False, False, False, False, False, False, False, False,\n",
       "       False, False, False, False, False,  True, False, False, False,\n",
       "       False, False, False,  True,  True, False,  True,  True, False,\n",
       "        True,  True,  True, False, False,  True, False, False, False,\n",
       "        True, False,  True, False,  True, False, False,  True, False,\n",
       "       False, False, False, False, False, False, False, False, False,\n",
       "       False, False, False, False, False, False, False, False, False,\n",
       "       False,  True,  True,  True,  True, False, False, False,  True,\n",
       "        True, False, False, False, False, False, False, False, False,\n",
       "       False, False, False, False, False, False, False, False, False,\n",
       "       False,  True, False, False, False, False, False, False, False,\n",
       "        True, False, False, False, False, False, False, False, False,\n",
       "       False, False,  True, False])"
      ]
     },
     "execution_count": 82,
     "metadata": {},
     "output_type": "execute_result"
    }
   ],
   "source": [
    "useful_diagnosis[:,1]==0 #unknown diagnosis"
   ]
  },
  {
   "cell_type": "code",
   "execution_count": 83,
   "metadata": {},
   "outputs": [
    {
     "data": {
      "text/plain": [
       "24"
      ]
     },
     "execution_count": 83,
     "metadata": {},
     "output_type": "execute_result"
    }
   ],
   "source": [
    "sum(useful_diagnosis[:,1]==0 ) #24 unknown level"
   ]
  },
  {
   "cell_type": "code",
   "execution_count": 86,
   "metadata": {},
   "outputs": [
    {
     "data": {
      "text/plain": [
       "(115, 14)"
      ]
     },
     "execution_count": 86,
     "metadata": {},
     "output_type": "execute_result"
    }
   ],
   "source": [
    "useful_diagnosis[useful_diagnosis[:,1]!=0,:].shape"
   ]
  },
  {
   "cell_type": "code",
   "execution_count": 87,
   "metadata": {},
   "outputs": [],
   "source": [
    "diagnosed = useful_diagnosis[useful_diagnosis[:,1]!=0,:]"
   ]
  },
  {
   "cell_type": "code",
   "execution_count": 89,
   "metadata": {},
   "outputs": [],
   "source": [
    "# diagnosed contains those with diagnosed level\n",
    "# 1 is benign\n",
    "# 2,3 malignant\n",
    "diagnosed_ranks = rank_mat[useful_diagnosis[:,1]!=0,:]"
   ]
  },
  {
   "cell_type": "code",
   "execution_count": 94,
   "metadata": {},
   "outputs": [],
   "source": [
    "# make labels\n",
    "#let 1 be benign and 0 be malignant\n",
    "labels = np.array([0 for i in range(115)])\n",
    "labels[diagnosed[:,1]==1]=1"
   ]
  },
  {
   "cell_type": "code",
   "execution_count": 95,
   "metadata": {},
   "outputs": [
    {
     "data": {
      "text/plain": [
       "29"
      ]
     },
     "execution_count": 95,
     "metadata": {},
     "output_type": "execute_result"
    }
   ],
   "source": [
    "sum(labels)"
   ]
  },
  {
   "cell_type": "code",
   "execution_count": 96,
   "metadata": {},
   "outputs": [
    {
     "data": {
      "text/plain": [
       "29"
      ]
     },
     "execution_count": 96,
     "metadata": {},
     "output_type": "execute_result"
    }
   ],
   "source": [
    "sum(diagnosed[:,1]==1)"
   ]
  },
  {
   "cell_type": "code",
   "execution_count": 102,
   "metadata": {},
   "outputs": [
    {
     "name": "stdout",
     "output_type": "stream",
     "text": [
      "0.7608695652173914\n",
      "0.9130434782608695\n"
     ]
    }
   ],
   "source": [
    "from sklearn.model_selection import train_test_split\n",
    "from sklearn.neighbors import KNeighborsRegressor\n",
    "\n",
    "from sklearn.metrics import accuracy_score,average_precision_score\n",
    "\n",
    "X_train, X_test, y_train, y_test = train_test_split(diagnosed_ranks, labels, test_size=0.2)\n",
    "knn_model = KNeighborsRegressor(n_neighbors=5)\n",
    "knn_model.fit(X_train, y_train)\n",
    "\n",
    "train_pred = knn_model.predict(X_train)\n",
    "train_acc = accuracy_score(y_train, np.array([round(i) for i in train_pred]))\n",
    "print(train_acc)\n",
    "test_pred = knn_model.predict(X_test)\n",
    "test_acc = accuracy_score(y_test, np.array([round(i) for i in test_pred]))\n",
    "print(test_acc)"
   ]
  },
  {
   "cell_type": "code",
   "execution_count": 103,
   "metadata": {},
   "outputs": [
    {
     "name": "stdout",
     "output_type": "stream",
     "text": [
      "[0.8695652173913043, 0.7391304347826086, 0.6521739130434783, 0.6521739130434783, 0.6956521739130435]\n",
      "[0.8695652173913043, 0.6956521739130435, 0.7391304347826086, 0.6956521739130435, 0.6086956521739131]\n",
      "[0.7391304347826086, 0.6086956521739131, 0.6956521739130435, 0.782608695652174, 0.7391304347826086]\n",
      "[0.6521739130434783, 0.782608695652174, 0.7391304347826086, 0.6956521739130435, 0.6956521739130435]\n",
      "[0.7391304347826086, 0.6521739130434783, 0.6086956521739131, 0.6956521739130435, 0.8260869565217391]\n",
      "[0.6956521739130435, 0.8260869565217391, 0.6086956521739131, 0.7391304347826086, 0.782608695652174]\n",
      "[0.6521739130434783, 0.6956521739130435, 0.6956521739130435, 0.6521739130434783, 0.7391304347826086]\n",
      "[0.7391304347826086, 0.7391304347826086, 0.7391304347826086, 0.6956521739130435, 0.7391304347826086]\n",
      "[0.6521739130434783, 0.6956521739130435, 0.7391304347826086, 0.782608695652174, 0.6086956521739131]\n",
      "[0.782608695652174, 0.782608695652174, 0.7391304347826086, 0.782608695652174, 0.7391304347826086]\n"
     ]
    },
    {
     "data": {
      "text/plain": [
       "[0.7217391304347827,\n",
       " 0.7217391304347825,\n",
       " 0.7130434782608696,\n",
       " 0.7130434782608696,\n",
       " 0.7043478260869566,\n",
       " 0.7304347826086957,\n",
       " 0.6869565217391305,\n",
       " 0.7304347826086957,\n",
       " 0.6956521739130435,\n",
       " 0.7652173913043478]"
      ]
     },
     "execution_count": 103,
     "metadata": {},
     "output_type": "execute_result"
    }
   ],
   "source": [
    "# define a function for computing the accuracy over \n",
    "def cv_accuracy_iter(X, y, n_iter=10, fold=5):\n",
    "    overall_acc = [1000 for j in range(n_iter)]\n",
    "    for i in range(n_iter):\n",
    "        accuracies = [100 for k in range(fold)]\n",
    "        # fold cv\n",
    "        str_cv = StratifiedKFold(n_splits=fold, shuffle=True)\n",
    "        fold_num = 0\n",
    "        for train_index, test_index in str_cv.split(X, y):\n",
    "            knn_model = KNeighborsRegressor(n_neighbors=5)\n",
    "            knn_model.fit(X[train_index], y[train_index])\n",
    "            test_pred = knn_model.predict(X[test_index])\n",
    "            test_acc = accuracy_score(y[test_index], np.array([round(i) for i in test_pred]))\n",
    "            accuracies[fold_num] = test_acc\n",
    "            # update fold\n",
    "            fold_num +=1\n",
    "        overall_acc[i] = np.mean(accuracies)\n",
    "        print(accuracies)\n",
    "    return overall_acc\n",
    "\n",
    "from sklearn.model_selection import StratifiedKFold\n",
    "cv_accuracy_iter(diagnosed_ranks, labels, 10, 5)"
   ]
  },
  {
   "cell_type": "code",
   "execution_count": 107,
   "metadata": {},
   "outputs": [
    {
     "name": "stdout",
     "output_type": "stream",
     "text": [
      "[0.5331103678929766, 0.3270358868184956, 0.24154589371980675, 0.26679841897233203, 0.2077898550724638]\n",
      "[0.19891304347826086, 0.28043478260869564, 0.4601449275362318, 0.3234126984126984, 0.4]\n",
      "[0.18968379446640315, 0.39806763285024155, 0.4304347826086956, 0.2911490683229814, 0.23140096618357486]\n",
      "[0.4773934837092732, 0.2772601794340925, 0.5879227053140097, 0.3081841432225064, 0.22038740245261987]\n",
      "[0.26923583662714096, 0.2526167471819646, 0.3863871635610766, 0.3536231884057971, 0.2503019323671498]\n",
      "[0.21739130434782608, 0.40458937198067635, 0.31175311467073485, 0.31431159420289856, 0.279549114331723]\n",
      "[0.19528985507246377, 0.33448355187485623, 0.37984189723320155, 0.2851966873706004, 0.3341645353793692]\n",
      "[0.3022501906941266, 0.4309782608695652, 0.3883712905452036, 0.23642861827005052, 0.2573671497584541]\n",
      "[0.20695652173913046, 0.469047619047619, 0.5262681159420289, 0.442512077294686, 0.27904040404040403]\n",
      "[0.19453734671125975, 0.4722222222222222, 0.3048245614035088, 0.42028985507246375, 0.37399355877616747]\n"
     ]
    },
    {
     "data": {
      "text/plain": [
       "[0.3152560844952149,\n",
       " 0.33258109040717737,\n",
       " 0.3081472488863793,\n",
       " 0.3742295828265004,\n",
       " 0.3024329736286258,\n",
       " 0.3055188999067718,\n",
       " 0.3057953053860982,\n",
       " 0.32307910202748,\n",
       " 0.3847649476127737,\n",
       " 0.3531735088371244]"
      ]
     },
     "execution_count": 107,
     "metadata": {},
     "output_type": "execute_result"
    }
   ],
   "source": [
    "# define a function for computing the average precision \n",
    "def cv_ap_iter(X, y, n_iter=10, fold=5):\n",
    "    overall_ap = [1000 for j in range(n_iter)]\n",
    "    for i in range(n_iter):\n",
    "        ap = [100 for k in range(fold)]\n",
    "        # fold cv\n",
    "        str_cv = StratifiedKFold(n_splits=fold, shuffle=True)\n",
    "        fold_num = 0\n",
    "        for train_index, test_index in str_cv.split(X, y):\n",
    "            knn_model = KNeighborsRegressor(n_neighbors=5)\n",
    "            knn_model.fit(X[train_index], y[train_index])\n",
    "            test_pred = knn_model.predict(X[test_index])\n",
    "            test_ap = average_precision_score(y[test_index], test_pred)\n",
    "            ap[fold_num] = test_ap\n",
    "            # update fold\n",
    "            fold_num +=1\n",
    "        overall_ap[i] = np.mean(ap)\n",
    "        print(ap)\n",
    "    return overall_ap\n",
    "\n",
    "cv_ap_iter(diagnosed_ranks, labels, 10, 5)"
   ]
  },
  {
   "cell_type": "code",
   "execution_count": 111,
   "metadata": {},
   "outputs": [
    {
     "name": "stdout",
     "output_type": "stream",
     "text": [
      "0.7717391304347826\n",
      "0.6521739130434783\n"
     ]
    }
   ],
   "source": [
    "from sklearn import svm\n",
    "clf = svm.SVC()\n",
    "\n",
    "X_train, X_test, y_train, y_test = train_test_split(diagnosed_ranks, labels, test_size=0.2)\n",
    "\n",
    "clf.fit(X_train, y_train)\n",
    "\n",
    "train_pred = clf.predict(X_train)\n",
    "train_acc = accuracy_score(y_train, np.array([round(i) for i in train_pred]))\n",
    "print(train_acc)\n",
    "test_pred = clf.predict(X_test)\n",
    "test_acc = accuracy_score(y_test, np.array([round(i) for i in test_pred]))\n",
    "print(test_acc)"
   ]
  },
  {
   "cell_type": "code",
   "execution_count": 112,
   "metadata": {},
   "outputs": [
    {
     "name": "stderr",
     "output_type": "stream",
     "text": [
      "/home/qw817/anaconda3/lib/python3.7/site-packages/sklearn/svm/_base.py:1208: ConvergenceWarning: Liblinear failed to converge, increase the number of iterations.\n",
      "  ConvergenceWarning,\n",
      "/home/qw817/anaconda3/lib/python3.7/site-packages/sklearn/svm/_base.py:1208: ConvergenceWarning: Liblinear failed to converge, increase the number of iterations.\n",
      "  ConvergenceWarning,\n",
      "/home/qw817/anaconda3/lib/python3.7/site-packages/sklearn/svm/_base.py:1208: ConvergenceWarning: Liblinear failed to converge, increase the number of iterations.\n",
      "  ConvergenceWarning,\n",
      "/home/qw817/anaconda3/lib/python3.7/site-packages/sklearn/svm/_base.py:1208: ConvergenceWarning: Liblinear failed to converge, increase the number of iterations.\n",
      "  ConvergenceWarning,\n",
      "/home/qw817/anaconda3/lib/python3.7/site-packages/sklearn/svm/_base.py:1208: ConvergenceWarning: Liblinear failed to converge, increase the number of iterations.\n",
      "  ConvergenceWarning,\n"
     ]
    },
    {
     "name": "stdout",
     "output_type": "stream",
     "text": [
      "[0.8695652173913043, 0.7391304347826086, 0.6086956521739131, 0.782608695652174, 0.782608695652174]\n"
     ]
    },
    {
     "name": "stderr",
     "output_type": "stream",
     "text": [
      "/home/qw817/anaconda3/lib/python3.7/site-packages/sklearn/svm/_base.py:1208: ConvergenceWarning: Liblinear failed to converge, increase the number of iterations.\n",
      "  ConvergenceWarning,\n",
      "/home/qw817/anaconda3/lib/python3.7/site-packages/sklearn/svm/_base.py:1208: ConvergenceWarning: Liblinear failed to converge, increase the number of iterations.\n",
      "  ConvergenceWarning,\n",
      "/home/qw817/anaconda3/lib/python3.7/site-packages/sklearn/svm/_base.py:1208: ConvergenceWarning: Liblinear failed to converge, increase the number of iterations.\n",
      "  ConvergenceWarning,\n",
      "/home/qw817/anaconda3/lib/python3.7/site-packages/sklearn/svm/_base.py:1208: ConvergenceWarning: Liblinear failed to converge, increase the number of iterations.\n",
      "  ConvergenceWarning,\n",
      "/home/qw817/anaconda3/lib/python3.7/site-packages/sklearn/svm/_base.py:1208: ConvergenceWarning: Liblinear failed to converge, increase the number of iterations.\n",
      "  ConvergenceWarning,\n"
     ]
    },
    {
     "name": "stdout",
     "output_type": "stream",
     "text": [
      "[0.782608695652174, 0.43478260869565216, 0.6956521739130435, 0.782608695652174, 0.7391304347826086]\n"
     ]
    },
    {
     "name": "stderr",
     "output_type": "stream",
     "text": [
      "/home/qw817/anaconda3/lib/python3.7/site-packages/sklearn/svm/_base.py:1208: ConvergenceWarning: Liblinear failed to converge, increase the number of iterations.\n",
      "  ConvergenceWarning,\n",
      "/home/qw817/anaconda3/lib/python3.7/site-packages/sklearn/svm/_base.py:1208: ConvergenceWarning: Liblinear failed to converge, increase the number of iterations.\n",
      "  ConvergenceWarning,\n",
      "/home/qw817/anaconda3/lib/python3.7/site-packages/sklearn/svm/_base.py:1208: ConvergenceWarning: Liblinear failed to converge, increase the number of iterations.\n",
      "  ConvergenceWarning,\n",
      "/home/qw817/anaconda3/lib/python3.7/site-packages/sklearn/svm/_base.py:1208: ConvergenceWarning: Liblinear failed to converge, increase the number of iterations.\n",
      "  ConvergenceWarning,\n",
      "/home/qw817/anaconda3/lib/python3.7/site-packages/sklearn/svm/_base.py:1208: ConvergenceWarning: Liblinear failed to converge, increase the number of iterations.\n",
      "  ConvergenceWarning,\n"
     ]
    },
    {
     "name": "stdout",
     "output_type": "stream",
     "text": [
      "[0.6086956521739131, 0.6521739130434783, 0.6521739130434783, 0.8260869565217391, 0.7391304347826086]\n"
     ]
    },
    {
     "name": "stderr",
     "output_type": "stream",
     "text": [
      "/home/qw817/anaconda3/lib/python3.7/site-packages/sklearn/svm/_base.py:1208: ConvergenceWarning: Liblinear failed to converge, increase the number of iterations.\n",
      "  ConvergenceWarning,\n",
      "/home/qw817/anaconda3/lib/python3.7/site-packages/sklearn/svm/_base.py:1208: ConvergenceWarning: Liblinear failed to converge, increase the number of iterations.\n",
      "  ConvergenceWarning,\n",
      "/home/qw817/anaconda3/lib/python3.7/site-packages/sklearn/svm/_base.py:1208: ConvergenceWarning: Liblinear failed to converge, increase the number of iterations.\n",
      "  ConvergenceWarning,\n",
      "/home/qw817/anaconda3/lib/python3.7/site-packages/sklearn/svm/_base.py:1208: ConvergenceWarning: Liblinear failed to converge, increase the number of iterations.\n",
      "  ConvergenceWarning,\n",
      "/home/qw817/anaconda3/lib/python3.7/site-packages/sklearn/svm/_base.py:1208: ConvergenceWarning: Liblinear failed to converge, increase the number of iterations.\n",
      "  ConvergenceWarning,\n"
     ]
    },
    {
     "name": "stdout",
     "output_type": "stream",
     "text": [
      "[0.34782608695652173, 0.6956521739130435, 0.782608695652174, 0.782608695652174, 0.5217391304347826]\n"
     ]
    },
    {
     "name": "stderr",
     "output_type": "stream",
     "text": [
      "/home/qw817/anaconda3/lib/python3.7/site-packages/sklearn/svm/_base.py:1208: ConvergenceWarning: Liblinear failed to converge, increase the number of iterations.\n",
      "  ConvergenceWarning,\n",
      "/home/qw817/anaconda3/lib/python3.7/site-packages/sklearn/svm/_base.py:1208: ConvergenceWarning: Liblinear failed to converge, increase the number of iterations.\n",
      "  ConvergenceWarning,\n",
      "/home/qw817/anaconda3/lib/python3.7/site-packages/sklearn/svm/_base.py:1208: ConvergenceWarning: Liblinear failed to converge, increase the number of iterations.\n",
      "  ConvergenceWarning,\n",
      "/home/qw817/anaconda3/lib/python3.7/site-packages/sklearn/svm/_base.py:1208: ConvergenceWarning: Liblinear failed to converge, increase the number of iterations.\n",
      "  ConvergenceWarning,\n",
      "/home/qw817/anaconda3/lib/python3.7/site-packages/sklearn/svm/_base.py:1208: ConvergenceWarning: Liblinear failed to converge, increase the number of iterations.\n",
      "  ConvergenceWarning,\n"
     ]
    },
    {
     "name": "stdout",
     "output_type": "stream",
     "text": [
      "[0.7391304347826086, 0.7391304347826086, 0.8695652173913043, 0.5217391304347826, 0.5652173913043478]\n"
     ]
    },
    {
     "name": "stderr",
     "output_type": "stream",
     "text": [
      "/home/qw817/anaconda3/lib/python3.7/site-packages/sklearn/svm/_base.py:1208: ConvergenceWarning: Liblinear failed to converge, increase the number of iterations.\n",
      "  ConvergenceWarning,\n",
      "/home/qw817/anaconda3/lib/python3.7/site-packages/sklearn/svm/_base.py:1208: ConvergenceWarning: Liblinear failed to converge, increase the number of iterations.\n",
      "  ConvergenceWarning,\n",
      "/home/qw817/anaconda3/lib/python3.7/site-packages/sklearn/svm/_base.py:1208: ConvergenceWarning: Liblinear failed to converge, increase the number of iterations.\n",
      "  ConvergenceWarning,\n",
      "/home/qw817/anaconda3/lib/python3.7/site-packages/sklearn/svm/_base.py:1208: ConvergenceWarning: Liblinear failed to converge, increase the number of iterations.\n",
      "  ConvergenceWarning,\n",
      "/home/qw817/anaconda3/lib/python3.7/site-packages/sklearn/svm/_base.py:1208: ConvergenceWarning: Liblinear failed to converge, increase the number of iterations.\n",
      "  ConvergenceWarning,\n"
     ]
    },
    {
     "name": "stdout",
     "output_type": "stream",
     "text": [
      "[0.6521739130434783, 0.6956521739130435, 0.6956521739130435, 0.782608695652174, 0.8260869565217391]\n"
     ]
    },
    {
     "name": "stderr",
     "output_type": "stream",
     "text": [
      "/home/qw817/anaconda3/lib/python3.7/site-packages/sklearn/svm/_base.py:1208: ConvergenceWarning: Liblinear failed to converge, increase the number of iterations.\n",
      "  ConvergenceWarning,\n",
      "/home/qw817/anaconda3/lib/python3.7/site-packages/sklearn/svm/_base.py:1208: ConvergenceWarning: Liblinear failed to converge, increase the number of iterations.\n",
      "  ConvergenceWarning,\n",
      "/home/qw817/anaconda3/lib/python3.7/site-packages/sklearn/svm/_base.py:1208: ConvergenceWarning: Liblinear failed to converge, increase the number of iterations.\n",
      "  ConvergenceWarning,\n",
      "/home/qw817/anaconda3/lib/python3.7/site-packages/sklearn/svm/_base.py:1208: ConvergenceWarning: Liblinear failed to converge, increase the number of iterations.\n",
      "  ConvergenceWarning,\n",
      "/home/qw817/anaconda3/lib/python3.7/site-packages/sklearn/svm/_base.py:1208: ConvergenceWarning: Liblinear failed to converge, increase the number of iterations.\n",
      "  ConvergenceWarning,\n"
     ]
    },
    {
     "name": "stdout",
     "output_type": "stream",
     "text": [
      "[0.782608695652174, 0.6956521739130435, 0.6521739130434783, 0.7391304347826086, 0.7391304347826086]\n"
     ]
    },
    {
     "name": "stderr",
     "output_type": "stream",
     "text": [
      "/home/qw817/anaconda3/lib/python3.7/site-packages/sklearn/svm/_base.py:1208: ConvergenceWarning: Liblinear failed to converge, increase the number of iterations.\n",
      "  ConvergenceWarning,\n",
      "/home/qw817/anaconda3/lib/python3.7/site-packages/sklearn/svm/_base.py:1208: ConvergenceWarning: Liblinear failed to converge, increase the number of iterations.\n",
      "  ConvergenceWarning,\n",
      "/home/qw817/anaconda3/lib/python3.7/site-packages/sklearn/svm/_base.py:1208: ConvergenceWarning: Liblinear failed to converge, increase the number of iterations.\n",
      "  ConvergenceWarning,\n",
      "/home/qw817/anaconda3/lib/python3.7/site-packages/sklearn/svm/_base.py:1208: ConvergenceWarning: Liblinear failed to converge, increase the number of iterations.\n",
      "  ConvergenceWarning,\n",
      "/home/qw817/anaconda3/lib/python3.7/site-packages/sklearn/svm/_base.py:1208: ConvergenceWarning: Liblinear failed to converge, increase the number of iterations.\n",
      "  ConvergenceWarning,\n"
     ]
    },
    {
     "name": "stdout",
     "output_type": "stream",
     "text": [
      "[0.5652173913043478, 0.6956521739130435, 0.7391304347826086, 0.6521739130434783, 0.8260869565217391]\n"
     ]
    },
    {
     "name": "stderr",
     "output_type": "stream",
     "text": [
      "/home/qw817/anaconda3/lib/python3.7/site-packages/sklearn/svm/_base.py:1208: ConvergenceWarning: Liblinear failed to converge, increase the number of iterations.\n",
      "  ConvergenceWarning,\n",
      "/home/qw817/anaconda3/lib/python3.7/site-packages/sklearn/svm/_base.py:1208: ConvergenceWarning: Liblinear failed to converge, increase the number of iterations.\n",
      "  ConvergenceWarning,\n",
      "/home/qw817/anaconda3/lib/python3.7/site-packages/sklearn/svm/_base.py:1208: ConvergenceWarning: Liblinear failed to converge, increase the number of iterations.\n",
      "  ConvergenceWarning,\n",
      "/home/qw817/anaconda3/lib/python3.7/site-packages/sklearn/svm/_base.py:1208: ConvergenceWarning: Liblinear failed to converge, increase the number of iterations.\n",
      "  ConvergenceWarning,\n",
      "/home/qw817/anaconda3/lib/python3.7/site-packages/sklearn/svm/_base.py:1208: ConvergenceWarning: Liblinear failed to converge, increase the number of iterations.\n",
      "  ConvergenceWarning,\n"
     ]
    },
    {
     "name": "stdout",
     "output_type": "stream",
     "text": [
      "[0.8695652173913043, 0.6521739130434783, 0.6521739130434783, 0.782608695652174, 0.6956521739130435]\n"
     ]
    },
    {
     "name": "stderr",
     "output_type": "stream",
     "text": [
      "/home/qw817/anaconda3/lib/python3.7/site-packages/sklearn/svm/_base.py:1208: ConvergenceWarning: Liblinear failed to converge, increase the number of iterations.\n",
      "  ConvergenceWarning,\n",
      "/home/qw817/anaconda3/lib/python3.7/site-packages/sklearn/svm/_base.py:1208: ConvergenceWarning: Liblinear failed to converge, increase the number of iterations.\n",
      "  ConvergenceWarning,\n",
      "/home/qw817/anaconda3/lib/python3.7/site-packages/sklearn/svm/_base.py:1208: ConvergenceWarning: Liblinear failed to converge, increase the number of iterations.\n",
      "  ConvergenceWarning,\n",
      "/home/qw817/anaconda3/lib/python3.7/site-packages/sklearn/svm/_base.py:1208: ConvergenceWarning: Liblinear failed to converge, increase the number of iterations.\n",
      "  ConvergenceWarning,\n"
     ]
    },
    {
     "name": "stdout",
     "output_type": "stream",
     "text": [
      "[0.8260869565217391, 0.5652173913043478, 0.4782608695652174, 0.7391304347826086, 0.782608695652174]\n"
     ]
    },
    {
     "name": "stderr",
     "output_type": "stream",
     "text": [
      "/home/qw817/anaconda3/lib/python3.7/site-packages/sklearn/svm/_base.py:1208: ConvergenceWarning: Liblinear failed to converge, increase the number of iterations.\n",
      "  ConvergenceWarning,\n"
     ]
    },
    {
     "data": {
      "text/plain": [
       "[0.7565217391304347,\n",
       " 0.6869565217391305,\n",
       " 0.6956521739130436,\n",
       " 0.6260869565217392,\n",
       " 0.6869565217391304,\n",
       " 0.7304347826086957,\n",
       " 0.7217391304347824,\n",
       " 0.6956521739130435,\n",
       " 0.7304347826086957,\n",
       " 0.6782608695652174]"
      ]
     },
     "execution_count": 112,
     "metadata": {},
     "output_type": "execute_result"
    }
   ],
   "source": [
    "# define a function for computing the accuracy over \n",
    "def cv_accuracy_iter(X, y, n_iter=10, fold=5):\n",
    "    overall_acc = [1000 for j in range(n_iter)]\n",
    "    for i in range(n_iter):\n",
    "        accuracies = [100 for k in range(fold)]\n",
    "        # fold cv\n",
    "        str_cv = StratifiedKFold(n_splits=fold, shuffle=True)\n",
    "        fold_num = 0\n",
    "        for train_index, test_index in str_cv.split(X, y):\n",
    "            clf = svm.LinearSVC()\n",
    "            clf.fit(X[train_index], y[train_index])\n",
    "            test_pred = clf.predict(X[test_index])\n",
    "            test_acc = accuracy_score(y[test_index], np.array([round(i) for i in test_pred]))\n",
    "            accuracies[fold_num] = test_acc\n",
    "            # update fold\n",
    "            fold_num +=1\n",
    "        overall_acc[i] = np.mean(accuracies)\n",
    "        print(accuracies)\n",
    "    return overall_acc\n",
    "\n",
    "cv_accuracy_iter(diagnosed_ranks, labels, 10, 5)"
   ]
  },
  {
   "cell_type": "code",
   "execution_count": 114,
   "metadata": {},
   "outputs": [],
   "source": [
    "# 3 classifications 3=meta 2=primary 1=benign\n",
    "indices3 = useful_diagnosis[:,1]!=0\n",
    "labels3 = useful_diagnosis[indices3,1]\n",
    "ranks3 = rank_mat[indices3,:]"
   ]
  },
  {
   "cell_type": "code",
   "execution_count": 115,
   "metadata": {},
   "outputs": [
    {
     "data": {
      "text/plain": [
       "(115, 44100)"
      ]
     },
     "execution_count": 115,
     "metadata": {},
     "output_type": "execute_result"
    }
   ],
   "source": [
    "ranks3.shape"
   ]
  },
  {
   "cell_type": "code",
   "execution_count": 121,
   "metadata": {},
   "outputs": [
    {
     "name": "stdout",
     "output_type": "stream",
     "text": [
      "['M', 'P', 'M', 'P', 'M', 'M', 'M', 'M', 'M', 'M', 'P', 'B', 'M', 'M', 'B', 'P', 'M', 'M', 'P', 'B', 'B', 'M', 'B', 'M', 'M', 'B', 'M', 'M', 'B', 'M', 'B', 'P', 'B', 'M', 'M', 'P', 'M', 'M', 'M', 'M', 'P', 'M', 'M', 'P', 'B', 'M', 'M', 'B', 'B', 'M', 'M', 'P', 'M', 'B', 'P', 'M', 'M', 'M', 'M', 'B', 'B', 'M', 'M', 'M', 'P', 'M', 'P', 'B', 'B', 'P', 'M', 'B', 'M', 'B', 'B', 'B', 'B', 'M', 'B', 'B', 'P', 'P', 'P', 'P', 'P', 'P', 'B', 'B', 'P', 'P', 'P', 'B', 'P', 'P', 'B', 'P', 'P', 'P', 'P', 'B', 'P', 'P', 'M', 'P', 'P', 'M', 'P', 'P', 'P', 'P', 'P', 'P', 'P', 'P', 'M']\n"
     ]
    }
   ],
   "source": [
    "labels3_txt = [\"B\" for i in range(115)]\n",
    "for i in range(115):\n",
    "    if labels3[i]==2:\n",
    "        labels3_txt[i]=\"P\"\n",
    "    elif labels3[i]==3:\n",
    "        labels3_txt[i] = \"M\"\n",
    "print(labels3_txt)"
   ]
  },
  {
   "cell_type": "code",
   "execution_count": 130,
   "metadata": {},
   "outputs": [
    {
     "name": "stdout",
     "output_type": "stream",
     "text": [
      "0.5760869565217391\n",
      "0.4782608695652174\n"
     ]
    }
   ],
   "source": [
    "from sklearn.neighbors import KNeighborsClassifier\n",
    "X_train, X_test, y_train, y_test = train_test_split(ranks3, labels3.astype('int'), test_size=0.2)\n",
    "knn_model = KNeighborsClassifier(n_neighbors=5)\n",
    "knn_model.fit(X_train, y_train)\n",
    "\n",
    "train_pred = knn_model.predict(X_train)\n",
    "train_acc = accuracy_score(y_train, np.array([round(i) for i in train_pred]))\n",
    "print(train_acc)\n",
    "test_pred = knn_model.predict(X_test)\n",
    "test_acc = accuracy_score(y_test, np.array([round(i) for i in test_pred]))\n",
    "print(test_acc)"
   ]
  },
  {
   "cell_type": "code",
   "execution_count": 129,
   "metadata": {},
   "outputs": [
    {
     "data": {
      "text/plain": [
       "numpy.ndarray"
      ]
     },
     "execution_count": 129,
     "metadata": {},
     "output_type": "execute_result"
    }
   ],
   "source": []
  },
  {
   "cell_type": "code",
   "execution_count": 131,
   "metadata": {},
   "outputs": [
    {
     "name": "stdout",
     "output_type": "stream",
     "text": [
      "[0.5652173913043478, 0.2608695652173913, 0.34782608695652173, 0.4782608695652174, 0.391304347826087]\n",
      "[0.4782608695652174, 0.34782608695652173, 0.5217391304347826, 0.5217391304347826, 0.5652173913043478]\n",
      "[0.6521739130434783, 0.34782608695652173, 0.2608695652173913, 0.391304347826087, 0.5652173913043478]\n",
      "[0.5217391304347826, 0.43478260869565216, 0.21739130434782608, 0.391304347826087, 0.5217391304347826]\n",
      "[0.391304347826087, 0.43478260869565216, 0.43478260869565216, 0.4782608695652174, 0.391304347826087]\n",
      "[0.43478260869565216, 0.30434782608695654, 0.5217391304347826, 0.4782608695652174, 0.391304347826087]\n",
      "[0.43478260869565216, 0.30434782608695654, 0.43478260869565216, 0.6086956521739131, 0.391304347826087]\n",
      "[0.6086956521739131, 0.391304347826087, 0.34782608695652173, 0.391304347826087, 0.6086956521739131]\n",
      "[0.30434782608695654, 0.5217391304347826, 0.391304347826087, 0.43478260869565216, 0.391304347826087]\n",
      "[0.34782608695652173, 0.391304347826087, 0.4782608695652174, 0.43478260869565216, 0.5217391304347826]\n"
     ]
    },
    {
     "data": {
      "text/plain": [
       "[0.408695652173913,\n",
       " 0.4869565217391304,\n",
       " 0.4434782608695652,\n",
       " 0.41739130434782606,\n",
       " 0.42608695652173917,\n",
       " 0.42608695652173906,\n",
       " 0.43478260869565216,\n",
       " 0.4695652173913043,\n",
       " 0.40869565217391307,\n",
       " 0.43478260869565216]"
      ]
     },
     "execution_count": 131,
     "metadata": {},
     "output_type": "execute_result"
    }
   ],
   "source": [
    "# define a function for computing the accuracy over \n",
    "def cv_accuracy_iter(X, y, n_iter=10, fold=5):\n",
    "    overall_acc = [1000 for j in range(n_iter)]\n",
    "    for i in range(n_iter):\n",
    "        accuracies = [100 for k in range(fold)]\n",
    "        # fold cv\n",
    "        str_cv = StratifiedKFold(n_splits=fold, shuffle=True)\n",
    "        fold_num = 0\n",
    "        for train_index, test_index in str_cv.split(X, y):\n",
    "            knn_model = KNeighborsClassifier(n_neighbors=5)\n",
    "            knn_model.fit(X[train_index], y[train_index])\n",
    "            test_pred = knn_model.predict(X[test_index])\n",
    "            test_acc = accuracy_score(y[test_index], np.array([round(i) for i in test_pred]))\n",
    "            accuracies[fold_num] = test_acc\n",
    "            # update fold\n",
    "            fold_num +=1\n",
    "        overall_acc[i] = np.mean(accuracies)\n",
    "        print(accuracies)\n",
    "    return overall_acc\n",
    "\n",
    "from sklearn.model_selection import StratifiedKFold\n",
    "cv_accuracy_iter(ranks3, labels3.astype('int'), 10, 5)"
   ]
  },
  {
   "cell_type": "code",
   "execution_count": 132,
   "metadata": {},
   "outputs": [],
   "source": [
    "from sklearn.decomposition import PCA\n",
    "pca = PCA()\n",
    "ranks3_pca = pca.fit_transform(ranks3)"
   ]
  },
  {
   "cell_type": "code",
   "execution_count": 133,
   "metadata": {},
   "outputs": [
    {
     "data": {
      "text/plain": [
       "(115, 115)"
      ]
     },
     "execution_count": 133,
     "metadata": {},
     "output_type": "execute_result"
    }
   ],
   "source": [
    "ranks3_pca.shape"
   ]
  },
  {
   "cell_type": "code",
   "execution_count": 134,
   "metadata": {},
   "outputs": [
    {
     "name": "stdout",
     "output_type": "stream",
     "text": [
      "[0.5652173913043478, 0.391304347826087, 0.43478260869565216, 0.391304347826087, 0.4782608695652174]\n",
      "[0.6086956521739131, 0.30434782608695654, 0.43478260869565216, 0.43478260869565216, 0.4782608695652174]\n",
      "[0.34782608695652173, 0.5217391304347826, 0.5652173913043478, 0.5217391304347826, 0.4782608695652174]\n",
      "[0.391304347826087, 0.34782608695652173, 0.43478260869565216, 0.43478260869565216, 0.6086956521739131]\n",
      "[0.391304347826087, 0.5217391304347826, 0.43478260869565216, 0.43478260869565216, 0.391304347826087]\n",
      "[0.5652173913043478, 0.5217391304347826, 0.34782608695652173, 0.5652173913043478, 0.30434782608695654]\n",
      "[0.4782608695652174, 0.391304347826087, 0.34782608695652173, 0.43478260869565216, 0.391304347826087]\n",
      "[0.5217391304347826, 0.4782608695652174, 0.4782608695652174, 0.34782608695652173, 0.34782608695652173]\n",
      "[0.5217391304347826, 0.2608695652173913, 0.5652173913043478, 0.34782608695652173, 0.391304347826087]\n",
      "[0.43478260869565216, 0.4782608695652174, 0.34782608695652173, 0.391304347826087, 0.5652173913043478]\n"
     ]
    },
    {
     "data": {
      "text/plain": [
       "[0.4521739130434782,\n",
       " 0.4521739130434782,\n",
       " 0.4869565217391304,\n",
       " 0.4434782608695652,\n",
       " 0.43478260869565216,\n",
       " 0.4608695652173913,\n",
       " 0.40869565217391307,\n",
       " 0.43478260869565216,\n",
       " 0.41739130434782606,\n",
       " 0.4434782608695652]"
      ]
     },
     "execution_count": 134,
     "metadata": {},
     "output_type": "execute_result"
    }
   ],
   "source": [
    "cv_accuracy_iter(ranks3_pca, labels3.astype('int'), 10, 5)"
   ]
  },
  {
   "cell_type": "code",
   "execution_count": 135,
   "metadata": {},
   "outputs": [],
   "source": [
    "# plot in 2d\n",
    "pca = PCA(3)\n",
    "ranks3_2 = pca.fit_transform(ranks3)"
   ]
  },
  {
   "cell_type": "code",
   "execution_count": 139,
   "metadata": {},
   "outputs": [
    {
     "data": {
      "text/plain": [
       "<matplotlib.collections.PathCollection at 0x7ffbbdaabf90>"
      ]
     },
     "execution_count": 139,
     "metadata": {},
     "output_type": "execute_result"
    },
    {
     "data": {
      "image/png": "[encoded data removed]",
      "text/plain": [
       "<Figure size 432x288 with 1 Axes>"
      ]
     },
     "metadata": {
      "needs_background": "light"
     },
     "output_type": "display_data"
    }
   ],
   "source": [
    "plt.scatter(ranks3_2[:,0], ranks3_2[:,1],c=labels3)"
   ]
  },
  {
   "cell_type": "code",
   "execution_count": null,
   "metadata": {},
   "outputs": [],
   "source": []
  },
  {
   "cell_type": "markdown",
   "metadata": {},
   "source": [
    "### write small_pc to txt file with height [:,2] as extra filtration function"
   ]
  },
  {
   "cell_type": "code",
   "execution_count": 140,
   "metadata": {},
   "outputs": [
    {
     "data": {
      "text/plain": [
       "(989, 3)"
      ]
     },
     "execution_count": 140,
     "metadata": {},
     "output_type": "execute_result"
    }
   ],
   "source": [
    "#test\n",
    "trial = small_pc[0]\n",
    "trial.shape"
   ]
  },
  {
   "cell_type": "markdown",
   "metadata": {},
   "source": [
    "## 'w' overwrites\n",
    "## 'a' append\n",
    "## 'x' create new file if it does not exist"
   ]
  },
  {
   "cell_type": "code",
   "execution_count": 151,
   "metadata": {},
   "outputs": [],
   "source": [
    "#\n",
    "f = open(\"trial_write.txt\", \"w\")\n",
    "f.write(\"--datatype points_fn\\n\")\n",
    "f.close()"
   ]
  },
  {
   "cell_type": "code",
   "execution_count": 152,
   "metadata": {},
   "outputs": [
    {
     "name": "stdout",
     "output_type": "stream",
     "text": [
      "--datatype points_fn\n",
      "\n"
     ]
    }
   ],
   "source": [
    "f = open(\"trial_write.txt\", \"r\")\n",
    "print(f.read()) "
   ]
  },
  {
   "cell_type": "code",
   "execution_count": 153,
   "metadata": {},
   "outputs": [],
   "source": [
    "f = open(\"trial_write.txt\", \"a\")\n",
    "f.write(\"\\n\")\n",
    "f.write(\",\".join(map(str, trial[:,2])))\n",
    "f.write(\"\\n\")\n",
    "f.close()"
   ]
  },
  {
   "cell_type": "markdown",
   "metadata": {},
   "source": [
    "f = open(\"trial_write.txt\", \"r\")\n",
    "print(f.read()) "
   ]
  },
  {
   "cell_type": "code",
   "execution_count": 155,
   "metadata": {},
   "outputs": [],
   "source": [
    "f = open(\"trial_write.txt\", \"a\")\n",
    "for i in range(trial.shape[0]):\n",
    "    f.write(\",\".join(map(str, trial[i,:])))\n",
    "    f.write(\"\\n\")\n",
    "f.close()"
   ]
  },
  {
   "cell_type": "markdown",
   "metadata": {},
   "source": [
    "### Correct form to run rivet\n",
    "/home/qw817/rivet/rivet_console /home/qw817/Desktop/Lung_TDA_application/trial_write.txt /home/qw817/Desktop/Lung_TDA_application/trial_rivet_output.rivet --xbins 20  --ybins 20\n"
   ]
  },
  {
   "cell_type": "code",
   "execution_count": 160,
   "metadata": {},
   "outputs": [],
   "source": [
    "# for every dataset in small_pc write to \"small_point_cloud_height_filtration\"\n",
    "\n",
    "n = len(ids)\n",
    "for i in range(n):\n",
    "    pid = ids[i]\n",
    "    ppc = small_pc[i]\n",
    "    \n",
    "    # write to file\n",
    "    file_name = \"small_point_cloud_height_filtration/h_ptcl_\"+pid[-4:]+\".txt\"\n",
    "    f = open(file_name, \"w\")\n",
    "    f.write(\"--datatype points_fn\\n\")\n",
    "    f.write(\"\\n\")\n",
    "    f.write(\",\".join(map(str, ppc[:,2])))\n",
    "    f.write(\"\\n\")\n",
    "\n",
    "    for j in range(ppc.shape[0]):\n",
    "        f.write(\"\\n\")\n",
    "        f.write(\",\".join(map(str, ppc[j,:])))\n",
    "    \n",
    "    f.close()      \n"
   ]
  },
  {
   "cell_type": "code",
   "execution_count": 162,
   "metadata": {},
   "outputs": [],
   "source": [
    "# x as extra filtration\n",
    "\n",
    "n = len(ids)\n",
    "for i in range(n):\n",
    "    pid = ids[i]\n",
    "    ppc = small_pc[i]\n",
    "    \n",
    "    # write to file\n",
    "    file_name = \"x_pc/pc_\"+pid[-4:]+\".txt\"\n",
    "    f = open(file_name, \"w\")\n",
    "    f.write(\"--datatype points_fn\\n\")\n",
    "    f.write(\"\\n\")\n",
    "    f.write(\",\".join(map(str, ppc[:,0])))\n",
    "    f.write(\"\\n\")\n",
    "\n",
    "    for j in range(ppc.shape[0]):\n",
    "        f.write(\"\\n\")\n",
    "        f.write(\",\".join(map(str, ppc[j,:])))\n",
    "    \n",
    "    f.close()      \n"
   ]
  },
  {
   "cell_type": "code",
   "execution_count": 163,
   "metadata": {},
   "outputs": [],
   "source": [
    "# y as extra filtration\n",
    "\n",
    "n = len(ids)\n",
    "for i in range(n):\n",
    "    pid = ids[i]\n",
    "    ppc = small_pc[i]\n",
    "    \n",
    "    # write to file\n",
    "    file_name = \"y_pc/pc_\"+pid[-4:]+\".txt\"\n",
    "    f = open(file_name, \"w\")\n",
    "    f.write(\"--datatype points_fn\\n\")\n",
    "    f.write(\"\\n\")\n",
    "    f.write(\",\".join(map(str, ppc[:,1])))\n",
    "    f.write(\"\\n\")\n",
    "\n",
    "    for j in range(ppc.shape[0]):\n",
    "        f.write(\"\\n\")\n",
    "        f.write(\",\".join(map(str, ppc[j,:])))\n",
    "    \n",
    "    f.close()      "
   ]
  },
  {
   "cell_type": "code",
   "execution_count": 164,
   "metadata": {},
   "outputs": [
    {
     "name": "stdout",
     "output_type": "stream",
     "text": [
      "/home/qw817/rivet/rivet_console /home/qw817/Desktop/Lung_TDA_application/small_point_cloud_height_filtration/h_ptcl_0068.txt /home/qw817/Desktop/Lung_TDA_application/height_rivet/h_pc0068.rivet --xbins 20 --ybins 20\n",
      "/home/qw817/rivet/rivet_console /home/qw817/Desktop/Lung_TDA_application/small_point_cloud_height_filtration/h_ptcl_0072.txt /home/qw817/Desktop/Lung_TDA_application/height_rivet/h_pc0072.rivet --xbins 20 --ybins 20\n",
      "/home/qw817/rivet/rivet_console /home/qw817/Desktop/Lung_TDA_application/small_point_cloud_height_filtration/h_ptcl_0088.txt /home/qw817/Desktop/Lung_TDA_application/height_rivet/h_pc0088.rivet --xbins 20 --ybins 20\n",
      "/home/qw817/rivet/rivet_console /home/qw817/Desktop/Lung_TDA_application/small_point_cloud_height_filtration/h_ptcl_0090.txt /home/qw817/Desktop/Lung_TDA_application/height_rivet/h_pc0090.rivet --xbins 20 --ybins 20\n",
      "/home/qw817/rivet/rivet_console /home/qw817/Desktop/Lung_TDA_application/small_point_cloud_height_filtration/h_ptcl_0091.txt /home/qw817/Desktop/Lung_TDA_application/height_rivet/h_pc0091.rivet --xbins 20 --ybins 20\n",
      "/home/qw817/rivet/rivet_console /home/qw817/Desktop/Lung_TDA_application/small_point_cloud_height_filtration/h_ptcl_0118.txt /home/qw817/Desktop/Lung_TDA_application/height_rivet/h_pc0118.rivet --xbins 20 --ybins 20\n",
      "/home/qw817/rivet/rivet_console /home/qw817/Desktop/Lung_TDA_application/small_point_cloud_height_filtration/h_ptcl_0124.txt /home/qw817/Desktop/Lung_TDA_application/height_rivet/h_pc0124.rivet --xbins 20 --ybins 20\n",
      "/home/qw817/rivet/rivet_console /home/qw817/Desktop/Lung_TDA_application/small_point_cloud_height_filtration/h_ptcl_0129.txt /home/qw817/Desktop/Lung_TDA_application/height_rivet/h_pc0129.rivet --xbins 20 --ybins 20\n",
      "/home/qw817/rivet/rivet_console /home/qw817/Desktop/Lung_TDA_application/small_point_cloud_height_filtration/h_ptcl_0135.txt /home/qw817/Desktop/Lung_TDA_application/height_rivet/h_pc0135.rivet --xbins 20 --ybins 20\n",
      "/home/qw817/rivet/rivet_console /home/qw817/Desktop/Lung_TDA_application/small_point_cloud_height_filtration/h_ptcl_0137.txt /home/qw817/Desktop/Lung_TDA_application/height_rivet/h_pc0137.rivet --xbins 20 --ybins 20\n",
      "/home/qw817/rivet/rivet_console /home/qw817/Desktop/Lung_TDA_application/small_point_cloud_height_filtration/h_ptcl_0138.txt /home/qw817/Desktop/Lung_TDA_application/height_rivet/h_pc0138.rivet --xbins 20 --ybins 20\n",
      "/home/qw817/rivet/rivet_console /home/qw817/Desktop/Lung_TDA_application/small_point_cloud_height_filtration/h_ptcl_0149.txt /home/qw817/Desktop/Lung_TDA_application/height_rivet/h_pc0149.rivet --xbins 20 --ybins 20\n",
      "/home/qw817/rivet/rivet_console /home/qw817/Desktop/Lung_TDA_application/small_point_cloud_height_filtration/h_ptcl_0159.txt /home/qw817/Desktop/Lung_TDA_application/height_rivet/h_pc0159.rivet --xbins 20 --ybins 20\n",
      "/home/qw817/rivet/rivet_console /home/qw817/Desktop/Lung_TDA_application/small_point_cloud_height_filtration/h_ptcl_0161.txt /home/qw817/Desktop/Lung_TDA_application/height_rivet/h_pc0161.rivet --xbins 20 --ybins 20\n",
      "/home/qw817/rivet/rivet_console /home/qw817/Desktop/Lung_TDA_application/small_point_cloud_height_filtration/h_ptcl_0162.txt /home/qw817/Desktop/Lung_TDA_application/height_rivet/h_pc0162.rivet --xbins 20 --ybins 20\n",
      "/home/qw817/rivet/rivet_console /home/qw817/Desktop/Lung_TDA_application/small_point_cloud_height_filtration/h_ptcl_0163.txt /home/qw817/Desktop/Lung_TDA_application/height_rivet/h_pc0163.rivet --xbins 20 --ybins 20\n",
      "/home/qw817/rivet/rivet_console /home/qw817/Desktop/Lung_TDA_application/small_point_cloud_height_filtration/h_ptcl_0164.txt /home/qw817/Desktop/Lung_TDA_application/height_rivet/h_pc0164.rivet --xbins 20 --ybins 20\n",
      "/home/qw817/rivet/rivet_console /home/qw817/Desktop/Lung_TDA_application/small_point_cloud_height_filtration/h_ptcl_0165.txt /home/qw817/Desktop/Lung_TDA_application/height_rivet/h_pc0165.rivet --xbins 20 --ybins 20\n",
      "/home/qw817/rivet/rivet_console /home/qw817/Desktop/Lung_TDA_application/small_point_cloud_height_filtration/h_ptcl_0166.txt /home/qw817/Desktop/Lung_TDA_application/height_rivet/h_pc0166.rivet --xbins 20 --ybins 20\n",
      "/home/qw817/rivet/rivet_console /home/qw817/Desktop/Lung_TDA_application/small_point_cloud_height_filtration/h_ptcl_0167.txt /home/qw817/Desktop/Lung_TDA_application/height_rivet/h_pc0167.rivet --xbins 20 --ybins 20\n",
      "/home/qw817/rivet/rivet_console /home/qw817/Desktop/Lung_TDA_application/small_point_cloud_height_filtration/h_ptcl_0168.txt /home/qw817/Desktop/Lung_TDA_application/height_rivet/h_pc0168.rivet --xbins 20 --ybins 20\n",
      "/home/qw817/rivet/rivet_console /home/qw817/Desktop/Lung_TDA_application/small_point_cloud_height_filtration/h_ptcl_0169.txt /home/qw817/Desktop/Lung_TDA_application/height_rivet/h_pc0169.rivet --xbins 20 --ybins 20\n",
      "/home/qw817/rivet/rivet_console /home/qw817/Desktop/Lung_TDA_application/small_point_cloud_height_filtration/h_ptcl_0171.txt /home/qw817/Desktop/Lung_TDA_application/height_rivet/h_pc0171.rivet --xbins 20 --ybins 20\n",
      "/home/qw817/rivet/rivet_console /home/qw817/Desktop/Lung_TDA_application/small_point_cloud_height_filtration/h_ptcl_0173.txt /home/qw817/Desktop/Lung_TDA_application/height_rivet/h_pc0173.rivet --xbins 20 --ybins 20\n",
      "/home/qw817/rivet/rivet_console /home/qw817/Desktop/Lung_TDA_application/small_point_cloud_height_filtration/h_ptcl_0175.txt /home/qw817/Desktop/Lung_TDA_application/height_rivet/h_pc0175.rivet --xbins 20 --ybins 20\n",
      "/home/qw817/rivet/rivet_console /home/qw817/Desktop/Lung_TDA_application/small_point_cloud_height_filtration/h_ptcl_0176.txt /home/qw817/Desktop/Lung_TDA_application/height_rivet/h_pc0176.rivet --xbins 20 --ybins 20\n",
      "/home/qw817/rivet/rivet_console /home/qw817/Desktop/Lung_TDA_application/small_point_cloud_height_filtration/h_ptcl_0179.txt /home/qw817/Desktop/Lung_TDA_application/height_rivet/h_pc0179.rivet --xbins 20 --ybins 20\n",
      "/home/qw817/rivet/rivet_console /home/qw817/Desktop/Lung_TDA_application/small_point_cloud_height_filtration/h_ptcl_0180.txt /home/qw817/Desktop/Lung_TDA_application/height_rivet/h_pc0180.rivet --xbins 20 --ybins 20\n",
      "/home/qw817/rivet/rivet_console /home/qw817/Desktop/Lung_TDA_application/small_point_cloud_height_filtration/h_ptcl_0181.txt /home/qw817/Desktop/Lung_TDA_application/height_rivet/h_pc0181.rivet --xbins 20 --ybins 20\n",
      "/home/qw817/rivet/rivet_console /home/qw817/Desktop/Lung_TDA_application/small_point_cloud_height_filtration/h_ptcl_0182.txt /home/qw817/Desktop/Lung_TDA_application/height_rivet/h_pc0182.rivet --xbins 20 --ybins 20\n",
      "/home/qw817/rivet/rivet_console /home/qw817/Desktop/Lung_TDA_application/small_point_cloud_height_filtration/h_ptcl_0183.txt /home/qw817/Desktop/Lung_TDA_application/height_rivet/h_pc0183.rivet --xbins 20 --ybins 20\n",
      "/home/qw817/rivet/rivet_console /home/qw817/Desktop/Lung_TDA_application/small_point_cloud_height_filtration/h_ptcl_0184.txt /home/qw817/Desktop/Lung_TDA_application/height_rivet/h_pc0184.rivet --xbins 20 --ybins 20\n",
      "/home/qw817/rivet/rivet_console /home/qw817/Desktop/Lung_TDA_application/small_point_cloud_height_filtration/h_ptcl_0185.txt /home/qw817/Desktop/Lung_TDA_application/height_rivet/h_pc0185.rivet --xbins 20 --ybins 20\n",
      "/home/qw817/rivet/rivet_console /home/qw817/Desktop/Lung_TDA_application/small_point_cloud_height_filtration/h_ptcl_0186.txt /home/qw817/Desktop/Lung_TDA_application/height_rivet/h_pc0186.rivet --xbins 20 --ybins 20\n",
      "/home/qw817/rivet/rivet_console /home/qw817/Desktop/Lung_TDA_application/small_point_cloud_height_filtration/h_ptcl_0187.txt /home/qw817/Desktop/Lung_TDA_application/height_rivet/h_pc0187.rivet --xbins 20 --ybins 20\n",
      "/home/qw817/rivet/rivet_console /home/qw817/Desktop/Lung_TDA_application/small_point_cloud_height_filtration/h_ptcl_0188.txt /home/qw817/Desktop/Lung_TDA_application/height_rivet/h_pc0188.rivet --xbins 20 --ybins 20\n",
      "/home/qw817/rivet/rivet_console /home/qw817/Desktop/Lung_TDA_application/small_point_cloud_height_filtration/h_ptcl_0190.txt /home/qw817/Desktop/Lung_TDA_application/height_rivet/h_pc0190.rivet --xbins 20 --ybins 20\n",
      "/home/qw817/rivet/rivet_console /home/qw817/Desktop/Lung_TDA_application/small_point_cloud_height_filtration/h_ptcl_0191.txt /home/qw817/Desktop/Lung_TDA_application/height_rivet/h_pc0191.rivet --xbins 20 --ybins 20\n",
      "/home/qw817/rivet/rivet_console /home/qw817/Desktop/Lung_TDA_application/small_point_cloud_height_filtration/h_ptcl_0192.txt /home/qw817/Desktop/Lung_TDA_application/height_rivet/h_pc0192.rivet --xbins 20 --ybins 20\n",
      "/home/qw817/rivet/rivet_console /home/qw817/Desktop/Lung_TDA_application/small_point_cloud_height_filtration/h_ptcl_0193.txt /home/qw817/Desktop/Lung_TDA_application/height_rivet/h_pc0193.rivet --xbins 20 --ybins 20\n",
      "/home/qw817/rivet/rivet_console /home/qw817/Desktop/Lung_TDA_application/small_point_cloud_height_filtration/h_ptcl_0194.txt /home/qw817/Desktop/Lung_TDA_application/height_rivet/h_pc0194.rivet --xbins 20 --ybins 20\n",
      "/home/qw817/rivet/rivet_console /home/qw817/Desktop/Lung_TDA_application/small_point_cloud_height_filtration/h_ptcl_0198.txt /home/qw817/Desktop/Lung_TDA_application/height_rivet/h_pc0198.rivet --xbins 20 --ybins 20\n",
      "/home/qw817/rivet/rivet_console /home/qw817/Desktop/Lung_TDA_application/small_point_cloud_height_filtration/h_ptcl_0202.txt /home/qw817/Desktop/Lung_TDA_application/height_rivet/h_pc0202.rivet --xbins 20 --ybins 20\n",
      "/home/qw817/rivet/rivet_console /home/qw817/Desktop/Lung_TDA_application/small_point_cloud_height_filtration/h_ptcl_0203.txt /home/qw817/Desktop/Lung_TDA_application/height_rivet/h_pc0203.rivet --xbins 20 --ybins 20\n",
      "/home/qw817/rivet/rivet_console /home/qw817/Desktop/Lung_TDA_application/small_point_cloud_height_filtration/h_ptcl_0207.txt /home/qw817/Desktop/Lung_TDA_application/height_rivet/h_pc0207.rivet --xbins 20 --ybins 20\n",
      "/home/qw817/rivet/rivet_console /home/qw817/Desktop/Lung_TDA_application/small_point_cloud_height_filtration/h_ptcl_0210.txt /home/qw817/Desktop/Lung_TDA_application/height_rivet/h_pc0210.rivet --xbins 20 --ybins 20\n",
      "/home/qw817/rivet/rivet_console /home/qw817/Desktop/Lung_TDA_application/small_point_cloud_height_filtration/h_ptcl_0211.txt /home/qw817/Desktop/Lung_TDA_application/height_rivet/h_pc0211.rivet --xbins 20 --ybins 20\n",
      "/home/qw817/rivet/rivet_console /home/qw817/Desktop/Lung_TDA_application/small_point_cloud_height_filtration/h_ptcl_0212.txt /home/qw817/Desktop/Lung_TDA_application/height_rivet/h_pc0212.rivet --xbins 20 --ybins 20\n",
      "/home/qw817/rivet/rivet_console /home/qw817/Desktop/Lung_TDA_application/small_point_cloud_height_filtration/h_ptcl_0213.txt /home/qw817/Desktop/Lung_TDA_application/height_rivet/h_pc0213.rivet --xbins 20 --ybins 20\n",
      "/home/qw817/rivet/rivet_console /home/qw817/Desktop/Lung_TDA_application/small_point_cloud_height_filtration/h_ptcl_0217.txt /home/qw817/Desktop/Lung_TDA_application/height_rivet/h_pc0217.rivet --xbins 20 --ybins 20\n",
      "/home/qw817/rivet/rivet_console /home/qw817/Desktop/Lung_TDA_application/small_point_cloud_height_filtration/h_ptcl_0220.txt /home/qw817/Desktop/Lung_TDA_application/height_rivet/h_pc0220.rivet --xbins 20 --ybins 20\n",
      "/home/qw817/rivet/rivet_console /home/qw817/Desktop/Lung_TDA_application/small_point_cloud_height_filtration/h_ptcl_0221.txt /home/qw817/Desktop/Lung_TDA_application/height_rivet/h_pc0221.rivet --xbins 20 --ybins 20\n",
      "/home/qw817/rivet/rivet_console /home/qw817/Desktop/Lung_TDA_application/small_point_cloud_height_filtration/h_ptcl_0222.txt /home/qw817/Desktop/Lung_TDA_application/height_rivet/h_pc0222.rivet --xbins 20 --ybins 20\n",
      "/home/qw817/rivet/rivet_console /home/qw817/Desktop/Lung_TDA_application/small_point_cloud_height_filtration/h_ptcl_0223.txt /home/qw817/Desktop/Lung_TDA_application/height_rivet/h_pc0223.rivet --xbins 20 --ybins 20\n",
      "/home/qw817/rivet/rivet_console /home/qw817/Desktop/Lung_TDA_application/small_point_cloud_height_filtration/h_ptcl_0230.txt /home/qw817/Desktop/Lung_TDA_application/height_rivet/h_pc0230.rivet --xbins 20 --ybins 20\n",
      "/home/qw817/rivet/rivet_console /home/qw817/Desktop/Lung_TDA_application/small_point_cloud_height_filtration/h_ptcl_0231.txt /home/qw817/Desktop/Lung_TDA_application/height_rivet/h_pc0231.rivet --xbins 20 --ybins 20\n",
      "/home/qw817/rivet/rivet_console /home/qw817/Desktop/Lung_TDA_application/small_point_cloud_height_filtration/h_ptcl_0232.txt /home/qw817/Desktop/Lung_TDA_application/height_rivet/h_pc0232.rivet --xbins 20 --ybins 20\n",
      "/home/qw817/rivet/rivet_console /home/qw817/Desktop/Lung_TDA_application/small_point_cloud_height_filtration/h_ptcl_0233.txt /home/qw817/Desktop/Lung_TDA_application/height_rivet/h_pc0233.rivet --xbins 20 --ybins 20\n",
      "/home/qw817/rivet/rivet_console /home/qw817/Desktop/Lung_TDA_application/small_point_cloud_height_filtration/h_ptcl_0234.txt /home/qw817/Desktop/Lung_TDA_application/height_rivet/h_pc0234.rivet --xbins 20 --ybins 20\n",
      "/home/qw817/rivet/rivet_console /home/qw817/Desktop/Lung_TDA_application/small_point_cloud_height_filtration/h_ptcl_0235.txt /home/qw817/Desktop/Lung_TDA_application/height_rivet/h_pc0235.rivet --xbins 20 --ybins 20\n",
      "/home/qw817/rivet/rivet_console /home/qw817/Desktop/Lung_TDA_application/small_point_cloud_height_filtration/h_ptcl_0236.txt /home/qw817/Desktop/Lung_TDA_application/height_rivet/h_pc0236.rivet --xbins 20 --ybins 20\n",
      "/home/qw817/rivet/rivet_console /home/qw817/Desktop/Lung_TDA_application/small_point_cloud_height_filtration/h_ptcl_0237.txt /home/qw817/Desktop/Lung_TDA_application/height_rivet/h_pc0237.rivet --xbins 20 --ybins 20\n",
      "/home/qw817/rivet/rivet_console /home/qw817/Desktop/Lung_TDA_application/small_point_cloud_height_filtration/h_ptcl_0242.txt /home/qw817/Desktop/Lung_TDA_application/height_rivet/h_pc0242.rivet --xbins 20 --ybins 20\n",
      "/home/qw817/rivet/rivet_console /home/qw817/Desktop/Lung_TDA_application/small_point_cloud_height_filtration/h_ptcl_0243.txt /home/qw817/Desktop/Lung_TDA_application/height_rivet/h_pc0243.rivet --xbins 20 --ybins 20\n",
      "/home/qw817/rivet/rivet_console /home/qw817/Desktop/Lung_TDA_application/small_point_cloud_height_filtration/h_ptcl_0244.txt /home/qw817/Desktop/Lung_TDA_application/height_rivet/h_pc0244.rivet --xbins 20 --ybins 20\n",
      "/home/qw817/rivet/rivet_console /home/qw817/Desktop/Lung_TDA_application/small_point_cloud_height_filtration/h_ptcl_0245.txt /home/qw817/Desktop/Lung_TDA_application/height_rivet/h_pc0245.rivet --xbins 20 --ybins 20\n",
      "/home/qw817/rivet/rivet_console /home/qw817/Desktop/Lung_TDA_application/small_point_cloud_height_filtration/h_ptcl_0246.txt /home/qw817/Desktop/Lung_TDA_application/height_rivet/h_pc0246.rivet --xbins 20 --ybins 20\n",
      "/home/qw817/rivet/rivet_console /home/qw817/Desktop/Lung_TDA_application/small_point_cloud_height_filtration/h_ptcl_0248.txt /home/qw817/Desktop/Lung_TDA_application/height_rivet/h_pc0248.rivet --xbins 20 --ybins 20\n",
      "/home/qw817/rivet/rivet_console /home/qw817/Desktop/Lung_TDA_application/small_point_cloud_height_filtration/h_ptcl_0249.txt /home/qw817/Desktop/Lung_TDA_application/height_rivet/h_pc0249.rivet --xbins 20 --ybins 20\n",
      "/home/qw817/rivet/rivet_console /home/qw817/Desktop/Lung_TDA_application/small_point_cloud_height_filtration/h_ptcl_0250.txt /home/qw817/Desktop/Lung_TDA_application/height_rivet/h_pc0250.rivet --xbins 20 --ybins 20\n",
      "/home/qw817/rivet/rivet_console /home/qw817/Desktop/Lung_TDA_application/small_point_cloud_height_filtration/h_ptcl_0251.txt /home/qw817/Desktop/Lung_TDA_application/height_rivet/h_pc0251.rivet --xbins 20 --ybins 20\n",
      "/home/qw817/rivet/rivet_console /home/qw817/Desktop/Lung_TDA_application/small_point_cloud_height_filtration/h_ptcl_0252.txt /home/qw817/Desktop/Lung_TDA_application/height_rivet/h_pc0252.rivet --xbins 20 --ybins 20\n",
      "/home/qw817/rivet/rivet_console /home/qw817/Desktop/Lung_TDA_application/small_point_cloud_height_filtration/h_ptcl_0254.txt /home/qw817/Desktop/Lung_TDA_application/height_rivet/h_pc0254.rivet --xbins 20 --ybins 20\n",
      "/home/qw817/rivet/rivet_console /home/qw817/Desktop/Lung_TDA_application/small_point_cloud_height_filtration/h_ptcl_0255.txt /home/qw817/Desktop/Lung_TDA_application/height_rivet/h_pc0255.rivet --xbins 20 --ybins 20\n",
      "/home/qw817/rivet/rivet_console /home/qw817/Desktop/Lung_TDA_application/small_point_cloud_height_filtration/h_ptcl_0256.txt /home/qw817/Desktop/Lung_TDA_application/height_rivet/h_pc0256.rivet --xbins 20 --ybins 20\n",
      "/home/qw817/rivet/rivet_console /home/qw817/Desktop/Lung_TDA_application/small_point_cloud_height_filtration/h_ptcl_0257.txt /home/qw817/Desktop/Lung_TDA_application/height_rivet/h_pc0257.rivet --xbins 20 --ybins 20\n",
      "/home/qw817/rivet/rivet_console /home/qw817/Desktop/Lung_TDA_application/small_point_cloud_height_filtration/h_ptcl_0258.txt /home/qw817/Desktop/Lung_TDA_application/height_rivet/h_pc0258.rivet --xbins 20 --ybins 20\n",
      "/home/qw817/rivet/rivet_console /home/qw817/Desktop/Lung_TDA_application/small_point_cloud_height_filtration/h_ptcl_0260.txt /home/qw817/Desktop/Lung_TDA_application/height_rivet/h_pc0260.rivet --xbins 20 --ybins 20\n",
      "/home/qw817/rivet/rivet_console /home/qw817/Desktop/Lung_TDA_application/small_point_cloud_height_filtration/h_ptcl_0264.txt /home/qw817/Desktop/Lung_TDA_application/height_rivet/h_pc0264.rivet --xbins 20 --ybins 20\n",
      "/home/qw817/rivet/rivet_console /home/qw817/Desktop/Lung_TDA_application/small_point_cloud_height_filtration/h_ptcl_0265.txt /home/qw817/Desktop/Lung_TDA_application/height_rivet/h_pc0265.rivet --xbins 20 --ybins 20\n",
      "/home/qw817/rivet/rivet_console /home/qw817/Desktop/Lung_TDA_application/small_point_cloud_height_filtration/h_ptcl_0266.txt /home/qw817/Desktop/Lung_TDA_application/height_rivet/h_pc0266.rivet --xbins 20 --ybins 20\n",
      "/home/qw817/rivet/rivet_console /home/qw817/Desktop/Lung_TDA_application/small_point_cloud_height_filtration/h_ptcl_0267.txt /home/qw817/Desktop/Lung_TDA_application/height_rivet/h_pc0267.rivet --xbins 20 --ybins 20\n",
      "/home/qw817/rivet/rivet_console /home/qw817/Desktop/Lung_TDA_application/small_point_cloud_height_filtration/h_ptcl_0268.txt /home/qw817/Desktop/Lung_TDA_application/height_rivet/h_pc0268.rivet --xbins 20 --ybins 20\n",
      "/home/qw817/rivet/rivet_console /home/qw817/Desktop/Lung_TDA_application/small_point_cloud_height_filtration/h_ptcl_0270.txt /home/qw817/Desktop/Lung_TDA_application/height_rivet/h_pc0270.rivet --xbins 20 --ybins 20\n",
      "/home/qw817/rivet/rivet_console /home/qw817/Desktop/Lung_TDA_application/small_point_cloud_height_filtration/h_ptcl_0271.txt /home/qw817/Desktop/Lung_TDA_application/height_rivet/h_pc0271.rivet --xbins 20 --ybins 20\n",
      "/home/qw817/rivet/rivet_console /home/qw817/Desktop/Lung_TDA_application/small_point_cloud_height_filtration/h_ptcl_0272.txt /home/qw817/Desktop/Lung_TDA_application/height_rivet/h_pc0272.rivet --xbins 20 --ybins 20\n",
      "/home/qw817/rivet/rivet_console /home/qw817/Desktop/Lung_TDA_application/small_point_cloud_height_filtration/h_ptcl_0273.txt /home/qw817/Desktop/Lung_TDA_application/height_rivet/h_pc0273.rivet --xbins 20 --ybins 20\n",
      "/home/qw817/rivet/rivet_console /home/qw817/Desktop/Lung_TDA_application/small_point_cloud_height_filtration/h_ptcl_0274.txt /home/qw817/Desktop/Lung_TDA_application/height_rivet/h_pc0274.rivet --xbins 20 --ybins 20\n",
      "/home/qw817/rivet/rivet_console /home/qw817/Desktop/Lung_TDA_application/small_point_cloud_height_filtration/h_ptcl_0275.txt /home/qw817/Desktop/Lung_TDA_application/height_rivet/h_pc0275.rivet --xbins 20 --ybins 20\n",
      "/home/qw817/rivet/rivet_console /home/qw817/Desktop/Lung_TDA_application/small_point_cloud_height_filtration/h_ptcl_0276.txt /home/qw817/Desktop/Lung_TDA_application/height_rivet/h_pc0276.rivet --xbins 20 --ybins 20\n",
      "/home/qw817/rivet/rivet_console /home/qw817/Desktop/Lung_TDA_application/small_point_cloud_height_filtration/h_ptcl_0277.txt /home/qw817/Desktop/Lung_TDA_application/height_rivet/h_pc0277.rivet --xbins 20 --ybins 20\n",
      "/home/qw817/rivet/rivet_console /home/qw817/Desktop/Lung_TDA_application/small_point_cloud_height_filtration/h_ptcl_0278.txt /home/qw817/Desktop/Lung_TDA_application/height_rivet/h_pc0278.rivet --xbins 20 --ybins 20\n",
      "/home/qw817/rivet/rivet_console /home/qw817/Desktop/Lung_TDA_application/small_point_cloud_height_filtration/h_ptcl_0280.txt /home/qw817/Desktop/Lung_TDA_application/height_rivet/h_pc0280.rivet --xbins 20 --ybins 20\n",
      "/home/qw817/rivet/rivet_console /home/qw817/Desktop/Lung_TDA_application/small_point_cloud_height_filtration/h_ptcl_0281.txt /home/qw817/Desktop/Lung_TDA_application/height_rivet/h_pc0281.rivet --xbins 20 --ybins 20\n",
      "/home/qw817/rivet/rivet_console /home/qw817/Desktop/Lung_TDA_application/small_point_cloud_height_filtration/h_ptcl_0282.txt /home/qw817/Desktop/Lung_TDA_application/height_rivet/h_pc0282.rivet --xbins 20 --ybins 20\n",
      "/home/qw817/rivet/rivet_console /home/qw817/Desktop/Lung_TDA_application/small_point_cloud_height_filtration/h_ptcl_0283.txt /home/qw817/Desktop/Lung_TDA_application/height_rivet/h_pc0283.rivet --xbins 20 --ybins 20\n",
      "/home/qw817/rivet/rivet_console /home/qw817/Desktop/Lung_TDA_application/small_point_cloud_height_filtration/h_ptcl_0285.txt /home/qw817/Desktop/Lung_TDA_application/height_rivet/h_pc0285.rivet --xbins 20 --ybins 20\n",
      "/home/qw817/rivet/rivet_console /home/qw817/Desktop/Lung_TDA_application/small_point_cloud_height_filtration/h_ptcl_0286.txt /home/qw817/Desktop/Lung_TDA_application/height_rivet/h_pc0286.rivet --xbins 20 --ybins 20\n",
      "/home/qw817/rivet/rivet_console /home/qw817/Desktop/Lung_TDA_application/small_point_cloud_height_filtration/h_ptcl_0287.txt /home/qw817/Desktop/Lung_TDA_application/height_rivet/h_pc0287.rivet --xbins 20 --ybins 20\n",
      "/home/qw817/rivet/rivet_console /home/qw817/Desktop/Lung_TDA_application/small_point_cloud_height_filtration/h_ptcl_0288.txt /home/qw817/Desktop/Lung_TDA_application/height_rivet/h_pc0288.rivet --xbins 20 --ybins 20\n",
      "/home/qw817/rivet/rivet_console /home/qw817/Desktop/Lung_TDA_application/small_point_cloud_height_filtration/h_ptcl_0289.txt /home/qw817/Desktop/Lung_TDA_application/height_rivet/h_pc0289.rivet --xbins 20 --ybins 20\n",
      "/home/qw817/rivet/rivet_console /home/qw817/Desktop/Lung_TDA_application/small_point_cloud_height_filtration/h_ptcl_0290.txt /home/qw817/Desktop/Lung_TDA_application/height_rivet/h_pc0290.rivet --xbins 20 --ybins 20\n",
      "/home/qw817/rivet/rivet_console /home/qw817/Desktop/Lung_TDA_application/small_point_cloud_height_filtration/h_ptcl_0314.txt /home/qw817/Desktop/Lung_TDA_application/height_rivet/h_pc0314.rivet --xbins 20 --ybins 20\n",
      "/home/qw817/rivet/rivet_console /home/qw817/Desktop/Lung_TDA_application/small_point_cloud_height_filtration/h_ptcl_0325.txt /home/qw817/Desktop/Lung_TDA_application/height_rivet/h_pc0325.rivet --xbins 20 --ybins 20\n",
      "/home/qw817/rivet/rivet_console /home/qw817/Desktop/Lung_TDA_application/small_point_cloud_height_filtration/h_ptcl_0332.txt /home/qw817/Desktop/Lung_TDA_application/height_rivet/h_pc0332.rivet --xbins 20 --ybins 20\n",
      "/home/qw817/rivet/rivet_console /home/qw817/Desktop/Lung_TDA_application/small_point_cloud_height_filtration/h_ptcl_0377.txt /home/qw817/Desktop/Lung_TDA_application/height_rivet/h_pc0377.rivet --xbins 20 --ybins 20\n",
      "/home/qw817/rivet/rivet_console /home/qw817/Desktop/Lung_TDA_application/small_point_cloud_height_filtration/h_ptcl_0385.txt /home/qw817/Desktop/Lung_TDA_application/height_rivet/h_pc0385.rivet --xbins 20 --ybins 20\n",
      "/home/qw817/rivet/rivet_console /home/qw817/Desktop/Lung_TDA_application/small_point_cloud_height_filtration/h_ptcl_0399.txt /home/qw817/Desktop/Lung_TDA_application/height_rivet/h_pc0399.rivet --xbins 20 --ybins 20\n",
      "/home/qw817/rivet/rivet_console /home/qw817/Desktop/Lung_TDA_application/small_point_cloud_height_filtration/h_ptcl_0405.txt /home/qw817/Desktop/Lung_TDA_application/height_rivet/h_pc0405.rivet --xbins 20 --ybins 20\n",
      "/home/qw817/rivet/rivet_console /home/qw817/Desktop/Lung_TDA_application/small_point_cloud_height_filtration/h_ptcl_0454.txt /home/qw817/Desktop/Lung_TDA_application/height_rivet/h_pc0454.rivet --xbins 20 --ybins 20\n",
      "/home/qw817/rivet/rivet_console /home/qw817/Desktop/Lung_TDA_application/small_point_cloud_height_filtration/h_ptcl_0470.txt /home/qw817/Desktop/Lung_TDA_application/height_rivet/h_pc0470.rivet --xbins 20 --ybins 20\n",
      "/home/qw817/rivet/rivet_console /home/qw817/Desktop/Lung_TDA_application/small_point_cloud_height_filtration/h_ptcl_0493.txt /home/qw817/Desktop/Lung_TDA_application/height_rivet/h_pc0493.rivet --xbins 20 --ybins 20\n",
      "/home/qw817/rivet/rivet_console /home/qw817/Desktop/Lung_TDA_application/small_point_cloud_height_filtration/h_ptcl_0510.txt /home/qw817/Desktop/Lung_TDA_application/height_rivet/h_pc0510.rivet --xbins 20 --ybins 20\n",
      "/home/qw817/rivet/rivet_console /home/qw817/Desktop/Lung_TDA_application/small_point_cloud_height_filtration/h_ptcl_0522.txt /home/qw817/Desktop/Lung_TDA_application/height_rivet/h_pc0522.rivet --xbins 20 --ybins 20\n",
      "/home/qw817/rivet/rivet_console /home/qw817/Desktop/Lung_TDA_application/small_point_cloud_height_filtration/h_ptcl_0543.txt /home/qw817/Desktop/Lung_TDA_application/height_rivet/h_pc0543.rivet --xbins 20 --ybins 20\n",
      "/home/qw817/rivet/rivet_console /home/qw817/Desktop/Lung_TDA_application/small_point_cloud_height_filtration/h_ptcl_0559.txt /home/qw817/Desktop/Lung_TDA_application/height_rivet/h_pc0559.rivet --xbins 20 --ybins 20\n",
      "/home/qw817/rivet/rivet_console /home/qw817/Desktop/Lung_TDA_application/small_point_cloud_height_filtration/h_ptcl_0562.txt /home/qw817/Desktop/Lung_TDA_application/height_rivet/h_pc0562.rivet --xbins 20 --ybins 20\n",
      "/home/qw817/rivet/rivet_console /home/qw817/Desktop/Lung_TDA_application/small_point_cloud_height_filtration/h_ptcl_0568.txt /home/qw817/Desktop/Lung_TDA_application/height_rivet/h_pc0568.rivet --xbins 20 --ybins 20\n",
      "/home/qw817/rivet/rivet_console /home/qw817/Desktop/Lung_TDA_application/small_point_cloud_height_filtration/h_ptcl_0576.txt /home/qw817/Desktop/Lung_TDA_application/height_rivet/h_pc0576.rivet --xbins 20 --ybins 20\n",
      "/home/qw817/rivet/rivet_console /home/qw817/Desktop/Lung_TDA_application/small_point_cloud_height_filtration/h_ptcl_0580.txt /home/qw817/Desktop/Lung_TDA_application/height_rivet/h_pc0580.rivet --xbins 20 --ybins 20\n",
      "/home/qw817/rivet/rivet_console /home/qw817/Desktop/Lung_TDA_application/small_point_cloud_height_filtration/h_ptcl_0610.txt /home/qw817/Desktop/Lung_TDA_application/height_rivet/h_pc0610.rivet --xbins 20 --ybins 20\n",
      "/home/qw817/rivet/rivet_console /home/qw817/Desktop/Lung_TDA_application/small_point_cloud_height_filtration/h_ptcl_0624.txt /home/qw817/Desktop/Lung_TDA_application/height_rivet/h_pc0624.rivet --xbins 20 --ybins 20\n",
      "/home/qw817/rivet/rivet_console /home/qw817/Desktop/Lung_TDA_application/small_point_cloud_height_filtration/h_ptcl_0766.txt /home/qw817/Desktop/Lung_TDA_application/height_rivet/h_pc0766.rivet --xbins 20 --ybins 20\n",
      "/home/qw817/rivet/rivet_console /home/qw817/Desktop/Lung_TDA_application/small_point_cloud_height_filtration/h_ptcl_0771.txt /home/qw817/Desktop/Lung_TDA_application/height_rivet/h_pc0771.rivet --xbins 20 --ybins 20\n",
      "/home/qw817/rivet/rivet_console /home/qw817/Desktop/Lung_TDA_application/small_point_cloud_height_filtration/h_ptcl_0772.txt /home/qw817/Desktop/Lung_TDA_application/height_rivet/h_pc0772.rivet --xbins 20 --ybins 20\n",
      "/home/qw817/rivet/rivet_console /home/qw817/Desktop/Lung_TDA_application/small_point_cloud_height_filtration/h_ptcl_0811.txt /home/qw817/Desktop/Lung_TDA_application/height_rivet/h_pc0811.rivet --xbins 20 --ybins 20\n",
      "/home/qw817/rivet/rivet_console /home/qw817/Desktop/Lung_TDA_application/small_point_cloud_height_filtration/h_ptcl_0818.txt /home/qw817/Desktop/Lung_TDA_application/height_rivet/h_pc0818.rivet --xbins 20 --ybins 20\n",
      "/home/qw817/rivet/rivet_console /home/qw817/Desktop/Lung_TDA_application/small_point_cloud_height_filtration/h_ptcl_0875.txt /home/qw817/Desktop/Lung_TDA_application/height_rivet/h_pc0875.rivet --xbins 20 --ybins 20\n",
      "/home/qw817/rivet/rivet_console /home/qw817/Desktop/Lung_TDA_application/small_point_cloud_height_filtration/h_ptcl_0893.txt /home/qw817/Desktop/Lung_TDA_application/height_rivet/h_pc0893.rivet --xbins 20 --ybins 20\n",
      "/home/qw817/rivet/rivet_console /home/qw817/Desktop/Lung_TDA_application/small_point_cloud_height_filtration/h_ptcl_0905.txt /home/qw817/Desktop/Lung_TDA_application/height_rivet/h_pc0905.rivet --xbins 20 --ybins 20\n",
      "/home/qw817/rivet/rivet_console /home/qw817/Desktop/Lung_TDA_application/small_point_cloud_height_filtration/h_ptcl_0921.txt /home/qw817/Desktop/Lung_TDA_application/height_rivet/h_pc0921.rivet --xbins 20 --ybins 20\n",
      "/home/qw817/rivet/rivet_console /home/qw817/Desktop/Lung_TDA_application/small_point_cloud_height_filtration/h_ptcl_0924.txt /home/qw817/Desktop/Lung_TDA_application/height_rivet/h_pc0924.rivet --xbins 20 --ybins 20\n",
      "/home/qw817/rivet/rivet_console /home/qw817/Desktop/Lung_TDA_application/small_point_cloud_height_filtration/h_ptcl_0939.txt /home/qw817/Desktop/Lung_TDA_application/height_rivet/h_pc0939.rivet --xbins 20 --ybins 20\n",
      "/home/qw817/rivet/rivet_console /home/qw817/Desktop/Lung_TDA_application/small_point_cloud_height_filtration/h_ptcl_0965.txt /home/qw817/Desktop/Lung_TDA_application/height_rivet/h_pc0965.rivet --xbins 20 --ybins 20\n",
      "/home/qw817/rivet/rivet_console /home/qw817/Desktop/Lung_TDA_application/small_point_cloud_height_filtration/h_ptcl_0994.txt /home/qw817/Desktop/Lung_TDA_application/height_rivet/h_pc0994.rivet --xbins 20 --ybins 20\n",
      "/home/qw817/rivet/rivet_console /home/qw817/Desktop/Lung_TDA_application/small_point_cloud_height_filtration/h_ptcl_1002.txt /home/qw817/Desktop/Lung_TDA_application/height_rivet/h_pc1002.rivet --xbins 20 --ybins 20\n",
      "/home/qw817/rivet/rivet_console /home/qw817/Desktop/Lung_TDA_application/small_point_cloud_height_filtration/h_ptcl_1004.txt /home/qw817/Desktop/Lung_TDA_application/height_rivet/h_pc1004.rivet --xbins 20 --ybins 20\n",
      "/home/qw817/rivet/rivet_console /home/qw817/Desktop/Lung_TDA_application/small_point_cloud_height_filtration/h_ptcl_1010.txt /home/qw817/Desktop/Lung_TDA_application/height_rivet/h_pc1010.rivet --xbins 20 --ybins 20\n",
      "/home/qw817/rivet/rivet_console /home/qw817/Desktop/Lung_TDA_application/small_point_cloud_height_filtration/h_ptcl_1011.txt /home/qw817/Desktop/Lung_TDA_application/height_rivet/h_pc1011.rivet --xbins 20 --ybins 20\n",
      "/home/qw817/rivet/rivet_console /home/qw817/Desktop/Lung_TDA_application/x_pc/pc_0068.txt /home/qw817/Desktop/Lung_TDA_application/x_rivet/x_pc0068.rivet --xbins 20 --ybins 20\n",
      "/home/qw817/rivet/rivet_console /home/qw817/Desktop/Lung_TDA_application/x_pc/pc_0072.txt /home/qw817/Desktop/Lung_TDA_application/x_rivet/x_pc0072.rivet --xbins 20 --ybins 20\n",
      "/home/qw817/rivet/rivet_console /home/qw817/Desktop/Lung_TDA_application/x_pc/pc_0088.txt /home/qw817/Desktop/Lung_TDA_application/x_rivet/x_pc0088.rivet --xbins 20 --ybins 20\n",
      "/home/qw817/rivet/rivet_console /home/qw817/Desktop/Lung_TDA_application/x_pc/pc_0090.txt /home/qw817/Desktop/Lung_TDA_application/x_rivet/x_pc0090.rivet --xbins 20 --ybins 20\n",
      "/home/qw817/rivet/rivet_console /home/qw817/Desktop/Lung_TDA_application/x_pc/pc_0091.txt /home/qw817/Desktop/Lung_TDA_application/x_rivet/x_pc0091.rivet --xbins 20 --ybins 20\n",
      "/home/qw817/rivet/rivet_console /home/qw817/Desktop/Lung_TDA_application/x_pc/pc_0118.txt /home/qw817/Desktop/Lung_TDA_application/x_rivet/x_pc0118.rivet --xbins 20 --ybins 20\n",
      "/home/qw817/rivet/rivet_console /home/qw817/Desktop/Lung_TDA_application/x_pc/pc_0124.txt /home/qw817/Desktop/Lung_TDA_application/x_rivet/x_pc0124.rivet --xbins 20 --ybins 20\n",
      "/home/qw817/rivet/rivet_console /home/qw817/Desktop/Lung_TDA_application/x_pc/pc_0129.txt /home/qw817/Desktop/Lung_TDA_application/x_rivet/x_pc0129.rivet --xbins 20 --ybins 20\n",
      "/home/qw817/rivet/rivet_console /home/qw817/Desktop/Lung_TDA_application/x_pc/pc_0135.txt /home/qw817/Desktop/Lung_TDA_application/x_rivet/x_pc0135.rivet --xbins 20 --ybins 20\n",
      "/home/qw817/rivet/rivet_console /home/qw817/Desktop/Lung_TDA_application/x_pc/pc_0137.txt /home/qw817/Desktop/Lung_TDA_application/x_rivet/x_pc0137.rivet --xbins 20 --ybins 20\n",
      "/home/qw817/rivet/rivet_console /home/qw817/Desktop/Lung_TDA_application/x_pc/pc_0138.txt /home/qw817/Desktop/Lung_TDA_application/x_rivet/x_pc0138.rivet --xbins 20 --ybins 20\n",
      "/home/qw817/rivet/rivet_console /home/qw817/Desktop/Lung_TDA_application/x_pc/pc_0149.txt /home/qw817/Desktop/Lung_TDA_application/x_rivet/x_pc0149.rivet --xbins 20 --ybins 20\n",
      "/home/qw817/rivet/rivet_console /home/qw817/Desktop/Lung_TDA_application/x_pc/pc_0159.txt /home/qw817/Desktop/Lung_TDA_application/x_rivet/x_pc0159.rivet --xbins 20 --ybins 20\n",
      "/home/qw817/rivet/rivet_console /home/qw817/Desktop/Lung_TDA_application/x_pc/pc_0161.txt /home/qw817/Desktop/Lung_TDA_application/x_rivet/x_pc0161.rivet --xbins 20 --ybins 20\n",
      "/home/qw817/rivet/rivet_console /home/qw817/Desktop/Lung_TDA_application/x_pc/pc_0162.txt /home/qw817/Desktop/Lung_TDA_application/x_rivet/x_pc0162.rivet --xbins 20 --ybins 20\n",
      "/home/qw817/rivet/rivet_console /home/qw817/Desktop/Lung_TDA_application/x_pc/pc_0163.txt /home/qw817/Desktop/Lung_TDA_application/x_rivet/x_pc0163.rivet --xbins 20 --ybins 20\n",
      "/home/qw817/rivet/rivet_console /home/qw817/Desktop/Lung_TDA_application/x_pc/pc_0164.txt /home/qw817/Desktop/Lung_TDA_application/x_rivet/x_pc0164.rivet --xbins 20 --ybins 20\n",
      "/home/qw817/rivet/rivet_console /home/qw817/Desktop/Lung_TDA_application/x_pc/pc_0165.txt /home/qw817/Desktop/Lung_TDA_application/x_rivet/x_pc0165.rivet --xbins 20 --ybins 20\n",
      "/home/qw817/rivet/rivet_console /home/qw817/Desktop/Lung_TDA_application/x_pc/pc_0166.txt /home/qw817/Desktop/Lung_TDA_application/x_rivet/x_pc0166.rivet --xbins 20 --ybins 20\n",
      "/home/qw817/rivet/rivet_console /home/qw817/Desktop/Lung_TDA_application/x_pc/pc_0167.txt /home/qw817/Desktop/Lung_TDA_application/x_rivet/x_pc0167.rivet --xbins 20 --ybins 20\n",
      "/home/qw817/rivet/rivet_console /home/qw817/Desktop/Lung_TDA_application/x_pc/pc_0168.txt /home/qw817/Desktop/Lung_TDA_application/x_rivet/x_pc0168.rivet --xbins 20 --ybins 20\n",
      "/home/qw817/rivet/rivet_console /home/qw817/Desktop/Lung_TDA_application/x_pc/pc_0169.txt /home/qw817/Desktop/Lung_TDA_application/x_rivet/x_pc0169.rivet --xbins 20 --ybins 20\n",
      "/home/qw817/rivet/rivet_console /home/qw817/Desktop/Lung_TDA_application/x_pc/pc_0171.txt /home/qw817/Desktop/Lung_TDA_application/x_rivet/x_pc0171.rivet --xbins 20 --ybins 20\n",
      "/home/qw817/rivet/rivet_console /home/qw817/Desktop/Lung_TDA_application/x_pc/pc_0173.txt /home/qw817/Desktop/Lung_TDA_application/x_rivet/x_pc0173.rivet --xbins 20 --ybins 20\n",
      "/home/qw817/rivet/rivet_console /home/qw817/Desktop/Lung_TDA_application/x_pc/pc_0175.txt /home/qw817/Desktop/Lung_TDA_application/x_rivet/x_pc0175.rivet --xbins 20 --ybins 20\n",
      "/home/qw817/rivet/rivet_console /home/qw817/Desktop/Lung_TDA_application/x_pc/pc_0176.txt /home/qw817/Desktop/Lung_TDA_application/x_rivet/x_pc0176.rivet --xbins 20 --ybins 20\n",
      "/home/qw817/rivet/rivet_console /home/qw817/Desktop/Lung_TDA_application/x_pc/pc_0179.txt /home/qw817/Desktop/Lung_TDA_application/x_rivet/x_pc0179.rivet --xbins 20 --ybins 20\n",
      "/home/qw817/rivet/rivet_console /home/qw817/Desktop/Lung_TDA_application/x_pc/pc_0180.txt /home/qw817/Desktop/Lung_TDA_application/x_rivet/x_pc0180.rivet --xbins 20 --ybins 20\n",
      "/home/qw817/rivet/rivet_console /home/qw817/Desktop/Lung_TDA_application/x_pc/pc_0181.txt /home/qw817/Desktop/Lung_TDA_application/x_rivet/x_pc0181.rivet --xbins 20 --ybins 20\n",
      "/home/qw817/rivet/rivet_console /home/qw817/Desktop/Lung_TDA_application/x_pc/pc_0182.txt /home/qw817/Desktop/Lung_TDA_application/x_rivet/x_pc0182.rivet --xbins 20 --ybins 20\n",
      "/home/qw817/rivet/rivet_console /home/qw817/Desktop/Lung_TDA_application/x_pc/pc_0183.txt /home/qw817/Desktop/Lung_TDA_application/x_rivet/x_pc0183.rivet --xbins 20 --ybins 20\n",
      "/home/qw817/rivet/rivet_console /home/qw817/Desktop/Lung_TDA_application/x_pc/pc_0184.txt /home/qw817/Desktop/Lung_TDA_application/x_rivet/x_pc0184.rivet --xbins 20 --ybins 20\n",
      "/home/qw817/rivet/rivet_console /home/qw817/Desktop/Lung_TDA_application/x_pc/pc_0185.txt /home/qw817/Desktop/Lung_TDA_application/x_rivet/x_pc0185.rivet --xbins 20 --ybins 20\n",
      "/home/qw817/rivet/rivet_console /home/qw817/Desktop/Lung_TDA_application/x_pc/pc_0186.txt /home/qw817/Desktop/Lung_TDA_application/x_rivet/x_pc0186.rivet --xbins 20 --ybins 20\n",
      "/home/qw817/rivet/rivet_console /home/qw817/Desktop/Lung_TDA_application/x_pc/pc_0187.txt /home/qw817/Desktop/Lung_TDA_application/x_rivet/x_pc0187.rivet --xbins 20 --ybins 20\n",
      "/home/qw817/rivet/rivet_console /home/qw817/Desktop/Lung_TDA_application/x_pc/pc_0188.txt /home/qw817/Desktop/Lung_TDA_application/x_rivet/x_pc0188.rivet --xbins 20 --ybins 20\n",
      "/home/qw817/rivet/rivet_console /home/qw817/Desktop/Lung_TDA_application/x_pc/pc_0190.txt /home/qw817/Desktop/Lung_TDA_application/x_rivet/x_pc0190.rivet --xbins 20 --ybins 20\n",
      "/home/qw817/rivet/rivet_console /home/qw817/Desktop/Lung_TDA_application/x_pc/pc_0191.txt /home/qw817/Desktop/Lung_TDA_application/x_rivet/x_pc0191.rivet --xbins 20 --ybins 20\n",
      "/home/qw817/rivet/rivet_console /home/qw817/Desktop/Lung_TDA_application/x_pc/pc_0192.txt /home/qw817/Desktop/Lung_TDA_application/x_rivet/x_pc0192.rivet --xbins 20 --ybins 20\n",
      "/home/qw817/rivet/rivet_console /home/qw817/Desktop/Lung_TDA_application/x_pc/pc_0193.txt /home/qw817/Desktop/Lung_TDA_application/x_rivet/x_pc0193.rivet --xbins 20 --ybins 20\n",
      "/home/qw817/rivet/rivet_console /home/qw817/Desktop/Lung_TDA_application/x_pc/pc_0194.txt /home/qw817/Desktop/Lung_TDA_application/x_rivet/x_pc0194.rivet --xbins 20 --ybins 20\n",
      "/home/qw817/rivet/rivet_console /home/qw817/Desktop/Lung_TDA_application/x_pc/pc_0198.txt /home/qw817/Desktop/Lung_TDA_application/x_rivet/x_pc0198.rivet --xbins 20 --ybins 20\n",
      "/home/qw817/rivet/rivet_console /home/qw817/Desktop/Lung_TDA_application/x_pc/pc_0202.txt /home/qw817/Desktop/Lung_TDA_application/x_rivet/x_pc0202.rivet --xbins 20 --ybins 20\n",
      "/home/qw817/rivet/rivet_console /home/qw817/Desktop/Lung_TDA_application/x_pc/pc_0203.txt /home/qw817/Desktop/Lung_TDA_application/x_rivet/x_pc0203.rivet --xbins 20 --ybins 20\n",
      "/home/qw817/rivet/rivet_console /home/qw817/Desktop/Lung_TDA_application/x_pc/pc_0207.txt /home/qw817/Desktop/Lung_TDA_application/x_rivet/x_pc0207.rivet --xbins 20 --ybins 20\n",
      "/home/qw817/rivet/rivet_console /home/qw817/Desktop/Lung_TDA_application/x_pc/pc_0210.txt /home/qw817/Desktop/Lung_TDA_application/x_rivet/x_pc0210.rivet --xbins 20 --ybins 20\n",
      "/home/qw817/rivet/rivet_console /home/qw817/Desktop/Lung_TDA_application/x_pc/pc_0211.txt /home/qw817/Desktop/Lung_TDA_application/x_rivet/x_pc0211.rivet --xbins 20 --ybins 20\n",
      "/home/qw817/rivet/rivet_console /home/qw817/Desktop/Lung_TDA_application/x_pc/pc_0212.txt /home/qw817/Desktop/Lung_TDA_application/x_rivet/x_pc0212.rivet --xbins 20 --ybins 20\n",
      "/home/qw817/rivet/rivet_console /home/qw817/Desktop/Lung_TDA_application/x_pc/pc_0213.txt /home/qw817/Desktop/Lung_TDA_application/x_rivet/x_pc0213.rivet --xbins 20 --ybins 20\n",
      "/home/qw817/rivet/rivet_console /home/qw817/Desktop/Lung_TDA_application/x_pc/pc_0217.txt /home/qw817/Desktop/Lung_TDA_application/x_rivet/x_pc0217.rivet --xbins 20 --ybins 20\n",
      "/home/qw817/rivet/rivet_console /home/qw817/Desktop/Lung_TDA_application/x_pc/pc_0220.txt /home/qw817/Desktop/Lung_TDA_application/x_rivet/x_pc0220.rivet --xbins 20 --ybins 20\n",
      "/home/qw817/rivet/rivet_console /home/qw817/Desktop/Lung_TDA_application/x_pc/pc_0221.txt /home/qw817/Desktop/Lung_TDA_application/x_rivet/x_pc0221.rivet --xbins 20 --ybins 20\n",
      "/home/qw817/rivet/rivet_console /home/qw817/Desktop/Lung_TDA_application/x_pc/pc_0222.txt /home/qw817/Desktop/Lung_TDA_application/x_rivet/x_pc0222.rivet --xbins 20 --ybins 20\n",
      "/home/qw817/rivet/rivet_console /home/qw817/Desktop/Lung_TDA_application/x_pc/pc_0223.txt /home/qw817/Desktop/Lung_TDA_application/x_rivet/x_pc0223.rivet --xbins 20 --ybins 20\n",
      "/home/qw817/rivet/rivet_console /home/qw817/Desktop/Lung_TDA_application/x_pc/pc_0230.txt /home/qw817/Desktop/Lung_TDA_application/x_rivet/x_pc0230.rivet --xbins 20 --ybins 20\n",
      "/home/qw817/rivet/rivet_console /home/qw817/Desktop/Lung_TDA_application/x_pc/pc_0231.txt /home/qw817/Desktop/Lung_TDA_application/x_rivet/x_pc0231.rivet --xbins 20 --ybins 20\n",
      "/home/qw817/rivet/rivet_console /home/qw817/Desktop/Lung_TDA_application/x_pc/pc_0232.txt /home/qw817/Desktop/Lung_TDA_application/x_rivet/x_pc0232.rivet --xbins 20 --ybins 20\n",
      "/home/qw817/rivet/rivet_console /home/qw817/Desktop/Lung_TDA_application/x_pc/pc_0233.txt /home/qw817/Desktop/Lung_TDA_application/x_rivet/x_pc0233.rivet --xbins 20 --ybins 20\n",
      "/home/qw817/rivet/rivet_console /home/qw817/Desktop/Lung_TDA_application/x_pc/pc_0234.txt /home/qw817/Desktop/Lung_TDA_application/x_rivet/x_pc0234.rivet --xbins 20 --ybins 20\n",
      "/home/qw817/rivet/rivet_console /home/qw817/Desktop/Lung_TDA_application/x_pc/pc_0235.txt /home/qw817/Desktop/Lung_TDA_application/x_rivet/x_pc0235.rivet --xbins 20 --ybins 20\n",
      "/home/qw817/rivet/rivet_console /home/qw817/Desktop/Lung_TDA_application/x_pc/pc_0236.txt /home/qw817/Desktop/Lung_TDA_application/x_rivet/x_pc0236.rivet --xbins 20 --ybins 20\n",
      "/home/qw817/rivet/rivet_console /home/qw817/Desktop/Lung_TDA_application/x_pc/pc_0237.txt /home/qw817/Desktop/Lung_TDA_application/x_rivet/x_pc0237.rivet --xbins 20 --ybins 20\n",
      "/home/qw817/rivet/rivet_console /home/qw817/Desktop/Lung_TDA_application/x_pc/pc_0242.txt /home/qw817/Desktop/Lung_TDA_application/x_rivet/x_pc0242.rivet --xbins 20 --ybins 20\n",
      "/home/qw817/rivet/rivet_console /home/qw817/Desktop/Lung_TDA_application/x_pc/pc_0243.txt /home/qw817/Desktop/Lung_TDA_application/x_rivet/x_pc0243.rivet --xbins 20 --ybins 20\n",
      "/home/qw817/rivet/rivet_console /home/qw817/Desktop/Lung_TDA_application/x_pc/pc_0244.txt /home/qw817/Desktop/Lung_TDA_application/x_rivet/x_pc0244.rivet --xbins 20 --ybins 20\n",
      "/home/qw817/rivet/rivet_console /home/qw817/Desktop/Lung_TDA_application/x_pc/pc_0245.txt /home/qw817/Desktop/Lung_TDA_application/x_rivet/x_pc0245.rivet --xbins 20 --ybins 20\n",
      "/home/qw817/rivet/rivet_console /home/qw817/Desktop/Lung_TDA_application/x_pc/pc_0246.txt /home/qw817/Desktop/Lung_TDA_application/x_rivet/x_pc0246.rivet --xbins 20 --ybins 20\n",
      "/home/qw817/rivet/rivet_console /home/qw817/Desktop/Lung_TDA_application/x_pc/pc_0248.txt /home/qw817/Desktop/Lung_TDA_application/x_rivet/x_pc0248.rivet --xbins 20 --ybins 20\n",
      "/home/qw817/rivet/rivet_console /home/qw817/Desktop/Lung_TDA_application/x_pc/pc_0249.txt /home/qw817/Desktop/Lung_TDA_application/x_rivet/x_pc0249.rivet --xbins 20 --ybins 20\n",
      "/home/qw817/rivet/rivet_console /home/qw817/Desktop/Lung_TDA_application/x_pc/pc_0250.txt /home/qw817/Desktop/Lung_TDA_application/x_rivet/x_pc0250.rivet --xbins 20 --ybins 20\n",
      "/home/qw817/rivet/rivet_console /home/qw817/Desktop/Lung_TDA_application/x_pc/pc_0251.txt /home/qw817/Desktop/Lung_TDA_application/x_rivet/x_pc0251.rivet --xbins 20 --ybins 20\n",
      "/home/qw817/rivet/rivet_console /home/qw817/Desktop/Lung_TDA_application/x_pc/pc_0252.txt /home/qw817/Desktop/Lung_TDA_application/x_rivet/x_pc0252.rivet --xbins 20 --ybins 20\n",
      "/home/qw817/rivet/rivet_console /home/qw817/Desktop/Lung_TDA_application/x_pc/pc_0254.txt /home/qw817/Desktop/Lung_TDA_application/x_rivet/x_pc0254.rivet --xbins 20 --ybins 20\n",
      "/home/qw817/rivet/rivet_console /home/qw817/Desktop/Lung_TDA_application/x_pc/pc_0255.txt /home/qw817/Desktop/Lung_TDA_application/x_rivet/x_pc0255.rivet --xbins 20 --ybins 20\n",
      "/home/qw817/rivet/rivet_console /home/qw817/Desktop/Lung_TDA_application/x_pc/pc_0256.txt /home/qw817/Desktop/Lung_TDA_application/x_rivet/x_pc0256.rivet --xbins 20 --ybins 20\n",
      "/home/qw817/rivet/rivet_console /home/qw817/Desktop/Lung_TDA_application/x_pc/pc_0257.txt /home/qw817/Desktop/Lung_TDA_application/x_rivet/x_pc0257.rivet --xbins 20 --ybins 20\n",
      "/home/qw817/rivet/rivet_console /home/qw817/Desktop/Lung_TDA_application/x_pc/pc_0258.txt /home/qw817/Desktop/Lung_TDA_application/x_rivet/x_pc0258.rivet --xbins 20 --ybins 20\n",
      "/home/qw817/rivet/rivet_console /home/qw817/Desktop/Lung_TDA_application/x_pc/pc_0260.txt /home/qw817/Desktop/Lung_TDA_application/x_rivet/x_pc0260.rivet --xbins 20 --ybins 20\n",
      "/home/qw817/rivet/rivet_console /home/qw817/Desktop/Lung_TDA_application/x_pc/pc_0264.txt /home/qw817/Desktop/Lung_TDA_application/x_rivet/x_pc0264.rivet --xbins 20 --ybins 20\n",
      "/home/qw817/rivet/rivet_console /home/qw817/Desktop/Lung_TDA_application/x_pc/pc_0265.txt /home/qw817/Desktop/Lung_TDA_application/x_rivet/x_pc0265.rivet --xbins 20 --ybins 20\n",
      "/home/qw817/rivet/rivet_console /home/qw817/Desktop/Lung_TDA_application/x_pc/pc_0266.txt /home/qw817/Desktop/Lung_TDA_application/x_rivet/x_pc0266.rivet --xbins 20 --ybins 20\n",
      "/home/qw817/rivet/rivet_console /home/qw817/Desktop/Lung_TDA_application/x_pc/pc_0267.txt /home/qw817/Desktop/Lung_TDA_application/x_rivet/x_pc0267.rivet --xbins 20 --ybins 20\n",
      "/home/qw817/rivet/rivet_console /home/qw817/Desktop/Lung_TDA_application/x_pc/pc_0268.txt /home/qw817/Desktop/Lung_TDA_application/x_rivet/x_pc0268.rivet --xbins 20 --ybins 20\n",
      "/home/qw817/rivet/rivet_console /home/qw817/Desktop/Lung_TDA_application/x_pc/pc_0270.txt /home/qw817/Desktop/Lung_TDA_application/x_rivet/x_pc0270.rivet --xbins 20 --ybins 20\n",
      "/home/qw817/rivet/rivet_console /home/qw817/Desktop/Lung_TDA_application/x_pc/pc_0271.txt /home/qw817/Desktop/Lung_TDA_application/x_rivet/x_pc0271.rivet --xbins 20 --ybins 20\n",
      "/home/qw817/rivet/rivet_console /home/qw817/Desktop/Lung_TDA_application/x_pc/pc_0272.txt /home/qw817/Desktop/Lung_TDA_application/x_rivet/x_pc0272.rivet --xbins 20 --ybins 20\n",
      "/home/qw817/rivet/rivet_console /home/qw817/Desktop/Lung_TDA_application/x_pc/pc_0273.txt /home/qw817/Desktop/Lung_TDA_application/x_rivet/x_pc0273.rivet --xbins 20 --ybins 20\n",
      "/home/qw817/rivet/rivet_console /home/qw817/Desktop/Lung_TDA_application/x_pc/pc_0274.txt /home/qw817/Desktop/Lung_TDA_application/x_rivet/x_pc0274.rivet --xbins 20 --ybins 20\n",
      "/home/qw817/rivet/rivet_console /home/qw817/Desktop/Lung_TDA_application/x_pc/pc_0275.txt /home/qw817/Desktop/Lung_TDA_application/x_rivet/x_pc0275.rivet --xbins 20 --ybins 20\n",
      "/home/qw817/rivet/rivet_console /home/qw817/Desktop/Lung_TDA_application/x_pc/pc_0276.txt /home/qw817/Desktop/Lung_TDA_application/x_rivet/x_pc0276.rivet --xbins 20 --ybins 20\n",
      "/home/qw817/rivet/rivet_console /home/qw817/Desktop/Lung_TDA_application/x_pc/pc_0277.txt /home/qw817/Desktop/Lung_TDA_application/x_rivet/x_pc0277.rivet --xbins 20 --ybins 20\n",
      "/home/qw817/rivet/rivet_console /home/qw817/Desktop/Lung_TDA_application/x_pc/pc_0278.txt /home/qw817/Desktop/Lung_TDA_application/x_rivet/x_pc0278.rivet --xbins 20 --ybins 20\n",
      "/home/qw817/rivet/rivet_console /home/qw817/Desktop/Lung_TDA_application/x_pc/pc_0280.txt /home/qw817/Desktop/Lung_TDA_application/x_rivet/x_pc0280.rivet --xbins 20 --ybins 20\n",
      "/home/qw817/rivet/rivet_console /home/qw817/Desktop/Lung_TDA_application/x_pc/pc_0281.txt /home/qw817/Desktop/Lung_TDA_application/x_rivet/x_pc0281.rivet --xbins 20 --ybins 20\n",
      "/home/qw817/rivet/rivet_console /home/qw817/Desktop/Lung_TDA_application/x_pc/pc_0282.txt /home/qw817/Desktop/Lung_TDA_application/x_rivet/x_pc0282.rivet --xbins 20 --ybins 20\n",
      "/home/qw817/rivet/rivet_console /home/qw817/Desktop/Lung_TDA_application/x_pc/pc_0283.txt /home/qw817/Desktop/Lung_TDA_application/x_rivet/x_pc0283.rivet --xbins 20 --ybins 20\n",
      "/home/qw817/rivet/rivet_console /home/qw817/Desktop/Lung_TDA_application/x_pc/pc_0285.txt /home/qw817/Desktop/Lung_TDA_application/x_rivet/x_pc0285.rivet --xbins 20 --ybins 20\n",
      "/home/qw817/rivet/rivet_console /home/qw817/Desktop/Lung_TDA_application/x_pc/pc_0286.txt /home/qw817/Desktop/Lung_TDA_application/x_rivet/x_pc0286.rivet --xbins 20 --ybins 20\n",
      "/home/qw817/rivet/rivet_console /home/qw817/Desktop/Lung_TDA_application/x_pc/pc_0287.txt /home/qw817/Desktop/Lung_TDA_application/x_rivet/x_pc0287.rivet --xbins 20 --ybins 20\n",
      "/home/qw817/rivet/rivet_console /home/qw817/Desktop/Lung_TDA_application/x_pc/pc_0288.txt /home/qw817/Desktop/Lung_TDA_application/x_rivet/x_pc0288.rivet --xbins 20 --ybins 20\n",
      "/home/qw817/rivet/rivet_console /home/qw817/Desktop/Lung_TDA_application/x_pc/pc_0289.txt /home/qw817/Desktop/Lung_TDA_application/x_rivet/x_pc0289.rivet --xbins 20 --ybins 20\n",
      "/home/qw817/rivet/rivet_console /home/qw817/Desktop/Lung_TDA_application/x_pc/pc_0290.txt /home/qw817/Desktop/Lung_TDA_application/x_rivet/x_pc0290.rivet --xbins 20 --ybins 20\n",
      "/home/qw817/rivet/rivet_console /home/qw817/Desktop/Lung_TDA_application/x_pc/pc_0314.txt /home/qw817/Desktop/Lung_TDA_application/x_rivet/x_pc0314.rivet --xbins 20 --ybins 20\n",
      "/home/qw817/rivet/rivet_console /home/qw817/Desktop/Lung_TDA_application/x_pc/pc_0325.txt /home/qw817/Desktop/Lung_TDA_application/x_rivet/x_pc0325.rivet --xbins 20 --ybins 20\n",
      "/home/qw817/rivet/rivet_console /home/qw817/Desktop/Lung_TDA_application/x_pc/pc_0332.txt /home/qw817/Desktop/Lung_TDA_application/x_rivet/x_pc0332.rivet --xbins 20 --ybins 20\n",
      "/home/qw817/rivet/rivet_console /home/qw817/Desktop/Lung_TDA_application/x_pc/pc_0377.txt /home/qw817/Desktop/Lung_TDA_application/x_rivet/x_pc0377.rivet --xbins 20 --ybins 20\n",
      "/home/qw817/rivet/rivet_console /home/qw817/Desktop/Lung_TDA_application/x_pc/pc_0385.txt /home/qw817/Desktop/Lung_TDA_application/x_rivet/x_pc0385.rivet --xbins 20 --ybins 20\n",
      "/home/qw817/rivet/rivet_console /home/qw817/Desktop/Lung_TDA_application/x_pc/pc_0399.txt /home/qw817/Desktop/Lung_TDA_application/x_rivet/x_pc0399.rivet --xbins 20 --ybins 20\n",
      "/home/qw817/rivet/rivet_console /home/qw817/Desktop/Lung_TDA_application/x_pc/pc_0405.txt /home/qw817/Desktop/Lung_TDA_application/x_rivet/x_pc0405.rivet --xbins 20 --ybins 20\n",
      "/home/qw817/rivet/rivet_console /home/qw817/Desktop/Lung_TDA_application/x_pc/pc_0454.txt /home/qw817/Desktop/Lung_TDA_application/x_rivet/x_pc0454.rivet --xbins 20 --ybins 20\n",
      "/home/qw817/rivet/rivet_console /home/qw817/Desktop/Lung_TDA_application/x_pc/pc_0470.txt /home/qw817/Desktop/Lung_TDA_application/x_rivet/x_pc0470.rivet --xbins 20 --ybins 20\n",
      "/home/qw817/rivet/rivet_console /home/qw817/Desktop/Lung_TDA_application/x_pc/pc_0493.txt /home/qw817/Desktop/Lung_TDA_application/x_rivet/x_pc0493.rivet --xbins 20 --ybins 20\n",
      "/home/qw817/rivet/rivet_console /home/qw817/Desktop/Lung_TDA_application/x_pc/pc_0510.txt /home/qw817/Desktop/Lung_TDA_application/x_rivet/x_pc0510.rivet --xbins 20 --ybins 20\n",
      "/home/qw817/rivet/rivet_console /home/qw817/Desktop/Lung_TDA_application/x_pc/pc_0522.txt /home/qw817/Desktop/Lung_TDA_application/x_rivet/x_pc0522.rivet --xbins 20 --ybins 20\n",
      "/home/qw817/rivet/rivet_console /home/qw817/Desktop/Lung_TDA_application/x_pc/pc_0543.txt /home/qw817/Desktop/Lung_TDA_application/x_rivet/x_pc0543.rivet --xbins 20 --ybins 20\n",
      "/home/qw817/rivet/rivet_console /home/qw817/Desktop/Lung_TDA_application/x_pc/pc_0559.txt /home/qw817/Desktop/Lung_TDA_application/x_rivet/x_pc0559.rivet --xbins 20 --ybins 20\n",
      "/home/qw817/rivet/rivet_console /home/qw817/Desktop/Lung_TDA_application/x_pc/pc_0562.txt /home/qw817/Desktop/Lung_TDA_application/x_rivet/x_pc0562.rivet --xbins 20 --ybins 20\n",
      "/home/qw817/rivet/rivet_console /home/qw817/Desktop/Lung_TDA_application/x_pc/pc_0568.txt /home/qw817/Desktop/Lung_TDA_application/x_rivet/x_pc0568.rivet --xbins 20 --ybins 20\n",
      "/home/qw817/rivet/rivet_console /home/qw817/Desktop/Lung_TDA_application/x_pc/pc_0576.txt /home/qw817/Desktop/Lung_TDA_application/x_rivet/x_pc0576.rivet --xbins 20 --ybins 20\n",
      "/home/qw817/rivet/rivet_console /home/qw817/Desktop/Lung_TDA_application/x_pc/pc_0580.txt /home/qw817/Desktop/Lung_TDA_application/x_rivet/x_pc0580.rivet --xbins 20 --ybins 20\n",
      "/home/qw817/rivet/rivet_console /home/qw817/Desktop/Lung_TDA_application/x_pc/pc_0610.txt /home/qw817/Desktop/Lung_TDA_application/x_rivet/x_pc0610.rivet --xbins 20 --ybins 20\n",
      "/home/qw817/rivet/rivet_console /home/qw817/Desktop/Lung_TDA_application/x_pc/pc_0624.txt /home/qw817/Desktop/Lung_TDA_application/x_rivet/x_pc0624.rivet --xbins 20 --ybins 20\n",
      "/home/qw817/rivet/rivet_console /home/qw817/Desktop/Lung_TDA_application/x_pc/pc_0766.txt /home/qw817/Desktop/Lung_TDA_application/x_rivet/x_pc0766.rivet --xbins 20 --ybins 20\n",
      "/home/qw817/rivet/rivet_console /home/qw817/Desktop/Lung_TDA_application/x_pc/pc_0771.txt /home/qw817/Desktop/Lung_TDA_application/x_rivet/x_pc0771.rivet --xbins 20 --ybins 20\n",
      "/home/qw817/rivet/rivet_console /home/qw817/Desktop/Lung_TDA_application/x_pc/pc_0772.txt /home/qw817/Desktop/Lung_TDA_application/x_rivet/x_pc0772.rivet --xbins 20 --ybins 20\n",
      "/home/qw817/rivet/rivet_console /home/qw817/Desktop/Lung_TDA_application/x_pc/pc_0811.txt /home/qw817/Desktop/Lung_TDA_application/x_rivet/x_pc0811.rivet --xbins 20 --ybins 20\n",
      "/home/qw817/rivet/rivet_console /home/qw817/Desktop/Lung_TDA_application/x_pc/pc_0818.txt /home/qw817/Desktop/Lung_TDA_application/x_rivet/x_pc0818.rivet --xbins 20 --ybins 20\n",
      "/home/qw817/rivet/rivet_console /home/qw817/Desktop/Lung_TDA_application/x_pc/pc_0875.txt /home/qw817/Desktop/Lung_TDA_application/x_rivet/x_pc0875.rivet --xbins 20 --ybins 20\n",
      "/home/qw817/rivet/rivet_console /home/qw817/Desktop/Lung_TDA_application/x_pc/pc_0893.txt /home/qw817/Desktop/Lung_TDA_application/x_rivet/x_pc0893.rivet --xbins 20 --ybins 20\n",
      "/home/qw817/rivet/rivet_console /home/qw817/Desktop/Lung_TDA_application/x_pc/pc_0905.txt /home/qw817/Desktop/Lung_TDA_application/x_rivet/x_pc0905.rivet --xbins 20 --ybins 20\n",
      "/home/qw817/rivet/rivet_console /home/qw817/Desktop/Lung_TDA_application/x_pc/pc_0921.txt /home/qw817/Desktop/Lung_TDA_application/x_rivet/x_pc0921.rivet --xbins 20 --ybins 20\n",
      "/home/qw817/rivet/rivet_console /home/qw817/Desktop/Lung_TDA_application/x_pc/pc_0924.txt /home/qw817/Desktop/Lung_TDA_application/x_rivet/x_pc0924.rivet --xbins 20 --ybins 20\n",
      "/home/qw817/rivet/rivet_console /home/qw817/Desktop/Lung_TDA_application/x_pc/pc_0939.txt /home/qw817/Desktop/Lung_TDA_application/x_rivet/x_pc0939.rivet --xbins 20 --ybins 20\n",
      "/home/qw817/rivet/rivet_console /home/qw817/Desktop/Lung_TDA_application/x_pc/pc_0965.txt /home/qw817/Desktop/Lung_TDA_application/x_rivet/x_pc0965.rivet --xbins 20 --ybins 20\n",
      "/home/qw817/rivet/rivet_console /home/qw817/Desktop/Lung_TDA_application/x_pc/pc_0994.txt /home/qw817/Desktop/Lung_TDA_application/x_rivet/x_pc0994.rivet --xbins 20 --ybins 20\n",
      "/home/qw817/rivet/rivet_console /home/qw817/Desktop/Lung_TDA_application/x_pc/pc_1002.txt /home/qw817/Desktop/Lung_TDA_application/x_rivet/x_pc1002.rivet --xbins 20 --ybins 20\n",
      "/home/qw817/rivet/rivet_console /home/qw817/Desktop/Lung_TDA_application/x_pc/pc_1004.txt /home/qw817/Desktop/Lung_TDA_application/x_rivet/x_pc1004.rivet --xbins 20 --ybins 20\n",
      "/home/qw817/rivet/rivet_console /home/qw817/Desktop/Lung_TDA_application/x_pc/pc_1010.txt /home/qw817/Desktop/Lung_TDA_application/x_rivet/x_pc1010.rivet --xbins 20 --ybins 20\n",
      "/home/qw817/rivet/rivet_console /home/qw817/Desktop/Lung_TDA_application/x_pc/pc_1011.txt /home/qw817/Desktop/Lung_TDA_application/x_rivet/x_pc1011.rivet --xbins 20 --ybins 20\n",
      "/home/qw817/rivet/rivet_console /home/qw817/Desktop/Lung_TDA_application/y_pc/pc_0068.txt /home/qw817/Desktop/Lung_TDA_application/y_rivet/y_pc0068.rivet --xbins 20 --ybins 20\n",
      "/home/qw817/rivet/rivet_console /home/qw817/Desktop/Lung_TDA_application/y_pc/pc_0072.txt /home/qw817/Desktop/Lung_TDA_application/y_rivet/y_pc0072.rivet --xbins 20 --ybins 20\n",
      "/home/qw817/rivet/rivet_console /home/qw817/Desktop/Lung_TDA_application/y_pc/pc_0088.txt /home/qw817/Desktop/Lung_TDA_application/y_rivet/y_pc0088.rivet --xbins 20 --ybins 20\n",
      "/home/qw817/rivet/rivet_console /home/qw817/Desktop/Lung_TDA_application/y_pc/pc_0090.txt /home/qw817/Desktop/Lung_TDA_application/y_rivet/y_pc0090.rivet --xbins 20 --ybins 20\n",
      "/home/qw817/rivet/rivet_console /home/qw817/Desktop/Lung_TDA_application/y_pc/pc_0091.txt /home/qw817/Desktop/Lung_TDA_application/y_rivet/y_pc0091.rivet --xbins 20 --ybins 20\n",
      "/home/qw817/rivet/rivet_console /home/qw817/Desktop/Lung_TDA_application/y_pc/pc_0118.txt /home/qw817/Desktop/Lung_TDA_application/y_rivet/y_pc0118.rivet --xbins 20 --ybins 20\n",
      "/home/qw817/rivet/rivet_console /home/qw817/Desktop/Lung_TDA_application/y_pc/pc_0124.txt /home/qw817/Desktop/Lung_TDA_application/y_rivet/y_pc0124.rivet --xbins 20 --ybins 20\n",
      "/home/qw817/rivet/rivet_console /home/qw817/Desktop/Lung_TDA_application/y_pc/pc_0129.txt /home/qw817/Desktop/Lung_TDA_application/y_rivet/y_pc0129.rivet --xbins 20 --ybins 20\n",
      "/home/qw817/rivet/rivet_console /home/qw817/Desktop/Lung_TDA_application/y_pc/pc_0135.txt /home/qw817/Desktop/Lung_TDA_application/y_rivet/y_pc0135.rivet --xbins 20 --ybins 20\n",
      "/home/qw817/rivet/rivet_console /home/qw817/Desktop/Lung_TDA_application/y_pc/pc_0137.txt /home/qw817/Desktop/Lung_TDA_application/y_rivet/y_pc0137.rivet --xbins 20 --ybins 20\n",
      "/home/qw817/rivet/rivet_console /home/qw817/Desktop/Lung_TDA_application/y_pc/pc_0138.txt /home/qw817/Desktop/Lung_TDA_application/y_rivet/y_pc0138.rivet --xbins 20 --ybins 20\n",
      "/home/qw817/rivet/rivet_console /home/qw817/Desktop/Lung_TDA_application/y_pc/pc_0149.txt /home/qw817/Desktop/Lung_TDA_application/y_rivet/y_pc0149.rivet --xbins 20 --ybins 20\n",
      "/home/qw817/rivet/rivet_console /home/qw817/Desktop/Lung_TDA_application/y_pc/pc_0159.txt /home/qw817/Desktop/Lung_TDA_application/y_rivet/y_pc0159.rivet --xbins 20 --ybins 20\n",
      "/home/qw817/rivet/rivet_console /home/qw817/Desktop/Lung_TDA_application/y_pc/pc_0161.txt /home/qw817/Desktop/Lung_TDA_application/y_rivet/y_pc0161.rivet --xbins 20 --ybins 20\n",
      "/home/qw817/rivet/rivet_console /home/qw817/Desktop/Lung_TDA_application/y_pc/pc_0162.txt /home/qw817/Desktop/Lung_TDA_application/y_rivet/y_pc0162.rivet --xbins 20 --ybins 20\n",
      "/home/qw817/rivet/rivet_console /home/qw817/Desktop/Lung_TDA_application/y_pc/pc_0163.txt /home/qw817/Desktop/Lung_TDA_application/y_rivet/y_pc0163.rivet --xbins 20 --ybins 20\n",
      "/home/qw817/rivet/rivet_console /home/qw817/Desktop/Lung_TDA_application/y_pc/pc_0164.txt /home/qw817/Desktop/Lung_TDA_application/y_rivet/y_pc0164.rivet --xbins 20 --ybins 20\n",
      "/home/qw817/rivet/rivet_console /home/qw817/Desktop/Lung_TDA_application/y_pc/pc_0165.txt /home/qw817/Desktop/Lung_TDA_application/y_rivet/y_pc0165.rivet --xbins 20 --ybins 20\n",
      "/home/qw817/rivet/rivet_console /home/qw817/Desktop/Lung_TDA_application/y_pc/pc_0166.txt /home/qw817/Desktop/Lung_TDA_application/y_rivet/y_pc0166.rivet --xbins 20 --ybins 20\n",
      "/home/qw817/rivet/rivet_console /home/qw817/Desktop/Lung_TDA_application/y_pc/pc_0167.txt /home/qw817/Desktop/Lung_TDA_application/y_rivet/y_pc0167.rivet --xbins 20 --ybins 20\n",
      "/home/qw817/rivet/rivet_console /home/qw817/Desktop/Lung_TDA_application/y_pc/pc_0168.txt /home/qw817/Desktop/Lung_TDA_application/y_rivet/y_pc0168.rivet --xbins 20 --ybins 20\n",
      "/home/qw817/rivet/rivet_console /home/qw817/Desktop/Lung_TDA_application/y_pc/pc_0169.txt /home/qw817/Desktop/Lung_TDA_application/y_rivet/y_pc0169.rivet --xbins 20 --ybins 20\n",
      "/home/qw817/rivet/rivet_console /home/qw817/Desktop/Lung_TDA_application/y_pc/pc_0171.txt /home/qw817/Desktop/Lung_TDA_application/y_rivet/y_pc0171.rivet --xbins 20 --ybins 20\n",
      "/home/qw817/rivet/rivet_console /home/qw817/Desktop/Lung_TDA_application/y_pc/pc_0173.txt /home/qw817/Desktop/Lung_TDA_application/y_rivet/y_pc0173.rivet --xbins 20 --ybins 20\n",
      "/home/qw817/rivet/rivet_console /home/qw817/Desktop/Lung_TDA_application/y_pc/pc_0175.txt /home/qw817/Desktop/Lung_TDA_application/y_rivet/y_pc0175.rivet --xbins 20 --ybins 20\n",
      "/home/qw817/rivet/rivet_console /home/qw817/Desktop/Lung_TDA_application/y_pc/pc_0176.txt /home/qw817/Desktop/Lung_TDA_application/y_rivet/y_pc0176.rivet --xbins 20 --ybins 20\n",
      "/home/qw817/rivet/rivet_console /home/qw817/Desktop/Lung_TDA_application/y_pc/pc_0179.txt /home/qw817/Desktop/Lung_TDA_application/y_rivet/y_pc0179.rivet --xbins 20 --ybins 20\n",
      "/home/qw817/rivet/rivet_console /home/qw817/Desktop/Lung_TDA_application/y_pc/pc_0180.txt /home/qw817/Desktop/Lung_TDA_application/y_rivet/y_pc0180.rivet --xbins 20 --ybins 20\n",
      "/home/qw817/rivet/rivet_console /home/qw817/Desktop/Lung_TDA_application/y_pc/pc_0181.txt /home/qw817/Desktop/Lung_TDA_application/y_rivet/y_pc0181.rivet --xbins 20 --ybins 20\n",
      "/home/qw817/rivet/rivet_console /home/qw817/Desktop/Lung_TDA_application/y_pc/pc_0182.txt /home/qw817/Desktop/Lung_TDA_application/y_rivet/y_pc0182.rivet --xbins 20 --ybins 20\n",
      "/home/qw817/rivet/rivet_console /home/qw817/Desktop/Lung_TDA_application/y_pc/pc_0183.txt /home/qw817/Desktop/Lung_TDA_application/y_rivet/y_pc0183.rivet --xbins 20 --ybins 20\n",
      "/home/qw817/rivet/rivet_console /home/qw817/Desktop/Lung_TDA_application/y_pc/pc_0184.txt /home/qw817/Desktop/Lung_TDA_application/y_rivet/y_pc0184.rivet --xbins 20 --ybins 20\n",
      "/home/qw817/rivet/rivet_console /home/qw817/Desktop/Lung_TDA_application/y_pc/pc_0185.txt /home/qw817/Desktop/Lung_TDA_application/y_rivet/y_pc0185.rivet --xbins 20 --ybins 20\n",
      "/home/qw817/rivet/rivet_console /home/qw817/Desktop/Lung_TDA_application/y_pc/pc_0186.txt /home/qw817/Desktop/Lung_TDA_application/y_rivet/y_pc0186.rivet --xbins 20 --ybins 20\n",
      "/home/qw817/rivet/rivet_console /home/qw817/Desktop/Lung_TDA_application/y_pc/pc_0187.txt /home/qw817/Desktop/Lung_TDA_application/y_rivet/y_pc0187.rivet --xbins 20 --ybins 20\n",
      "/home/qw817/rivet/rivet_console /home/qw817/Desktop/Lung_TDA_application/y_pc/pc_0188.txt /home/qw817/Desktop/Lung_TDA_application/y_rivet/y_pc0188.rivet --xbins 20 --ybins 20\n",
      "/home/qw817/rivet/rivet_console /home/qw817/Desktop/Lung_TDA_application/y_pc/pc_0190.txt /home/qw817/Desktop/Lung_TDA_application/y_rivet/y_pc0190.rivet --xbins 20 --ybins 20\n",
      "/home/qw817/rivet/rivet_console /home/qw817/Desktop/Lung_TDA_application/y_pc/pc_0191.txt /home/qw817/Desktop/Lung_TDA_application/y_rivet/y_pc0191.rivet --xbins 20 --ybins 20\n",
      "/home/qw817/rivet/rivet_console /home/qw817/Desktop/Lung_TDA_application/y_pc/pc_0192.txt /home/qw817/Desktop/Lung_TDA_application/y_rivet/y_pc0192.rivet --xbins 20 --ybins 20\n",
      "/home/qw817/rivet/rivet_console /home/qw817/Desktop/Lung_TDA_application/y_pc/pc_0193.txt /home/qw817/Desktop/Lung_TDA_application/y_rivet/y_pc0193.rivet --xbins 20 --ybins 20\n",
      "/home/qw817/rivet/rivet_console /home/qw817/Desktop/Lung_TDA_application/y_pc/pc_0194.txt /home/qw817/Desktop/Lung_TDA_application/y_rivet/y_pc0194.rivet --xbins 20 --ybins 20\n",
      "/home/qw817/rivet/rivet_console /home/qw817/Desktop/Lung_TDA_application/y_pc/pc_0198.txt /home/qw817/Desktop/Lung_TDA_application/y_rivet/y_pc0198.rivet --xbins 20 --ybins 20\n",
      "/home/qw817/rivet/rivet_console /home/qw817/Desktop/Lung_TDA_application/y_pc/pc_0202.txt /home/qw817/Desktop/Lung_TDA_application/y_rivet/y_pc0202.rivet --xbins 20 --ybins 20\n",
      "/home/qw817/rivet/rivet_console /home/qw817/Desktop/Lung_TDA_application/y_pc/pc_0203.txt /home/qw817/Desktop/Lung_TDA_application/y_rivet/y_pc0203.rivet --xbins 20 --ybins 20\n",
      "/home/qw817/rivet/rivet_console /home/qw817/Desktop/Lung_TDA_application/y_pc/pc_0207.txt /home/qw817/Desktop/Lung_TDA_application/y_rivet/y_pc0207.rivet --xbins 20 --ybins 20\n",
      "/home/qw817/rivet/rivet_console /home/qw817/Desktop/Lung_TDA_application/y_pc/pc_0210.txt /home/qw817/Desktop/Lung_TDA_application/y_rivet/y_pc0210.rivet --xbins 20 --ybins 20\n",
      "/home/qw817/rivet/rivet_console /home/qw817/Desktop/Lung_TDA_application/y_pc/pc_0211.txt /home/qw817/Desktop/Lung_TDA_application/y_rivet/y_pc0211.rivet --xbins 20 --ybins 20\n",
      "/home/qw817/rivet/rivet_console /home/qw817/Desktop/Lung_TDA_application/y_pc/pc_0212.txt /home/qw817/Desktop/Lung_TDA_application/y_rivet/y_pc0212.rivet --xbins 20 --ybins 20\n",
      "/home/qw817/rivet/rivet_console /home/qw817/Desktop/Lung_TDA_application/y_pc/pc_0213.txt /home/qw817/Desktop/Lung_TDA_application/y_rivet/y_pc0213.rivet --xbins 20 --ybins 20\n",
      "/home/qw817/rivet/rivet_console /home/qw817/Desktop/Lung_TDA_application/y_pc/pc_0217.txt /home/qw817/Desktop/Lung_TDA_application/y_rivet/y_pc0217.rivet --xbins 20 --ybins 20\n",
      "/home/qw817/rivet/rivet_console /home/qw817/Desktop/Lung_TDA_application/y_pc/pc_0220.txt /home/qw817/Desktop/Lung_TDA_application/y_rivet/y_pc0220.rivet --xbins 20 --ybins 20\n",
      "/home/qw817/rivet/rivet_console /home/qw817/Desktop/Lung_TDA_application/y_pc/pc_0221.txt /home/qw817/Desktop/Lung_TDA_application/y_rivet/y_pc0221.rivet --xbins 20 --ybins 20\n",
      "/home/qw817/rivet/rivet_console /home/qw817/Desktop/Lung_TDA_application/y_pc/pc_0222.txt /home/qw817/Desktop/Lung_TDA_application/y_rivet/y_pc0222.rivet --xbins 20 --ybins 20\n",
      "/home/qw817/rivet/rivet_console /home/qw817/Desktop/Lung_TDA_application/y_pc/pc_0223.txt /home/qw817/Desktop/Lung_TDA_application/y_rivet/y_pc0223.rivet --xbins 20 --ybins 20\n",
      "/home/qw817/rivet/rivet_console /home/qw817/Desktop/Lung_TDA_application/y_pc/pc_0230.txt /home/qw817/Desktop/Lung_TDA_application/y_rivet/y_pc0230.rivet --xbins 20 --ybins 20\n",
      "/home/qw817/rivet/rivet_console /home/qw817/Desktop/Lung_TDA_application/y_pc/pc_0231.txt /home/qw817/Desktop/Lung_TDA_application/y_rivet/y_pc0231.rivet --xbins 20 --ybins 20\n",
      "/home/qw817/rivet/rivet_console /home/qw817/Desktop/Lung_TDA_application/y_pc/pc_0232.txt /home/qw817/Desktop/Lung_TDA_application/y_rivet/y_pc0232.rivet --xbins 20 --ybins 20\n",
      "/home/qw817/rivet/rivet_console /home/qw817/Desktop/Lung_TDA_application/y_pc/pc_0233.txt /home/qw817/Desktop/Lung_TDA_application/y_rivet/y_pc0233.rivet --xbins 20 --ybins 20\n",
      "/home/qw817/rivet/rivet_console /home/qw817/Desktop/Lung_TDA_application/y_pc/pc_0234.txt /home/qw817/Desktop/Lung_TDA_application/y_rivet/y_pc0234.rivet --xbins 20 --ybins 20\n",
      "/home/qw817/rivet/rivet_console /home/qw817/Desktop/Lung_TDA_application/y_pc/pc_0235.txt /home/qw817/Desktop/Lung_TDA_application/y_rivet/y_pc0235.rivet --xbins 20 --ybins 20\n",
      "/home/qw817/rivet/rivet_console /home/qw817/Desktop/Lung_TDA_application/y_pc/pc_0236.txt /home/qw817/Desktop/Lung_TDA_application/y_rivet/y_pc0236.rivet --xbins 20 --ybins 20\n",
      "/home/qw817/rivet/rivet_console /home/qw817/Desktop/Lung_TDA_application/y_pc/pc_0237.txt /home/qw817/Desktop/Lung_TDA_application/y_rivet/y_pc0237.rivet --xbins 20 --ybins 20\n",
      "/home/qw817/rivet/rivet_console /home/qw817/Desktop/Lung_TDA_application/y_pc/pc_0242.txt /home/qw817/Desktop/Lung_TDA_application/y_rivet/y_pc0242.rivet --xbins 20 --ybins 20\n",
      "/home/qw817/rivet/rivet_console /home/qw817/Desktop/Lung_TDA_application/y_pc/pc_0243.txt /home/qw817/Desktop/Lung_TDA_application/y_rivet/y_pc0243.rivet --xbins 20 --ybins 20\n",
      "/home/qw817/rivet/rivet_console /home/qw817/Desktop/Lung_TDA_application/y_pc/pc_0244.txt /home/qw817/Desktop/Lung_TDA_application/y_rivet/y_pc0244.rivet --xbins 20 --ybins 20\n",
      "/home/qw817/rivet/rivet_console /home/qw817/Desktop/Lung_TDA_application/y_pc/pc_0245.txt /home/qw817/Desktop/Lung_TDA_application/y_rivet/y_pc0245.rivet --xbins 20 --ybins 20\n",
      "/home/qw817/rivet/rivet_console /home/qw817/Desktop/Lung_TDA_application/y_pc/pc_0246.txt /home/qw817/Desktop/Lung_TDA_application/y_rivet/y_pc0246.rivet --xbins 20 --ybins 20\n",
      "/home/qw817/rivet/rivet_console /home/qw817/Desktop/Lung_TDA_application/y_pc/pc_0248.txt /home/qw817/Desktop/Lung_TDA_application/y_rivet/y_pc0248.rivet --xbins 20 --ybins 20\n",
      "/home/qw817/rivet/rivet_console /home/qw817/Desktop/Lung_TDA_application/y_pc/pc_0249.txt /home/qw817/Desktop/Lung_TDA_application/y_rivet/y_pc0249.rivet --xbins 20 --ybins 20\n",
      "/home/qw817/rivet/rivet_console /home/qw817/Desktop/Lung_TDA_application/y_pc/pc_0250.txt /home/qw817/Desktop/Lung_TDA_application/y_rivet/y_pc0250.rivet --xbins 20 --ybins 20\n",
      "/home/qw817/rivet/rivet_console /home/qw817/Desktop/Lung_TDA_application/y_pc/pc_0251.txt /home/qw817/Desktop/Lung_TDA_application/y_rivet/y_pc0251.rivet --xbins 20 --ybins 20\n",
      "/home/qw817/rivet/rivet_console /home/qw817/Desktop/Lung_TDA_application/y_pc/pc_0252.txt /home/qw817/Desktop/Lung_TDA_application/y_rivet/y_pc0252.rivet --xbins 20 --ybins 20\n",
      "/home/qw817/rivet/rivet_console /home/qw817/Desktop/Lung_TDA_application/y_pc/pc_0254.txt /home/qw817/Desktop/Lung_TDA_application/y_rivet/y_pc0254.rivet --xbins 20 --ybins 20\n",
      "/home/qw817/rivet/rivet_console /home/qw817/Desktop/Lung_TDA_application/y_pc/pc_0255.txt /home/qw817/Desktop/Lung_TDA_application/y_rivet/y_pc0255.rivet --xbins 20 --ybins 20\n",
      "/home/qw817/rivet/rivet_console /home/qw817/Desktop/Lung_TDA_application/y_pc/pc_0256.txt /home/qw817/Desktop/Lung_TDA_application/y_rivet/y_pc0256.rivet --xbins 20 --ybins 20\n",
      "/home/qw817/rivet/rivet_console /home/qw817/Desktop/Lung_TDA_application/y_pc/pc_0257.txt /home/qw817/Desktop/Lung_TDA_application/y_rivet/y_pc0257.rivet --xbins 20 --ybins 20\n",
      "/home/qw817/rivet/rivet_console /home/qw817/Desktop/Lung_TDA_application/y_pc/pc_0258.txt /home/qw817/Desktop/Lung_TDA_application/y_rivet/y_pc0258.rivet --xbins 20 --ybins 20\n",
      "/home/qw817/rivet/rivet_console /home/qw817/Desktop/Lung_TDA_application/y_pc/pc_0260.txt /home/qw817/Desktop/Lung_TDA_application/y_rivet/y_pc0260.rivet --xbins 20 --ybins 20\n",
      "/home/qw817/rivet/rivet_console /home/qw817/Desktop/Lung_TDA_application/y_pc/pc_0264.txt /home/qw817/Desktop/Lung_TDA_application/y_rivet/y_pc0264.rivet --xbins 20 --ybins 20\n",
      "/home/qw817/rivet/rivet_console /home/qw817/Desktop/Lung_TDA_application/y_pc/pc_0265.txt /home/qw817/Desktop/Lung_TDA_application/y_rivet/y_pc0265.rivet --xbins 20 --ybins 20\n",
      "/home/qw817/rivet/rivet_console /home/qw817/Desktop/Lung_TDA_application/y_pc/pc_0266.txt /home/qw817/Desktop/Lung_TDA_application/y_rivet/y_pc0266.rivet --xbins 20 --ybins 20\n",
      "/home/qw817/rivet/rivet_console /home/qw817/Desktop/Lung_TDA_application/y_pc/pc_0267.txt /home/qw817/Desktop/Lung_TDA_application/y_rivet/y_pc0267.rivet --xbins 20 --ybins 20\n",
      "/home/qw817/rivet/rivet_console /home/qw817/Desktop/Lung_TDA_application/y_pc/pc_0268.txt /home/qw817/Desktop/Lung_TDA_application/y_rivet/y_pc0268.rivet --xbins 20 --ybins 20\n",
      "/home/qw817/rivet/rivet_console /home/qw817/Desktop/Lung_TDA_application/y_pc/pc_0270.txt /home/qw817/Desktop/Lung_TDA_application/y_rivet/y_pc0270.rivet --xbins 20 --ybins 20\n",
      "/home/qw817/rivet/rivet_console /home/qw817/Desktop/Lung_TDA_application/y_pc/pc_0271.txt /home/qw817/Desktop/Lung_TDA_application/y_rivet/y_pc0271.rivet --xbins 20 --ybins 20\n",
      "/home/qw817/rivet/rivet_console /home/qw817/Desktop/Lung_TDA_application/y_pc/pc_0272.txt /home/qw817/Desktop/Lung_TDA_application/y_rivet/y_pc0272.rivet --xbins 20 --ybins 20\n",
      "/home/qw817/rivet/rivet_console /home/qw817/Desktop/Lung_TDA_application/y_pc/pc_0273.txt /home/qw817/Desktop/Lung_TDA_application/y_rivet/y_pc0273.rivet --xbins 20 --ybins 20\n",
      "/home/qw817/rivet/rivet_console /home/qw817/Desktop/Lung_TDA_application/y_pc/pc_0274.txt /home/qw817/Desktop/Lung_TDA_application/y_rivet/y_pc0274.rivet --xbins 20 --ybins 20\n",
      "/home/qw817/rivet/rivet_console /home/qw817/Desktop/Lung_TDA_application/y_pc/pc_0275.txt /home/qw817/Desktop/Lung_TDA_application/y_rivet/y_pc0275.rivet --xbins 20 --ybins 20\n",
      "/home/qw817/rivet/rivet_console /home/qw817/Desktop/Lung_TDA_application/y_pc/pc_0276.txt /home/qw817/Desktop/Lung_TDA_application/y_rivet/y_pc0276.rivet --xbins 20 --ybins 20\n",
      "/home/qw817/rivet/rivet_console /home/qw817/Desktop/Lung_TDA_application/y_pc/pc_0277.txt /home/qw817/Desktop/Lung_TDA_application/y_rivet/y_pc0277.rivet --xbins 20 --ybins 20\n",
      "/home/qw817/rivet/rivet_console /home/qw817/Desktop/Lung_TDA_application/y_pc/pc_0278.txt /home/qw817/Desktop/Lung_TDA_application/y_rivet/y_pc0278.rivet --xbins 20 --ybins 20\n",
      "/home/qw817/rivet/rivet_console /home/qw817/Desktop/Lung_TDA_application/y_pc/pc_0280.txt /home/qw817/Desktop/Lung_TDA_application/y_rivet/y_pc0280.rivet --xbins 20 --ybins 20\n",
      "/home/qw817/rivet/rivet_console /home/qw817/Desktop/Lung_TDA_application/y_pc/pc_0281.txt /home/qw817/Desktop/Lung_TDA_application/y_rivet/y_pc0281.rivet --xbins 20 --ybins 20\n",
      "/home/qw817/rivet/rivet_console /home/qw817/Desktop/Lung_TDA_application/y_pc/pc_0282.txt /home/qw817/Desktop/Lung_TDA_application/y_rivet/y_pc0282.rivet --xbins 20 --ybins 20\n",
      "/home/qw817/rivet/rivet_console /home/qw817/Desktop/Lung_TDA_application/y_pc/pc_0283.txt /home/qw817/Desktop/Lung_TDA_application/y_rivet/y_pc0283.rivet --xbins 20 --ybins 20\n",
      "/home/qw817/rivet/rivet_console /home/qw817/Desktop/Lung_TDA_application/y_pc/pc_0285.txt /home/qw817/Desktop/Lung_TDA_application/y_rivet/y_pc0285.rivet --xbins 20 --ybins 20\n",
      "/home/qw817/rivet/rivet_console /home/qw817/Desktop/Lung_TDA_application/y_pc/pc_0286.txt /home/qw817/Desktop/Lung_TDA_application/y_rivet/y_pc0286.rivet --xbins 20 --ybins 20\n",
      "/home/qw817/rivet/rivet_console /home/qw817/Desktop/Lung_TDA_application/y_pc/pc_0287.txt /home/qw817/Desktop/Lung_TDA_application/y_rivet/y_pc0287.rivet --xbins 20 --ybins 20\n",
      "/home/qw817/rivet/rivet_console /home/qw817/Desktop/Lung_TDA_application/y_pc/pc_0288.txt /home/qw817/Desktop/Lung_TDA_application/y_rivet/y_pc0288.rivet --xbins 20 --ybins 20\n",
      "/home/qw817/rivet/rivet_console /home/qw817/Desktop/Lung_TDA_application/y_pc/pc_0289.txt /home/qw817/Desktop/Lung_TDA_application/y_rivet/y_pc0289.rivet --xbins 20 --ybins 20\n",
      "/home/qw817/rivet/rivet_console /home/qw817/Desktop/Lung_TDA_application/y_pc/pc_0290.txt /home/qw817/Desktop/Lung_TDA_application/y_rivet/y_pc0290.rivet --xbins 20 --ybins 20\n",
      "/home/qw817/rivet/rivet_console /home/qw817/Desktop/Lung_TDA_application/y_pc/pc_0314.txt /home/qw817/Desktop/Lung_TDA_application/y_rivet/y_pc0314.rivet --xbins 20 --ybins 20\n",
      "/home/qw817/rivet/rivet_console /home/qw817/Desktop/Lung_TDA_application/y_pc/pc_0325.txt /home/qw817/Desktop/Lung_TDA_application/y_rivet/y_pc0325.rivet --xbins 20 --ybins 20\n",
      "/home/qw817/rivet/rivet_console /home/qw817/Desktop/Lung_TDA_application/y_pc/pc_0332.txt /home/qw817/Desktop/Lung_TDA_application/y_rivet/y_pc0332.rivet --xbins 20 --ybins 20\n",
      "/home/qw817/rivet/rivet_console /home/qw817/Desktop/Lung_TDA_application/y_pc/pc_0377.txt /home/qw817/Desktop/Lung_TDA_application/y_rivet/y_pc0377.rivet --xbins 20 --ybins 20\n",
      "/home/qw817/rivet/rivet_console /home/qw817/Desktop/Lung_TDA_application/y_pc/pc_0385.txt /home/qw817/Desktop/Lung_TDA_application/y_rivet/y_pc0385.rivet --xbins 20 --ybins 20\n",
      "/home/qw817/rivet/rivet_console /home/qw817/Desktop/Lung_TDA_application/y_pc/pc_0399.txt /home/qw817/Desktop/Lung_TDA_application/y_rivet/y_pc0399.rivet --xbins 20 --ybins 20\n",
      "/home/qw817/rivet/rivet_console /home/qw817/Desktop/Lung_TDA_application/y_pc/pc_0405.txt /home/qw817/Desktop/Lung_TDA_application/y_rivet/y_pc0405.rivet --xbins 20 --ybins 20\n",
      "/home/qw817/rivet/rivet_console /home/qw817/Desktop/Lung_TDA_application/y_pc/pc_0454.txt /home/qw817/Desktop/Lung_TDA_application/y_rivet/y_pc0454.rivet --xbins 20 --ybins 20\n",
      "/home/qw817/rivet/rivet_console /home/qw817/Desktop/Lung_TDA_application/y_pc/pc_0470.txt /home/qw817/Desktop/Lung_TDA_application/y_rivet/y_pc0470.rivet --xbins 20 --ybins 20\n",
      "/home/qw817/rivet/rivet_console /home/qw817/Desktop/Lung_TDA_application/y_pc/pc_0493.txt /home/qw817/Desktop/Lung_TDA_application/y_rivet/y_pc0493.rivet --xbins 20 --ybins 20\n",
      "/home/qw817/rivet/rivet_console /home/qw817/Desktop/Lung_TDA_application/y_pc/pc_0510.txt /home/qw817/Desktop/Lung_TDA_application/y_rivet/y_pc0510.rivet --xbins 20 --ybins 20\n",
      "/home/qw817/rivet/rivet_console /home/qw817/Desktop/Lung_TDA_application/y_pc/pc_0522.txt /home/qw817/Desktop/Lung_TDA_application/y_rivet/y_pc0522.rivet --xbins 20 --ybins 20\n",
      "/home/qw817/rivet/rivet_console /home/qw817/Desktop/Lung_TDA_application/y_pc/pc_0543.txt /home/qw817/Desktop/Lung_TDA_application/y_rivet/y_pc0543.rivet --xbins 20 --ybins 20\n",
      "/home/qw817/rivet/rivet_console /home/qw817/Desktop/Lung_TDA_application/y_pc/pc_0559.txt /home/qw817/Desktop/Lung_TDA_application/y_rivet/y_pc0559.rivet --xbins 20 --ybins 20\n",
      "/home/qw817/rivet/rivet_console /home/qw817/Desktop/Lung_TDA_application/y_pc/pc_0562.txt /home/qw817/Desktop/Lung_TDA_application/y_rivet/y_pc0562.rivet --xbins 20 --ybins 20\n",
      "/home/qw817/rivet/rivet_console /home/qw817/Desktop/Lung_TDA_application/y_pc/pc_0568.txt /home/qw817/Desktop/Lung_TDA_application/y_rivet/y_pc0568.rivet --xbins 20 --ybins 20\n",
      "/home/qw817/rivet/rivet_console /home/qw817/Desktop/Lung_TDA_application/y_pc/pc_0576.txt /home/qw817/Desktop/Lung_TDA_application/y_rivet/y_pc0576.rivet --xbins 20 --ybins 20\n",
      "/home/qw817/rivet/rivet_console /home/qw817/Desktop/Lung_TDA_application/y_pc/pc_0580.txt /home/qw817/Desktop/Lung_TDA_application/y_rivet/y_pc0580.rivet --xbins 20 --ybins 20\n",
      "/home/qw817/rivet/rivet_console /home/qw817/Desktop/Lung_TDA_application/y_pc/pc_0610.txt /home/qw817/Desktop/Lung_TDA_application/y_rivet/y_pc0610.rivet --xbins 20 --ybins 20\n",
      "/home/qw817/rivet/rivet_console /home/qw817/Desktop/Lung_TDA_application/y_pc/pc_0624.txt /home/qw817/Desktop/Lung_TDA_application/y_rivet/y_pc0624.rivet --xbins 20 --ybins 20\n",
      "/home/qw817/rivet/rivet_console /home/qw817/Desktop/Lung_TDA_application/y_pc/pc_0766.txt /home/qw817/Desktop/Lung_TDA_application/y_rivet/y_pc0766.rivet --xbins 20 --ybins 20\n",
      "/home/qw817/rivet/rivet_console /home/qw817/Desktop/Lung_TDA_application/y_pc/pc_0771.txt /home/qw817/Desktop/Lung_TDA_application/y_rivet/y_pc0771.rivet --xbins 20 --ybins 20\n",
      "/home/qw817/rivet/rivet_console /home/qw817/Desktop/Lung_TDA_application/y_pc/pc_0772.txt /home/qw817/Desktop/Lung_TDA_application/y_rivet/y_pc0772.rivet --xbins 20 --ybins 20\n",
      "/home/qw817/rivet/rivet_console /home/qw817/Desktop/Lung_TDA_application/y_pc/pc_0811.txt /home/qw817/Desktop/Lung_TDA_application/y_rivet/y_pc0811.rivet --xbins 20 --ybins 20\n",
      "/home/qw817/rivet/rivet_console /home/qw817/Desktop/Lung_TDA_application/y_pc/pc_0818.txt /home/qw817/Desktop/Lung_TDA_application/y_rivet/y_pc0818.rivet --xbins 20 --ybins 20\n",
      "/home/qw817/rivet/rivet_console /home/qw817/Desktop/Lung_TDA_application/y_pc/pc_0875.txt /home/qw817/Desktop/Lung_TDA_application/y_rivet/y_pc0875.rivet --xbins 20 --ybins 20\n",
      "/home/qw817/rivet/rivet_console /home/qw817/Desktop/Lung_TDA_application/y_pc/pc_0893.txt /home/qw817/Desktop/Lung_TDA_application/y_rivet/y_pc0893.rivet --xbins 20 --ybins 20\n",
      "/home/qw817/rivet/rivet_console /home/qw817/Desktop/Lung_TDA_application/y_pc/pc_0905.txt /home/qw817/Desktop/Lung_TDA_application/y_rivet/y_pc0905.rivet --xbins 20 --ybins 20\n",
      "/home/qw817/rivet/rivet_console /home/qw817/Desktop/Lung_TDA_application/y_pc/pc_0921.txt /home/qw817/Desktop/Lung_TDA_application/y_rivet/y_pc0921.rivet --xbins 20 --ybins 20\n",
      "/home/qw817/rivet/rivet_console /home/qw817/Desktop/Lung_TDA_application/y_pc/pc_0924.txt /home/qw817/Desktop/Lung_TDA_application/y_rivet/y_pc0924.rivet --xbins 20 --ybins 20\n",
      "/home/qw817/rivet/rivet_console /home/qw817/Desktop/Lung_TDA_application/y_pc/pc_0939.txt /home/qw817/Desktop/Lung_TDA_application/y_rivet/y_pc0939.rivet --xbins 20 --ybins 20\n",
      "/home/qw817/rivet/rivet_console /home/qw817/Desktop/Lung_TDA_application/y_pc/pc_0965.txt /home/qw817/Desktop/Lung_TDA_application/y_rivet/y_pc0965.rivet --xbins 20 --ybins 20\n",
      "/home/qw817/rivet/rivet_console /home/qw817/Desktop/Lung_TDA_application/y_pc/pc_0994.txt /home/qw817/Desktop/Lung_TDA_application/y_rivet/y_pc0994.rivet --xbins 20 --ybins 20\n",
      "/home/qw817/rivet/rivet_console /home/qw817/Desktop/Lung_TDA_application/y_pc/pc_1002.txt /home/qw817/Desktop/Lung_TDA_application/y_rivet/y_pc1002.rivet --xbins 20 --ybins 20\n",
      "/home/qw817/rivet/rivet_console /home/qw817/Desktop/Lung_TDA_application/y_pc/pc_1004.txt /home/qw817/Desktop/Lung_TDA_application/y_rivet/y_pc1004.rivet --xbins 20 --ybins 20\n",
      "/home/qw817/rivet/rivet_console /home/qw817/Desktop/Lung_TDA_application/y_pc/pc_1010.txt /home/qw817/Desktop/Lung_TDA_application/y_rivet/y_pc1010.rivet --xbins 20 --ybins 20\n",
      "/home/qw817/rivet/rivet_console /home/qw817/Desktop/Lung_TDA_application/y_pc/pc_1011.txt /home/qw817/Desktop/Lung_TDA_application/y_rivet/y_pc1011.rivet --xbins 20 --ybins 20\n"
     ]
    }
   ],
   "source": [
    "for i in ids:\n",
    "    print(\"/home/qw817/rivet/rivet_console /home/qw817/Desktop/Lung_TDA_application/small_point_cloud_height_filtration/h_ptcl_\"+i[-4:]+\".txt /home/qw817/Desktop/Lung_TDA_application/height_rivet/h_pc\"+i[-4:]+\".rivet --xbins 20 --ybins 20\")\n",
    "    \n",
    "for i in ids:\n",
    "    print(\"/home/qw817/rivet/rivet_console /home/qw817/Desktop/Lung_TDA_application/x_pc/pc_\"+i[-4:]+\".txt /home/qw817/Desktop/Lung_TDA_application/x_rivet/x_pc\"+i[-4:]+\".rivet --xbins 20 --ybins 20\")\n",
    "    \n",
    "for i in ids:\n",
    "    print(\"/home/qw817/rivet/rivet_console /home/qw817/Desktop/Lung_TDA_application/y_pc/pc_\"+i[-4:]+\".txt /home/qw817/Desktop/Lung_TDA_application/y_rivet/y_pc\"+i[-4:]+\".rivet --xbins 20 --ybins 20\")\n",
    "    "
   ]
  },
  {
   "cell_type": "code",
   "execution_count": 159,
   "metadata": {},
   "outputs": [
    {
     "data": {
      "text/plain": [
       "139"
      ]
     },
     "execution_count": 159,
     "metadata": {},
     "output_type": "execute_result"
    }
   ],
   "source": [
    "len(small_pc)"
   ]
  },
  {
   "cell_type": "markdown",
   "metadata": {},
   "source": [
    "# where to find all data\n",
    "- height filtration: height_rivet/h_pc0068.rivet\n",
    "- x filtration: x_rivet/x_pc0068.rivet\n",
    "- y filtration: y_rivet/y_pc0068.rivet"
   ]
  },
  {
   "cell_type": "code",
   "execution_count": 165,
   "metadata": {},
   "outputs": [],
   "source": [
    "# convert .rivet files to rank functions\n",
    "height_ranks = []\n",
    "for i in ids:\n",
    "    with open(\"height_rivet/h_pc\"+i[-4:]+\".rivet\", 'rb') as f:\n",
    "        computed_data = f.read()\n",
    "    current_rank = rank_function(computed_data, grid_size=20, fixed_bounds=None, use_weights=False, normalize=False, minimum_rank=0)\n",
    "    height_ranks.append(current_rank)\n",
    "np.savetxt(\"computed_rank_functions_height.csv\", np.array(height_ranks), delimiter=',')"
   ]
  },
  {
   "cell_type": "code",
   "execution_count": 166,
   "metadata": {},
   "outputs": [
    {
     "data": {
      "text/plain": [
       "(139, 44100)"
      ]
     },
     "execution_count": 166,
     "metadata": {},
     "output_type": "execute_result"
    }
   ],
   "source": [
    "height_rank_mat = np.array(height_ranks)\n",
    "height_rank_mat.shape"
   ]
  },
  {
   "cell_type": "code",
   "execution_count": 167,
   "metadata": {},
   "outputs": [],
   "source": [
    "# convert .rivet files to rank functions for x filtration\n",
    "x_ranks = []\n",
    "for i in ids:\n",
    "    with open(\"x_rivet/x_pc\"+i[-4:]+\".rivet\", 'rb') as f:\n",
    "        computed_data = f.read()\n",
    "    current_rank = rank_function(computed_data, grid_size=20, fixed_bounds=None, use_weights=False, normalize=False, minimum_rank=0)\n",
    "    x_ranks.append(current_rank)\n",
    "x_rank_mat = np.array(x_ranks)\n",
    "x_rank_mat.shape\n",
    "np.savetxt(\"computed_rank_functions_x.csv\", x_rank_mat, delimiter=',')"
   ]
  },
  {
   "cell_type": "code",
   "execution_count": 168,
   "metadata": {},
   "outputs": [],
   "source": [
    "# convert .rivet files to rank functions for y filtration\n",
    "y_ranks = []\n",
    "for i in ids:\n",
    "    with open(\"y_rivet/y_pc\"+i[-4:]+\".rivet\", 'rb') as f:\n",
    "        computed_data = f.read()\n",
    "    current_rank = rank_function(computed_data, grid_size=20, fixed_bounds=None, use_weights=False, normalize=False, minimum_rank=0)\n",
    "    y_ranks.append(current_rank)\n",
    "y_rank_mat = np.array(y_ranks)\n",
    "y_rank_mat.shape\n",
    "np.savetxt(\"computed_rank_functions_y.csv\", y_rank_mat, delimiter=',')"
   ]
  },
  {
   "cell_type": "code",
   "execution_count": 169,
   "metadata": {},
   "outputs": [],
   "source": [
    "# saved rank functions are:\n",
    "# - height_rank_mat\n",
    "# - x_rank_mat\n",
    "# - y_rank_mat"
   ]
  },
  {
   "cell_type": "markdown",
   "metadata": {},
   "source": [
    "### Try to see if classification works\n"
   ]
  },
  {
   "cell_type": "code",
   "execution_count": 170,
   "metadata": {},
   "outputs": [
    {
     "data": {
      "text/plain": [
       "array([0, 0, 0, 0, 0, 0, 0, 0, 0, 0, 0, 1, 0, 0, 1, 0, 0, 0, 0, 1, 1, 0,\n",
       "       1, 0, 0, 1, 0, 0, 1, 0, 1, 0, 1, 0, 0, 0, 0, 0, 0, 0, 0, 0, 0, 0,\n",
       "       1, 0, 0, 1, 1, 0, 0, 0, 0, 1, 0, 0, 0, 0, 0, 1, 1, 0, 0, 0, 0, 0,\n",
       "       0, 1, 1, 0, 0, 1, 0, 1, 1, 1, 1, 0, 1, 1, 0, 0, 0, 0, 0, 0, 1, 1,\n",
       "       0, 0, 0, 1, 0, 0, 1, 0, 0, 0, 0, 1, 0, 0, 0, 0, 0, 0, 0, 0, 0, 0,\n",
       "       0, 0, 0, 0, 0])"
      ]
     },
     "execution_count": 170,
     "metadata": {},
     "output_type": "execute_result"
    }
   ],
   "source": [
    "# if not svm try logistic, rf etc\n",
    "labels"
   ]
  },
  {
   "cell_type": "code",
   "execution_count": 171,
   "metadata": {},
   "outputs": [],
   "source": [
    "# \n",
    "diagnosed_height_ranks = height_rank_mat[useful_diagnosis[:,1]!=0,:]\n",
    "diagnosed_x_ranks = x_rank_mat[useful_diagnosis[:,1]!=0,:]\n",
    "diagnosed_y_ranks = y_rank_mat[useful_diagnosis[:,1]!=0,:]"
   ]
  },
  {
   "cell_type": "code",
   "execution_count": 173,
   "metadata": {},
   "outputs": [
    {
     "name": "stdout",
     "output_type": "stream",
     "text": [
      "[0.6521739130434783, 0.7391304347826086, 0.7391304347826086, 0.7391304347826086, 0.8260869565217391]\n",
      "[0.7391304347826086, 0.7391304347826086, 0.7391304347826086, 0.7391304347826086, 0.6956521739130435]\n",
      "[0.782608695652174, 0.6956521739130435, 0.7391304347826086, 0.7391304347826086, 0.7391304347826086]\n",
      "[0.782608695652174, 0.7391304347826086, 0.782608695652174, 0.7391304347826086, 0.7391304347826086]\n",
      "[0.8695652173913043, 0.5652173913043478, 0.6521739130434783, 0.6956521739130435, 0.6956521739130435]\n",
      "[0.6956521739130435, 0.7391304347826086, 0.7391304347826086, 0.7391304347826086, 0.7391304347826086]\n",
      "[0.782608695652174, 0.6086956521739131, 0.6086956521739131, 0.6956521739130435, 0.7391304347826086]\n",
      "[0.6956521739130435, 0.6521739130434783, 0.7391304347826086, 0.7391304347826086, 0.8260869565217391]\n",
      "[0.7391304347826086, 0.6086956521739131, 0.6956521739130435, 0.7391304347826086, 0.782608695652174]\n",
      "[0.7391304347826086, 0.6956521739130435, 0.6521739130434783, 0.6956521739130435, 0.6521739130434783]\n"
     ]
    },
    {
     "data": {
      "text/plain": [
       "[0.7391304347826086,\n",
       " 0.7304347826086957,\n",
       " 0.7391304347826086,\n",
       " 0.7565217391304347,\n",
       " 0.6956521739130435,\n",
       " 0.7304347826086955,\n",
       " 0.6869565217391305,\n",
       " 0.7304347826086957,\n",
       " 0.7130434782608696,\n",
       " 0.6869565217391305]"
      ]
     },
     "execution_count": 173,
     "metadata": {},
     "output_type": "execute_result"
    }
   ],
   "source": [
    "# define a function for computing the accuracy over \n",
    "def cv_knn_accuracy_iter(X, y, n_iter=10, fold=5):\n",
    "    overall_acc = [1000 for j in range(n_iter)]\n",
    "    for i in range(n_iter):\n",
    "        accuracies = [100 for k in range(fold)]\n",
    "        # fold cv\n",
    "        str_cv = StratifiedKFold(n_splits=fold, shuffle=True)\n",
    "        fold_num = 0\n",
    "        for train_index, test_index in str_cv.split(X, y):\n",
    "            clf = KNeighborsRegressor(n_neighbors=5)\n",
    "            #clf = svm.LinearSVC()\n",
    "            clf.fit(X[train_index], y[train_index])\n",
    "            test_pred = clf.predict(X[test_index])\n",
    "            test_acc = accuracy_score(y[test_index], np.array([round(i) for i in test_pred]))\n",
    "            accuracies[fold_num] = test_acc\n",
    "            # update fold\n",
    "            fold_num +=1\n",
    "        overall_acc[i] = np.mean(accuracies)\n",
    "        print(accuracies)\n",
    "    return overall_acc\n",
    "\n",
    "cv_knn_accuracy_iter(diagnosed_height_ranks, labels, 10, 5)"
   ]
  },
  {
   "cell_type": "code",
   "execution_count": 174,
   "metadata": {},
   "outputs": [
    {
     "name": "stdout",
     "output_type": "stream",
     "text": [
      "[0.6521739130434783, 0.6956521739130435, 0.6956521739130435, 0.6956521739130435, 0.7391304347826086]\n",
      "[0.7391304347826086, 0.6956521739130435, 0.6956521739130435, 0.6521739130434783, 0.782608695652174]\n",
      "[0.8260869565217391, 0.6086956521739131, 0.6956521739130435, 0.7391304347826086, 0.7391304347826086]\n",
      "[0.6956521739130435, 0.782608695652174, 0.6521739130434783, 0.6956521739130435, 0.6521739130434783]\n",
      "[0.8260869565217391, 0.6086956521739131, 0.6956521739130435, 0.6956521739130435, 0.782608695652174]\n",
      "[0.6521739130434783, 0.6521739130434783, 0.6956521739130435, 0.782608695652174, 0.7391304347826086]\n",
      "[0.7391304347826086, 0.7391304347826086, 0.782608695652174, 0.6956521739130435, 0.6956521739130435]\n",
      "[0.6956521739130435, 0.8260869565217391, 0.6956521739130435, 0.782608695652174, 0.6521739130434783]\n",
      "[0.6956521739130435, 0.6956521739130435, 0.6956521739130435, 0.6956521739130435, 0.7391304347826086]\n",
      "[0.782608695652174, 0.6956521739130435, 0.7391304347826086, 0.6521739130434783, 0.782608695652174]\n"
     ]
    },
    {
     "data": {
      "text/plain": [
       "[0.6956521739130436,\n",
       " 0.7130434782608696,\n",
       " 0.7217391304347827,\n",
       " 0.6956521739130433,\n",
       " 0.7217391304347827,\n",
       " 0.7043478260869565,\n",
       " 0.7304347826086957,\n",
       " 0.7304347826086957,\n",
       " 0.7043478260869565,\n",
       " 0.7304347826086957]"
      ]
     },
     "execution_count": 174,
     "metadata": {},
     "output_type": "execute_result"
    }
   ],
   "source": [
    "cv_knn_accuracy_iter(diagnosed_x_ranks, labels, 10, 5)"
   ]
  },
  {
   "cell_type": "code",
   "execution_count": 175,
   "metadata": {},
   "outputs": [
    {
     "name": "stdout",
     "output_type": "stream",
     "text": [
      "[0.782608695652174, 0.7391304347826086, 0.7391304347826086, 0.782608695652174, 0.6956521739130435]\n",
      "[0.782608695652174, 0.782608695652174, 0.6086956521739131, 0.7391304347826086, 0.7391304347826086]\n",
      "[0.8260869565217391, 0.6521739130434783, 0.6956521739130435, 0.7391304347826086, 0.6521739130434783]\n",
      "[0.782608695652174, 0.782608695652174, 0.6521739130434783, 0.782608695652174, 0.6956521739130435]\n",
      "[0.6956521739130435, 0.6521739130434783, 0.7391304347826086, 0.6956521739130435, 0.8260869565217391]\n",
      "[0.8260869565217391, 0.6521739130434783, 0.782608695652174, 0.782608695652174, 0.7391304347826086]\n",
      "[0.6956521739130435, 0.6956521739130435, 0.7391304347826086, 0.7391304347826086, 0.782608695652174]\n",
      "[0.782608695652174, 0.5652173913043478, 0.7391304347826086, 0.782608695652174, 0.782608695652174]\n",
      "[0.782608695652174, 0.6956521739130435, 0.7391304347826086, 0.6956521739130435, 0.7391304347826086]\n",
      "[0.7391304347826086, 0.8260869565217391, 0.7391304347826086, 0.782608695652174, 0.782608695652174]\n"
     ]
    },
    {
     "data": {
      "text/plain": [
       "[0.7478260869565218,\n",
       " 0.7304347826086955,\n",
       " 0.7130434782608696,\n",
       " 0.7391304347826086,\n",
       " 0.7217391304347827,\n",
       " 0.7565217391304347,\n",
       " 0.7304347826086955,\n",
       " 0.7304347826086957,\n",
       " 0.7304347826086957,\n",
       " 0.7739130434782607]"
      ]
     },
     "execution_count": 175,
     "metadata": {},
     "output_type": "execute_result"
    }
   ],
   "source": [
    "cv_knn_accuracy_iter(diagnosed_y_ranks, labels, 10, 5)"
   ]
  },
  {
   "cell_type": "code",
   "execution_count": 178,
   "metadata": {},
   "outputs": [
    {
     "name": "stdout",
     "output_type": "stream",
     "text": [
      "[0.6521739130434783, 0.6086956521739131, 0.8260869565217391, 0.6956521739130435, 0.5652173913043478]\n",
      "[0.7391304347826086, 0.782608695652174, 0.7391304347826086, 0.6086956521739131, 0.6521739130434783]\n",
      "[0.782608695652174, 0.6956521739130435, 0.5652173913043478, 0.6956521739130435, 0.6956521739130435]\n",
      "[0.782608695652174, 0.5652173913043478, 0.782608695652174, 0.6956521739130435, 0.6521739130434783]\n",
      "[0.6956521739130435, 0.6521739130434783, 0.6956521739130435, 0.7391304347826086, 0.7391304347826086]\n",
      "[0.7391304347826086, 0.6521739130434783, 0.7391304347826086, 0.7391304347826086, 0.6521739130434783]\n",
      "[0.8695652173913043, 0.6956521739130435, 0.6521739130434783, 0.5652173913043478, 0.782608695652174]\n",
      "[0.6521739130434783, 0.782608695652174, 0.782608695652174, 0.6956521739130435, 0.782608695652174]\n",
      "[0.6086956521739131, 0.7391304347826086, 0.6086956521739131, 0.7391304347826086, 0.6956521739130435]\n",
      "[0.7391304347826086, 0.7391304347826086, 0.8695652173913043, 0.782608695652174, 0.7391304347826086]\n",
      "average accuracy:  0.7069565217391303\n",
      "[0.782608695652174, 0.7391304347826086, 0.6956521739130435, 0.6521739130434783, 0.6086956521739131]\n",
      "[0.782608695652174, 0.5217391304347826, 0.6956521739130435, 0.6521739130434783, 0.6086956521739131]\n",
      "[0.6521739130434783, 0.5652173913043478, 0.6956521739130435, 0.6086956521739131, 0.5652173913043478]\n",
      "[0.6086956521739131, 0.6956521739130435, 0.8260869565217391, 0.5652173913043478, 0.6521739130434783]\n",
      "[0.7391304347826086, 0.6521739130434783, 0.6956521739130435, 0.7391304347826086, 0.6086956521739131]\n",
      "[0.4782608695652174, 0.7391304347826086, 0.6956521739130435, 0.6956521739130435, 0.6521739130434783]\n",
      "[0.782608695652174, 0.782608695652174, 0.8260869565217391, 0.6086956521739131, 0.6086956521739131]\n",
      "[0.6956521739130435, 0.6521739130434783, 0.6956521739130435, 0.6956521739130435, 0.782608695652174]\n",
      "[0.8260869565217391, 0.6521739130434783, 0.5652173913043478, 0.6521739130434783, 0.6521739130434783]\n",
      "[0.6521739130434783, 0.7391304347826086, 0.5652173913043478, 0.6956521739130435, 0.782608695652174]\n",
      "average accuracy:  0.6756521739130436\n",
      "[0.8260869565217391, 0.6521739130434783, 0.5652173913043478, 0.6956521739130435, 0.7391304347826086]\n",
      "[0.6956521739130435, 0.7391304347826086, 0.7391304347826086, 0.7391304347826086, 0.6086956521739131]\n",
      "[0.6521739130434783, 0.6086956521739131, 0.782608695652174, 0.6956521739130435, 0.6521739130434783]\n",
      "[0.6521739130434783, 0.7391304347826086, 0.5652173913043478, 0.6086956521739131, 0.6956521739130435]\n",
      "[0.782608695652174, 0.6521739130434783, 0.6521739130434783, 0.6956521739130435, 0.7391304347826086]\n",
      "[0.6956521739130435, 0.6086956521739131, 0.6956521739130435, 0.6521739130434783, 0.6521739130434783]\n",
      "[0.7391304347826086, 0.7391304347826086, 0.782608695652174, 0.7391304347826086, 0.6521739130434783]\n",
      "[0.5652173913043478, 0.6956521739130435, 0.6521739130434783, 0.7391304347826086, 0.6956521739130435]\n",
      "[0.6956521739130435, 0.6521739130434783, 0.6521739130434783, 0.6086956521739131, 0.6956521739130435]\n",
      "[0.782608695652174, 0.6956521739130435, 0.6521739130434783, 0.6956521739130435, 0.6086956521739131]\n",
      "average accuracy:  0.6843478260869565\n"
     ]
    }
   ],
   "source": [
    "# define a function for computing the accuracy over \n",
    "def cv_knn3_accuracy_iter(X, y, n_iter=10, fold=5):\n",
    "    overall_acc = [1000 for j in range(n_iter)]\n",
    "    for i in range(n_iter):\n",
    "        accuracies = [100 for k in range(fold)]\n",
    "        # fold cv\n",
    "        str_cv = StratifiedKFold(n_splits=fold, shuffle=True)\n",
    "        fold_num = 0\n",
    "        for train_index, test_index in str_cv.split(X, y):\n",
    "            clf = KNeighborsRegressor(n_neighbors=3)\n",
    "            #clf = svm.LinearSVC()\n",
    "            clf.fit(X[train_index], y[train_index])\n",
    "            test_pred = clf.predict(X[test_index])\n",
    "            test_acc = accuracy_score(y[test_index], np.array([round(i) for i in test_pred]))\n",
    "            accuracies[fold_num] = test_acc\n",
    "            # update fold\n",
    "            fold_num +=1\n",
    "        overall_acc[i] = np.mean(accuracies)\n",
    "        print(accuracies)\n",
    "    return overall_acc\n",
    "\n",
    "t1 = cv_knn3_accuracy_iter(diagnosed_height_ranks, labels, 10, 5)\n",
    "print(\"average accuracy: \",sum(t1)/10)\n",
    "t2 = cv_knn3_accuracy_iter(diagnosed_x_ranks, labels, 10, 5)\n",
    "print(\"average accuracy: \",sum(t2)/10)\n",
    "t3 = cv_knn3_accuracy_iter(diagnosed_y_ranks, labels, 10, 5)\n",
    "print(\"average accuracy: \",sum(t3)/10)"
   ]
  },
  {
   "cell_type": "code",
   "execution_count": 186,
   "metadata": {},
   "outputs": [
    {
     "name": "stdout",
     "output_type": "stream",
     "text": [
      "[0.43478260869565216, 0.2608695652173913, 0.391304347826087, 0.43478260869565216, 0.5652173913043478]\n",
      "[0.391304347826087, 0.34782608695652173, 0.391304347826087, 0.34782608695652173, 0.4782608695652174]\n",
      "[0.4782608695652174, 0.2608695652173913, 0.391304347826087, 0.30434782608695654, 0.30434782608695654]\n",
      "[0.4782608695652174, 0.43478260869565216, 0.43478260869565216, 0.30434782608695654, 0.43478260869565216]\n",
      "[0.4782608695652174, 0.391304347826087, 0.391304347826087, 0.391304347826087, 0.4782608695652174]\n",
      "[0.43478260869565216, 0.391304347826087, 0.34782608695652173, 0.34782608695652173, 0.43478260869565216]\n",
      "[0.34782608695652173, 0.34782608695652173, 0.2608695652173913, 0.391304347826087, 0.4782608695652174]\n",
      "[0.34782608695652173, 0.43478260869565216, 0.34782608695652173, 0.43478260869565216, 0.391304347826087]\n",
      "[0.391304347826087, 0.391304347826087, 0.43478260869565216, 0.391304347826087, 0.2608695652173913]\n",
      "[0.391304347826087, 0.30434782608695654, 0.4782608695652174, 0.43478260869565216, 0.4782608695652174]\n",
      "average accuracy:  0.39391304347826084\n",
      "[0.391304347826087, 0.391304347826087, 0.5217391304347826, 0.4782608695652174, 0.2608695652173913]\n",
      "[0.4782608695652174, 0.34782608695652173, 0.391304347826087, 0.34782608695652173, 0.43478260869565216]\n",
      "[0.34782608695652173, 0.2608695652173913, 0.4782608695652174, 0.391304347826087, 0.34782608695652173]\n",
      "[0.43478260869565216, 0.4782608695652174, 0.391304347826087, 0.391304347826087, 0.30434782608695654]\n",
      "[0.43478260869565216, 0.34782608695652173, 0.43478260869565216, 0.4782608695652174, 0.30434782608695654]\n",
      "[0.391304347826087, 0.4782608695652174, 0.43478260869565216, 0.34782608695652173, 0.4782608695652174]\n",
      "[0.4782608695652174, 0.43478260869565216, 0.4782608695652174, 0.43478260869565216, 0.43478260869565216]\n",
      "[0.43478260869565216, 0.5217391304347826, 0.30434782608695654, 0.34782608695652173, 0.43478260869565216]\n",
      "[0.43478260869565216, 0.34782608695652173, 0.391304347826087, 0.391304347826087, 0.391304347826087]\n",
      "[0.43478260869565216, 0.30434782608695654, 0.391304347826087, 0.391304347826087, 0.391304347826087]\n",
      "average accuracy:  0.4034782608695652\n",
      "[0.43478260869565216, 0.5217391304347826, 0.391304347826087, 0.391304347826087, 0.30434782608695654]\n",
      "[0.6086956521739131, 0.5217391304347826, 0.43478260869565216, 0.5217391304347826, 0.34782608695652173]\n",
      "[0.4782608695652174, 0.43478260869565216, 0.34782608695652173, 0.4782608695652174, 0.43478260869565216]\n",
      "[0.5217391304347826, 0.391304347826087, 0.43478260869565216, 0.43478260869565216, 0.5217391304347826]\n",
      "[0.391304347826087, 0.30434782608695654, 0.4782608695652174, 0.43478260869565216, 0.5217391304347826]\n",
      "[0.6086956521739131, 0.34782608695652173, 0.391304347826087, 0.34782608695652173, 0.43478260869565216]\n",
      "[0.5217391304347826, 0.43478260869565216, 0.43478260869565216, 0.34782608695652173, 0.391304347826087]\n",
      "[0.5217391304347826, 0.43478260869565216, 0.43478260869565216, 0.4782608695652174, 0.391304347826087]\n",
      "[0.5652173913043478, 0.30434782608695654, 0.5217391304347826, 0.391304347826087, 0.4782608695652174]\n",
      "[0.4782608695652174, 0.5652173913043478, 0.5652173913043478, 0.21739130434782608, 0.43478260869565216]\n",
      "average accuracy:  0.442608695652174\n"
     ]
    }
   ],
   "source": [
    "# try with 3 labels\n",
    "t1 = cv_knn_accuracy_iter(diagnosed_height_ranks, labels3.astype('int'), 10, 5)\n",
    "print(\"average accuracy: \",sum(t1)/10)\n",
    "t2 = cv_knn_accuracy_iter(diagnosed_x_ranks, labels3.astype('int'), 10, 5)\n",
    "print(\"average accuracy: \",sum(t2)/10)\n",
    "t3 = cv_knn_accuracy_iter(diagnosed_y_ranks, labels3.astype('int'), 10, 5)\n",
    "print(\"average accuracy: \",sum(t3)/10)"
   ]
  },
  {
   "cell_type": "code",
   "execution_count": 187,
   "metadata": {},
   "outputs": [
    {
     "name": "stdout",
     "output_type": "stream",
     "text": [
      "number of tumours in class 1 29\n",
      "number of tumours in class 2 41\n",
      "number of tumours in class 3 45\n"
     ]
    }
   ],
   "source": [
    "print(\"number of tumours in class 1\", sum(labels3==1))\n",
    "print(\"number of tumours in class 2\", sum(labels3==2))\n",
    "print(\"number of tumours in class 3\", sum(labels3==3))"
   ]
  },
  {
   "cell_type": "code",
   "execution_count": 188,
   "metadata": {},
   "outputs": [
    {
     "name": "stdout",
     "output_type": "stream",
     "text": [
      "number of benign tumours 29\n"
     ]
    }
   ],
   "source": [
    "print(\"number of benign tumours\", sum(labels==1))"
   ]
  },
  {
   "cell_type": "code",
   "execution_count": 190,
   "metadata": {},
   "outputs": [
    {
     "data": {
      "text/plain": [
       "<matplotlib.collections.PathCollection at 0x7ffba3320990>"
      ]
     },
     "execution_count": 190,
     "metadata": {},
     "output_type": "execute_result"
    },
    {
     "data": {
      "image/png": "[encoded data removed]",
      "text/plain": [
       "<Figure size 432x288 with 1 Axes>"
      ]
     },
     "metadata": {
      "needs_background": "light"
     },
     "output_type": "display_data"
    }
   ],
   "source": [
    "pca = PCA(2)\n",
    "hranks_2 = pca.fit_transform(diagnosed_height_ranks)\n",
    "plt.scatter(hranks_2[:,0], hranks_2[:,1], c= labels)"
   ]
  },
  {
   "cell_type": "code",
   "execution_count": 191,
   "metadata": {},
   "outputs": [
    {
     "data": {
      "text/plain": [
       "<matplotlib.collections.PathCollection at 0x7ffb9db9e550>"
      ]
     },
     "execution_count": 191,
     "metadata": {},
     "output_type": "execute_result"
    },
    {
     "data": {
      "image/png": "[encoded data removed]",
      "text/plain": [
       "<Figure size 432x288 with 1 Axes>"
      ]
     },
     "metadata": {
      "needs_background": "light"
     },
     "output_type": "display_data"
    }
   ],
   "source": [
    "plt.scatter(hranks_2[:,0], hranks_2[:,1], c= labels3)"
   ]
  },
  {
   "cell_type": "code",
   "execution_count": 193,
   "metadata": {},
   "outputs": [
    {
     "data": {
      "image/png": "[encoded data removed]",
      "text/plain": [
       "<Figure size 432x288 with 1 Axes>"
      ]
     },
     "metadata": {
      "needs_background": "light"
     },
     "output_type": "display_data"
    },
    {
     "data": {
      "image/png": "[encoded data removed]",
      "text/plain": [
       "<Figure size 432x288 with 1 Axes>"
      ]
     },
     "metadata": {
      "needs_background": "light"
     },
     "output_type": "display_data"
    }
   ],
   "source": [
    "pca = PCA(2)\n",
    "xranks_2 = pca.fit_transform(diagnosed_x_ranks)\n",
    "plt.scatter(xranks_2[:,0], xranks_2[:,1], c= labels)\n",
    "plt.show()\n",
    "plt.scatter(xranks_2[:,0], xranks_2[:,1], c= labels3)\n",
    "plt.show()"
   ]
  },
  {
   "cell_type": "code",
   "execution_count": 194,
   "metadata": {},
   "outputs": [
    {
     "data": {
      "image/png": "[encoded data removed]",
      "text/plain": [
       "<Figure size 432x288 with 1 Axes>"
      ]
     },
     "metadata": {
      "needs_background": "light"
     },
     "output_type": "display_data"
    },
    {
     "data": {
      "image/png": "[encoded data removed]",
      "text/plain": [
       "<Figure size 432x288 with 1 Axes>"
      ]
     },
     "metadata": {
      "needs_background": "light"
     },
     "output_type": "display_data"
    }
   ],
   "source": [
    "pca = PCA(2)\n",
    "yranks_2 = pca.fit_transform(diagnosed_y_ranks)\n",
    "plt.scatter(yranks_2[:,0], yranks_2[:,1], c= labels)\n",
    "plt.show()\n",
    "plt.scatter(yranks_2[:,0], yranks_2[:,1], c= labels3)\n",
    "plt.show()"
   ]
  },
  {
   "cell_type": "code",
   "execution_count": 198,
   "metadata": {},
   "outputs": [
    {
     "name": "stderr",
     "output_type": "stream",
     "text": [
      "/home/qw817/anaconda3/lib/python3.7/site-packages/sklearn/svm/_base.py:1208: ConvergenceWarning: Liblinear failed to converge, increase the number of iterations.\n",
      "  ConvergenceWarning,\n",
      "/home/qw817/anaconda3/lib/python3.7/site-packages/sklearn/svm/_base.py:1208: ConvergenceWarning: Liblinear failed to converge, increase the number of iterations.\n",
      "  ConvergenceWarning,\n",
      "/home/qw817/anaconda3/lib/python3.7/site-packages/sklearn/svm/_base.py:1208: ConvergenceWarning: Liblinear failed to converge, increase the number of iterations.\n",
      "  ConvergenceWarning,\n",
      "/home/qw817/anaconda3/lib/python3.7/site-packages/sklearn/svm/_base.py:1208: ConvergenceWarning: Liblinear failed to converge, increase the number of iterations.\n",
      "  ConvergenceWarning,\n",
      "/home/qw817/anaconda3/lib/python3.7/site-packages/sklearn/svm/_base.py:1208: ConvergenceWarning: Liblinear failed to converge, increase the number of iterations.\n",
      "  ConvergenceWarning,\n"
     ]
    },
    {
     "name": "stdout",
     "output_type": "stream",
     "text": [
      "[0.9130434782608695, 0.782608695652174, 0.6521739130434783, 0.6521739130434783, 0.6956521739130435]\n"
     ]
    },
    {
     "name": "stderr",
     "output_type": "stream",
     "text": [
      "/home/qw817/anaconda3/lib/python3.7/site-packages/sklearn/svm/_base.py:1208: ConvergenceWarning: Liblinear failed to converge, increase the number of iterations.\n",
      "  ConvergenceWarning,\n",
      "/home/qw817/anaconda3/lib/python3.7/site-packages/sklearn/svm/_base.py:1208: ConvergenceWarning: Liblinear failed to converge, increase the number of iterations.\n",
      "  ConvergenceWarning,\n",
      "/home/qw817/anaconda3/lib/python3.7/site-packages/sklearn/svm/_base.py:1208: ConvergenceWarning: Liblinear failed to converge, increase the number of iterations.\n",
      "  ConvergenceWarning,\n",
      "/home/qw817/anaconda3/lib/python3.7/site-packages/sklearn/svm/_base.py:1208: ConvergenceWarning: Liblinear failed to converge, increase the number of iterations.\n",
      "  ConvergenceWarning,\n",
      "/home/qw817/anaconda3/lib/python3.7/site-packages/sklearn/svm/_base.py:1208: ConvergenceWarning: Liblinear failed to converge, increase the number of iterations.\n",
      "  ConvergenceWarning,\n"
     ]
    },
    {
     "name": "stdout",
     "output_type": "stream",
     "text": [
      "[0.8695652173913043, 0.6956521739130435, 0.5652173913043478, 0.782608695652174, 0.5217391304347826]\n"
     ]
    },
    {
     "name": "stderr",
     "output_type": "stream",
     "text": [
      "/home/qw817/anaconda3/lib/python3.7/site-packages/sklearn/svm/_base.py:1208: ConvergenceWarning: Liblinear failed to converge, increase the number of iterations.\n",
      "  ConvergenceWarning,\n",
      "/home/qw817/anaconda3/lib/python3.7/site-packages/sklearn/svm/_base.py:1208: ConvergenceWarning: Liblinear failed to converge, increase the number of iterations.\n",
      "  ConvergenceWarning,\n",
      "/home/qw817/anaconda3/lib/python3.7/site-packages/sklearn/svm/_base.py:1208: ConvergenceWarning: Liblinear failed to converge, increase the number of iterations.\n",
      "  ConvergenceWarning,\n",
      "/home/qw817/anaconda3/lib/python3.7/site-packages/sklearn/svm/_base.py:1208: ConvergenceWarning: Liblinear failed to converge, increase the number of iterations.\n",
      "  ConvergenceWarning,\n",
      "/home/qw817/anaconda3/lib/python3.7/site-packages/sklearn/svm/_base.py:1208: ConvergenceWarning: Liblinear failed to converge, increase the number of iterations.\n",
      "  ConvergenceWarning,\n"
     ]
    },
    {
     "name": "stdout",
     "output_type": "stream",
     "text": [
      "[0.782608695652174, 0.6086956521739131, 0.6956521739130435, 0.6956521739130435, 0.6956521739130435]\n"
     ]
    },
    {
     "name": "stderr",
     "output_type": "stream",
     "text": [
      "/home/qw817/anaconda3/lib/python3.7/site-packages/sklearn/svm/_base.py:1208: ConvergenceWarning: Liblinear failed to converge, increase the number of iterations.\n",
      "  ConvergenceWarning,\n",
      "/home/qw817/anaconda3/lib/python3.7/site-packages/sklearn/svm/_base.py:1208: ConvergenceWarning: Liblinear failed to converge, increase the number of iterations.\n",
      "  ConvergenceWarning,\n",
      "/home/qw817/anaconda3/lib/python3.7/site-packages/sklearn/svm/_base.py:1208: ConvergenceWarning: Liblinear failed to converge, increase the number of iterations.\n",
      "  ConvergenceWarning,\n",
      "/home/qw817/anaconda3/lib/python3.7/site-packages/sklearn/svm/_base.py:1208: ConvergenceWarning: Liblinear failed to converge, increase the number of iterations.\n",
      "  ConvergenceWarning,\n",
      "/home/qw817/anaconda3/lib/python3.7/site-packages/sklearn/svm/_base.py:1208: ConvergenceWarning: Liblinear failed to converge, increase the number of iterations.\n",
      "  ConvergenceWarning,\n"
     ]
    },
    {
     "name": "stdout",
     "output_type": "stream",
     "text": [
      "[0.782608695652174, 0.6956521739130435, 0.6086956521739131, 0.8260869565217391, 0.6086956521739131]\n"
     ]
    },
    {
     "name": "stderr",
     "output_type": "stream",
     "text": [
      "/home/qw817/anaconda3/lib/python3.7/site-packages/sklearn/svm/_base.py:1208: ConvergenceWarning: Liblinear failed to converge, increase the number of iterations.\n",
      "  ConvergenceWarning,\n",
      "/home/qw817/anaconda3/lib/python3.7/site-packages/sklearn/svm/_base.py:1208: ConvergenceWarning: Liblinear failed to converge, increase the number of iterations.\n",
      "  ConvergenceWarning,\n",
      "/home/qw817/anaconda3/lib/python3.7/site-packages/sklearn/svm/_base.py:1208: ConvergenceWarning: Liblinear failed to converge, increase the number of iterations.\n",
      "  ConvergenceWarning,\n",
      "/home/qw817/anaconda3/lib/python3.7/site-packages/sklearn/svm/_base.py:1208: ConvergenceWarning: Liblinear failed to converge, increase the number of iterations.\n",
      "  ConvergenceWarning,\n",
      "/home/qw817/anaconda3/lib/python3.7/site-packages/sklearn/svm/_base.py:1208: ConvergenceWarning: Liblinear failed to converge, increase the number of iterations.\n",
      "  ConvergenceWarning,\n"
     ]
    },
    {
     "name": "stdout",
     "output_type": "stream",
     "text": [
      "[0.782608695652174, 0.7391304347826086, 0.6956521739130435, 0.6956521739130435, 0.6521739130434783]\n"
     ]
    },
    {
     "name": "stderr",
     "output_type": "stream",
     "text": [
      "/home/qw817/anaconda3/lib/python3.7/site-packages/sklearn/svm/_base.py:1208: ConvergenceWarning: Liblinear failed to converge, increase the number of iterations.\n",
      "  ConvergenceWarning,\n",
      "/home/qw817/anaconda3/lib/python3.7/site-packages/sklearn/svm/_base.py:1208: ConvergenceWarning: Liblinear failed to converge, increase the number of iterations.\n",
      "  ConvergenceWarning,\n",
      "/home/qw817/anaconda3/lib/python3.7/site-packages/sklearn/svm/_base.py:1208: ConvergenceWarning: Liblinear failed to converge, increase the number of iterations.\n",
      "  ConvergenceWarning,\n",
      "/home/qw817/anaconda3/lib/python3.7/site-packages/sklearn/svm/_base.py:1208: ConvergenceWarning: Liblinear failed to converge, increase the number of iterations.\n",
      "  ConvergenceWarning,\n",
      "/home/qw817/anaconda3/lib/python3.7/site-packages/sklearn/svm/_base.py:1208: ConvergenceWarning: Liblinear failed to converge, increase the number of iterations.\n",
      "  ConvergenceWarning,\n"
     ]
    },
    {
     "name": "stdout",
     "output_type": "stream",
     "text": [
      "[0.782608695652174, 0.6521739130434783, 0.7391304347826086, 0.6086956521739131, 0.6956521739130435]\n"
     ]
    },
    {
     "name": "stderr",
     "output_type": "stream",
     "text": [
      "/home/qw817/anaconda3/lib/python3.7/site-packages/sklearn/svm/_base.py:1208: ConvergenceWarning: Liblinear failed to converge, increase the number of iterations.\n",
      "  ConvergenceWarning,\n",
      "/home/qw817/anaconda3/lib/python3.7/site-packages/sklearn/svm/_base.py:1208: ConvergenceWarning: Liblinear failed to converge, increase the number of iterations.\n",
      "  ConvergenceWarning,\n",
      "/home/qw817/anaconda3/lib/python3.7/site-packages/sklearn/svm/_base.py:1208: ConvergenceWarning: Liblinear failed to converge, increase the number of iterations.\n",
      "  ConvergenceWarning,\n",
      "/home/qw817/anaconda3/lib/python3.7/site-packages/sklearn/svm/_base.py:1208: ConvergenceWarning: Liblinear failed to converge, increase the number of iterations.\n",
      "  ConvergenceWarning,\n",
      "/home/qw817/anaconda3/lib/python3.7/site-packages/sklearn/svm/_base.py:1208: ConvergenceWarning: Liblinear failed to converge, increase the number of iterations.\n",
      "  ConvergenceWarning,\n"
     ]
    },
    {
     "name": "stdout",
     "output_type": "stream",
     "text": [
      "[0.6521739130434783, 0.5217391304347826, 0.6956521739130435, 0.782608695652174, 0.7391304347826086]\n"
     ]
    },
    {
     "name": "stderr",
     "output_type": "stream",
     "text": [
      "/home/qw817/anaconda3/lib/python3.7/site-packages/sklearn/svm/_base.py:1208: ConvergenceWarning: Liblinear failed to converge, increase the number of iterations.\n",
      "  ConvergenceWarning,\n",
      "/home/qw817/anaconda3/lib/python3.7/site-packages/sklearn/svm/_base.py:1208: ConvergenceWarning: Liblinear failed to converge, increase the number of iterations.\n",
      "  ConvergenceWarning,\n",
      "/home/qw817/anaconda3/lib/python3.7/site-packages/sklearn/svm/_base.py:1208: ConvergenceWarning: Liblinear failed to converge, increase the number of iterations.\n",
      "  ConvergenceWarning,\n",
      "/home/qw817/anaconda3/lib/python3.7/site-packages/sklearn/svm/_base.py:1208: ConvergenceWarning: Liblinear failed to converge, increase the number of iterations.\n",
      "  ConvergenceWarning,\n",
      "/home/qw817/anaconda3/lib/python3.7/site-packages/sklearn/svm/_base.py:1208: ConvergenceWarning: Liblinear failed to converge, increase the number of iterations.\n",
      "  ConvergenceWarning,\n"
     ]
    },
    {
     "name": "stdout",
     "output_type": "stream",
     "text": [
      "[0.6956521739130435, 0.7391304347826086, 0.782608695652174, 0.6086956521739131, 0.6521739130434783]\n"
     ]
    },
    {
     "name": "stderr",
     "output_type": "stream",
     "text": [
      "/home/qw817/anaconda3/lib/python3.7/site-packages/sklearn/svm/_base.py:1208: ConvergenceWarning: Liblinear failed to converge, increase the number of iterations.\n",
      "  ConvergenceWarning,\n",
      "/home/qw817/anaconda3/lib/python3.7/site-packages/sklearn/svm/_base.py:1208: ConvergenceWarning: Liblinear failed to converge, increase the number of iterations.\n",
      "  ConvergenceWarning,\n",
      "/home/qw817/anaconda3/lib/python3.7/site-packages/sklearn/svm/_base.py:1208: ConvergenceWarning: Liblinear failed to converge, increase the number of iterations.\n",
      "  ConvergenceWarning,\n",
      "/home/qw817/anaconda3/lib/python3.7/site-packages/sklearn/svm/_base.py:1208: ConvergenceWarning: Liblinear failed to converge, increase the number of iterations.\n",
      "  ConvergenceWarning,\n",
      "/home/qw817/anaconda3/lib/python3.7/site-packages/sklearn/svm/_base.py:1208: ConvergenceWarning: Liblinear failed to converge, increase the number of iterations.\n",
      "  ConvergenceWarning,\n"
     ]
    },
    {
     "name": "stdout",
     "output_type": "stream",
     "text": [
      "[0.6956521739130435, 0.782608695652174, 0.6956521739130435, 0.6521739130434783, 0.6521739130434783]\n"
     ]
    },
    {
     "name": "stderr",
     "output_type": "stream",
     "text": [
      "/home/qw817/anaconda3/lib/python3.7/site-packages/sklearn/svm/_base.py:1208: ConvergenceWarning: Liblinear failed to converge, increase the number of iterations.\n",
      "  ConvergenceWarning,\n",
      "/home/qw817/anaconda3/lib/python3.7/site-packages/sklearn/svm/_base.py:1208: ConvergenceWarning: Liblinear failed to converge, increase the number of iterations.\n",
      "  ConvergenceWarning,\n",
      "/home/qw817/anaconda3/lib/python3.7/site-packages/sklearn/svm/_base.py:1208: ConvergenceWarning: Liblinear failed to converge, increase the number of iterations.\n",
      "  ConvergenceWarning,\n",
      "/home/qw817/anaconda3/lib/python3.7/site-packages/sklearn/svm/_base.py:1208: ConvergenceWarning: Liblinear failed to converge, increase the number of iterations.\n",
      "  ConvergenceWarning,\n"
     ]
    },
    {
     "name": "stdout",
     "output_type": "stream",
     "text": [
      "[0.6521739130434783, 0.7391304347826086, 0.6521739130434783, 0.6956521739130435, 0.6956521739130435]\n"
     ]
    },
    {
     "name": "stderr",
     "output_type": "stream",
     "text": [
      "/home/qw817/anaconda3/lib/python3.7/site-packages/sklearn/svm/_base.py:1208: ConvergenceWarning: Liblinear failed to converge, increase the number of iterations.\n",
      "  ConvergenceWarning,\n"
     ]
    },
    {
     "data": {
      "text/plain": [
       "[0.7391304347826086,\n",
       " 0.6869565217391304,\n",
       " 0.6956521739130435,\n",
       " 0.7043478260869566,\n",
       " 0.7130434782608696,\n",
       " 0.6956521739130435,\n",
       " 0.6782608695652174,\n",
       " 0.6956521739130436,\n",
       " 0.6956521739130436,\n",
       " 0.6869565217391305]"
      ]
     },
     "execution_count": 198,
     "metadata": {},
     "output_type": "execute_result"
    }
   ],
   "source": [
    "# define a function for computing the accuracy over \n",
    "def cv_svm_accuracy_iter(X, y, n_iter=10, fold=5):\n",
    "    overall_acc = [1000 for j in range(n_iter)]\n",
    "    for i in range(n_iter):\n",
    "        accuracies = [100 for k in range(fold)]\n",
    "        # fold cv\n",
    "        str_cv = StratifiedKFold(n_splits=fold, shuffle=True)\n",
    "        fold_num = 0\n",
    "        for train_index, test_index in str_cv.split(X, y):\n",
    "            clf = svm.LinearSVC()\n",
    "            clf.fit(X[train_index], y[train_index])\n",
    "            test_pred = clf.predict(X[test_index])\n",
    "            test_acc = accuracy_score(y[test_index], np.array([round(i) for i in test_pred]))\n",
    "            accuracies[fold_num] = test_acc\n",
    "            # update fold\n",
    "            fold_num +=1\n",
    "        overall_acc[i] = np.mean(accuracies)\n",
    "        print(accuracies)\n",
    "    return overall_acc\n",
    "\n",
    "cv_svm_accuracy_iter(diagnosed_height_ranks, labels, 10, 5)"
   ]
  },
  {
   "cell_type": "code",
   "execution_count": 199,
   "metadata": {},
   "outputs": [
    {
     "name": "stderr",
     "output_type": "stream",
     "text": [
      "/home/qw817/anaconda3/lib/python3.7/site-packages/sklearn/svm/_base.py:1208: ConvergenceWarning: Liblinear failed to converge, increase the number of iterations.\n",
      "  ConvergenceWarning,\n",
      "/home/qw817/anaconda3/lib/python3.7/site-packages/sklearn/svm/_base.py:1208: ConvergenceWarning: Liblinear failed to converge, increase the number of iterations.\n",
      "  ConvergenceWarning,\n",
      "/home/qw817/anaconda3/lib/python3.7/site-packages/sklearn/svm/_base.py:1208: ConvergenceWarning: Liblinear failed to converge, increase the number of iterations.\n",
      "  ConvergenceWarning,\n",
      "/home/qw817/anaconda3/lib/python3.7/site-packages/sklearn/svm/_base.py:1208: ConvergenceWarning: Liblinear failed to converge, increase the number of iterations.\n",
      "  ConvergenceWarning,\n",
      "/home/qw817/anaconda3/lib/python3.7/site-packages/sklearn/svm/_base.py:1208: ConvergenceWarning: Liblinear failed to converge, increase the number of iterations.\n",
      "  ConvergenceWarning,\n"
     ]
    },
    {
     "name": "stdout",
     "output_type": "stream",
     "text": [
      "[0.782608695652174, 0.6086956521739131, 0.6521739130434783, 0.6521739130434783, 0.391304347826087]\n"
     ]
    },
    {
     "name": "stderr",
     "output_type": "stream",
     "text": [
      "/home/qw817/anaconda3/lib/python3.7/site-packages/sklearn/svm/_base.py:1208: ConvergenceWarning: Liblinear failed to converge, increase the number of iterations.\n",
      "  ConvergenceWarning,\n",
      "/home/qw817/anaconda3/lib/python3.7/site-packages/sklearn/svm/_base.py:1208: ConvergenceWarning: Liblinear failed to converge, increase the number of iterations.\n",
      "  ConvergenceWarning,\n",
      "/home/qw817/anaconda3/lib/python3.7/site-packages/sklearn/svm/_base.py:1208: ConvergenceWarning: Liblinear failed to converge, increase the number of iterations.\n",
      "  ConvergenceWarning,\n",
      "/home/qw817/anaconda3/lib/python3.7/site-packages/sklearn/svm/_base.py:1208: ConvergenceWarning: Liblinear failed to converge, increase the number of iterations.\n",
      "  ConvergenceWarning,\n",
      "/home/qw817/anaconda3/lib/python3.7/site-packages/sklearn/svm/_base.py:1208: ConvergenceWarning: Liblinear failed to converge, increase the number of iterations.\n",
      "  ConvergenceWarning,\n"
     ]
    },
    {
     "name": "stdout",
     "output_type": "stream",
     "text": [
      "[0.6956521739130435, 0.6086956521739131, 0.6521739130434783, 0.6956521739130435, 0.6086956521739131]\n"
     ]
    },
    {
     "name": "stderr",
     "output_type": "stream",
     "text": [
      "/home/qw817/anaconda3/lib/python3.7/site-packages/sklearn/svm/_base.py:1208: ConvergenceWarning: Liblinear failed to converge, increase the number of iterations.\n",
      "  ConvergenceWarning,\n",
      "/home/qw817/anaconda3/lib/python3.7/site-packages/sklearn/svm/_base.py:1208: ConvergenceWarning: Liblinear failed to converge, increase the number of iterations.\n",
      "  ConvergenceWarning,\n",
      "/home/qw817/anaconda3/lib/python3.7/site-packages/sklearn/svm/_base.py:1208: ConvergenceWarning: Liblinear failed to converge, increase the number of iterations.\n",
      "  ConvergenceWarning,\n",
      "/home/qw817/anaconda3/lib/python3.7/site-packages/sklearn/svm/_base.py:1208: ConvergenceWarning: Liblinear failed to converge, increase the number of iterations.\n",
      "  ConvergenceWarning,\n",
      "/home/qw817/anaconda3/lib/python3.7/site-packages/sklearn/svm/_base.py:1208: ConvergenceWarning: Liblinear failed to converge, increase the number of iterations.\n",
      "  ConvergenceWarning,\n"
     ]
    },
    {
     "name": "stdout",
     "output_type": "stream",
     "text": [
      "[0.6086956521739131, 0.6956521739130435, 0.5217391304347826, 0.6086956521739131, 0.6521739130434783]\n"
     ]
    },
    {
     "name": "stderr",
     "output_type": "stream",
     "text": [
      "/home/qw817/anaconda3/lib/python3.7/site-packages/sklearn/svm/_base.py:1208: ConvergenceWarning: Liblinear failed to converge, increase the number of iterations.\n",
      "  ConvergenceWarning,\n",
      "/home/qw817/anaconda3/lib/python3.7/site-packages/sklearn/svm/_base.py:1208: ConvergenceWarning: Liblinear failed to converge, increase the number of iterations.\n",
      "  ConvergenceWarning,\n",
      "/home/qw817/anaconda3/lib/python3.7/site-packages/sklearn/svm/_base.py:1208: ConvergenceWarning: Liblinear failed to converge, increase the number of iterations.\n",
      "  ConvergenceWarning,\n",
      "/home/qw817/anaconda3/lib/python3.7/site-packages/sklearn/svm/_base.py:1208: ConvergenceWarning: Liblinear failed to converge, increase the number of iterations.\n",
      "  ConvergenceWarning,\n",
      "/home/qw817/anaconda3/lib/python3.7/site-packages/sklearn/svm/_base.py:1208: ConvergenceWarning: Liblinear failed to converge, increase the number of iterations.\n",
      "  ConvergenceWarning,\n"
     ]
    },
    {
     "name": "stdout",
     "output_type": "stream",
     "text": [
      "[0.6521739130434783, 0.6956521739130435, 0.6086956521739131, 0.6086956521739131, 0.7391304347826086]\n"
     ]
    },
    {
     "name": "stderr",
     "output_type": "stream",
     "text": [
      "/home/qw817/anaconda3/lib/python3.7/site-packages/sklearn/svm/_base.py:1208: ConvergenceWarning: Liblinear failed to converge, increase the number of iterations.\n",
      "  ConvergenceWarning,\n",
      "/home/qw817/anaconda3/lib/python3.7/site-packages/sklearn/svm/_base.py:1208: ConvergenceWarning: Liblinear failed to converge, increase the number of iterations.\n",
      "  ConvergenceWarning,\n",
      "/home/qw817/anaconda3/lib/python3.7/site-packages/sklearn/svm/_base.py:1208: ConvergenceWarning: Liblinear failed to converge, increase the number of iterations.\n",
      "  ConvergenceWarning,\n",
      "/home/qw817/anaconda3/lib/python3.7/site-packages/sklearn/svm/_base.py:1208: ConvergenceWarning: Liblinear failed to converge, increase the number of iterations.\n",
      "  ConvergenceWarning,\n"
     ]
    },
    {
     "ename": "KeyboardInterrupt",
     "evalue": "",
     "output_type": "error",
     "traceback": [
      "\u001b[0;31m---------------------------------------------------------------------------\u001b[0m",
      "\u001b[0;31mKeyboardInterrupt\u001b[0m                         Traceback (most recent call last)",
      "\u001b[0;32m<ipython-input-199-7699b39b9ae0>\u001b[0m in \u001b[0;36m<module>\u001b[0;34m\u001b[0m\n\u001b[0;32m----> 1\u001b[0;31m \u001b[0mcv_svm_accuracy_iter\u001b[0m\u001b[0;34m(\u001b[0m\u001b[0mdiagnosed_x_ranks\u001b[0m\u001b[0;34m,\u001b[0m \u001b[0mlabels\u001b[0m\u001b[0;34m,\u001b[0m \u001b[0;36m10\u001b[0m\u001b[0;34m,\u001b[0m \u001b[0;36m5\u001b[0m\u001b[0;34m)\u001b[0m\u001b[0;34m\u001b[0m\u001b[0;34m\u001b[0m\u001b[0m\n\u001b[0m",
      "\u001b[0;32m<ipython-input-198-35d9ab0b17e4>\u001b[0m in \u001b[0;36mcv_svm_accuracy_iter\u001b[0;34m(X, y, n_iter, fold)\u001b[0m\n\u001b[1;32m      9\u001b[0m         \u001b[0;32mfor\u001b[0m \u001b[0mtrain_index\u001b[0m\u001b[0;34m,\u001b[0m \u001b[0mtest_index\u001b[0m \u001b[0;32min\u001b[0m \u001b[0mstr_cv\u001b[0m\u001b[0;34m.\u001b[0m\u001b[0msplit\u001b[0m\u001b[0;34m(\u001b[0m\u001b[0mX\u001b[0m\u001b[0;34m,\u001b[0m \u001b[0my\u001b[0m\u001b[0;34m)\u001b[0m\u001b[0;34m:\u001b[0m\u001b[0;34m\u001b[0m\u001b[0;34m\u001b[0m\u001b[0m\n\u001b[1;32m     10\u001b[0m             \u001b[0mclf\u001b[0m \u001b[0;34m=\u001b[0m \u001b[0msvm\u001b[0m\u001b[0;34m.\u001b[0m\u001b[0mLinearSVC\u001b[0m\u001b[0;34m(\u001b[0m\u001b[0;34m)\u001b[0m\u001b[0;34m\u001b[0m\u001b[0;34m\u001b[0m\u001b[0m\n\u001b[0;32m---> 11\u001b[0;31m             \u001b[0mclf\u001b[0m\u001b[0;34m.\u001b[0m\u001b[0mfit\u001b[0m\u001b[0;34m(\u001b[0m\u001b[0mX\u001b[0m\u001b[0;34m[\u001b[0m\u001b[0mtrain_index\u001b[0m\u001b[0;34m]\u001b[0m\u001b[0;34m,\u001b[0m \u001b[0my\u001b[0m\u001b[0;34m[\u001b[0m\u001b[0mtrain_index\u001b[0m\u001b[0;34m]\u001b[0m\u001b[0;34m)\u001b[0m\u001b[0;34m\u001b[0m\u001b[0;34m\u001b[0m\u001b[0m\n\u001b[0m\u001b[1;32m     12\u001b[0m             \u001b[0mtest_pred\u001b[0m \u001b[0;34m=\u001b[0m \u001b[0mclf\u001b[0m\u001b[0;34m.\u001b[0m\u001b[0mpredict\u001b[0m\u001b[0;34m(\u001b[0m\u001b[0mX\u001b[0m\u001b[0;34m[\u001b[0m\u001b[0mtest_index\u001b[0m\u001b[0;34m]\u001b[0m\u001b[0;34m)\u001b[0m\u001b[0;34m\u001b[0m\u001b[0;34m\u001b[0m\u001b[0m\n\u001b[1;32m     13\u001b[0m             \u001b[0mtest_acc\u001b[0m \u001b[0;34m=\u001b[0m \u001b[0maccuracy_score\u001b[0m\u001b[0;34m(\u001b[0m\u001b[0my\u001b[0m\u001b[0;34m[\u001b[0m\u001b[0mtest_index\u001b[0m\u001b[0;34m]\u001b[0m\u001b[0;34m,\u001b[0m \u001b[0mnp\u001b[0m\u001b[0;34m.\u001b[0m\u001b[0marray\u001b[0m\u001b[0;34m(\u001b[0m\u001b[0;34m[\u001b[0m\u001b[0mround\u001b[0m\u001b[0;34m(\u001b[0m\u001b[0mi\u001b[0m\u001b[0;34m)\u001b[0m \u001b[0;32mfor\u001b[0m \u001b[0mi\u001b[0m \u001b[0;32min\u001b[0m \u001b[0mtest_pred\u001b[0m\u001b[0;34m]\u001b[0m\u001b[0;34m)\u001b[0m\u001b[0;34m)\u001b[0m\u001b[0;34m\u001b[0m\u001b[0;34m\u001b[0m\u001b[0m\n",
      "\u001b[0;32m~/anaconda3/lib/python3.7/site-packages/sklearn/svm/_classes.py\u001b[0m in \u001b[0;36mfit\u001b[0;34m(self, X, y, sample_weight)\u001b[0m\n\u001b[1;32m    270\u001b[0m             \u001b[0mself\u001b[0m\u001b[0;34m.\u001b[0m\u001b[0mmulti_class\u001b[0m\u001b[0;34m,\u001b[0m\u001b[0;34m\u001b[0m\u001b[0;34m\u001b[0m\u001b[0m\n\u001b[1;32m    271\u001b[0m             \u001b[0mself\u001b[0m\u001b[0;34m.\u001b[0m\u001b[0mloss\u001b[0m\u001b[0;34m,\u001b[0m\u001b[0;34m\u001b[0m\u001b[0;34m\u001b[0m\u001b[0m\n\u001b[0;32m--> 272\u001b[0;31m             \u001b[0msample_weight\u001b[0m\u001b[0;34m=\u001b[0m\u001b[0msample_weight\u001b[0m\u001b[0;34m,\u001b[0m\u001b[0;34m\u001b[0m\u001b[0;34m\u001b[0m\u001b[0m\n\u001b[0m\u001b[1;32m    273\u001b[0m         )\n\u001b[1;32m    274\u001b[0m \u001b[0;34m\u001b[0m\u001b[0m\n",
      "\u001b[0;32m~/anaconda3/lib/python3.7/site-packages/sklearn/svm/_base.py\u001b[0m in \u001b[0;36m_fit_liblinear\u001b[0;34m(X, y, C, fit_intercept, intercept_scaling, class_weight, penalty, dual, verbose, max_iter, tol, random_state, multi_class, loss, epsilon, sample_weight)\u001b[0m\n\u001b[1;32m   1196\u001b[0m         \u001b[0mrnd\u001b[0m\u001b[0;34m.\u001b[0m\u001b[0mrandint\u001b[0m\u001b[0;34m(\u001b[0m\u001b[0mnp\u001b[0m\u001b[0;34m.\u001b[0m\u001b[0miinfo\u001b[0m\u001b[0;34m(\u001b[0m\u001b[0;34m\"i\"\u001b[0m\u001b[0;34m)\u001b[0m\u001b[0;34m.\u001b[0m\u001b[0mmax\u001b[0m\u001b[0;34m)\u001b[0m\u001b[0;34m,\u001b[0m\u001b[0;34m\u001b[0m\u001b[0;34m\u001b[0m\u001b[0m\n\u001b[1;32m   1197\u001b[0m         \u001b[0mepsilon\u001b[0m\u001b[0;34m,\u001b[0m\u001b[0;34m\u001b[0m\u001b[0;34m\u001b[0m\u001b[0m\n\u001b[0;32m-> 1198\u001b[0;31m         \u001b[0msample_weight\u001b[0m\u001b[0;34m,\u001b[0m\u001b[0;34m\u001b[0m\u001b[0;34m\u001b[0m\u001b[0m\n\u001b[0m\u001b[1;32m   1199\u001b[0m     )\n\u001b[1;32m   1200\u001b[0m     \u001b[0;31m# Regarding rnd.randint(..) in the above signature:\u001b[0m\u001b[0;34m\u001b[0m\u001b[0;34m\u001b[0m\u001b[0;34m\u001b[0m\u001b[0m\n",
      "\u001b[0;31mKeyboardInterrupt\u001b[0m: "
     ]
    }
   ],
   "source": [
    "cv_svm_accuracy_iter(diagnosed_x_ranks, labels, 10, 5)"
   ]
  },
  {
   "cell_type": "code",
   "execution_count": null,
   "metadata": {},
   "outputs": [],
   "source": []
  },
  {
   "cell_type": "code",
   "execution_count": null,
   "metadata": {},
   "outputs": [],
   "source": [
    "# try different methods and pca\n"
   ]
  },
  {
   "cell_type": "code",
   "execution_count": null,
   "metadata": {},
   "outputs": [],
   "source": []
  },
  {
   "cell_type": "code",
   "execution_count": null,
   "metadata": {},
   "outputs": [],
   "source": [
    "# would manually balancing the classes make a difference"
   ]
  },
  {
   "cell_type": "code",
   "execution_count": 200,
   "metadata": {},
   "outputs": [
    {
     "data": {
      "text/plain": [
       "array([0, 0, 0, 0, 0, 0, 0, 0, 0, 0, 0, 1, 0, 0, 1, 0, 0, 0, 0, 1, 1, 0,\n",
       "       1, 0, 0, 1, 0, 0, 1, 0, 1, 0, 1, 0, 0, 0, 0, 0, 0, 0, 0, 0, 0, 0,\n",
       "       1, 0, 0, 1, 1, 0, 0, 0, 0, 1, 0, 0, 0, 0, 0, 1, 1, 0, 0, 0, 0, 0,\n",
       "       0, 1, 1, 0, 0, 1, 0, 1, 1, 1, 1, 0, 1, 1, 0, 0, 0, 0, 0, 0, 1, 1,\n",
       "       0, 0, 0, 1, 0, 0, 1, 0, 0, 0, 0, 1, 0, 0, 0, 0, 0, 0, 0, 0, 0, 0,\n",
       "       0, 0, 0, 0, 0])"
      ]
     },
     "execution_count": 200,
     "metadata": {},
     "output_type": "execute_result"
    }
   ],
   "source": [
    "labels"
   ]
  },
  {
   "cell_type": "code",
   "execution_count": 203,
   "metadata": {},
   "outputs": [],
   "source": [
    "be = 0\n",
    "mag = 0\n",
    "new_ind =[]\n",
    "for i in range(115):\n",
    "    if labels[i]==0:\n",
    "        if mag<29:\n",
    "            mag += 1\n",
    "            new_ind.append(i)\n",
    "    if labels[i]==1:\n",
    "        if be < 29:\n",
    "            be+=1\n",
    "            new_ind.append(i)"
   ]
  },
  {
   "cell_type": "code",
   "execution_count": 206,
   "metadata": {},
   "outputs": [
    {
     "data": {
      "text/plain": [
       "58"
      ]
     },
     "execution_count": 206,
     "metadata": {},
     "output_type": "execute_result"
    }
   ],
   "source": [
    "len(labels[new_ind])"
   ]
  },
  {
   "cell_type": "code",
   "execution_count": 210,
   "metadata": {},
   "outputs": [
    {
     "name": "stdout",
     "output_type": "stream",
     "text": [
      "[0.5, 0.4166666666666667, 0.4166666666666667, 0.5454545454545454, 0.45454545454545453]\n",
      "[0.4166666666666667, 0.5833333333333334, 0.6666666666666666, 0.36363636363636365, 0.5454545454545454]\n",
      "[0.4166666666666667, 0.3333333333333333, 0.5, 0.5454545454545454, 0.5454545454545454]\n",
      "[0.3333333333333333, 0.25, 0.5833333333333334, 0.6363636363636364, 0.5454545454545454]\n",
      "[0.75, 0.5, 0.5833333333333334, 0.36363636363636365, 0.45454545454545453]\n",
      "[0.6666666666666666, 0.5, 0.5833333333333334, 0.45454545454545453, 0.45454545454545453]\n",
      "[0.5, 0.5833333333333334, 0.3333333333333333, 0.6363636363636364, 0.45454545454545453]\n",
      "[0.5833333333333334, 0.3333333333333333, 0.3333333333333333, 0.45454545454545453, 0.6363636363636364]\n",
      "[0.5833333333333334, 0.3333333333333333, 0.4166666666666667, 0.6363636363636364, 0.6363636363636364]\n",
      "[0.5, 0.3333333333333333, 0.4166666666666667, 0.6363636363636364, 0.45454545454545453]\n"
     ]
    },
    {
     "data": {
      "text/plain": [
       "[0.4666666666666667,\n",
       " 0.5151515151515151,\n",
       " 0.46818181818181814,\n",
       " 0.4696969696969696,\n",
       " 0.5303030303030304,\n",
       " 0.5318181818181819,\n",
       " 0.5015151515151516,\n",
       " 0.46818181818181814,\n",
       " 0.5212121212121212,\n",
       " 0.46818181818181814]"
      ]
     },
     "execution_count": 210,
     "metadata": {},
     "output_type": "execute_result"
    }
   ],
   "source": [
    "cv_knn_accuracy_iter(diagnosed_height_ranks[new_ind,:], labels[new_ind], 10, 5)"
   ]
  },
  {
   "cell_type": "code",
   "execution_count": 208,
   "metadata": {},
   "outputs": [
    {
     "data": {
      "text/plain": [
       "(115, 44100)"
      ]
     },
     "execution_count": 208,
     "metadata": {},
     "output_type": "execute_result"
    }
   ],
   "source": [
    "diagnosed_height_ranks.shape"
   ]
  },
  {
   "cell_type": "code",
   "execution_count": 209,
   "metadata": {},
   "outputs": [
    {
     "data": {
      "text/plain": [
       "array([3, 2, 3, 2, 3, 3, 3, 3, 3, 3, 2, 1, 3, 3, 1, 2, 3, 3, 2, 1, 1, 3,\n",
       "       1, 3, 3, 1, 3, 3, 1, 3, 1, 2, 1, 3, 3, 2, 3, 3, 1, 1, 1, 1, 1, 1,\n",
       "       1, 1, 1, 1, 1, 1, 1, 1, 1, 1, 1, 1, 1, 1])"
      ]
     },
     "execution_count": 209,
     "metadata": {},
     "output_type": "execute_result"
    }
   ],
   "source": [
    "labels3.astype('int')[new_ind]"
   ]
  },
  {
   "cell_type": "markdown",
   "metadata": {},
   "source": [
    "# Metastatic Cancer\n"
   ]
  },
  {
   "cell_type": "code",
   "execution_count": 211,
   "metadata": {},
   "outputs": [],
   "source": [
    "meta_ind = []\n",
    "meta_label =[] # 1 for meta\n",
    "for i in range(115):\n",
    "    #non-meta\n",
    "    if labels3[i]==2:\n",
    "        meta_ind.append(i)\n",
    "        meta_label.append(0)\n",
    "        \n",
    "    if labels3[i]==3:\n",
    "        meta_ind.append(i)\n",
    "        meta_label.append(1)\n"
   ]
  },
  {
   "cell_type": "code",
   "execution_count": 213,
   "metadata": {},
   "outputs": [
    {
     "data": {
      "text/plain": [
       "86"
      ]
     },
     "execution_count": 213,
     "metadata": {},
     "output_type": "execute_result"
    }
   ],
   "source": [
    "len(meta_ind)"
   ]
  },
  {
   "cell_type": "code",
   "execution_count": 215,
   "metadata": {},
   "outputs": [
    {
     "data": {
      "text/plain": [
       "45"
      ]
     },
     "execution_count": 215,
     "metadata": {},
     "output_type": "execute_result"
    }
   ],
   "source": [
    "sum(meta_label)"
   ]
  },
  {
   "cell_type": "code",
   "execution_count": 217,
   "metadata": {},
   "outputs": [
    {
     "name": "stdout",
     "output_type": "stream",
     "text": [
      "[0.6666666666666666, 0.6470588235294118, 0.4117647058823529, 0.6470588235294118, 0.5294117647058824]\n",
      "[0.6666666666666666, 0.7647058823529411, 0.5882352941176471, 0.35294117647058826, 0.6470588235294118]\n",
      "[0.6666666666666666, 0.5882352941176471, 0.6470588235294118, 0.5882352941176471, 0.6470588235294118]\n",
      "[0.6666666666666666, 0.7647058823529411, 0.7647058823529411, 0.47058823529411764, 0.23529411764705882]\n",
      "[0.4444444444444444, 0.7647058823529411, 0.5294117647058824, 0.35294117647058826, 0.7058823529411765]\n",
      "[0.4444444444444444, 0.5882352941176471, 0.5294117647058824, 0.7058823529411765, 0.7058823529411765]\n",
      "[0.4444444444444444, 0.7058823529411765, 0.6470588235294118, 0.6470588235294118, 0.7647058823529411]\n",
      "[0.6666666666666666, 0.4117647058823529, 0.7058823529411765, 0.47058823529411764, 0.7058823529411765]\n",
      "[0.6111111111111112, 0.47058823529411764, 0.6470588235294118, 0.6470588235294118, 0.6470588235294118]\n",
      "[0.6111111111111112, 0.7058823529411765, 0.47058823529411764, 0.5882352941176471, 0.5882352941176471]\n"
     ]
    },
    {
     "data": {
      "text/plain": [
       "[0.580392156862745,\n",
       " 0.6039215686274509,\n",
       " 0.6274509803921569,\n",
       " 0.580392156862745,\n",
       " 0.5594771241830065,\n",
       " 0.5947712418300654,\n",
       " 0.6418300653594771,\n",
       " 0.592156862745098,\n",
       " 0.6045751633986928,\n",
       " 0.59281045751634]"
      ]
     },
     "execution_count": 217,
     "metadata": {},
     "output_type": "execute_result"
    }
   ],
   "source": [
    "cv_knn_accuracy_iter(diagnosed_height_ranks[meta_ind,:], np.array(meta_label), 10, 5)"
   ]
  },
  {
   "cell_type": "code",
   "execution_count": 218,
   "metadata": {},
   "outputs": [
    {
     "data": {
      "text/plain": [
       "0.5232558139534884"
      ]
     },
     "execution_count": 218,
     "metadata": {},
     "output_type": "execute_result"
    }
   ],
   "source": [
    "45/86"
   ]
  },
  {
   "cell_type": "code",
   "execution_count": 219,
   "metadata": {},
   "outputs": [
    {
     "name": "stderr",
     "output_type": "stream",
     "text": [
      "/home/qw817/anaconda3/lib/python3.7/site-packages/sklearn/svm/_base.py:1208: ConvergenceWarning: Liblinear failed to converge, increase the number of iterations.\n",
      "  ConvergenceWarning,\n",
      "/home/qw817/anaconda3/lib/python3.7/site-packages/sklearn/svm/_base.py:1208: ConvergenceWarning: Liblinear failed to converge, increase the number of iterations.\n",
      "  ConvergenceWarning,\n",
      "/home/qw817/anaconda3/lib/python3.7/site-packages/sklearn/svm/_base.py:1208: ConvergenceWarning: Liblinear failed to converge, increase the number of iterations.\n",
      "  ConvergenceWarning,\n",
      "/home/qw817/anaconda3/lib/python3.7/site-packages/sklearn/svm/_base.py:1208: ConvergenceWarning: Liblinear failed to converge, increase the number of iterations.\n",
      "  ConvergenceWarning,\n",
      "/home/qw817/anaconda3/lib/python3.7/site-packages/sklearn/svm/_base.py:1208: ConvergenceWarning: Liblinear failed to converge, increase the number of iterations.\n",
      "  ConvergenceWarning,\n"
     ]
    },
    {
     "name": "stdout",
     "output_type": "stream",
     "text": [
      "[0.5555555555555556, 0.5294117647058824, 0.5882352941176471, 0.5294117647058824, 0.35294117647058826]\n"
     ]
    },
    {
     "name": "stderr",
     "output_type": "stream",
     "text": [
      "/home/qw817/anaconda3/lib/python3.7/site-packages/sklearn/svm/_base.py:1208: ConvergenceWarning: Liblinear failed to converge, increase the number of iterations.\n",
      "  ConvergenceWarning,\n",
      "/home/qw817/anaconda3/lib/python3.7/site-packages/sklearn/svm/_base.py:1208: ConvergenceWarning: Liblinear failed to converge, increase the number of iterations.\n",
      "  ConvergenceWarning,\n",
      "/home/qw817/anaconda3/lib/python3.7/site-packages/sklearn/svm/_base.py:1208: ConvergenceWarning: Liblinear failed to converge, increase the number of iterations.\n",
      "  ConvergenceWarning,\n",
      "/home/qw817/anaconda3/lib/python3.7/site-packages/sklearn/svm/_base.py:1208: ConvergenceWarning: Liblinear failed to converge, increase the number of iterations.\n",
      "  ConvergenceWarning,\n",
      "/home/qw817/anaconda3/lib/python3.7/site-packages/sklearn/svm/_base.py:1208: ConvergenceWarning: Liblinear failed to converge, increase the number of iterations.\n",
      "  ConvergenceWarning,\n"
     ]
    },
    {
     "name": "stdout",
     "output_type": "stream",
     "text": [
      "[0.5555555555555556, 0.5294117647058824, 0.35294117647058826, 0.4117647058823529, 0.47058823529411764]\n"
     ]
    },
    {
     "name": "stderr",
     "output_type": "stream",
     "text": [
      "/home/qw817/anaconda3/lib/python3.7/site-packages/sklearn/svm/_base.py:1208: ConvergenceWarning: Liblinear failed to converge, increase the number of iterations.\n",
      "  ConvergenceWarning,\n",
      "/home/qw817/anaconda3/lib/python3.7/site-packages/sklearn/svm/_base.py:1208: ConvergenceWarning: Liblinear failed to converge, increase the number of iterations.\n",
      "  ConvergenceWarning,\n",
      "/home/qw817/anaconda3/lib/python3.7/site-packages/sklearn/svm/_base.py:1208: ConvergenceWarning: Liblinear failed to converge, increase the number of iterations.\n",
      "  ConvergenceWarning,\n",
      "/home/qw817/anaconda3/lib/python3.7/site-packages/sklearn/svm/_base.py:1208: ConvergenceWarning: Liblinear failed to converge, increase the number of iterations.\n",
      "  ConvergenceWarning,\n",
      "/home/qw817/anaconda3/lib/python3.7/site-packages/sklearn/svm/_base.py:1208: ConvergenceWarning: Liblinear failed to converge, increase the number of iterations.\n",
      "  ConvergenceWarning,\n"
     ]
    },
    {
     "name": "stdout",
     "output_type": "stream",
     "text": [
      "[0.5, 0.5294117647058824, 0.23529411764705882, 0.47058823529411764, 0.47058823529411764]\n"
     ]
    },
    {
     "name": "stderr",
     "output_type": "stream",
     "text": [
      "/home/qw817/anaconda3/lib/python3.7/site-packages/sklearn/svm/_base.py:1208: ConvergenceWarning: Liblinear failed to converge, increase the number of iterations.\n",
      "  ConvergenceWarning,\n",
      "/home/qw817/anaconda3/lib/python3.7/site-packages/sklearn/svm/_base.py:1208: ConvergenceWarning: Liblinear failed to converge, increase the number of iterations.\n",
      "  ConvergenceWarning,\n",
      "/home/qw817/anaconda3/lib/python3.7/site-packages/sklearn/svm/_base.py:1208: ConvergenceWarning: Liblinear failed to converge, increase the number of iterations.\n",
      "  ConvergenceWarning,\n",
      "/home/qw817/anaconda3/lib/python3.7/site-packages/sklearn/svm/_base.py:1208: ConvergenceWarning: Liblinear failed to converge, increase the number of iterations.\n",
      "  ConvergenceWarning,\n",
      "/home/qw817/anaconda3/lib/python3.7/site-packages/sklearn/svm/_base.py:1208: ConvergenceWarning: Liblinear failed to converge, increase the number of iterations.\n",
      "  ConvergenceWarning,\n"
     ]
    },
    {
     "name": "stdout",
     "output_type": "stream",
     "text": [
      "[0.5, 0.47058823529411764, 0.4117647058823529, 0.4117647058823529, 0.5294117647058824]\n"
     ]
    },
    {
     "name": "stderr",
     "output_type": "stream",
     "text": [
      "/home/qw817/anaconda3/lib/python3.7/site-packages/sklearn/svm/_base.py:1208: ConvergenceWarning: Liblinear failed to converge, increase the number of iterations.\n",
      "  ConvergenceWarning,\n",
      "/home/qw817/anaconda3/lib/python3.7/site-packages/sklearn/svm/_base.py:1208: ConvergenceWarning: Liblinear failed to converge, increase the number of iterations.\n",
      "  ConvergenceWarning,\n",
      "/home/qw817/anaconda3/lib/python3.7/site-packages/sklearn/svm/_base.py:1208: ConvergenceWarning: Liblinear failed to converge, increase the number of iterations.\n",
      "  ConvergenceWarning,\n",
      "/home/qw817/anaconda3/lib/python3.7/site-packages/sklearn/svm/_base.py:1208: ConvergenceWarning: Liblinear failed to converge, increase the number of iterations.\n",
      "  ConvergenceWarning,\n",
      "/home/qw817/anaconda3/lib/python3.7/site-packages/sklearn/svm/_base.py:1208: ConvergenceWarning: Liblinear failed to converge, increase the number of iterations.\n",
      "  ConvergenceWarning,\n"
     ]
    },
    {
     "name": "stdout",
     "output_type": "stream",
     "text": [
      "[0.3888888888888889, 0.5882352941176471, 0.5882352941176471, 0.35294117647058826, 0.5294117647058824]\n"
     ]
    },
    {
     "name": "stderr",
     "output_type": "stream",
     "text": [
      "/home/qw817/anaconda3/lib/python3.7/site-packages/sklearn/svm/_base.py:1208: ConvergenceWarning: Liblinear failed to converge, increase the number of iterations.\n",
      "  ConvergenceWarning,\n",
      "/home/qw817/anaconda3/lib/python3.7/site-packages/sklearn/svm/_base.py:1208: ConvergenceWarning: Liblinear failed to converge, increase the number of iterations.\n",
      "  ConvergenceWarning,\n",
      "/home/qw817/anaconda3/lib/python3.7/site-packages/sklearn/svm/_base.py:1208: ConvergenceWarning: Liblinear failed to converge, increase the number of iterations.\n",
      "  ConvergenceWarning,\n",
      "/home/qw817/anaconda3/lib/python3.7/site-packages/sklearn/svm/_base.py:1208: ConvergenceWarning: Liblinear failed to converge, increase the number of iterations.\n",
      "  ConvergenceWarning,\n",
      "/home/qw817/anaconda3/lib/python3.7/site-packages/sklearn/svm/_base.py:1208: ConvergenceWarning: Liblinear failed to converge, increase the number of iterations.\n",
      "  ConvergenceWarning,\n"
     ]
    },
    {
     "name": "stdout",
     "output_type": "stream",
     "text": [
      "[0.3888888888888889, 0.4117647058823529, 0.6470588235294118, 0.47058823529411764, 0.5882352941176471]\n"
     ]
    },
    {
     "name": "stderr",
     "output_type": "stream",
     "text": [
      "/home/qw817/anaconda3/lib/python3.7/site-packages/sklearn/svm/_base.py:1208: ConvergenceWarning: Liblinear failed to converge, increase the number of iterations.\n",
      "  ConvergenceWarning,\n",
      "/home/qw817/anaconda3/lib/python3.7/site-packages/sklearn/svm/_base.py:1208: ConvergenceWarning: Liblinear failed to converge, increase the number of iterations.\n",
      "  ConvergenceWarning,\n",
      "/home/qw817/anaconda3/lib/python3.7/site-packages/sklearn/svm/_base.py:1208: ConvergenceWarning: Liblinear failed to converge, increase the number of iterations.\n",
      "  ConvergenceWarning,\n",
      "/home/qw817/anaconda3/lib/python3.7/site-packages/sklearn/svm/_base.py:1208: ConvergenceWarning: Liblinear failed to converge, increase the number of iterations.\n",
      "  ConvergenceWarning,\n",
      "/home/qw817/anaconda3/lib/python3.7/site-packages/sklearn/svm/_base.py:1208: ConvergenceWarning: Liblinear failed to converge, increase the number of iterations.\n",
      "  ConvergenceWarning,\n"
     ]
    },
    {
     "name": "stdout",
     "output_type": "stream",
     "text": [
      "[0.5555555555555556, 0.5294117647058824, 0.5294117647058824, 0.5294117647058824, 0.47058823529411764]\n"
     ]
    },
    {
     "name": "stderr",
     "output_type": "stream",
     "text": [
      "/home/qw817/anaconda3/lib/python3.7/site-packages/sklearn/svm/_base.py:1208: ConvergenceWarning: Liblinear failed to converge, increase the number of iterations.\n",
      "  ConvergenceWarning,\n",
      "/home/qw817/anaconda3/lib/python3.7/site-packages/sklearn/svm/_base.py:1208: ConvergenceWarning: Liblinear failed to converge, increase the number of iterations.\n",
      "  ConvergenceWarning,\n",
      "/home/qw817/anaconda3/lib/python3.7/site-packages/sklearn/svm/_base.py:1208: ConvergenceWarning: Liblinear failed to converge, increase the number of iterations.\n",
      "  ConvergenceWarning,\n",
      "/home/qw817/anaconda3/lib/python3.7/site-packages/sklearn/svm/_base.py:1208: ConvergenceWarning: Liblinear failed to converge, increase the number of iterations.\n",
      "  ConvergenceWarning,\n",
      "/home/qw817/anaconda3/lib/python3.7/site-packages/sklearn/svm/_base.py:1208: ConvergenceWarning: Liblinear failed to converge, increase the number of iterations.\n",
      "  ConvergenceWarning,\n"
     ]
    },
    {
     "name": "stdout",
     "output_type": "stream",
     "text": [
      "[0.5, 0.5294117647058824, 0.35294117647058826, 0.5882352941176471, 0.47058823529411764]\n"
     ]
    },
    {
     "name": "stderr",
     "output_type": "stream",
     "text": [
      "/home/qw817/anaconda3/lib/python3.7/site-packages/sklearn/svm/_base.py:1208: ConvergenceWarning: Liblinear failed to converge, increase the number of iterations.\n",
      "  ConvergenceWarning,\n",
      "/home/qw817/anaconda3/lib/python3.7/site-packages/sklearn/svm/_base.py:1208: ConvergenceWarning: Liblinear failed to converge, increase the number of iterations.\n",
      "  ConvergenceWarning,\n",
      "/home/qw817/anaconda3/lib/python3.7/site-packages/sklearn/svm/_base.py:1208: ConvergenceWarning: Liblinear failed to converge, increase the number of iterations.\n",
      "  ConvergenceWarning,\n",
      "/home/qw817/anaconda3/lib/python3.7/site-packages/sklearn/svm/_base.py:1208: ConvergenceWarning: Liblinear failed to converge, increase the number of iterations.\n",
      "  ConvergenceWarning,\n",
      "/home/qw817/anaconda3/lib/python3.7/site-packages/sklearn/svm/_base.py:1208: ConvergenceWarning: Liblinear failed to converge, increase the number of iterations.\n",
      "  ConvergenceWarning,\n"
     ]
    },
    {
     "name": "stdout",
     "output_type": "stream",
     "text": [
      "[0.4444444444444444, 0.35294117647058826, 0.5882352941176471, 0.5294117647058824, 0.5882352941176471]\n"
     ]
    },
    {
     "name": "stderr",
     "output_type": "stream",
     "text": [
      "/home/qw817/anaconda3/lib/python3.7/site-packages/sklearn/svm/_base.py:1208: ConvergenceWarning: Liblinear failed to converge, increase the number of iterations.\n",
      "  ConvergenceWarning,\n",
      "/home/qw817/anaconda3/lib/python3.7/site-packages/sklearn/svm/_base.py:1208: ConvergenceWarning: Liblinear failed to converge, increase the number of iterations.\n",
      "  ConvergenceWarning,\n",
      "/home/qw817/anaconda3/lib/python3.7/site-packages/sklearn/svm/_base.py:1208: ConvergenceWarning: Liblinear failed to converge, increase the number of iterations.\n",
      "  ConvergenceWarning,\n",
      "/home/qw817/anaconda3/lib/python3.7/site-packages/sklearn/svm/_base.py:1208: ConvergenceWarning: Liblinear failed to converge, increase the number of iterations.\n",
      "  ConvergenceWarning,\n"
     ]
    },
    {
     "name": "stdout",
     "output_type": "stream",
     "text": [
      "[0.3888888888888889, 0.47058823529411764, 0.5882352941176471, 0.5882352941176471, 0.47058823529411764]\n"
     ]
    },
    {
     "name": "stderr",
     "output_type": "stream",
     "text": [
      "/home/qw817/anaconda3/lib/python3.7/site-packages/sklearn/svm/_base.py:1208: ConvergenceWarning: Liblinear failed to converge, increase the number of iterations.\n",
      "  ConvergenceWarning,\n"
     ]
    },
    {
     "data": {
      "text/plain": [
       "[0.5111111111111112,\n",
       " 0.46405228758169936,\n",
       " 0.44117647058823534,\n",
       " 0.46470588235294114,\n",
       " 0.48954248366013076,\n",
       " 0.5013071895424838,\n",
       " 0.5228758169934641,\n",
       " 0.4882352941176471,\n",
       " 0.5006535947712418,\n",
       " 0.5013071895424838]"
      ]
     },
     "execution_count": 219,
     "metadata": {},
     "output_type": "execute_result"
    }
   ],
   "source": [
    "cv_svm_accuracy_iter(diagnosed_height_ranks[meta_ind,:], np.array(meta_label), 10, 5)"
   ]
  },
  {
   "cell_type": "code",
   "execution_count": null,
   "metadata": {},
   "outputs": [],
   "source": [
    "# metastatic cancer vs primary lung cancer"
   ]
  },
  {
   "cell_type": "code",
   "execution_count": 220,
   "metadata": {},
   "outputs": [
    {
     "data": {
      "text/plain": [
       "115"
      ]
     },
     "execution_count": 220,
     "metadata": {},
     "output_type": "execute_result"
    }
   ],
   "source": [
    "len(labels)"
   ]
  },
  {
   "cell_type": "code",
   "execution_count": null,
   "metadata": {},
   "outputs": [],
   "source": []
  },
  {
   "cell_type": "code",
   "execution_count": null,
   "metadata": {},
   "outputs": [],
   "source": []
  },
  {
   "cell_type": "code",
   "execution_count": null,
   "metadata": {},
   "outputs": [],
   "source": []
  },
  {
   "cell_type": "code",
   "execution_count": null,
   "metadata": {},
   "outputs": [],
   "source": []
  },
  {
   "cell_type": "code",
   "execution_count": null,
   "metadata": {},
   "outputs": [],
   "source": []
  },
  {
   "cell_type": "code",
   "execution_count": null,
   "metadata": {},
   "outputs": [],
   "source": []
  },
  {
   "cell_type": "code",
   "execution_count": null,
   "metadata": {},
   "outputs": [],
   "source": []
  },
  {
   "cell_type": "code",
   "execution_count": null,
   "metadata": {},
   "outputs": [],
   "source": []
  },
  {
   "cell_type": "code",
   "execution_count": null,
   "metadata": {},
   "outputs": [],
   "source": []
  },
  {
   "cell_type": "code",
   "execution_count": null,
   "metadata": {},
   "outputs": [],
   "source": []
  },
  {
   "cell_type": "code",
   "execution_count": null,
   "metadata": {},
   "outputs": [],
   "source": []
  },
  {
   "cell_type": "code",
   "execution_count": 196,
   "metadata": {},
   "outputs": [
    {
     "name": "stdout",
     "output_type": "stream",
     "text": [
      "/home/qw817/rivet/rivet_console /home/qw817/Desktop/Lung_TDA_application/small_point_cloud_height_filtration/h_ptcl_0068.txt /home/qw817/Desktop/Lung_TDA_application/h_rivet100/h_pc0068.rivet --xbins 100 --ybins 100\n",
      "/home/qw817/rivet/rivet_console /home/qw817/Desktop/Lung_TDA_application/small_point_cloud_height_filtration/h_ptcl_0072.txt /home/qw817/Desktop/Lung_TDA_application/h_rivet100/h_pc0072.rivet --xbins 100 --ybins 100\n",
      "/home/qw817/rivet/rivet_console /home/qw817/Desktop/Lung_TDA_application/small_point_cloud_height_filtration/h_ptcl_0088.txt /home/qw817/Desktop/Lung_TDA_application/h_rivet100/h_pc0088.rivet --xbins 100 --ybins 100\n",
      "/home/qw817/rivet/rivet_console /home/qw817/Desktop/Lung_TDA_application/small_point_cloud_height_filtration/h_ptcl_0090.txt /home/qw817/Desktop/Lung_TDA_application/h_rivet100/h_pc0090.rivet --xbins 100 --ybins 100\n",
      "/home/qw817/rivet/rivet_console /home/qw817/Desktop/Lung_TDA_application/small_point_cloud_height_filtration/h_ptcl_0091.txt /home/qw817/Desktop/Lung_TDA_application/h_rivet100/h_pc0091.rivet --xbins 100 --ybins 100\n",
      "/home/qw817/rivet/rivet_console /home/qw817/Desktop/Lung_TDA_application/small_point_cloud_height_filtration/h_ptcl_0118.txt /home/qw817/Desktop/Lung_TDA_application/h_rivet100/h_pc0118.rivet --xbins 100 --ybins 100\n",
      "/home/qw817/rivet/rivet_console /home/qw817/Desktop/Lung_TDA_application/small_point_cloud_height_filtration/h_ptcl_0124.txt /home/qw817/Desktop/Lung_TDA_application/h_rivet100/h_pc0124.rivet --xbins 100 --ybins 100\n",
      "/home/qw817/rivet/rivet_console /home/qw817/Desktop/Lung_TDA_application/small_point_cloud_height_filtration/h_ptcl_0129.txt /home/qw817/Desktop/Lung_TDA_application/h_rivet100/h_pc0129.rivet --xbins 100 --ybins 100\n",
      "/home/qw817/rivet/rivet_console /home/qw817/Desktop/Lung_TDA_application/small_point_cloud_height_filtration/h_ptcl_0135.txt /home/qw817/Desktop/Lung_TDA_application/h_rivet100/h_pc0135.rivet --xbins 100 --ybins 100\n",
      "/home/qw817/rivet/rivet_console /home/qw817/Desktop/Lung_TDA_application/small_point_cloud_height_filtration/h_ptcl_0137.txt /home/qw817/Desktop/Lung_TDA_application/h_rivet100/h_pc0137.rivet --xbins 100 --ybins 100\n",
      "/home/qw817/rivet/rivet_console /home/qw817/Desktop/Lung_TDA_application/small_point_cloud_height_filtration/h_ptcl_0138.txt /home/qw817/Desktop/Lung_TDA_application/h_rivet100/h_pc0138.rivet --xbins 100 --ybins 100\n",
      "/home/qw817/rivet/rivet_console /home/qw817/Desktop/Lung_TDA_application/small_point_cloud_height_filtration/h_ptcl_0149.txt /home/qw817/Desktop/Lung_TDA_application/h_rivet100/h_pc0149.rivet --xbins 100 --ybins 100\n",
      "/home/qw817/rivet/rivet_console /home/qw817/Desktop/Lung_TDA_application/small_point_cloud_height_filtration/h_ptcl_0159.txt /home/qw817/Desktop/Lung_TDA_application/h_rivet100/h_pc0159.rivet --xbins 100 --ybins 100\n",
      "/home/qw817/rivet/rivet_console /home/qw817/Desktop/Lung_TDA_application/small_point_cloud_height_filtration/h_ptcl_0161.txt /home/qw817/Desktop/Lung_TDA_application/h_rivet100/h_pc0161.rivet --xbins 100 --ybins 100\n",
      "/home/qw817/rivet/rivet_console /home/qw817/Desktop/Lung_TDA_application/small_point_cloud_height_filtration/h_ptcl_0162.txt /home/qw817/Desktop/Lung_TDA_application/h_rivet100/h_pc0162.rivet --xbins 100 --ybins 100\n",
      "/home/qw817/rivet/rivet_console /home/qw817/Desktop/Lung_TDA_application/small_point_cloud_height_filtration/h_ptcl_0163.txt /home/qw817/Desktop/Lung_TDA_application/h_rivet100/h_pc0163.rivet --xbins 100 --ybins 100\n",
      "/home/qw817/rivet/rivet_console /home/qw817/Desktop/Lung_TDA_application/small_point_cloud_height_filtration/h_ptcl_0164.txt /home/qw817/Desktop/Lung_TDA_application/h_rivet100/h_pc0164.rivet --xbins 100 --ybins 100\n",
      "/home/qw817/rivet/rivet_console /home/qw817/Desktop/Lung_TDA_application/small_point_cloud_height_filtration/h_ptcl_0165.txt /home/qw817/Desktop/Lung_TDA_application/h_rivet100/h_pc0165.rivet --xbins 100 --ybins 100\n",
      "/home/qw817/rivet/rivet_console /home/qw817/Desktop/Lung_TDA_application/small_point_cloud_height_filtration/h_ptcl_0166.txt /home/qw817/Desktop/Lung_TDA_application/h_rivet100/h_pc0166.rivet --xbins 100 --ybins 100\n",
      "/home/qw817/rivet/rivet_console /home/qw817/Desktop/Lung_TDA_application/small_point_cloud_height_filtration/h_ptcl_0167.txt /home/qw817/Desktop/Lung_TDA_application/h_rivet100/h_pc0167.rivet --xbins 100 --ybins 100\n",
      "/home/qw817/rivet/rivet_console /home/qw817/Desktop/Lung_TDA_application/small_point_cloud_height_filtration/h_ptcl_0168.txt /home/qw817/Desktop/Lung_TDA_application/h_rivet100/h_pc0168.rivet --xbins 100 --ybins 100\n",
      "/home/qw817/rivet/rivet_console /home/qw817/Desktop/Lung_TDA_application/small_point_cloud_height_filtration/h_ptcl_0169.txt /home/qw817/Desktop/Lung_TDA_application/h_rivet100/h_pc0169.rivet --xbins 100 --ybins 100\n",
      "/home/qw817/rivet/rivet_console /home/qw817/Desktop/Lung_TDA_application/small_point_cloud_height_filtration/h_ptcl_0171.txt /home/qw817/Desktop/Lung_TDA_application/h_rivet100/h_pc0171.rivet --xbins 100 --ybins 100\n",
      "/home/qw817/rivet/rivet_console /home/qw817/Desktop/Lung_TDA_application/small_point_cloud_height_filtration/h_ptcl_0173.txt /home/qw817/Desktop/Lung_TDA_application/h_rivet100/h_pc0173.rivet --xbins 100 --ybins 100\n",
      "/home/qw817/rivet/rivet_console /home/qw817/Desktop/Lung_TDA_application/small_point_cloud_height_filtration/h_ptcl_0175.txt /home/qw817/Desktop/Lung_TDA_application/h_rivet100/h_pc0175.rivet --xbins 100 --ybins 100\n",
      "/home/qw817/rivet/rivet_console /home/qw817/Desktop/Lung_TDA_application/small_point_cloud_height_filtration/h_ptcl_0176.txt /home/qw817/Desktop/Lung_TDA_application/h_rivet100/h_pc0176.rivet --xbins 100 --ybins 100\n",
      "/home/qw817/rivet/rivet_console /home/qw817/Desktop/Lung_TDA_application/small_point_cloud_height_filtration/h_ptcl_0179.txt /home/qw817/Desktop/Lung_TDA_application/h_rivet100/h_pc0179.rivet --xbins 100 --ybins 100\n",
      "/home/qw817/rivet/rivet_console /home/qw817/Desktop/Lung_TDA_application/small_point_cloud_height_filtration/h_ptcl_0180.txt /home/qw817/Desktop/Lung_TDA_application/h_rivet100/h_pc0180.rivet --xbins 100 --ybins 100\n",
      "/home/qw817/rivet/rivet_console /home/qw817/Desktop/Lung_TDA_application/small_point_cloud_height_filtration/h_ptcl_0181.txt /home/qw817/Desktop/Lung_TDA_application/h_rivet100/h_pc0181.rivet --xbins 100 --ybins 100\n",
      "/home/qw817/rivet/rivet_console /home/qw817/Desktop/Lung_TDA_application/small_point_cloud_height_filtration/h_ptcl_0182.txt /home/qw817/Desktop/Lung_TDA_application/h_rivet100/h_pc0182.rivet --xbins 100 --ybins 100\n",
      "/home/qw817/rivet/rivet_console /home/qw817/Desktop/Lung_TDA_application/small_point_cloud_height_filtration/h_ptcl_0183.txt /home/qw817/Desktop/Lung_TDA_application/h_rivet100/h_pc0183.rivet --xbins 100 --ybins 100\n",
      "/home/qw817/rivet/rivet_console /home/qw817/Desktop/Lung_TDA_application/small_point_cloud_height_filtration/h_ptcl_0184.txt /home/qw817/Desktop/Lung_TDA_application/h_rivet100/h_pc0184.rivet --xbins 100 --ybins 100\n",
      "/home/qw817/rivet/rivet_console /home/qw817/Desktop/Lung_TDA_application/small_point_cloud_height_filtration/h_ptcl_0185.txt /home/qw817/Desktop/Lung_TDA_application/h_rivet100/h_pc0185.rivet --xbins 100 --ybins 100\n",
      "/home/qw817/rivet/rivet_console /home/qw817/Desktop/Lung_TDA_application/small_point_cloud_height_filtration/h_ptcl_0186.txt /home/qw817/Desktop/Lung_TDA_application/h_rivet100/h_pc0186.rivet --xbins 100 --ybins 100\n",
      "/home/qw817/rivet/rivet_console /home/qw817/Desktop/Lung_TDA_application/small_point_cloud_height_filtration/h_ptcl_0187.txt /home/qw817/Desktop/Lung_TDA_application/h_rivet100/h_pc0187.rivet --xbins 100 --ybins 100\n",
      "/home/qw817/rivet/rivet_console /home/qw817/Desktop/Lung_TDA_application/small_point_cloud_height_filtration/h_ptcl_0188.txt /home/qw817/Desktop/Lung_TDA_application/h_rivet100/h_pc0188.rivet --xbins 100 --ybins 100\n",
      "/home/qw817/rivet/rivet_console /home/qw817/Desktop/Lung_TDA_application/small_point_cloud_height_filtration/h_ptcl_0190.txt /home/qw817/Desktop/Lung_TDA_application/h_rivet100/h_pc0190.rivet --xbins 100 --ybins 100\n",
      "/home/qw817/rivet/rivet_console /home/qw817/Desktop/Lung_TDA_application/small_point_cloud_height_filtration/h_ptcl_0191.txt /home/qw817/Desktop/Lung_TDA_application/h_rivet100/h_pc0191.rivet --xbins 100 --ybins 100\n",
      "/home/qw817/rivet/rivet_console /home/qw817/Desktop/Lung_TDA_application/small_point_cloud_height_filtration/h_ptcl_0192.txt /home/qw817/Desktop/Lung_TDA_application/h_rivet100/h_pc0192.rivet --xbins 100 --ybins 100\n",
      "/home/qw817/rivet/rivet_console /home/qw817/Desktop/Lung_TDA_application/small_point_cloud_height_filtration/h_ptcl_0193.txt /home/qw817/Desktop/Lung_TDA_application/h_rivet100/h_pc0193.rivet --xbins 100 --ybins 100\n",
      "/home/qw817/rivet/rivet_console /home/qw817/Desktop/Lung_TDA_application/small_point_cloud_height_filtration/h_ptcl_0194.txt /home/qw817/Desktop/Lung_TDA_application/h_rivet100/h_pc0194.rivet --xbins 100 --ybins 100\n",
      "/home/qw817/rivet/rivet_console /home/qw817/Desktop/Lung_TDA_application/small_point_cloud_height_filtration/h_ptcl_0198.txt /home/qw817/Desktop/Lung_TDA_application/h_rivet100/h_pc0198.rivet --xbins 100 --ybins 100\n",
      "/home/qw817/rivet/rivet_console /home/qw817/Desktop/Lung_TDA_application/small_point_cloud_height_filtration/h_ptcl_0202.txt /home/qw817/Desktop/Lung_TDA_application/h_rivet100/h_pc0202.rivet --xbins 100 --ybins 100\n",
      "/home/qw817/rivet/rivet_console /home/qw817/Desktop/Lung_TDA_application/small_point_cloud_height_filtration/h_ptcl_0203.txt /home/qw817/Desktop/Lung_TDA_application/h_rivet100/h_pc0203.rivet --xbins 100 --ybins 100\n",
      "/home/qw817/rivet/rivet_console /home/qw817/Desktop/Lung_TDA_application/small_point_cloud_height_filtration/h_ptcl_0207.txt /home/qw817/Desktop/Lung_TDA_application/h_rivet100/h_pc0207.rivet --xbins 100 --ybins 100\n",
      "/home/qw817/rivet/rivet_console /home/qw817/Desktop/Lung_TDA_application/small_point_cloud_height_filtration/h_ptcl_0210.txt /home/qw817/Desktop/Lung_TDA_application/h_rivet100/h_pc0210.rivet --xbins 100 --ybins 100\n",
      "/home/qw817/rivet/rivet_console /home/qw817/Desktop/Lung_TDA_application/small_point_cloud_height_filtration/h_ptcl_0211.txt /home/qw817/Desktop/Lung_TDA_application/h_rivet100/h_pc0211.rivet --xbins 100 --ybins 100\n",
      "/home/qw817/rivet/rivet_console /home/qw817/Desktop/Lung_TDA_application/small_point_cloud_height_filtration/h_ptcl_0212.txt /home/qw817/Desktop/Lung_TDA_application/h_rivet100/h_pc0212.rivet --xbins 100 --ybins 100\n",
      "/home/qw817/rivet/rivet_console /home/qw817/Desktop/Lung_TDA_application/small_point_cloud_height_filtration/h_ptcl_0213.txt /home/qw817/Desktop/Lung_TDA_application/h_rivet100/h_pc0213.rivet --xbins 100 --ybins 100\n",
      "/home/qw817/rivet/rivet_console /home/qw817/Desktop/Lung_TDA_application/small_point_cloud_height_filtration/h_ptcl_0217.txt /home/qw817/Desktop/Lung_TDA_application/h_rivet100/h_pc0217.rivet --xbins 100 --ybins 100\n",
      "/home/qw817/rivet/rivet_console /home/qw817/Desktop/Lung_TDA_application/small_point_cloud_height_filtration/h_ptcl_0220.txt /home/qw817/Desktop/Lung_TDA_application/h_rivet100/h_pc0220.rivet --xbins 100 --ybins 100\n",
      "/home/qw817/rivet/rivet_console /home/qw817/Desktop/Lung_TDA_application/small_point_cloud_height_filtration/h_ptcl_0221.txt /home/qw817/Desktop/Lung_TDA_application/h_rivet100/h_pc0221.rivet --xbins 100 --ybins 100\n",
      "/home/qw817/rivet/rivet_console /home/qw817/Desktop/Lung_TDA_application/small_point_cloud_height_filtration/h_ptcl_0222.txt /home/qw817/Desktop/Lung_TDA_application/h_rivet100/h_pc0222.rivet --xbins 100 --ybins 100\n",
      "/home/qw817/rivet/rivet_console /home/qw817/Desktop/Lung_TDA_application/small_point_cloud_height_filtration/h_ptcl_0223.txt /home/qw817/Desktop/Lung_TDA_application/h_rivet100/h_pc0223.rivet --xbins 100 --ybins 100\n",
      "/home/qw817/rivet/rivet_console /home/qw817/Desktop/Lung_TDA_application/small_point_cloud_height_filtration/h_ptcl_0230.txt /home/qw817/Desktop/Lung_TDA_application/h_rivet100/h_pc0230.rivet --xbins 100 --ybins 100\n",
      "/home/qw817/rivet/rivet_console /home/qw817/Desktop/Lung_TDA_application/small_point_cloud_height_filtration/h_ptcl_0231.txt /home/qw817/Desktop/Lung_TDA_application/h_rivet100/h_pc0231.rivet --xbins 100 --ybins 100\n",
      "/home/qw817/rivet/rivet_console /home/qw817/Desktop/Lung_TDA_application/small_point_cloud_height_filtration/h_ptcl_0232.txt /home/qw817/Desktop/Lung_TDA_application/h_rivet100/h_pc0232.rivet --xbins 100 --ybins 100\n",
      "/home/qw817/rivet/rivet_console /home/qw817/Desktop/Lung_TDA_application/small_point_cloud_height_filtration/h_ptcl_0233.txt /home/qw817/Desktop/Lung_TDA_application/h_rivet100/h_pc0233.rivet --xbins 100 --ybins 100\n",
      "/home/qw817/rivet/rivet_console /home/qw817/Desktop/Lung_TDA_application/small_point_cloud_height_filtration/h_ptcl_0234.txt /home/qw817/Desktop/Lung_TDA_application/h_rivet100/h_pc0234.rivet --xbins 100 --ybins 100\n",
      "/home/qw817/rivet/rivet_console /home/qw817/Desktop/Lung_TDA_application/small_point_cloud_height_filtration/h_ptcl_0235.txt /home/qw817/Desktop/Lung_TDA_application/h_rivet100/h_pc0235.rivet --xbins 100 --ybins 100\n",
      "/home/qw817/rivet/rivet_console /home/qw817/Desktop/Lung_TDA_application/small_point_cloud_height_filtration/h_ptcl_0236.txt /home/qw817/Desktop/Lung_TDA_application/h_rivet100/h_pc0236.rivet --xbins 100 --ybins 100\n",
      "/home/qw817/rivet/rivet_console /home/qw817/Desktop/Lung_TDA_application/small_point_cloud_height_filtration/h_ptcl_0237.txt /home/qw817/Desktop/Lung_TDA_application/h_rivet100/h_pc0237.rivet --xbins 100 --ybins 100\n",
      "/home/qw817/rivet/rivet_console /home/qw817/Desktop/Lung_TDA_application/small_point_cloud_height_filtration/h_ptcl_0242.txt /home/qw817/Desktop/Lung_TDA_application/h_rivet100/h_pc0242.rivet --xbins 100 --ybins 100\n",
      "/home/qw817/rivet/rivet_console /home/qw817/Desktop/Lung_TDA_application/small_point_cloud_height_filtration/h_ptcl_0243.txt /home/qw817/Desktop/Lung_TDA_application/h_rivet100/h_pc0243.rivet --xbins 100 --ybins 100\n",
      "/home/qw817/rivet/rivet_console /home/qw817/Desktop/Lung_TDA_application/small_point_cloud_height_filtration/h_ptcl_0244.txt /home/qw817/Desktop/Lung_TDA_application/h_rivet100/h_pc0244.rivet --xbins 100 --ybins 100\n",
      "/home/qw817/rivet/rivet_console /home/qw817/Desktop/Lung_TDA_application/small_point_cloud_height_filtration/h_ptcl_0245.txt /home/qw817/Desktop/Lung_TDA_application/h_rivet100/h_pc0245.rivet --xbins 100 --ybins 100\n",
      "/home/qw817/rivet/rivet_console /home/qw817/Desktop/Lung_TDA_application/small_point_cloud_height_filtration/h_ptcl_0246.txt /home/qw817/Desktop/Lung_TDA_application/h_rivet100/h_pc0246.rivet --xbins 100 --ybins 100\n",
      "/home/qw817/rivet/rivet_console /home/qw817/Desktop/Lung_TDA_application/small_point_cloud_height_filtration/h_ptcl_0248.txt /home/qw817/Desktop/Lung_TDA_application/h_rivet100/h_pc0248.rivet --xbins 100 --ybins 100\n",
      "/home/qw817/rivet/rivet_console /home/qw817/Desktop/Lung_TDA_application/small_point_cloud_height_filtration/h_ptcl_0249.txt /home/qw817/Desktop/Lung_TDA_application/h_rivet100/h_pc0249.rivet --xbins 100 --ybins 100\n",
      "/home/qw817/rivet/rivet_console /home/qw817/Desktop/Lung_TDA_application/small_point_cloud_height_filtration/h_ptcl_0250.txt /home/qw817/Desktop/Lung_TDA_application/h_rivet100/h_pc0250.rivet --xbins 100 --ybins 100\n",
      "/home/qw817/rivet/rivet_console /home/qw817/Desktop/Lung_TDA_application/small_point_cloud_height_filtration/h_ptcl_0251.txt /home/qw817/Desktop/Lung_TDA_application/h_rivet100/h_pc0251.rivet --xbins 100 --ybins 100\n",
      "/home/qw817/rivet/rivet_console /home/qw817/Desktop/Lung_TDA_application/small_point_cloud_height_filtration/h_ptcl_0252.txt /home/qw817/Desktop/Lung_TDA_application/h_rivet100/h_pc0252.rivet --xbins 100 --ybins 100\n",
      "/home/qw817/rivet/rivet_console /home/qw817/Desktop/Lung_TDA_application/small_point_cloud_height_filtration/h_ptcl_0254.txt /home/qw817/Desktop/Lung_TDA_application/h_rivet100/h_pc0254.rivet --xbins 100 --ybins 100\n",
      "/home/qw817/rivet/rivet_console /home/qw817/Desktop/Lung_TDA_application/small_point_cloud_height_filtration/h_ptcl_0255.txt /home/qw817/Desktop/Lung_TDA_application/h_rivet100/h_pc0255.rivet --xbins 100 --ybins 100\n",
      "/home/qw817/rivet/rivet_console /home/qw817/Desktop/Lung_TDA_application/small_point_cloud_height_filtration/h_ptcl_0256.txt /home/qw817/Desktop/Lung_TDA_application/h_rivet100/h_pc0256.rivet --xbins 100 --ybins 100\n",
      "/home/qw817/rivet/rivet_console /home/qw817/Desktop/Lung_TDA_application/small_point_cloud_height_filtration/h_ptcl_0257.txt /home/qw817/Desktop/Lung_TDA_application/h_rivet100/h_pc0257.rivet --xbins 100 --ybins 100\n",
      "/home/qw817/rivet/rivet_console /home/qw817/Desktop/Lung_TDA_application/small_point_cloud_height_filtration/h_ptcl_0258.txt /home/qw817/Desktop/Lung_TDA_application/h_rivet100/h_pc0258.rivet --xbins 100 --ybins 100\n",
      "/home/qw817/rivet/rivet_console /home/qw817/Desktop/Lung_TDA_application/small_point_cloud_height_filtration/h_ptcl_0260.txt /home/qw817/Desktop/Lung_TDA_application/h_rivet100/h_pc0260.rivet --xbins 100 --ybins 100\n",
      "/home/qw817/rivet/rivet_console /home/qw817/Desktop/Lung_TDA_application/small_point_cloud_height_filtration/h_ptcl_0264.txt /home/qw817/Desktop/Lung_TDA_application/h_rivet100/h_pc0264.rivet --xbins 100 --ybins 100\n",
      "/home/qw817/rivet/rivet_console /home/qw817/Desktop/Lung_TDA_application/small_point_cloud_height_filtration/h_ptcl_0265.txt /home/qw817/Desktop/Lung_TDA_application/h_rivet100/h_pc0265.rivet --xbins 100 --ybins 100\n",
      "/home/qw817/rivet/rivet_console /home/qw817/Desktop/Lung_TDA_application/small_point_cloud_height_filtration/h_ptcl_0266.txt /home/qw817/Desktop/Lung_TDA_application/h_rivet100/h_pc0266.rivet --xbins 100 --ybins 100\n",
      "/home/qw817/rivet/rivet_console /home/qw817/Desktop/Lung_TDA_application/small_point_cloud_height_filtration/h_ptcl_0267.txt /home/qw817/Desktop/Lung_TDA_application/h_rivet100/h_pc0267.rivet --xbins 100 --ybins 100\n",
      "/home/qw817/rivet/rivet_console /home/qw817/Desktop/Lung_TDA_application/small_point_cloud_height_filtration/h_ptcl_0268.txt /home/qw817/Desktop/Lung_TDA_application/h_rivet100/h_pc0268.rivet --xbins 100 --ybins 100\n",
      "/home/qw817/rivet/rivet_console /home/qw817/Desktop/Lung_TDA_application/small_point_cloud_height_filtration/h_ptcl_0270.txt /home/qw817/Desktop/Lung_TDA_application/h_rivet100/h_pc0270.rivet --xbins 100 --ybins 100\n",
      "/home/qw817/rivet/rivet_console /home/qw817/Desktop/Lung_TDA_application/small_point_cloud_height_filtration/h_ptcl_0271.txt /home/qw817/Desktop/Lung_TDA_application/h_rivet100/h_pc0271.rivet --xbins 100 --ybins 100\n",
      "/home/qw817/rivet/rivet_console /home/qw817/Desktop/Lung_TDA_application/small_point_cloud_height_filtration/h_ptcl_0272.txt /home/qw817/Desktop/Lung_TDA_application/h_rivet100/h_pc0272.rivet --xbins 100 --ybins 100\n",
      "/home/qw817/rivet/rivet_console /home/qw817/Desktop/Lung_TDA_application/small_point_cloud_height_filtration/h_ptcl_0273.txt /home/qw817/Desktop/Lung_TDA_application/h_rivet100/h_pc0273.rivet --xbins 100 --ybins 100\n",
      "/home/qw817/rivet/rivet_console /home/qw817/Desktop/Lung_TDA_application/small_point_cloud_height_filtration/h_ptcl_0274.txt /home/qw817/Desktop/Lung_TDA_application/h_rivet100/h_pc0274.rivet --xbins 100 --ybins 100\n",
      "/home/qw817/rivet/rivet_console /home/qw817/Desktop/Lung_TDA_application/small_point_cloud_height_filtration/h_ptcl_0275.txt /home/qw817/Desktop/Lung_TDA_application/h_rivet100/h_pc0275.rivet --xbins 100 --ybins 100\n",
      "/home/qw817/rivet/rivet_console /home/qw817/Desktop/Lung_TDA_application/small_point_cloud_height_filtration/h_ptcl_0276.txt /home/qw817/Desktop/Lung_TDA_application/h_rivet100/h_pc0276.rivet --xbins 100 --ybins 100\n",
      "/home/qw817/rivet/rivet_console /home/qw817/Desktop/Lung_TDA_application/small_point_cloud_height_filtration/h_ptcl_0277.txt /home/qw817/Desktop/Lung_TDA_application/h_rivet100/h_pc0277.rivet --xbins 100 --ybins 100\n",
      "/home/qw817/rivet/rivet_console /home/qw817/Desktop/Lung_TDA_application/small_point_cloud_height_filtration/h_ptcl_0278.txt /home/qw817/Desktop/Lung_TDA_application/h_rivet100/h_pc0278.rivet --xbins 100 --ybins 100\n",
      "/home/qw817/rivet/rivet_console /home/qw817/Desktop/Lung_TDA_application/small_point_cloud_height_filtration/h_ptcl_0280.txt /home/qw817/Desktop/Lung_TDA_application/h_rivet100/h_pc0280.rivet --xbins 100 --ybins 100\n",
      "/home/qw817/rivet/rivet_console /home/qw817/Desktop/Lung_TDA_application/small_point_cloud_height_filtration/h_ptcl_0281.txt /home/qw817/Desktop/Lung_TDA_application/h_rivet100/h_pc0281.rivet --xbins 100 --ybins 100\n",
      "/home/qw817/rivet/rivet_console /home/qw817/Desktop/Lung_TDA_application/small_point_cloud_height_filtration/h_ptcl_0282.txt /home/qw817/Desktop/Lung_TDA_application/h_rivet100/h_pc0282.rivet --xbins 100 --ybins 100\n",
      "/home/qw817/rivet/rivet_console /home/qw817/Desktop/Lung_TDA_application/small_point_cloud_height_filtration/h_ptcl_0283.txt /home/qw817/Desktop/Lung_TDA_application/h_rivet100/h_pc0283.rivet --xbins 100 --ybins 100\n",
      "/home/qw817/rivet/rivet_console /home/qw817/Desktop/Lung_TDA_application/small_point_cloud_height_filtration/h_ptcl_0285.txt /home/qw817/Desktop/Lung_TDA_application/h_rivet100/h_pc0285.rivet --xbins 100 --ybins 100\n",
      "/home/qw817/rivet/rivet_console /home/qw817/Desktop/Lung_TDA_application/small_point_cloud_height_filtration/h_ptcl_0286.txt /home/qw817/Desktop/Lung_TDA_application/h_rivet100/h_pc0286.rivet --xbins 100 --ybins 100\n",
      "/home/qw817/rivet/rivet_console /home/qw817/Desktop/Lung_TDA_application/small_point_cloud_height_filtration/h_ptcl_0287.txt /home/qw817/Desktop/Lung_TDA_application/h_rivet100/h_pc0287.rivet --xbins 100 --ybins 100\n",
      "/home/qw817/rivet/rivet_console /home/qw817/Desktop/Lung_TDA_application/small_point_cloud_height_filtration/h_ptcl_0288.txt /home/qw817/Desktop/Lung_TDA_application/h_rivet100/h_pc0288.rivet --xbins 100 --ybins 100\n",
      "/home/qw817/rivet/rivet_console /home/qw817/Desktop/Lung_TDA_application/small_point_cloud_height_filtration/h_ptcl_0289.txt /home/qw817/Desktop/Lung_TDA_application/h_rivet100/h_pc0289.rivet --xbins 100 --ybins 100\n",
      "/home/qw817/rivet/rivet_console /home/qw817/Desktop/Lung_TDA_application/small_point_cloud_height_filtration/h_ptcl_0290.txt /home/qw817/Desktop/Lung_TDA_application/h_rivet100/h_pc0290.rivet --xbins 100 --ybins 100\n",
      "/home/qw817/rivet/rivet_console /home/qw817/Desktop/Lung_TDA_application/small_point_cloud_height_filtration/h_ptcl_0314.txt /home/qw817/Desktop/Lung_TDA_application/h_rivet100/h_pc0314.rivet --xbins 100 --ybins 100\n",
      "/home/qw817/rivet/rivet_console /home/qw817/Desktop/Lung_TDA_application/small_point_cloud_height_filtration/h_ptcl_0325.txt /home/qw817/Desktop/Lung_TDA_application/h_rivet100/h_pc0325.rivet --xbins 100 --ybins 100\n",
      "/home/qw817/rivet/rivet_console /home/qw817/Desktop/Lung_TDA_application/small_point_cloud_height_filtration/h_ptcl_0332.txt /home/qw817/Desktop/Lung_TDA_application/h_rivet100/h_pc0332.rivet --xbins 100 --ybins 100\n",
      "/home/qw817/rivet/rivet_console /home/qw817/Desktop/Lung_TDA_application/small_point_cloud_height_filtration/h_ptcl_0377.txt /home/qw817/Desktop/Lung_TDA_application/h_rivet100/h_pc0377.rivet --xbins 100 --ybins 100\n",
      "/home/qw817/rivet/rivet_console /home/qw817/Desktop/Lung_TDA_application/small_point_cloud_height_filtration/h_ptcl_0385.txt /home/qw817/Desktop/Lung_TDA_application/h_rivet100/h_pc0385.rivet --xbins 100 --ybins 100\n",
      "/home/qw817/rivet/rivet_console /home/qw817/Desktop/Lung_TDA_application/small_point_cloud_height_filtration/h_ptcl_0399.txt /home/qw817/Desktop/Lung_TDA_application/h_rivet100/h_pc0399.rivet --xbins 100 --ybins 100\n",
      "/home/qw817/rivet/rivet_console /home/qw817/Desktop/Lung_TDA_application/small_point_cloud_height_filtration/h_ptcl_0405.txt /home/qw817/Desktop/Lung_TDA_application/h_rivet100/h_pc0405.rivet --xbins 100 --ybins 100\n",
      "/home/qw817/rivet/rivet_console /home/qw817/Desktop/Lung_TDA_application/small_point_cloud_height_filtration/h_ptcl_0454.txt /home/qw817/Desktop/Lung_TDA_application/h_rivet100/h_pc0454.rivet --xbins 100 --ybins 100\n",
      "/home/qw817/rivet/rivet_console /home/qw817/Desktop/Lung_TDA_application/small_point_cloud_height_filtration/h_ptcl_0470.txt /home/qw817/Desktop/Lung_TDA_application/h_rivet100/h_pc0470.rivet --xbins 100 --ybins 100\n",
      "/home/qw817/rivet/rivet_console /home/qw817/Desktop/Lung_TDA_application/small_point_cloud_height_filtration/h_ptcl_0493.txt /home/qw817/Desktop/Lung_TDA_application/h_rivet100/h_pc0493.rivet --xbins 100 --ybins 100\n",
      "/home/qw817/rivet/rivet_console /home/qw817/Desktop/Lung_TDA_application/small_point_cloud_height_filtration/h_ptcl_0510.txt /home/qw817/Desktop/Lung_TDA_application/h_rivet100/h_pc0510.rivet --xbins 100 --ybins 100\n",
      "/home/qw817/rivet/rivet_console /home/qw817/Desktop/Lung_TDA_application/small_point_cloud_height_filtration/h_ptcl_0522.txt /home/qw817/Desktop/Lung_TDA_application/h_rivet100/h_pc0522.rivet --xbins 100 --ybins 100\n",
      "/home/qw817/rivet/rivet_console /home/qw817/Desktop/Lung_TDA_application/small_point_cloud_height_filtration/h_ptcl_0543.txt /home/qw817/Desktop/Lung_TDA_application/h_rivet100/h_pc0543.rivet --xbins 100 --ybins 100\n",
      "/home/qw817/rivet/rivet_console /home/qw817/Desktop/Lung_TDA_application/small_point_cloud_height_filtration/h_ptcl_0559.txt /home/qw817/Desktop/Lung_TDA_application/h_rivet100/h_pc0559.rivet --xbins 100 --ybins 100\n",
      "/home/qw817/rivet/rivet_console /home/qw817/Desktop/Lung_TDA_application/small_point_cloud_height_filtration/h_ptcl_0562.txt /home/qw817/Desktop/Lung_TDA_application/h_rivet100/h_pc0562.rivet --xbins 100 --ybins 100\n",
      "/home/qw817/rivet/rivet_console /home/qw817/Desktop/Lung_TDA_application/small_point_cloud_height_filtration/h_ptcl_0568.txt /home/qw817/Desktop/Lung_TDA_application/h_rivet100/h_pc0568.rivet --xbins 100 --ybins 100\n",
      "/home/qw817/rivet/rivet_console /home/qw817/Desktop/Lung_TDA_application/small_point_cloud_height_filtration/h_ptcl_0576.txt /home/qw817/Desktop/Lung_TDA_application/h_rivet100/h_pc0576.rivet --xbins 100 --ybins 100\n",
      "/home/qw817/rivet/rivet_console /home/qw817/Desktop/Lung_TDA_application/small_point_cloud_height_filtration/h_ptcl_0580.txt /home/qw817/Desktop/Lung_TDA_application/h_rivet100/h_pc0580.rivet --xbins 100 --ybins 100\n",
      "/home/qw817/rivet/rivet_console /home/qw817/Desktop/Lung_TDA_application/small_point_cloud_height_filtration/h_ptcl_0610.txt /home/qw817/Desktop/Lung_TDA_application/h_rivet100/h_pc0610.rivet --xbins 100 --ybins 100\n",
      "/home/qw817/rivet/rivet_console /home/qw817/Desktop/Lung_TDA_application/small_point_cloud_height_filtration/h_ptcl_0624.txt /home/qw817/Desktop/Lung_TDA_application/h_rivet100/h_pc0624.rivet --xbins 100 --ybins 100\n",
      "/home/qw817/rivet/rivet_console /home/qw817/Desktop/Lung_TDA_application/small_point_cloud_height_filtration/h_ptcl_0766.txt /home/qw817/Desktop/Lung_TDA_application/h_rivet100/h_pc0766.rivet --xbins 100 --ybins 100\n",
      "/home/qw817/rivet/rivet_console /home/qw817/Desktop/Lung_TDA_application/small_point_cloud_height_filtration/h_ptcl_0771.txt /home/qw817/Desktop/Lung_TDA_application/h_rivet100/h_pc0771.rivet --xbins 100 --ybins 100\n",
      "/home/qw817/rivet/rivet_console /home/qw817/Desktop/Lung_TDA_application/small_point_cloud_height_filtration/h_ptcl_0772.txt /home/qw817/Desktop/Lung_TDA_application/h_rivet100/h_pc0772.rivet --xbins 100 --ybins 100\n",
      "/home/qw817/rivet/rivet_console /home/qw817/Desktop/Lung_TDA_application/small_point_cloud_height_filtration/h_ptcl_0811.txt /home/qw817/Desktop/Lung_TDA_application/h_rivet100/h_pc0811.rivet --xbins 100 --ybins 100\n",
      "/home/qw817/rivet/rivet_console /home/qw817/Desktop/Lung_TDA_application/small_point_cloud_height_filtration/h_ptcl_0818.txt /home/qw817/Desktop/Lung_TDA_application/h_rivet100/h_pc0818.rivet --xbins 100 --ybins 100\n",
      "/home/qw817/rivet/rivet_console /home/qw817/Desktop/Lung_TDA_application/small_point_cloud_height_filtration/h_ptcl_0875.txt /home/qw817/Desktop/Lung_TDA_application/h_rivet100/h_pc0875.rivet --xbins 100 --ybins 100\n",
      "/home/qw817/rivet/rivet_console /home/qw817/Desktop/Lung_TDA_application/small_point_cloud_height_filtration/h_ptcl_0893.txt /home/qw817/Desktop/Lung_TDA_application/h_rivet100/h_pc0893.rivet --xbins 100 --ybins 100\n",
      "/home/qw817/rivet/rivet_console /home/qw817/Desktop/Lung_TDA_application/small_point_cloud_height_filtration/h_ptcl_0905.txt /home/qw817/Desktop/Lung_TDA_application/h_rivet100/h_pc0905.rivet --xbins 100 --ybins 100\n",
      "/home/qw817/rivet/rivet_console /home/qw817/Desktop/Lung_TDA_application/small_point_cloud_height_filtration/h_ptcl_0921.txt /home/qw817/Desktop/Lung_TDA_application/h_rivet100/h_pc0921.rivet --xbins 100 --ybins 100\n",
      "/home/qw817/rivet/rivet_console /home/qw817/Desktop/Lung_TDA_application/small_point_cloud_height_filtration/h_ptcl_0924.txt /home/qw817/Desktop/Lung_TDA_application/h_rivet100/h_pc0924.rivet --xbins 100 --ybins 100\n",
      "/home/qw817/rivet/rivet_console /home/qw817/Desktop/Lung_TDA_application/small_point_cloud_height_filtration/h_ptcl_0939.txt /home/qw817/Desktop/Lung_TDA_application/h_rivet100/h_pc0939.rivet --xbins 100 --ybins 100\n",
      "/home/qw817/rivet/rivet_console /home/qw817/Desktop/Lung_TDA_application/small_point_cloud_height_filtration/h_ptcl_0965.txt /home/qw817/Desktop/Lung_TDA_application/h_rivet100/h_pc0965.rivet --xbins 100 --ybins 100\n",
      "/home/qw817/rivet/rivet_console /home/qw817/Desktop/Lung_TDA_application/small_point_cloud_height_filtration/h_ptcl_0994.txt /home/qw817/Desktop/Lung_TDA_application/h_rivet100/h_pc0994.rivet --xbins 100 --ybins 100\n",
      "/home/qw817/rivet/rivet_console /home/qw817/Desktop/Lung_TDA_application/small_point_cloud_height_filtration/h_ptcl_1002.txt /home/qw817/Desktop/Lung_TDA_application/h_rivet100/h_pc1002.rivet --xbins 100 --ybins 100\n",
      "/home/qw817/rivet/rivet_console /home/qw817/Desktop/Lung_TDA_application/small_point_cloud_height_filtration/h_ptcl_1004.txt /home/qw817/Desktop/Lung_TDA_application/h_rivet100/h_pc1004.rivet --xbins 100 --ybins 100\n",
      "/home/qw817/rivet/rivet_console /home/qw817/Desktop/Lung_TDA_application/small_point_cloud_height_filtration/h_ptcl_1010.txt /home/qw817/Desktop/Lung_TDA_application/h_rivet100/h_pc1010.rivet --xbins 100 --ybins 100\n",
      "/home/qw817/rivet/rivet_console /home/qw817/Desktop/Lung_TDA_application/small_point_cloud_height_filtration/h_ptcl_1011.txt /home/qw817/Desktop/Lung_TDA_application/h_rivet100/h_pc1011.rivet --xbins 100 --ybins 100\n"
     ]
    }
   ],
   "source": [
    "# try with larger bin size\n",
    "for i in ids:\n",
    "    print(\"/home/qw817/rivet/rivet_console /home/qw817/Desktop/Lung_TDA_application/small_point_cloud_height_filtration/h_ptcl_\"+i[-4:]+\".txt /home/qw817/Desktop/Lung_TDA_application/h_rivet100/h_pc\"+i[-4:]+\".rivet --xbins 100 --ybins 100\")\n",
    "    "
   ]
  },
  {
   "cell_type": "code",
   "execution_count": null,
   "metadata": {},
   "outputs": [],
   "source": []
  },
  {
   "cell_type": "code",
   "execution_count": null,
   "metadata": {},
   "outputs": [],
   "source": []
  },
  {
   "cell_type": "code",
   "execution_count": 10,
   "metadata": {},
   "outputs": [],
   "source": [
    "from os import listdir\n",
    "from os.path import isfile, join\n",
    "mypath='rivet_outputs'\n",
    "onlyfiles = [f for f in listdir(mypath) if isfile(join(mypath, f))]"
   ]
  },
  {
   "cell_type": "code",
   "execution_count": 17,
   "metadata": {},
   "outputs": [],
   "source": [
    "ids = [i[5:9] for i in onlyfiles]"
   ]
  },
  {
   "cell_type": "code",
   "execution_count": 18,
   "metadata": {},
   "outputs": [
    {
     "name": "stdout",
     "output_type": "stream",
     "text": [
      "/home/qw817/rivet/rivet_console /home/qw817/Desktop/Lung_TDA_application/small_point_cloud_height_filtration/h_ptcl_0405.txt /home/qw817/Desktop/Lung_TDA_application/h_rivet50/h_pc0405.rivet --xbins 50 --ybins 50\n",
      "/home/qw817/rivet/rivet_console /home/qw817/Desktop/Lung_TDA_application/small_point_cloud_height_filtration/h_ptcl_0223.txt /home/qw817/Desktop/Lung_TDA_application/h_rivet50/h_pc0223.rivet --xbins 50 --ybins 50\n",
      "/home/qw817/rivet/rivet_console /home/qw817/Desktop/Lung_TDA_application/small_point_cloud_height_filtration/h_ptcl_0624.txt /home/qw817/Desktop/Lung_TDA_application/h_rivet50/h_pc0624.rivet --xbins 50 --ybins 50\n",
      "/home/qw817/rivet/rivet_console /home/qw817/Desktop/Lung_TDA_application/small_point_cloud_height_filtration/h_ptcl_0377.txt /home/qw817/Desktop/Lung_TDA_application/h_rivet50/h_pc0377.rivet --xbins 50 --ybins 50\n",
      "/home/qw817/rivet/rivet_console /home/qw817/Desktop/Lung_TDA_application/small_point_cloud_height_filtration/h_ptcl_0290.txt /home/qw817/Desktop/Lung_TDA_application/h_rivet50/h_pc0290.rivet --xbins 50 --ybins 50\n",
      "/home/qw817/rivet/rivet_console /home/qw817/Desktop/Lung_TDA_application/small_point_cloud_height_filtration/h_ptcl_0766.txt /home/qw817/Desktop/Lung_TDA_application/h_rivet50/h_pc0766.rivet --xbins 50 --ybins 50\n",
      "/home/qw817/rivet/rivet_console /home/qw817/Desktop/Lung_TDA_application/small_point_cloud_height_filtration/h_ptcl_0994.txt /home/qw817/Desktop/Lung_TDA_application/h_rivet50/h_pc0994.rivet --xbins 50 --ybins 50\n",
      "/home/qw817/rivet/rivet_console /home/qw817/Desktop/Lung_TDA_application/small_point_cloud_height_filtration/h_ptcl_0772.txt /home/qw817/Desktop/Lung_TDA_application/h_rivet50/h_pc0772.rivet --xbins 50 --ybins 50\n",
      "/home/qw817/rivet/rivet_console /home/qw817/Desktop/Lung_TDA_application/small_point_cloud_height_filtration/h_ptcl_0217.txt /home/qw817/Desktop/Lung_TDA_application/h_rivet50/h_pc0217.rivet --xbins 50 --ybins 50\n",
      "/home/qw817/rivet/rivet_console /home/qw817/Desktop/Lung_TDA_application/small_point_cloud_height_filtration/h_ptcl_0276.txt /home/qw817/Desktop/Lung_TDA_application/h_rivet50/h_pc0276.rivet --xbins 50 --ybins 50\n",
      "/home/qw817/rivet/rivet_console /home/qw817/Desktop/Lung_TDA_application/small_point_cloud_height_filtration/h_ptcl_0167.txt /home/qw817/Desktop/Lung_TDA_application/h_rivet50/h_pc0167.rivet --xbins 50 --ybins 50\n",
      "/home/qw817/rivet/rivet_console /home/qw817/Desktop/Lung_TDA_application/small_point_cloud_height_filtration/h_ptcl_0576.txt /home/qw817/Desktop/Lung_TDA_application/h_rivet50/h_pc0576.rivet --xbins 50 --ybins 50\n",
      "/home/qw817/rivet/rivet_console /home/qw817/Desktop/Lung_TDA_application/small_point_cloud_height_filtration/h_ptcl_0875.txt /home/qw817/Desktop/Lung_TDA_application/h_rivet50/h_pc0875.rivet --xbins 50 --ybins 50\n",
      "/home/qw817/rivet/rivet_console /home/qw817/Desktop/Lung_TDA_application/small_point_cloud_height_filtration/h_ptcl_0179.txt /home/qw817/Desktop/Lung_TDA_application/h_rivet50/h_pc0179.rivet --xbins 50 --ybins 50\n",
      "/home/qw817/rivet/rivet_console /home/qw817/Desktop/Lung_TDA_application/small_point_cloud_height_filtration/h_ptcl_0180.txt /home/qw817/Desktop/Lung_TDA_application/h_rivet50/h_pc0180.rivet --xbins 50 --ybins 50\n",
      "/home/qw817/rivet/rivet_console /home/qw817/Desktop/Lung_TDA_application/small_point_cloud_height_filtration/h_ptcl_0159.txt /home/qw817/Desktop/Lung_TDA_application/h_rivet50/h_pc0159.rivet --xbins 50 --ybins 50\n",
      "/home/qw817/rivet/rivet_console /home/qw817/Desktop/Lung_TDA_application/small_point_cloud_height_filtration/h_ptcl_0493.txt /home/qw817/Desktop/Lung_TDA_application/h_rivet50/h_pc0493.rivet --xbins 50 --ybins 50\n",
      "/home/qw817/rivet/rivet_console /home/qw817/Desktop/Lung_TDA_application/small_point_cloud_height_filtration/h_ptcl_0281.txt /home/qw817/Desktop/Lung_TDA_application/h_rivet50/h_pc0281.rivet --xbins 50 --ybins 50\n",
      "/home/qw817/rivet/rivet_console /home/qw817/Desktop/Lung_TDA_application/small_point_cloud_height_filtration/h_ptcl_0091.txt /home/qw817/Desktop/Lung_TDA_application/h_rivet50/h_pc0091.rivet --xbins 50 --ybins 50\n",
      "/home/qw817/rivet/rivet_console /home/qw817/Desktop/Lung_TDA_application/small_point_cloud_height_filtration/h_ptcl_0287.txt /home/qw817/Desktop/Lung_TDA_application/h_rivet50/h_pc0287.rivet --xbins 50 --ybins 50\n",
      "/home/qw817/rivet/rivet_console /home/qw817/Desktop/Lung_TDA_application/small_point_cloud_height_filtration/h_ptcl_0522.txt /home/qw817/Desktop/Lung_TDA_application/h_rivet50/h_pc0522.rivet --xbins 50 --ybins 50\n",
      "/home/qw817/rivet/rivet_console /home/qw817/Desktop/Lung_TDA_application/small_point_cloud_height_filtration/h_ptcl_0399.txt /home/qw817/Desktop/Lung_TDA_application/h_rivet50/h_pc0399.rivet --xbins 50 --ybins 50\n",
      "/home/qw817/rivet/rivet_console /home/qw817/Desktop/Lung_TDA_application/small_point_cloud_height_filtration/h_ptcl_0210.txt /home/qw817/Desktop/Lung_TDA_application/h_rivet50/h_pc0210.rivet --xbins 50 --ybins 50\n",
      "/home/qw817/rivet/rivet_console /home/qw817/Desktop/Lung_TDA_application/small_point_cloud_height_filtration/h_ptcl_0248.txt /home/qw817/Desktop/Lung_TDA_application/h_rivet50/h_pc0248.rivet --xbins 50 --ybins 50\n",
      "/home/qw817/rivet/rivet_console /home/qw817/Desktop/Lung_TDA_application/small_point_cloud_height_filtration/h_ptcl_0212.txt /home/qw817/Desktop/Lung_TDA_application/h_rivet50/h_pc0212.rivet --xbins 50 --ybins 50\n",
      "/home/qw817/rivet/rivet_console /home/qw817/Desktop/Lung_TDA_application/small_point_cloud_height_filtration/h_ptcl_0257.txt /home/qw817/Desktop/Lung_TDA_application/h_rivet50/h_pc0257.rivet --xbins 50 --ybins 50\n",
      "/home/qw817/rivet/rivet_console /home/qw817/Desktop/Lung_TDA_application/small_point_cloud_height_filtration/h_ptcl_0271.txt /home/qw817/Desktop/Lung_TDA_application/h_rivet50/h_pc0271.rivet --xbins 50 --ybins 50\n",
      "/home/qw817/rivet/rivet_console /home/qw817/Desktop/Lung_TDA_application/small_point_cloud_height_filtration/h_ptcl_0186.txt /home/qw817/Desktop/Lung_TDA_application/h_rivet50/h_pc0186.rivet --xbins 50 --ybins 50\n",
      "/home/qw817/rivet/rivet_console /home/qw817/Desktop/Lung_TDA_application/small_point_cloud_height_filtration/h_ptcl_0137.txt /home/qw817/Desktop/Lung_TDA_application/h_rivet50/h_pc0137.rivet --xbins 50 --ybins 50\n",
      "/home/qw817/rivet/rivet_console /home/qw817/Desktop/Lung_TDA_application/small_point_cloud_height_filtration/h_ptcl_0088.txt /home/qw817/Desktop/Lung_TDA_application/h_rivet50/h_pc0088.rivet --xbins 50 --ybins 50\n",
      "/home/qw817/rivet/rivet_console /home/qw817/Desktop/Lung_TDA_application/small_point_cloud_height_filtration/h_ptcl_0168.txt /home/qw817/Desktop/Lung_TDA_application/h_rivet50/h_pc0168.rivet --xbins 50 --ybins 50\n",
      "/home/qw817/rivet/rivet_console /home/qw817/Desktop/Lung_TDA_application/small_point_cloud_height_filtration/h_ptcl_0454.txt /home/qw817/Desktop/Lung_TDA_application/h_rivet50/h_pc0454.rivet --xbins 50 --ybins 50\n",
      "/home/qw817/rivet/rivet_console /home/qw817/Desktop/Lung_TDA_application/small_point_cloud_height_filtration/h_ptcl_0072.txt /home/qw817/Desktop/Lung_TDA_application/h_rivet50/h_pc0072.rivet --xbins 50 --ybins 50\n",
      "/home/qw817/rivet/rivet_console /home/qw817/Desktop/Lung_TDA_application/small_point_cloud_height_filtration/h_ptcl_0256.txt /home/qw817/Desktop/Lung_TDA_application/h_rivet50/h_pc0256.rivet --xbins 50 --ybins 50\n",
      "/home/qw817/rivet/rivet_console /home/qw817/Desktop/Lung_TDA_application/small_point_cloud_height_filtration/h_ptcl_0188.txt /home/qw817/Desktop/Lung_TDA_application/h_rivet50/h_pc0188.rivet --xbins 50 --ybins 50\n",
      "/home/qw817/rivet/rivet_console /home/qw817/Desktop/Lung_TDA_application/small_point_cloud_height_filtration/h_ptcl_0905.txt /home/qw817/Desktop/Lung_TDA_application/h_rivet50/h_pc0905.rivet --xbins 50 --ybins 50\n",
      "/home/qw817/rivet/rivet_console /home/qw817/Desktop/Lung_TDA_application/small_point_cloud_height_filtration/h_ptcl_0924.txt /home/qw817/Desktop/Lung_TDA_application/h_rivet50/h_pc0924.rivet --xbins 50 --ybins 50\n",
      "/home/qw817/rivet/rivet_console /home/qw817/Desktop/Lung_TDA_application/small_point_cloud_height_filtration/h_ptcl_0385.txt /home/qw817/Desktop/Lung_TDA_application/h_rivet50/h_pc0385.rivet --xbins 50 --ybins 50\n",
      "/home/qw817/rivet/rivet_console /home/qw817/Desktop/Lung_TDA_application/small_point_cloud_height_filtration/h_ptcl_0283.txt /home/qw817/Desktop/Lung_TDA_application/h_rivet50/h_pc0283.rivet --xbins 50 --ybins 50\n",
      "/home/qw817/rivet/rivet_console /home/qw817/Desktop/Lung_TDA_application/small_point_cloud_height_filtration/h_ptcl_0135.txt /home/qw817/Desktop/Lung_TDA_application/h_rivet50/h_pc0135.rivet --xbins 50 --ybins 50\n",
      "/home/qw817/rivet/rivet_console /home/qw817/Desktop/Lung_TDA_application/small_point_cloud_height_filtration/h_ptcl_0267.txt /home/qw817/Desktop/Lung_TDA_application/h_rivet50/h_pc0267.rivet --xbins 50 --ybins 50\n",
      "/home/qw817/rivet/rivet_console /home/qw817/Desktop/Lung_TDA_application/small_point_cloud_height_filtration/h_ptcl_0254.txt /home/qw817/Desktop/Lung_TDA_application/h_rivet50/h_pc0254.rivet --xbins 50 --ybins 50\n",
      "/home/qw817/rivet/rivet_console /home/qw817/Desktop/Lung_TDA_application/small_point_cloud_height_filtration/h_ptcl_0562.txt /home/qw817/Desktop/Lung_TDA_application/h_rivet50/h_pc0562.rivet --xbins 50 --ybins 50\n",
      "/home/qw817/rivet/rivet_console /home/qw817/Desktop/Lung_TDA_application/small_point_cloud_height_filtration/h_ptcl_0232.txt /home/qw817/Desktop/Lung_TDA_application/h_rivet50/h_pc0232.rivet --xbins 50 --ybins 50\n",
      "/home/qw817/rivet/rivet_console /home/qw817/Desktop/Lung_TDA_application/small_point_cloud_height_filtration/h_ptcl_0244.txt /home/qw817/Desktop/Lung_TDA_application/h_rivet50/h_pc0244.rivet --xbins 50 --ybins 50\n",
      "/home/qw817/rivet/rivet_console /home/qw817/Desktop/Lung_TDA_application/small_point_cloud_height_filtration/h_ptcl_0510.txt /home/qw817/Desktop/Lung_TDA_application/h_rivet50/h_pc0510.rivet --xbins 50 --ybins 50\n",
      "/home/qw817/rivet/rivet_console /home/qw817/Desktop/Lung_TDA_application/small_point_cloud_height_filtration/h_ptcl_0273.txt /home/qw817/Desktop/Lung_TDA_application/h_rivet50/h_pc0273.rivet --xbins 50 --ybins 50\n",
      "/home/qw817/rivet/rivet_console /home/qw817/Desktop/Lung_TDA_application/small_point_cloud_height_filtration/h_ptcl_0090.txt /home/qw817/Desktop/Lung_TDA_application/h_rivet50/h_pc0090.rivet --xbins 50 --ybins 50\n",
      "/home/qw817/rivet/rivet_console /home/qw817/Desktop/Lung_TDA_application/small_point_cloud_height_filtration/h_ptcl_0325.txt /home/qw817/Desktop/Lung_TDA_application/h_rivet50/h_pc0325.rivet --xbins 50 --ybins 50\n",
      "/home/qw817/rivet/rivet_console /home/qw817/Desktop/Lung_TDA_application/small_point_cloud_height_filtration/h_ptcl_0202.txt /home/qw817/Desktop/Lung_TDA_application/h_rivet50/h_pc0202.rivet --xbins 50 --ybins 50\n",
      "/home/qw817/rivet/rivet_console /home/qw817/Desktop/Lung_TDA_application/small_point_cloud_height_filtration/h_ptcl_0278.txt /home/qw817/Desktop/Lung_TDA_application/h_rivet50/h_pc0278.rivet --xbins 50 --ybins 50\n",
      "/home/qw817/rivet/rivet_console /home/qw817/Desktop/Lung_TDA_application/small_point_cloud_height_filtration/h_ptcl_0568.txt /home/qw817/Desktop/Lung_TDA_application/h_rivet50/h_pc0568.rivet --xbins 50 --ybins 50\n",
      "/home/qw817/rivet/rivet_console /home/qw817/Desktop/Lung_TDA_application/small_point_cloud_height_filtration/h_ptcl_0184.txt /home/qw817/Desktop/Lung_TDA_application/h_rivet50/h_pc0184.rivet --xbins 50 --ybins 50\n",
      "/home/qw817/rivet/rivet_console /home/qw817/Desktop/Lung_TDA_application/small_point_cloud_height_filtration/h_ptcl_0124.txt /home/qw817/Desktop/Lung_TDA_application/h_rivet50/h_pc0124.rivet --xbins 50 --ybins 50\n",
      "/home/qw817/rivet/rivet_console /home/qw817/Desktop/Lung_TDA_application/small_point_cloud_height_filtration/h_ptcl_0258.txt /home/qw817/Desktop/Lung_TDA_application/h_rivet50/h_pc0258.rivet --xbins 50 --ybins 50\n",
      "/home/qw817/rivet/rivet_console /home/qw817/Desktop/Lung_TDA_application/small_point_cloud_height_filtration/h_ptcl_0893.txt /home/qw817/Desktop/Lung_TDA_application/h_rivet50/h_pc0893.rivet --xbins 50 --ybins 50\n",
      "/home/qw817/rivet/rivet_console /home/qw817/Desktop/Lung_TDA_application/small_point_cloud_height_filtration/h_ptcl_0580.txt /home/qw817/Desktop/Lung_TDA_application/h_rivet50/h_pc0580.rivet --xbins 50 --ybins 50\n",
      "/home/qw817/rivet/rivet_console /home/qw817/Desktop/Lung_TDA_application/small_point_cloud_height_filtration/h_ptcl_0187.txt /home/qw817/Desktop/Lung_TDA_application/h_rivet50/h_pc0187.rivet --xbins 50 --ybins 50\n",
      "/home/qw817/rivet/rivet_console /home/qw817/Desktop/Lung_TDA_application/small_point_cloud_height_filtration/h_ptcl_0268.txt /home/qw817/Desktop/Lung_TDA_application/h_rivet50/h_pc0268.rivet --xbins 50 --ybins 50\n",
      "/home/qw817/rivet/rivet_console /home/qw817/Desktop/Lung_TDA_application/small_point_cloud_height_filtration/h_ptcl_0264.txt /home/qw817/Desktop/Lung_TDA_application/h_rivet50/h_pc0264.rivet --xbins 50 --ybins 50\n",
      "/home/qw817/rivet/rivet_console /home/qw817/Desktop/Lung_TDA_application/small_point_cloud_height_filtration/h_ptcl_0149.txt /home/qw817/Desktop/Lung_TDA_application/h_rivet50/h_pc0149.rivet --xbins 50 --ybins 50\n",
      "/home/qw817/rivet/rivet_console /home/qw817/Desktop/Lung_TDA_application/small_point_cloud_height_filtration/h_ptcl_0221.txt /home/qw817/Desktop/Lung_TDA_application/h_rivet50/h_pc0221.rivet --xbins 50 --ybins 50\n",
      "/home/qw817/rivet/rivet_console /home/qw817/Desktop/Lung_TDA_application/small_point_cloud_height_filtration/h_ptcl_0220.txt /home/qw817/Desktop/Lung_TDA_application/h_rivet50/h_pc0220.rivet --xbins 50 --ybins 50\n",
      "/home/qw817/rivet/rivet_console /home/qw817/Desktop/Lung_TDA_application/small_point_cloud_height_filtration/h_ptcl_0811.txt /home/qw817/Desktop/Lung_TDA_application/h_rivet50/h_pc0811.rivet --xbins 50 --ybins 50\n",
      "/home/qw817/rivet/rivet_console /home/qw817/Desktop/Lung_TDA_application/small_point_cloud_height_filtration/h_ptcl_0173.txt /home/qw817/Desktop/Lung_TDA_application/h_rivet50/h_pc0173.rivet --xbins 50 --ybins 50\n",
      "/home/qw817/rivet/rivet_console /home/qw817/Desktop/Lung_TDA_application/small_point_cloud_height_filtration/h_ptcl_0203.txt /home/qw817/Desktop/Lung_TDA_application/h_rivet50/h_pc0203.rivet --xbins 50 --ybins 50\n",
      "/home/qw817/rivet/rivet_console /home/qw817/Desktop/Lung_TDA_application/small_point_cloud_height_filtration/h_ptcl_0272.txt /home/qw817/Desktop/Lung_TDA_application/h_rivet50/h_pc0272.rivet --xbins 50 --ybins 50\n",
      "/home/qw817/rivet/rivet_console /home/qw817/Desktop/Lung_TDA_application/small_point_cloud_height_filtration/h_ptcl_0314.txt /home/qw817/Desktop/Lung_TDA_application/h_rivet50/h_pc0314.rivet --xbins 50 --ybins 50\n",
      "/home/qw817/rivet/rivet_console /home/qw817/Desktop/Lung_TDA_application/small_point_cloud_height_filtration/h_ptcl_0275.txt /home/qw817/Desktop/Lung_TDA_application/h_rivet50/h_pc0275.rivet --xbins 50 --ybins 50\n",
      "/home/qw817/rivet/rivet_console /home/qw817/Desktop/Lung_TDA_application/small_point_cloud_height_filtration/h_ptcl_0288.txt /home/qw817/Desktop/Lung_TDA_application/h_rivet50/h_pc0288.rivet --xbins 50 --ybins 50\n",
      "/home/qw817/rivet/rivet_console /home/qw817/Desktop/Lung_TDA_application/small_point_cloud_height_filtration/h_ptcl_0222.txt /home/qw817/Desktop/Lung_TDA_application/h_rivet50/h_pc0222.rivet --xbins 50 --ybins 50\n",
      "/home/qw817/rivet/rivet_console /home/qw817/Desktop/Lung_TDA_application/small_point_cloud_height_filtration/h_ptcl_0965.txt /home/qw817/Desktop/Lung_TDA_application/h_rivet50/h_pc0965.rivet --xbins 50 --ybins 50\n",
      "/home/qw817/rivet/rivet_console /home/qw817/Desktop/Lung_TDA_application/small_point_cloud_height_filtration/h_ptcl_0176.txt /home/qw817/Desktop/Lung_TDA_application/h_rivet50/h_pc0176.rivet --xbins 50 --ybins 50\n",
      "/home/qw817/rivet/rivet_console /home/qw817/Desktop/Lung_TDA_application/small_point_cloud_height_filtration/h_ptcl_0237.txt /home/qw817/Desktop/Lung_TDA_application/h_rivet50/h_pc0237.rivet --xbins 50 --ybins 50\n",
      "/home/qw817/rivet/rivet_console /home/qw817/Desktop/Lung_TDA_application/small_point_cloud_height_filtration/h_ptcl_0190.txt /home/qw817/Desktop/Lung_TDA_application/h_rivet50/h_pc0190.rivet --xbins 50 --ybins 50\n",
      "/home/qw817/rivet/rivet_console /home/qw817/Desktop/Lung_TDA_application/small_point_cloud_height_filtration/h_ptcl_0250.txt /home/qw817/Desktop/Lung_TDA_application/h_rivet50/h_pc0250.rivet --xbins 50 --ybins 50\n",
      "/home/qw817/rivet/rivet_console /home/qw817/Desktop/Lung_TDA_application/small_point_cloud_height_filtration/h_ptcl_1010.txt /home/qw817/Desktop/Lung_TDA_application/h_rivet50/h_pc1010.rivet --xbins 50 --ybins 50\n",
      "/home/qw817/rivet/rivet_console /home/qw817/Desktop/Lung_TDA_application/small_point_cloud_height_filtration/h_ptcl_0191.txt /home/qw817/Desktop/Lung_TDA_application/h_rivet50/h_pc0191.rivet --xbins 50 --ybins 50\n",
      "/home/qw817/rivet/rivet_console /home/qw817/Desktop/Lung_TDA_application/small_point_cloud_height_filtration/h_ptcl_0138.txt /home/qw817/Desktop/Lung_TDA_application/h_rivet50/h_pc0138.rivet --xbins 50 --ybins 50\n",
      "/home/qw817/rivet/rivet_console /home/qw817/Desktop/Lung_TDA_application/small_point_cloud_height_filtration/h_ptcl_0543.txt /home/qw817/Desktop/Lung_TDA_application/h_rivet50/h_pc0543.rivet --xbins 50 --ybins 50\n",
      "/home/qw817/rivet/rivet_console /home/qw817/Desktop/Lung_TDA_application/small_point_cloud_height_filtration/h_ptcl_0185.txt /home/qw817/Desktop/Lung_TDA_application/h_rivet50/h_pc0185.rivet --xbins 50 --ybins 50\n",
      "/home/qw817/rivet/rivet_console /home/qw817/Desktop/Lung_TDA_application/small_point_cloud_height_filtration/h_ptcl_0559.txt /home/qw817/Desktop/Lung_TDA_application/h_rivet50/h_pc0559.rivet --xbins 50 --ybins 50\n",
      "/home/qw817/rivet/rivet_console /home/qw817/Desktop/Lung_TDA_application/small_point_cloud_height_filtration/h_ptcl_0246.txt /home/qw817/Desktop/Lung_TDA_application/h_rivet50/h_pc0246.rivet --xbins 50 --ybins 50\n",
      "/home/qw817/rivet/rivet_console /home/qw817/Desktop/Lung_TDA_application/small_point_cloud_height_filtration/h_ptcl_0165.txt /home/qw817/Desktop/Lung_TDA_application/h_rivet50/h_pc0165.rivet --xbins 50 --ybins 50\n",
      "/home/qw817/rivet/rivet_console /home/qw817/Desktop/Lung_TDA_application/small_point_cloud_height_filtration/h_ptcl_0277.txt /home/qw817/Desktop/Lung_TDA_application/h_rivet50/h_pc0277.rivet --xbins 50 --ybins 50\n",
      "/home/qw817/rivet/rivet_console /home/qw817/Desktop/Lung_TDA_application/small_point_cloud_height_filtration/h_ptcl_0183.txt /home/qw817/Desktop/Lung_TDA_application/h_rivet50/h_pc0183.rivet --xbins 50 --ybins 50\n",
      "/home/qw817/rivet/rivet_console /home/qw817/Desktop/Lung_TDA_application/small_point_cloud_height_filtration/h_ptcl_0163.txt /home/qw817/Desktop/Lung_TDA_application/h_rivet50/h_pc0163.rivet --xbins 50 --ybins 50\n",
      "/home/qw817/rivet/rivet_console /home/qw817/Desktop/Lung_TDA_application/small_point_cloud_height_filtration/h_ptcl_0285.txt /home/qw817/Desktop/Lung_TDA_application/h_rivet50/h_pc0285.rivet --xbins 50 --ybins 50\n",
      "/home/qw817/rivet/rivet_console /home/qw817/Desktop/Lung_TDA_application/small_point_cloud_height_filtration/h_ptcl_0921.txt /home/qw817/Desktop/Lung_TDA_application/h_rivet50/h_pc0921.rivet --xbins 50 --ybins 50\n",
      "/home/qw817/rivet/rivet_console /home/qw817/Desktop/Lung_TDA_application/small_point_cloud_height_filtration/h_ptcl_0265.txt /home/qw817/Desktop/Lung_TDA_application/h_rivet50/h_pc0265.rivet --xbins 50 --ybins 50\n",
      "/home/qw817/rivet/rivet_console /home/qw817/Desktop/Lung_TDA_application/small_point_cloud_height_filtration/h_ptcl_0162.txt /home/qw817/Desktop/Lung_TDA_application/h_rivet50/h_pc0162.rivet --xbins 50 --ybins 50\n",
      "/home/qw817/rivet/rivet_console /home/qw817/Desktop/Lung_TDA_application/small_point_cloud_height_filtration/h_ptcl_0166.txt /home/qw817/Desktop/Lung_TDA_application/h_rivet50/h_pc0166.rivet --xbins 50 --ybins 50\n",
      "/home/qw817/rivet/rivet_console /home/qw817/Desktop/Lung_TDA_application/small_point_cloud_height_filtration/h_ptcl_0198.txt /home/qw817/Desktop/Lung_TDA_application/h_rivet50/h_pc0198.rivet --xbins 50 --ybins 50\n",
      "/home/qw817/rivet/rivet_console /home/qw817/Desktop/Lung_TDA_application/small_point_cloud_height_filtration/h_ptcl_0242.txt /home/qw817/Desktop/Lung_TDA_application/h_rivet50/h_pc0242.rivet --xbins 50 --ybins 50\n",
      "/home/qw817/rivet/rivet_console /home/qw817/Desktop/Lung_TDA_application/small_point_cloud_height_filtration/h_ptcl_0274.txt /home/qw817/Desktop/Lung_TDA_application/h_rivet50/h_pc0274.rivet --xbins 50 --ybins 50\n",
      "/home/qw817/rivet/rivet_console /home/qw817/Desktop/Lung_TDA_application/small_point_cloud_height_filtration/h_ptcl_0233.txt /home/qw817/Desktop/Lung_TDA_application/h_rivet50/h_pc0233.rivet --xbins 50 --ybins 50\n",
      "/home/qw817/rivet/rivet_console /home/qw817/Desktop/Lung_TDA_application/small_point_cloud_height_filtration/h_ptcl_0068.txt /home/qw817/Desktop/Lung_TDA_application/h_rivet50/h_pc0068.rivet --xbins 50 --ybins 50\n",
      "/home/qw817/rivet/rivet_console /home/qw817/Desktop/Lung_TDA_application/small_point_cloud_height_filtration/h_ptcl_0193.txt /home/qw817/Desktop/Lung_TDA_application/h_rivet50/h_pc0193.rivet --xbins 50 --ybins 50\n",
      "/home/qw817/rivet/rivet_console /home/qw817/Desktop/Lung_TDA_application/small_point_cloud_height_filtration/h_ptcl_0280.txt /home/qw817/Desktop/Lung_TDA_application/h_rivet50/h_pc0280.rivet --xbins 50 --ybins 50\n",
      "/home/qw817/rivet/rivet_console /home/qw817/Desktop/Lung_TDA_application/small_point_cloud_height_filtration/h_ptcl_0207.txt /home/qw817/Desktop/Lung_TDA_application/h_rivet50/h_pc0207.rivet --xbins 50 --ybins 50\n",
      "/home/qw817/rivet/rivet_console /home/qw817/Desktop/Lung_TDA_application/small_point_cloud_height_filtration/h_ptcl_0286.txt /home/qw817/Desktop/Lung_TDA_application/h_rivet50/h_pc0286.rivet --xbins 50 --ybins 50\n",
      "/home/qw817/rivet/rivet_console /home/qw817/Desktop/Lung_TDA_application/small_point_cloud_height_filtration/h_ptcl_1004.txt /home/qw817/Desktop/Lung_TDA_application/h_rivet50/h_pc1004.rivet --xbins 50 --ybins 50\n",
      "/home/qw817/rivet/rivet_console /home/qw817/Desktop/Lung_TDA_application/small_point_cloud_height_filtration/h_ptcl_0234.txt /home/qw817/Desktop/Lung_TDA_application/h_rivet50/h_pc0234.rivet --xbins 50 --ybins 50\n",
      "/home/qw817/rivet/rivet_console /home/qw817/Desktop/Lung_TDA_application/small_point_cloud_height_filtration/h_ptcl_1011.txt /home/qw817/Desktop/Lung_TDA_application/h_rivet50/h_pc1011.rivet --xbins 50 --ybins 50\n",
      "/home/qw817/rivet/rivet_console /home/qw817/Desktop/Lung_TDA_application/small_point_cloud_height_filtration/h_ptcl_0235.txt /home/qw817/Desktop/Lung_TDA_application/h_rivet50/h_pc0235.rivet --xbins 50 --ybins 50\n",
      "/home/qw817/rivet/rivet_console /home/qw817/Desktop/Lung_TDA_application/small_point_cloud_height_filtration/h_ptcl_0610.txt /home/qw817/Desktop/Lung_TDA_application/h_rivet50/h_pc0610.rivet --xbins 50 --ybins 50\n",
      "/home/qw817/rivet/rivet_console /home/qw817/Desktop/Lung_TDA_application/small_point_cloud_height_filtration/h_ptcl_0255.txt /home/qw817/Desktop/Lung_TDA_application/h_rivet50/h_pc0255.rivet --xbins 50 --ybins 50\n",
      "/home/qw817/rivet/rivet_console /home/qw817/Desktop/Lung_TDA_application/small_point_cloud_height_filtration/h_ptcl_0249.txt /home/qw817/Desktop/Lung_TDA_application/h_rivet50/h_pc0249.rivet --xbins 50 --ybins 50\n",
      "/home/qw817/rivet/rivet_console /home/qw817/Desktop/Lung_TDA_application/small_point_cloud_height_filtration/h_ptcl_0171.txt /home/qw817/Desktop/Lung_TDA_application/h_rivet50/h_pc0171.rivet --xbins 50 --ybins 50\n",
      "/home/qw817/rivet/rivet_console /home/qw817/Desktop/Lung_TDA_application/small_point_cloud_height_filtration/h_ptcl_0231.txt /home/qw817/Desktop/Lung_TDA_application/h_rivet50/h_pc0231.rivet --xbins 50 --ybins 50\n",
      "/home/qw817/rivet/rivet_console /home/qw817/Desktop/Lung_TDA_application/small_point_cloud_height_filtration/h_ptcl_0939.txt /home/qw817/Desktop/Lung_TDA_application/h_rivet50/h_pc0939.rivet --xbins 50 --ybins 50\n",
      "/home/qw817/rivet/rivet_console /home/qw817/Desktop/Lung_TDA_application/small_point_cloud_height_filtration/h_ptcl_0213.txt /home/qw817/Desktop/Lung_TDA_application/h_rivet50/h_pc0213.rivet --xbins 50 --ybins 50\n",
      "/home/qw817/rivet/rivet_console /home/qw817/Desktop/Lung_TDA_application/small_point_cloud_height_filtration/h_ptcl_0243.txt /home/qw817/Desktop/Lung_TDA_application/h_rivet50/h_pc0243.rivet --xbins 50 --ybins 50\n",
      "/home/qw817/rivet/rivet_console /home/qw817/Desktop/Lung_TDA_application/small_point_cloud_height_filtration/h_ptcl_0245.txt /home/qw817/Desktop/Lung_TDA_application/h_rivet50/h_pc0245.rivet --xbins 50 --ybins 50\n",
      "/home/qw817/rivet/rivet_console /home/qw817/Desktop/Lung_TDA_application/small_point_cloud_height_filtration/h_ptcl_0289.txt /home/qw817/Desktop/Lung_TDA_application/h_rivet50/h_pc0289.rivet --xbins 50 --ybins 50\n",
      "/home/qw817/rivet/rivet_console /home/qw817/Desktop/Lung_TDA_application/small_point_cloud_height_filtration/h_ptcl_0252.txt /home/qw817/Desktop/Lung_TDA_application/h_rivet50/h_pc0252.rivet --xbins 50 --ybins 50\n",
      "/home/qw817/rivet/rivet_console /home/qw817/Desktop/Lung_TDA_application/small_point_cloud_height_filtration/h_ptcl_0230.txt /home/qw817/Desktop/Lung_TDA_application/h_rivet50/h_pc0230.rivet --xbins 50 --ybins 50\n",
      "/home/qw817/rivet/rivet_console /home/qw817/Desktop/Lung_TDA_application/small_point_cloud_height_filtration/h_ptcl_0266.txt /home/qw817/Desktop/Lung_TDA_application/h_rivet50/h_pc0266.rivet --xbins 50 --ybins 50\n",
      "/home/qw817/rivet/rivet_console /home/qw817/Desktop/Lung_TDA_application/small_point_cloud_height_filtration/h_ptcl_0129.txt /home/qw817/Desktop/Lung_TDA_application/h_rivet50/h_pc0129.rivet --xbins 50 --ybins 50\n",
      "/home/qw817/rivet/rivet_console /home/qw817/Desktop/Lung_TDA_application/small_point_cloud_height_filtration/h_ptcl_0818.txt /home/qw817/Desktop/Lung_TDA_application/h_rivet50/h_pc0818.rivet --xbins 50 --ybins 50\n",
      "/home/qw817/rivet/rivet_console /home/qw817/Desktop/Lung_TDA_application/small_point_cloud_height_filtration/h_ptcl_1002.txt /home/qw817/Desktop/Lung_TDA_application/h_rivet50/h_pc1002.rivet --xbins 50 --ybins 50\n",
      "/home/qw817/rivet/rivet_console /home/qw817/Desktop/Lung_TDA_application/small_point_cloud_height_filtration/h_ptcl_0236.txt /home/qw817/Desktop/Lung_TDA_application/h_rivet50/h_pc0236.rivet --xbins 50 --ybins 50\n",
      "/home/qw817/rivet/rivet_console /home/qw817/Desktop/Lung_TDA_application/small_point_cloud_height_filtration/h_ptcl_0192.txt /home/qw817/Desktop/Lung_TDA_application/h_rivet50/h_pc0192.rivet --xbins 50 --ybins 50\n",
      "/home/qw817/rivet/rivet_console /home/qw817/Desktop/Lung_TDA_application/small_point_cloud_height_filtration/h_ptcl_0182.txt /home/qw817/Desktop/Lung_TDA_application/h_rivet50/h_pc0182.rivet --xbins 50 --ybins 50\n",
      "/home/qw817/rivet/rivet_console /home/qw817/Desktop/Lung_TDA_application/small_point_cloud_height_filtration/h_ptcl_0194.txt /home/qw817/Desktop/Lung_TDA_application/h_rivet50/h_pc0194.rivet --xbins 50 --ybins 50\n",
      "/home/qw817/rivet/rivet_console /home/qw817/Desktop/Lung_TDA_application/small_point_cloud_height_filtration/h_ptcl_0181.txt /home/qw817/Desktop/Lung_TDA_application/h_rivet50/h_pc0181.rivet --xbins 50 --ybins 50\n",
      "/home/qw817/rivet/rivet_console /home/qw817/Desktop/Lung_TDA_application/small_point_cloud_height_filtration/h_ptcl_0211.txt /home/qw817/Desktop/Lung_TDA_application/h_rivet50/h_pc0211.rivet --xbins 50 --ybins 50\n",
      "/home/qw817/rivet/rivet_console /home/qw817/Desktop/Lung_TDA_application/small_point_cloud_height_filtration/h_ptcl_0270.txt /home/qw817/Desktop/Lung_TDA_application/h_rivet50/h_pc0270.rivet --xbins 50 --ybins 50\n",
      "/home/qw817/rivet/rivet_console /home/qw817/Desktop/Lung_TDA_application/small_point_cloud_height_filtration/h_ptcl_0175.txt /home/qw817/Desktop/Lung_TDA_application/h_rivet50/h_pc0175.rivet --xbins 50 --ybins 50\n",
      "/home/qw817/rivet/rivet_console /home/qw817/Desktop/Lung_TDA_application/small_point_cloud_height_filtration/h_ptcl_0164.txt /home/qw817/Desktop/Lung_TDA_application/h_rivet50/h_pc0164.rivet --xbins 50 --ybins 50\n",
      "/home/qw817/rivet/rivet_console /home/qw817/Desktop/Lung_TDA_application/small_point_cloud_height_filtration/h_ptcl_0251.txt /home/qw817/Desktop/Lung_TDA_application/h_rivet50/h_pc0251.rivet --xbins 50 --ybins 50\n",
      "/home/qw817/rivet/rivet_console /home/qw817/Desktop/Lung_TDA_application/small_point_cloud_height_filtration/h_ptcl_0282.txt /home/qw817/Desktop/Lung_TDA_application/h_rivet50/h_pc0282.rivet --xbins 50 --ybins 50\n",
      "/home/qw817/rivet/rivet_console /home/qw817/Desktop/Lung_TDA_application/small_point_cloud_height_filtration/h_ptcl_0470.txt /home/qw817/Desktop/Lung_TDA_application/h_rivet50/h_pc0470.rivet --xbins 50 --ybins 50\n",
      "/home/qw817/rivet/rivet_console /home/qw817/Desktop/Lung_TDA_application/small_point_cloud_height_filtration/h_ptcl_0118.txt /home/qw817/Desktop/Lung_TDA_application/h_rivet50/h_pc0118.rivet --xbins 50 --ybins 50\n",
      "/home/qw817/rivet/rivet_console /home/qw817/Desktop/Lung_TDA_application/small_point_cloud_height_filtration/h_ptcl_0260.txt /home/qw817/Desktop/Lung_TDA_application/h_rivet50/h_pc0260.rivet --xbins 50 --ybins 50\n",
      "/home/qw817/rivet/rivet_console /home/qw817/Desktop/Lung_TDA_application/small_point_cloud_height_filtration/h_ptcl_0332.txt /home/qw817/Desktop/Lung_TDA_application/h_rivet50/h_pc0332.rivet --xbins 50 --ybins 50\n",
      "/home/qw817/rivet/rivet_console /home/qw817/Desktop/Lung_TDA_application/small_point_cloud_height_filtration/h_ptcl_0161.txt /home/qw817/Desktop/Lung_TDA_application/h_rivet50/h_pc0161.rivet --xbins 50 --ybins 50\n",
      "/home/qw817/rivet/rivet_console /home/qw817/Desktop/Lung_TDA_application/small_point_cloud_height_filtration/h_ptcl_0169.txt /home/qw817/Desktop/Lung_TDA_application/h_rivet50/h_pc0169.rivet --xbins 50 --ybins 50\n",
      "/home/qw817/rivet/rivet_console /home/qw817/Desktop/Lung_TDA_application/small_point_cloud_height_filtration/h_ptcl_0771.txt /home/qw817/Desktop/Lung_TDA_application/h_rivet50/h_pc0771.rivet --xbins 50 --ybins 50\n",
      "/home/qw817/rivet/rivet_console /home/qw817/Desktop/Lung_TDA_application/x_pc/pc_0405.txt /home/qw817/Desktop/Lung_TDA_application/x_rivet50/x_pc0405.rivet --xbins 50 --ybins 50\n",
      "/home/qw817/rivet/rivet_console /home/qw817/Desktop/Lung_TDA_application/x_pc/pc_0223.txt /home/qw817/Desktop/Lung_TDA_application/x_rivet50/x_pc0223.rivet --xbins 50 --ybins 50\n",
      "/home/qw817/rivet/rivet_console /home/qw817/Desktop/Lung_TDA_application/x_pc/pc_0624.txt /home/qw817/Desktop/Lung_TDA_application/x_rivet50/x_pc0624.rivet --xbins 50 --ybins 50\n",
      "/home/qw817/rivet/rivet_console /home/qw817/Desktop/Lung_TDA_application/x_pc/pc_0377.txt /home/qw817/Desktop/Lung_TDA_application/x_rivet50/x_pc0377.rivet --xbins 50 --ybins 50\n",
      "/home/qw817/rivet/rivet_console /home/qw817/Desktop/Lung_TDA_application/x_pc/pc_0290.txt /home/qw817/Desktop/Lung_TDA_application/x_rivet50/x_pc0290.rivet --xbins 50 --ybins 50\n",
      "/home/qw817/rivet/rivet_console /home/qw817/Desktop/Lung_TDA_application/x_pc/pc_0766.txt /home/qw817/Desktop/Lung_TDA_application/x_rivet50/x_pc0766.rivet --xbins 50 --ybins 50\n",
      "/home/qw817/rivet/rivet_console /home/qw817/Desktop/Lung_TDA_application/x_pc/pc_0994.txt /home/qw817/Desktop/Lung_TDA_application/x_rivet50/x_pc0994.rivet --xbins 50 --ybins 50\n",
      "/home/qw817/rivet/rivet_console /home/qw817/Desktop/Lung_TDA_application/x_pc/pc_0772.txt /home/qw817/Desktop/Lung_TDA_application/x_rivet50/x_pc0772.rivet --xbins 50 --ybins 50\n",
      "/home/qw817/rivet/rivet_console /home/qw817/Desktop/Lung_TDA_application/x_pc/pc_0217.txt /home/qw817/Desktop/Lung_TDA_application/x_rivet50/x_pc0217.rivet --xbins 50 --ybins 50\n",
      "/home/qw817/rivet/rivet_console /home/qw817/Desktop/Lung_TDA_application/x_pc/pc_0276.txt /home/qw817/Desktop/Lung_TDA_application/x_rivet50/x_pc0276.rivet --xbins 50 --ybins 50\n",
      "/home/qw817/rivet/rivet_console /home/qw817/Desktop/Lung_TDA_application/x_pc/pc_0167.txt /home/qw817/Desktop/Lung_TDA_application/x_rivet50/x_pc0167.rivet --xbins 50 --ybins 50\n",
      "/home/qw817/rivet/rivet_console /home/qw817/Desktop/Lung_TDA_application/x_pc/pc_0576.txt /home/qw817/Desktop/Lung_TDA_application/x_rivet50/x_pc0576.rivet --xbins 50 --ybins 50\n",
      "/home/qw817/rivet/rivet_console /home/qw817/Desktop/Lung_TDA_application/x_pc/pc_0875.txt /home/qw817/Desktop/Lung_TDA_application/x_rivet50/x_pc0875.rivet --xbins 50 --ybins 50\n",
      "/home/qw817/rivet/rivet_console /home/qw817/Desktop/Lung_TDA_application/x_pc/pc_0179.txt /home/qw817/Desktop/Lung_TDA_application/x_rivet50/x_pc0179.rivet --xbins 50 --ybins 50\n",
      "/home/qw817/rivet/rivet_console /home/qw817/Desktop/Lung_TDA_application/x_pc/pc_0180.txt /home/qw817/Desktop/Lung_TDA_application/x_rivet50/x_pc0180.rivet --xbins 50 --ybins 50\n",
      "/home/qw817/rivet/rivet_console /home/qw817/Desktop/Lung_TDA_application/x_pc/pc_0159.txt /home/qw817/Desktop/Lung_TDA_application/x_rivet50/x_pc0159.rivet --xbins 50 --ybins 50\n",
      "/home/qw817/rivet/rivet_console /home/qw817/Desktop/Lung_TDA_application/x_pc/pc_0493.txt /home/qw817/Desktop/Lung_TDA_application/x_rivet50/x_pc0493.rivet --xbins 50 --ybins 50\n",
      "/home/qw817/rivet/rivet_console /home/qw817/Desktop/Lung_TDA_application/x_pc/pc_0281.txt /home/qw817/Desktop/Lung_TDA_application/x_rivet50/x_pc0281.rivet --xbins 50 --ybins 50\n",
      "/home/qw817/rivet/rivet_console /home/qw817/Desktop/Lung_TDA_application/x_pc/pc_0091.txt /home/qw817/Desktop/Lung_TDA_application/x_rivet50/x_pc0091.rivet --xbins 50 --ybins 50\n",
      "/home/qw817/rivet/rivet_console /home/qw817/Desktop/Lung_TDA_application/x_pc/pc_0287.txt /home/qw817/Desktop/Lung_TDA_application/x_rivet50/x_pc0287.rivet --xbins 50 --ybins 50\n",
      "/home/qw817/rivet/rivet_console /home/qw817/Desktop/Lung_TDA_application/x_pc/pc_0522.txt /home/qw817/Desktop/Lung_TDA_application/x_rivet50/x_pc0522.rivet --xbins 50 --ybins 50\n",
      "/home/qw817/rivet/rivet_console /home/qw817/Desktop/Lung_TDA_application/x_pc/pc_0399.txt /home/qw817/Desktop/Lung_TDA_application/x_rivet50/x_pc0399.rivet --xbins 50 --ybins 50\n",
      "/home/qw817/rivet/rivet_console /home/qw817/Desktop/Lung_TDA_application/x_pc/pc_0210.txt /home/qw817/Desktop/Lung_TDA_application/x_rivet50/x_pc0210.rivet --xbins 50 --ybins 50\n",
      "/home/qw817/rivet/rivet_console /home/qw817/Desktop/Lung_TDA_application/x_pc/pc_0248.txt /home/qw817/Desktop/Lung_TDA_application/x_rivet50/x_pc0248.rivet --xbins 50 --ybins 50\n",
      "/home/qw817/rivet/rivet_console /home/qw817/Desktop/Lung_TDA_application/x_pc/pc_0212.txt /home/qw817/Desktop/Lung_TDA_application/x_rivet50/x_pc0212.rivet --xbins 50 --ybins 50\n",
      "/home/qw817/rivet/rivet_console /home/qw817/Desktop/Lung_TDA_application/x_pc/pc_0257.txt /home/qw817/Desktop/Lung_TDA_application/x_rivet50/x_pc0257.rivet --xbins 50 --ybins 50\n",
      "/home/qw817/rivet/rivet_console /home/qw817/Desktop/Lung_TDA_application/x_pc/pc_0271.txt /home/qw817/Desktop/Lung_TDA_application/x_rivet50/x_pc0271.rivet --xbins 50 --ybins 50\n",
      "/home/qw817/rivet/rivet_console /home/qw817/Desktop/Lung_TDA_application/x_pc/pc_0186.txt /home/qw817/Desktop/Lung_TDA_application/x_rivet50/x_pc0186.rivet --xbins 50 --ybins 50\n",
      "/home/qw817/rivet/rivet_console /home/qw817/Desktop/Lung_TDA_application/x_pc/pc_0137.txt /home/qw817/Desktop/Lung_TDA_application/x_rivet50/x_pc0137.rivet --xbins 50 --ybins 50\n",
      "/home/qw817/rivet/rivet_console /home/qw817/Desktop/Lung_TDA_application/x_pc/pc_0088.txt /home/qw817/Desktop/Lung_TDA_application/x_rivet50/x_pc0088.rivet --xbins 50 --ybins 50\n",
      "/home/qw817/rivet/rivet_console /home/qw817/Desktop/Lung_TDA_application/x_pc/pc_0168.txt /home/qw817/Desktop/Lung_TDA_application/x_rivet50/x_pc0168.rivet --xbins 50 --ybins 50\n",
      "/home/qw817/rivet/rivet_console /home/qw817/Desktop/Lung_TDA_application/x_pc/pc_0454.txt /home/qw817/Desktop/Lung_TDA_application/x_rivet50/x_pc0454.rivet --xbins 50 --ybins 50\n",
      "/home/qw817/rivet/rivet_console /home/qw817/Desktop/Lung_TDA_application/x_pc/pc_0072.txt /home/qw817/Desktop/Lung_TDA_application/x_rivet50/x_pc0072.rivet --xbins 50 --ybins 50\n",
      "/home/qw817/rivet/rivet_console /home/qw817/Desktop/Lung_TDA_application/x_pc/pc_0256.txt /home/qw817/Desktop/Lung_TDA_application/x_rivet50/x_pc0256.rivet --xbins 50 --ybins 50\n",
      "/home/qw817/rivet/rivet_console /home/qw817/Desktop/Lung_TDA_application/x_pc/pc_0188.txt /home/qw817/Desktop/Lung_TDA_application/x_rivet50/x_pc0188.rivet --xbins 50 --ybins 50\n",
      "/home/qw817/rivet/rivet_console /home/qw817/Desktop/Lung_TDA_application/x_pc/pc_0905.txt /home/qw817/Desktop/Lung_TDA_application/x_rivet50/x_pc0905.rivet --xbins 50 --ybins 50\n",
      "/home/qw817/rivet/rivet_console /home/qw817/Desktop/Lung_TDA_application/x_pc/pc_0924.txt /home/qw817/Desktop/Lung_TDA_application/x_rivet50/x_pc0924.rivet --xbins 50 --ybins 50\n",
      "/home/qw817/rivet/rivet_console /home/qw817/Desktop/Lung_TDA_application/x_pc/pc_0385.txt /home/qw817/Desktop/Lung_TDA_application/x_rivet50/x_pc0385.rivet --xbins 50 --ybins 50\n",
      "/home/qw817/rivet/rivet_console /home/qw817/Desktop/Lung_TDA_application/x_pc/pc_0283.txt /home/qw817/Desktop/Lung_TDA_application/x_rivet50/x_pc0283.rivet --xbins 50 --ybins 50\n",
      "/home/qw817/rivet/rivet_console /home/qw817/Desktop/Lung_TDA_application/x_pc/pc_0135.txt /home/qw817/Desktop/Lung_TDA_application/x_rivet50/x_pc0135.rivet --xbins 50 --ybins 50\n",
      "/home/qw817/rivet/rivet_console /home/qw817/Desktop/Lung_TDA_application/x_pc/pc_0267.txt /home/qw817/Desktop/Lung_TDA_application/x_rivet50/x_pc0267.rivet --xbins 50 --ybins 50\n",
      "/home/qw817/rivet/rivet_console /home/qw817/Desktop/Lung_TDA_application/x_pc/pc_0254.txt /home/qw817/Desktop/Lung_TDA_application/x_rivet50/x_pc0254.rivet --xbins 50 --ybins 50\n",
      "/home/qw817/rivet/rivet_console /home/qw817/Desktop/Lung_TDA_application/x_pc/pc_0562.txt /home/qw817/Desktop/Lung_TDA_application/x_rivet50/x_pc0562.rivet --xbins 50 --ybins 50\n",
      "/home/qw817/rivet/rivet_console /home/qw817/Desktop/Lung_TDA_application/x_pc/pc_0232.txt /home/qw817/Desktop/Lung_TDA_application/x_rivet50/x_pc0232.rivet --xbins 50 --ybins 50\n",
      "/home/qw817/rivet/rivet_console /home/qw817/Desktop/Lung_TDA_application/x_pc/pc_0244.txt /home/qw817/Desktop/Lung_TDA_application/x_rivet50/x_pc0244.rivet --xbins 50 --ybins 50\n",
      "/home/qw817/rivet/rivet_console /home/qw817/Desktop/Lung_TDA_application/x_pc/pc_0510.txt /home/qw817/Desktop/Lung_TDA_application/x_rivet50/x_pc0510.rivet --xbins 50 --ybins 50\n",
      "/home/qw817/rivet/rivet_console /home/qw817/Desktop/Lung_TDA_application/x_pc/pc_0273.txt /home/qw817/Desktop/Lung_TDA_application/x_rivet50/x_pc0273.rivet --xbins 50 --ybins 50\n",
      "/home/qw817/rivet/rivet_console /home/qw817/Desktop/Lung_TDA_application/x_pc/pc_0090.txt /home/qw817/Desktop/Lung_TDA_application/x_rivet50/x_pc0090.rivet --xbins 50 --ybins 50\n",
      "/home/qw817/rivet/rivet_console /home/qw817/Desktop/Lung_TDA_application/x_pc/pc_0325.txt /home/qw817/Desktop/Lung_TDA_application/x_rivet50/x_pc0325.rivet --xbins 50 --ybins 50\n",
      "/home/qw817/rivet/rivet_console /home/qw817/Desktop/Lung_TDA_application/x_pc/pc_0202.txt /home/qw817/Desktop/Lung_TDA_application/x_rivet50/x_pc0202.rivet --xbins 50 --ybins 50\n",
      "/home/qw817/rivet/rivet_console /home/qw817/Desktop/Lung_TDA_application/x_pc/pc_0278.txt /home/qw817/Desktop/Lung_TDA_application/x_rivet50/x_pc0278.rivet --xbins 50 --ybins 50\n",
      "/home/qw817/rivet/rivet_console /home/qw817/Desktop/Lung_TDA_application/x_pc/pc_0568.txt /home/qw817/Desktop/Lung_TDA_application/x_rivet50/x_pc0568.rivet --xbins 50 --ybins 50\n",
      "/home/qw817/rivet/rivet_console /home/qw817/Desktop/Lung_TDA_application/x_pc/pc_0184.txt /home/qw817/Desktop/Lung_TDA_application/x_rivet50/x_pc0184.rivet --xbins 50 --ybins 50\n",
      "/home/qw817/rivet/rivet_console /home/qw817/Desktop/Lung_TDA_application/x_pc/pc_0124.txt /home/qw817/Desktop/Lung_TDA_application/x_rivet50/x_pc0124.rivet --xbins 50 --ybins 50\n",
      "/home/qw817/rivet/rivet_console /home/qw817/Desktop/Lung_TDA_application/x_pc/pc_0258.txt /home/qw817/Desktop/Lung_TDA_application/x_rivet50/x_pc0258.rivet --xbins 50 --ybins 50\n",
      "/home/qw817/rivet/rivet_console /home/qw817/Desktop/Lung_TDA_application/x_pc/pc_0893.txt /home/qw817/Desktop/Lung_TDA_application/x_rivet50/x_pc0893.rivet --xbins 50 --ybins 50\n",
      "/home/qw817/rivet/rivet_console /home/qw817/Desktop/Lung_TDA_application/x_pc/pc_0580.txt /home/qw817/Desktop/Lung_TDA_application/x_rivet50/x_pc0580.rivet --xbins 50 --ybins 50\n",
      "/home/qw817/rivet/rivet_console /home/qw817/Desktop/Lung_TDA_application/x_pc/pc_0187.txt /home/qw817/Desktop/Lung_TDA_application/x_rivet50/x_pc0187.rivet --xbins 50 --ybins 50\n",
      "/home/qw817/rivet/rivet_console /home/qw817/Desktop/Lung_TDA_application/x_pc/pc_0268.txt /home/qw817/Desktop/Lung_TDA_application/x_rivet50/x_pc0268.rivet --xbins 50 --ybins 50\n",
      "/home/qw817/rivet/rivet_console /home/qw817/Desktop/Lung_TDA_application/x_pc/pc_0264.txt /home/qw817/Desktop/Lung_TDA_application/x_rivet50/x_pc0264.rivet --xbins 50 --ybins 50\n",
      "/home/qw817/rivet/rivet_console /home/qw817/Desktop/Lung_TDA_application/x_pc/pc_0149.txt /home/qw817/Desktop/Lung_TDA_application/x_rivet50/x_pc0149.rivet --xbins 50 --ybins 50\n",
      "/home/qw817/rivet/rivet_console /home/qw817/Desktop/Lung_TDA_application/x_pc/pc_0221.txt /home/qw817/Desktop/Lung_TDA_application/x_rivet50/x_pc0221.rivet --xbins 50 --ybins 50\n",
      "/home/qw817/rivet/rivet_console /home/qw817/Desktop/Lung_TDA_application/x_pc/pc_0220.txt /home/qw817/Desktop/Lung_TDA_application/x_rivet50/x_pc0220.rivet --xbins 50 --ybins 50\n",
      "/home/qw817/rivet/rivet_console /home/qw817/Desktop/Lung_TDA_application/x_pc/pc_0811.txt /home/qw817/Desktop/Lung_TDA_application/x_rivet50/x_pc0811.rivet --xbins 50 --ybins 50\n",
      "/home/qw817/rivet/rivet_console /home/qw817/Desktop/Lung_TDA_application/x_pc/pc_0173.txt /home/qw817/Desktop/Lung_TDA_application/x_rivet50/x_pc0173.rivet --xbins 50 --ybins 50\n",
      "/home/qw817/rivet/rivet_console /home/qw817/Desktop/Lung_TDA_application/x_pc/pc_0203.txt /home/qw817/Desktop/Lung_TDA_application/x_rivet50/x_pc0203.rivet --xbins 50 --ybins 50\n",
      "/home/qw817/rivet/rivet_console /home/qw817/Desktop/Lung_TDA_application/x_pc/pc_0272.txt /home/qw817/Desktop/Lung_TDA_application/x_rivet50/x_pc0272.rivet --xbins 50 --ybins 50\n",
      "/home/qw817/rivet/rivet_console /home/qw817/Desktop/Lung_TDA_application/x_pc/pc_0314.txt /home/qw817/Desktop/Lung_TDA_application/x_rivet50/x_pc0314.rivet --xbins 50 --ybins 50\n",
      "/home/qw817/rivet/rivet_console /home/qw817/Desktop/Lung_TDA_application/x_pc/pc_0275.txt /home/qw817/Desktop/Lung_TDA_application/x_rivet50/x_pc0275.rivet --xbins 50 --ybins 50\n",
      "/home/qw817/rivet/rivet_console /home/qw817/Desktop/Lung_TDA_application/x_pc/pc_0288.txt /home/qw817/Desktop/Lung_TDA_application/x_rivet50/x_pc0288.rivet --xbins 50 --ybins 50\n",
      "/home/qw817/rivet/rivet_console /home/qw817/Desktop/Lung_TDA_application/x_pc/pc_0222.txt /home/qw817/Desktop/Lung_TDA_application/x_rivet50/x_pc0222.rivet --xbins 50 --ybins 50\n",
      "/home/qw817/rivet/rivet_console /home/qw817/Desktop/Lung_TDA_application/x_pc/pc_0965.txt /home/qw817/Desktop/Lung_TDA_application/x_rivet50/x_pc0965.rivet --xbins 50 --ybins 50\n",
      "/home/qw817/rivet/rivet_console /home/qw817/Desktop/Lung_TDA_application/x_pc/pc_0176.txt /home/qw817/Desktop/Lung_TDA_application/x_rivet50/x_pc0176.rivet --xbins 50 --ybins 50\n",
      "/home/qw817/rivet/rivet_console /home/qw817/Desktop/Lung_TDA_application/x_pc/pc_0237.txt /home/qw817/Desktop/Lung_TDA_application/x_rivet50/x_pc0237.rivet --xbins 50 --ybins 50\n",
      "/home/qw817/rivet/rivet_console /home/qw817/Desktop/Lung_TDA_application/x_pc/pc_0190.txt /home/qw817/Desktop/Lung_TDA_application/x_rivet50/x_pc0190.rivet --xbins 50 --ybins 50\n",
      "/home/qw817/rivet/rivet_console /home/qw817/Desktop/Lung_TDA_application/x_pc/pc_0250.txt /home/qw817/Desktop/Lung_TDA_application/x_rivet50/x_pc0250.rivet --xbins 50 --ybins 50\n",
      "/home/qw817/rivet/rivet_console /home/qw817/Desktop/Lung_TDA_application/x_pc/pc_1010.txt /home/qw817/Desktop/Lung_TDA_application/x_rivet50/x_pc1010.rivet --xbins 50 --ybins 50\n",
      "/home/qw817/rivet/rivet_console /home/qw817/Desktop/Lung_TDA_application/x_pc/pc_0191.txt /home/qw817/Desktop/Lung_TDA_application/x_rivet50/x_pc0191.rivet --xbins 50 --ybins 50\n",
      "/home/qw817/rivet/rivet_console /home/qw817/Desktop/Lung_TDA_application/x_pc/pc_0138.txt /home/qw817/Desktop/Lung_TDA_application/x_rivet50/x_pc0138.rivet --xbins 50 --ybins 50\n",
      "/home/qw817/rivet/rivet_console /home/qw817/Desktop/Lung_TDA_application/x_pc/pc_0543.txt /home/qw817/Desktop/Lung_TDA_application/x_rivet50/x_pc0543.rivet --xbins 50 --ybins 50\n",
      "/home/qw817/rivet/rivet_console /home/qw817/Desktop/Lung_TDA_application/x_pc/pc_0185.txt /home/qw817/Desktop/Lung_TDA_application/x_rivet50/x_pc0185.rivet --xbins 50 --ybins 50\n",
      "/home/qw817/rivet/rivet_console /home/qw817/Desktop/Lung_TDA_application/x_pc/pc_0559.txt /home/qw817/Desktop/Lung_TDA_application/x_rivet50/x_pc0559.rivet --xbins 50 --ybins 50\n",
      "/home/qw817/rivet/rivet_console /home/qw817/Desktop/Lung_TDA_application/x_pc/pc_0246.txt /home/qw817/Desktop/Lung_TDA_application/x_rivet50/x_pc0246.rivet --xbins 50 --ybins 50\n",
      "/home/qw817/rivet/rivet_console /home/qw817/Desktop/Lung_TDA_application/x_pc/pc_0165.txt /home/qw817/Desktop/Lung_TDA_application/x_rivet50/x_pc0165.rivet --xbins 50 --ybins 50\n",
      "/home/qw817/rivet/rivet_console /home/qw817/Desktop/Lung_TDA_application/x_pc/pc_0277.txt /home/qw817/Desktop/Lung_TDA_application/x_rivet50/x_pc0277.rivet --xbins 50 --ybins 50\n",
      "/home/qw817/rivet/rivet_console /home/qw817/Desktop/Lung_TDA_application/x_pc/pc_0183.txt /home/qw817/Desktop/Lung_TDA_application/x_rivet50/x_pc0183.rivet --xbins 50 --ybins 50\n",
      "/home/qw817/rivet/rivet_console /home/qw817/Desktop/Lung_TDA_application/x_pc/pc_0163.txt /home/qw817/Desktop/Lung_TDA_application/x_rivet50/x_pc0163.rivet --xbins 50 --ybins 50\n",
      "/home/qw817/rivet/rivet_console /home/qw817/Desktop/Lung_TDA_application/x_pc/pc_0285.txt /home/qw817/Desktop/Lung_TDA_application/x_rivet50/x_pc0285.rivet --xbins 50 --ybins 50\n",
      "/home/qw817/rivet/rivet_console /home/qw817/Desktop/Lung_TDA_application/x_pc/pc_0921.txt /home/qw817/Desktop/Lung_TDA_application/x_rivet50/x_pc0921.rivet --xbins 50 --ybins 50\n",
      "/home/qw817/rivet/rivet_console /home/qw817/Desktop/Lung_TDA_application/x_pc/pc_0265.txt /home/qw817/Desktop/Lung_TDA_application/x_rivet50/x_pc0265.rivet --xbins 50 --ybins 50\n",
      "/home/qw817/rivet/rivet_console /home/qw817/Desktop/Lung_TDA_application/x_pc/pc_0162.txt /home/qw817/Desktop/Lung_TDA_application/x_rivet50/x_pc0162.rivet --xbins 50 --ybins 50\n",
      "/home/qw817/rivet/rivet_console /home/qw817/Desktop/Lung_TDA_application/x_pc/pc_0166.txt /home/qw817/Desktop/Lung_TDA_application/x_rivet50/x_pc0166.rivet --xbins 50 --ybins 50\n",
      "/home/qw817/rivet/rivet_console /home/qw817/Desktop/Lung_TDA_application/x_pc/pc_0198.txt /home/qw817/Desktop/Lung_TDA_application/x_rivet50/x_pc0198.rivet --xbins 50 --ybins 50\n",
      "/home/qw817/rivet/rivet_console /home/qw817/Desktop/Lung_TDA_application/x_pc/pc_0242.txt /home/qw817/Desktop/Lung_TDA_application/x_rivet50/x_pc0242.rivet --xbins 50 --ybins 50\n",
      "/home/qw817/rivet/rivet_console /home/qw817/Desktop/Lung_TDA_application/x_pc/pc_0274.txt /home/qw817/Desktop/Lung_TDA_application/x_rivet50/x_pc0274.rivet --xbins 50 --ybins 50\n",
      "/home/qw817/rivet/rivet_console /home/qw817/Desktop/Lung_TDA_application/x_pc/pc_0233.txt /home/qw817/Desktop/Lung_TDA_application/x_rivet50/x_pc0233.rivet --xbins 50 --ybins 50\n",
      "/home/qw817/rivet/rivet_console /home/qw817/Desktop/Lung_TDA_application/x_pc/pc_0068.txt /home/qw817/Desktop/Lung_TDA_application/x_rivet50/x_pc0068.rivet --xbins 50 --ybins 50\n",
      "/home/qw817/rivet/rivet_console /home/qw817/Desktop/Lung_TDA_application/x_pc/pc_0193.txt /home/qw817/Desktop/Lung_TDA_application/x_rivet50/x_pc0193.rivet --xbins 50 --ybins 50\n",
      "/home/qw817/rivet/rivet_console /home/qw817/Desktop/Lung_TDA_application/x_pc/pc_0280.txt /home/qw817/Desktop/Lung_TDA_application/x_rivet50/x_pc0280.rivet --xbins 50 --ybins 50\n",
      "/home/qw817/rivet/rivet_console /home/qw817/Desktop/Lung_TDA_application/x_pc/pc_0207.txt /home/qw817/Desktop/Lung_TDA_application/x_rivet50/x_pc0207.rivet --xbins 50 --ybins 50\n",
      "/home/qw817/rivet/rivet_console /home/qw817/Desktop/Lung_TDA_application/x_pc/pc_0286.txt /home/qw817/Desktop/Lung_TDA_application/x_rivet50/x_pc0286.rivet --xbins 50 --ybins 50\n",
      "/home/qw817/rivet/rivet_console /home/qw817/Desktop/Lung_TDA_application/x_pc/pc_1004.txt /home/qw817/Desktop/Lung_TDA_application/x_rivet50/x_pc1004.rivet --xbins 50 --ybins 50\n",
      "/home/qw817/rivet/rivet_console /home/qw817/Desktop/Lung_TDA_application/x_pc/pc_0234.txt /home/qw817/Desktop/Lung_TDA_application/x_rivet50/x_pc0234.rivet --xbins 50 --ybins 50\n",
      "/home/qw817/rivet/rivet_console /home/qw817/Desktop/Lung_TDA_application/x_pc/pc_1011.txt /home/qw817/Desktop/Lung_TDA_application/x_rivet50/x_pc1011.rivet --xbins 50 --ybins 50\n",
      "/home/qw817/rivet/rivet_console /home/qw817/Desktop/Lung_TDA_application/x_pc/pc_0235.txt /home/qw817/Desktop/Lung_TDA_application/x_rivet50/x_pc0235.rivet --xbins 50 --ybins 50\n",
      "/home/qw817/rivet/rivet_console /home/qw817/Desktop/Lung_TDA_application/x_pc/pc_0610.txt /home/qw817/Desktop/Lung_TDA_application/x_rivet50/x_pc0610.rivet --xbins 50 --ybins 50\n",
      "/home/qw817/rivet/rivet_console /home/qw817/Desktop/Lung_TDA_application/x_pc/pc_0255.txt /home/qw817/Desktop/Lung_TDA_application/x_rivet50/x_pc0255.rivet --xbins 50 --ybins 50\n",
      "/home/qw817/rivet/rivet_console /home/qw817/Desktop/Lung_TDA_application/x_pc/pc_0249.txt /home/qw817/Desktop/Lung_TDA_application/x_rivet50/x_pc0249.rivet --xbins 50 --ybins 50\n",
      "/home/qw817/rivet/rivet_console /home/qw817/Desktop/Lung_TDA_application/x_pc/pc_0171.txt /home/qw817/Desktop/Lung_TDA_application/x_rivet50/x_pc0171.rivet --xbins 50 --ybins 50\n",
      "/home/qw817/rivet/rivet_console /home/qw817/Desktop/Lung_TDA_application/x_pc/pc_0231.txt /home/qw817/Desktop/Lung_TDA_application/x_rivet50/x_pc0231.rivet --xbins 50 --ybins 50\n",
      "/home/qw817/rivet/rivet_console /home/qw817/Desktop/Lung_TDA_application/x_pc/pc_0939.txt /home/qw817/Desktop/Lung_TDA_application/x_rivet50/x_pc0939.rivet --xbins 50 --ybins 50\n",
      "/home/qw817/rivet/rivet_console /home/qw817/Desktop/Lung_TDA_application/x_pc/pc_0213.txt /home/qw817/Desktop/Lung_TDA_application/x_rivet50/x_pc0213.rivet --xbins 50 --ybins 50\n",
      "/home/qw817/rivet/rivet_console /home/qw817/Desktop/Lung_TDA_application/x_pc/pc_0243.txt /home/qw817/Desktop/Lung_TDA_application/x_rivet50/x_pc0243.rivet --xbins 50 --ybins 50\n",
      "/home/qw817/rivet/rivet_console /home/qw817/Desktop/Lung_TDA_application/x_pc/pc_0245.txt /home/qw817/Desktop/Lung_TDA_application/x_rivet50/x_pc0245.rivet --xbins 50 --ybins 50\n",
      "/home/qw817/rivet/rivet_console /home/qw817/Desktop/Lung_TDA_application/x_pc/pc_0289.txt /home/qw817/Desktop/Lung_TDA_application/x_rivet50/x_pc0289.rivet --xbins 50 --ybins 50\n",
      "/home/qw817/rivet/rivet_console /home/qw817/Desktop/Lung_TDA_application/x_pc/pc_0252.txt /home/qw817/Desktop/Lung_TDA_application/x_rivet50/x_pc0252.rivet --xbins 50 --ybins 50\n",
      "/home/qw817/rivet/rivet_console /home/qw817/Desktop/Lung_TDA_application/x_pc/pc_0230.txt /home/qw817/Desktop/Lung_TDA_application/x_rivet50/x_pc0230.rivet --xbins 50 --ybins 50\n",
      "/home/qw817/rivet/rivet_console /home/qw817/Desktop/Lung_TDA_application/x_pc/pc_0266.txt /home/qw817/Desktop/Lung_TDA_application/x_rivet50/x_pc0266.rivet --xbins 50 --ybins 50\n",
      "/home/qw817/rivet/rivet_console /home/qw817/Desktop/Lung_TDA_application/x_pc/pc_0129.txt /home/qw817/Desktop/Lung_TDA_application/x_rivet50/x_pc0129.rivet --xbins 50 --ybins 50\n",
      "/home/qw817/rivet/rivet_console /home/qw817/Desktop/Lung_TDA_application/x_pc/pc_0818.txt /home/qw817/Desktop/Lung_TDA_application/x_rivet50/x_pc0818.rivet --xbins 50 --ybins 50\n",
      "/home/qw817/rivet/rivet_console /home/qw817/Desktop/Lung_TDA_application/x_pc/pc_1002.txt /home/qw817/Desktop/Lung_TDA_application/x_rivet50/x_pc1002.rivet --xbins 50 --ybins 50\n",
      "/home/qw817/rivet/rivet_console /home/qw817/Desktop/Lung_TDA_application/x_pc/pc_0236.txt /home/qw817/Desktop/Lung_TDA_application/x_rivet50/x_pc0236.rivet --xbins 50 --ybins 50\n",
      "/home/qw817/rivet/rivet_console /home/qw817/Desktop/Lung_TDA_application/x_pc/pc_0192.txt /home/qw817/Desktop/Lung_TDA_application/x_rivet50/x_pc0192.rivet --xbins 50 --ybins 50\n",
      "/home/qw817/rivet/rivet_console /home/qw817/Desktop/Lung_TDA_application/x_pc/pc_0182.txt /home/qw817/Desktop/Lung_TDA_application/x_rivet50/x_pc0182.rivet --xbins 50 --ybins 50\n",
      "/home/qw817/rivet/rivet_console /home/qw817/Desktop/Lung_TDA_application/x_pc/pc_0194.txt /home/qw817/Desktop/Lung_TDA_application/x_rivet50/x_pc0194.rivet --xbins 50 --ybins 50\n",
      "/home/qw817/rivet/rivet_console /home/qw817/Desktop/Lung_TDA_application/x_pc/pc_0181.txt /home/qw817/Desktop/Lung_TDA_application/x_rivet50/x_pc0181.rivet --xbins 50 --ybins 50\n",
      "/home/qw817/rivet/rivet_console /home/qw817/Desktop/Lung_TDA_application/x_pc/pc_0211.txt /home/qw817/Desktop/Lung_TDA_application/x_rivet50/x_pc0211.rivet --xbins 50 --ybins 50\n",
      "/home/qw817/rivet/rivet_console /home/qw817/Desktop/Lung_TDA_application/x_pc/pc_0270.txt /home/qw817/Desktop/Lung_TDA_application/x_rivet50/x_pc0270.rivet --xbins 50 --ybins 50\n",
      "/home/qw817/rivet/rivet_console /home/qw817/Desktop/Lung_TDA_application/x_pc/pc_0175.txt /home/qw817/Desktop/Lung_TDA_application/x_rivet50/x_pc0175.rivet --xbins 50 --ybins 50\n",
      "/home/qw817/rivet/rivet_console /home/qw817/Desktop/Lung_TDA_application/x_pc/pc_0164.txt /home/qw817/Desktop/Lung_TDA_application/x_rivet50/x_pc0164.rivet --xbins 50 --ybins 50\n",
      "/home/qw817/rivet/rivet_console /home/qw817/Desktop/Lung_TDA_application/x_pc/pc_0251.txt /home/qw817/Desktop/Lung_TDA_application/x_rivet50/x_pc0251.rivet --xbins 50 --ybins 50\n",
      "/home/qw817/rivet/rivet_console /home/qw817/Desktop/Lung_TDA_application/x_pc/pc_0282.txt /home/qw817/Desktop/Lung_TDA_application/x_rivet50/x_pc0282.rivet --xbins 50 --ybins 50\n",
      "/home/qw817/rivet/rivet_console /home/qw817/Desktop/Lung_TDA_application/x_pc/pc_0470.txt /home/qw817/Desktop/Lung_TDA_application/x_rivet50/x_pc0470.rivet --xbins 50 --ybins 50\n",
      "/home/qw817/rivet/rivet_console /home/qw817/Desktop/Lung_TDA_application/x_pc/pc_0118.txt /home/qw817/Desktop/Lung_TDA_application/x_rivet50/x_pc0118.rivet --xbins 50 --ybins 50\n",
      "/home/qw817/rivet/rivet_console /home/qw817/Desktop/Lung_TDA_application/x_pc/pc_0260.txt /home/qw817/Desktop/Lung_TDA_application/x_rivet50/x_pc0260.rivet --xbins 50 --ybins 50\n",
      "/home/qw817/rivet/rivet_console /home/qw817/Desktop/Lung_TDA_application/x_pc/pc_0332.txt /home/qw817/Desktop/Lung_TDA_application/x_rivet50/x_pc0332.rivet --xbins 50 --ybins 50\n",
      "/home/qw817/rivet/rivet_console /home/qw817/Desktop/Lung_TDA_application/x_pc/pc_0161.txt /home/qw817/Desktop/Lung_TDA_application/x_rivet50/x_pc0161.rivet --xbins 50 --ybins 50\n",
      "/home/qw817/rivet/rivet_console /home/qw817/Desktop/Lung_TDA_application/x_pc/pc_0169.txt /home/qw817/Desktop/Lung_TDA_application/x_rivet50/x_pc0169.rivet --xbins 50 --ybins 50\n",
      "/home/qw817/rivet/rivet_console /home/qw817/Desktop/Lung_TDA_application/x_pc/pc_0771.txt /home/qw817/Desktop/Lung_TDA_application/x_rivet50/x_pc0771.rivet --xbins 50 --ybins 50\n",
      "/home/qw817/rivet/rivet_console /home/qw817/Desktop/Lung_TDA_application/y_pc/pc_0405.txt /home/qw817/Desktop/Lung_TDA_application/y_rivet50/y_pc0405.rivet --xbins 50 --ybins 50\n",
      "/home/qw817/rivet/rivet_console /home/qw817/Desktop/Lung_TDA_application/y_pc/pc_0223.txt /home/qw817/Desktop/Lung_TDA_application/y_rivet50/y_pc0223.rivet --xbins 50 --ybins 50\n",
      "/home/qw817/rivet/rivet_console /home/qw817/Desktop/Lung_TDA_application/y_pc/pc_0624.txt /home/qw817/Desktop/Lung_TDA_application/y_rivet50/y_pc0624.rivet --xbins 50 --ybins 50\n",
      "/home/qw817/rivet/rivet_console /home/qw817/Desktop/Lung_TDA_application/y_pc/pc_0377.txt /home/qw817/Desktop/Lung_TDA_application/y_rivet50/y_pc0377.rivet --xbins 50 --ybins 50\n",
      "/home/qw817/rivet/rivet_console /home/qw817/Desktop/Lung_TDA_application/y_pc/pc_0290.txt /home/qw817/Desktop/Lung_TDA_application/y_rivet50/y_pc0290.rivet --xbins 50 --ybins 50\n",
      "/home/qw817/rivet/rivet_console /home/qw817/Desktop/Lung_TDA_application/y_pc/pc_0766.txt /home/qw817/Desktop/Lung_TDA_application/y_rivet50/y_pc0766.rivet --xbins 50 --ybins 50\n",
      "/home/qw817/rivet/rivet_console /home/qw817/Desktop/Lung_TDA_application/y_pc/pc_0994.txt /home/qw817/Desktop/Lung_TDA_application/y_rivet50/y_pc0994.rivet --xbins 50 --ybins 50\n",
      "/home/qw817/rivet/rivet_console /home/qw817/Desktop/Lung_TDA_application/y_pc/pc_0772.txt /home/qw817/Desktop/Lung_TDA_application/y_rivet50/y_pc0772.rivet --xbins 50 --ybins 50\n",
      "/home/qw817/rivet/rivet_console /home/qw817/Desktop/Lung_TDA_application/y_pc/pc_0217.txt /home/qw817/Desktop/Lung_TDA_application/y_rivet50/y_pc0217.rivet --xbins 50 --ybins 50\n",
      "/home/qw817/rivet/rivet_console /home/qw817/Desktop/Lung_TDA_application/y_pc/pc_0276.txt /home/qw817/Desktop/Lung_TDA_application/y_rivet50/y_pc0276.rivet --xbins 50 --ybins 50\n",
      "/home/qw817/rivet/rivet_console /home/qw817/Desktop/Lung_TDA_application/y_pc/pc_0167.txt /home/qw817/Desktop/Lung_TDA_application/y_rivet50/y_pc0167.rivet --xbins 50 --ybins 50\n",
      "/home/qw817/rivet/rivet_console /home/qw817/Desktop/Lung_TDA_application/y_pc/pc_0576.txt /home/qw817/Desktop/Lung_TDA_application/y_rivet50/y_pc0576.rivet --xbins 50 --ybins 50\n",
      "/home/qw817/rivet/rivet_console /home/qw817/Desktop/Lung_TDA_application/y_pc/pc_0875.txt /home/qw817/Desktop/Lung_TDA_application/y_rivet50/y_pc0875.rivet --xbins 50 --ybins 50\n",
      "/home/qw817/rivet/rivet_console /home/qw817/Desktop/Lung_TDA_application/y_pc/pc_0179.txt /home/qw817/Desktop/Lung_TDA_application/y_rivet50/y_pc0179.rivet --xbins 50 --ybins 50\n",
      "/home/qw817/rivet/rivet_console /home/qw817/Desktop/Lung_TDA_application/y_pc/pc_0180.txt /home/qw817/Desktop/Lung_TDA_application/y_rivet50/y_pc0180.rivet --xbins 50 --ybins 50\n",
      "/home/qw817/rivet/rivet_console /home/qw817/Desktop/Lung_TDA_application/y_pc/pc_0159.txt /home/qw817/Desktop/Lung_TDA_application/y_rivet50/y_pc0159.rivet --xbins 50 --ybins 50\n",
      "/home/qw817/rivet/rivet_console /home/qw817/Desktop/Lung_TDA_application/y_pc/pc_0493.txt /home/qw817/Desktop/Lung_TDA_application/y_rivet50/y_pc0493.rivet --xbins 50 --ybins 50\n",
      "/home/qw817/rivet/rivet_console /home/qw817/Desktop/Lung_TDA_application/y_pc/pc_0281.txt /home/qw817/Desktop/Lung_TDA_application/y_rivet50/y_pc0281.rivet --xbins 50 --ybins 50\n",
      "/home/qw817/rivet/rivet_console /home/qw817/Desktop/Lung_TDA_application/y_pc/pc_0091.txt /home/qw817/Desktop/Lung_TDA_application/y_rivet50/y_pc0091.rivet --xbins 50 --ybins 50\n",
      "/home/qw817/rivet/rivet_console /home/qw817/Desktop/Lung_TDA_application/y_pc/pc_0287.txt /home/qw817/Desktop/Lung_TDA_application/y_rivet50/y_pc0287.rivet --xbins 50 --ybins 50\n",
      "/home/qw817/rivet/rivet_console /home/qw817/Desktop/Lung_TDA_application/y_pc/pc_0522.txt /home/qw817/Desktop/Lung_TDA_application/y_rivet50/y_pc0522.rivet --xbins 50 --ybins 50\n",
      "/home/qw817/rivet/rivet_console /home/qw817/Desktop/Lung_TDA_application/y_pc/pc_0399.txt /home/qw817/Desktop/Lung_TDA_application/y_rivet50/y_pc0399.rivet --xbins 50 --ybins 50\n",
      "/home/qw817/rivet/rivet_console /home/qw817/Desktop/Lung_TDA_application/y_pc/pc_0210.txt /home/qw817/Desktop/Lung_TDA_application/y_rivet50/y_pc0210.rivet --xbins 50 --ybins 50\n",
      "/home/qw817/rivet/rivet_console /home/qw817/Desktop/Lung_TDA_application/y_pc/pc_0248.txt /home/qw817/Desktop/Lung_TDA_application/y_rivet50/y_pc0248.rivet --xbins 50 --ybins 50\n",
      "/home/qw817/rivet/rivet_console /home/qw817/Desktop/Lung_TDA_application/y_pc/pc_0212.txt /home/qw817/Desktop/Lung_TDA_application/y_rivet50/y_pc0212.rivet --xbins 50 --ybins 50\n",
      "/home/qw817/rivet/rivet_console /home/qw817/Desktop/Lung_TDA_application/y_pc/pc_0257.txt /home/qw817/Desktop/Lung_TDA_application/y_rivet50/y_pc0257.rivet --xbins 50 --ybins 50\n",
      "/home/qw817/rivet/rivet_console /home/qw817/Desktop/Lung_TDA_application/y_pc/pc_0271.txt /home/qw817/Desktop/Lung_TDA_application/y_rivet50/y_pc0271.rivet --xbins 50 --ybins 50\n",
      "/home/qw817/rivet/rivet_console /home/qw817/Desktop/Lung_TDA_application/y_pc/pc_0186.txt /home/qw817/Desktop/Lung_TDA_application/y_rivet50/y_pc0186.rivet --xbins 50 --ybins 50\n",
      "/home/qw817/rivet/rivet_console /home/qw817/Desktop/Lung_TDA_application/y_pc/pc_0137.txt /home/qw817/Desktop/Lung_TDA_application/y_rivet50/y_pc0137.rivet --xbins 50 --ybins 50\n",
      "/home/qw817/rivet/rivet_console /home/qw817/Desktop/Lung_TDA_application/y_pc/pc_0088.txt /home/qw817/Desktop/Lung_TDA_application/y_rivet50/y_pc0088.rivet --xbins 50 --ybins 50\n",
      "/home/qw817/rivet/rivet_console /home/qw817/Desktop/Lung_TDA_application/y_pc/pc_0168.txt /home/qw817/Desktop/Lung_TDA_application/y_rivet50/y_pc0168.rivet --xbins 50 --ybins 50\n",
      "/home/qw817/rivet/rivet_console /home/qw817/Desktop/Lung_TDA_application/y_pc/pc_0454.txt /home/qw817/Desktop/Lung_TDA_application/y_rivet50/y_pc0454.rivet --xbins 50 --ybins 50\n",
      "/home/qw817/rivet/rivet_console /home/qw817/Desktop/Lung_TDA_application/y_pc/pc_0072.txt /home/qw817/Desktop/Lung_TDA_application/y_rivet50/y_pc0072.rivet --xbins 50 --ybins 50\n",
      "/home/qw817/rivet/rivet_console /home/qw817/Desktop/Lung_TDA_application/y_pc/pc_0256.txt /home/qw817/Desktop/Lung_TDA_application/y_rivet50/y_pc0256.rivet --xbins 50 --ybins 50\n",
      "/home/qw817/rivet/rivet_console /home/qw817/Desktop/Lung_TDA_application/y_pc/pc_0188.txt /home/qw817/Desktop/Lung_TDA_application/y_rivet50/y_pc0188.rivet --xbins 50 --ybins 50\n",
      "/home/qw817/rivet/rivet_console /home/qw817/Desktop/Lung_TDA_application/y_pc/pc_0905.txt /home/qw817/Desktop/Lung_TDA_application/y_rivet50/y_pc0905.rivet --xbins 50 --ybins 50\n",
      "/home/qw817/rivet/rivet_console /home/qw817/Desktop/Lung_TDA_application/y_pc/pc_0924.txt /home/qw817/Desktop/Lung_TDA_application/y_rivet50/y_pc0924.rivet --xbins 50 --ybins 50\n",
      "/home/qw817/rivet/rivet_console /home/qw817/Desktop/Lung_TDA_application/y_pc/pc_0385.txt /home/qw817/Desktop/Lung_TDA_application/y_rivet50/y_pc0385.rivet --xbins 50 --ybins 50\n",
      "/home/qw817/rivet/rivet_console /home/qw817/Desktop/Lung_TDA_application/y_pc/pc_0283.txt /home/qw817/Desktop/Lung_TDA_application/y_rivet50/y_pc0283.rivet --xbins 50 --ybins 50\n",
      "/home/qw817/rivet/rivet_console /home/qw817/Desktop/Lung_TDA_application/y_pc/pc_0135.txt /home/qw817/Desktop/Lung_TDA_application/y_rivet50/y_pc0135.rivet --xbins 50 --ybins 50\n",
      "/home/qw817/rivet/rivet_console /home/qw817/Desktop/Lung_TDA_application/y_pc/pc_0267.txt /home/qw817/Desktop/Lung_TDA_application/y_rivet50/y_pc0267.rivet --xbins 50 --ybins 50\n",
      "/home/qw817/rivet/rivet_console /home/qw817/Desktop/Lung_TDA_application/y_pc/pc_0254.txt /home/qw817/Desktop/Lung_TDA_application/y_rivet50/y_pc0254.rivet --xbins 50 --ybins 50\n",
      "/home/qw817/rivet/rivet_console /home/qw817/Desktop/Lung_TDA_application/y_pc/pc_0562.txt /home/qw817/Desktop/Lung_TDA_application/y_rivet50/y_pc0562.rivet --xbins 50 --ybins 50\n",
      "/home/qw817/rivet/rivet_console /home/qw817/Desktop/Lung_TDA_application/y_pc/pc_0232.txt /home/qw817/Desktop/Lung_TDA_application/y_rivet50/y_pc0232.rivet --xbins 50 --ybins 50\n",
      "/home/qw817/rivet/rivet_console /home/qw817/Desktop/Lung_TDA_application/y_pc/pc_0244.txt /home/qw817/Desktop/Lung_TDA_application/y_rivet50/y_pc0244.rivet --xbins 50 --ybins 50\n",
      "/home/qw817/rivet/rivet_console /home/qw817/Desktop/Lung_TDA_application/y_pc/pc_0510.txt /home/qw817/Desktop/Lung_TDA_application/y_rivet50/y_pc0510.rivet --xbins 50 --ybins 50\n",
      "/home/qw817/rivet/rivet_console /home/qw817/Desktop/Lung_TDA_application/y_pc/pc_0273.txt /home/qw817/Desktop/Lung_TDA_application/y_rivet50/y_pc0273.rivet --xbins 50 --ybins 50\n",
      "/home/qw817/rivet/rivet_console /home/qw817/Desktop/Lung_TDA_application/y_pc/pc_0090.txt /home/qw817/Desktop/Lung_TDA_application/y_rivet50/y_pc0090.rivet --xbins 50 --ybins 50\n",
      "/home/qw817/rivet/rivet_console /home/qw817/Desktop/Lung_TDA_application/y_pc/pc_0325.txt /home/qw817/Desktop/Lung_TDA_application/y_rivet50/y_pc0325.rivet --xbins 50 --ybins 50\n",
      "/home/qw817/rivet/rivet_console /home/qw817/Desktop/Lung_TDA_application/y_pc/pc_0202.txt /home/qw817/Desktop/Lung_TDA_application/y_rivet50/y_pc0202.rivet --xbins 50 --ybins 50\n",
      "/home/qw817/rivet/rivet_console /home/qw817/Desktop/Lung_TDA_application/y_pc/pc_0278.txt /home/qw817/Desktop/Lung_TDA_application/y_rivet50/y_pc0278.rivet --xbins 50 --ybins 50\n",
      "/home/qw817/rivet/rivet_console /home/qw817/Desktop/Lung_TDA_application/y_pc/pc_0568.txt /home/qw817/Desktop/Lung_TDA_application/y_rivet50/y_pc0568.rivet --xbins 50 --ybins 50\n",
      "/home/qw817/rivet/rivet_console /home/qw817/Desktop/Lung_TDA_application/y_pc/pc_0184.txt /home/qw817/Desktop/Lung_TDA_application/y_rivet50/y_pc0184.rivet --xbins 50 --ybins 50\n",
      "/home/qw817/rivet/rivet_console /home/qw817/Desktop/Lung_TDA_application/y_pc/pc_0124.txt /home/qw817/Desktop/Lung_TDA_application/y_rivet50/y_pc0124.rivet --xbins 50 --ybins 50\n",
      "/home/qw817/rivet/rivet_console /home/qw817/Desktop/Lung_TDA_application/y_pc/pc_0258.txt /home/qw817/Desktop/Lung_TDA_application/y_rivet50/y_pc0258.rivet --xbins 50 --ybins 50\n",
      "/home/qw817/rivet/rivet_console /home/qw817/Desktop/Lung_TDA_application/y_pc/pc_0893.txt /home/qw817/Desktop/Lung_TDA_application/y_rivet50/y_pc0893.rivet --xbins 50 --ybins 50\n",
      "/home/qw817/rivet/rivet_console /home/qw817/Desktop/Lung_TDA_application/y_pc/pc_0580.txt /home/qw817/Desktop/Lung_TDA_application/y_rivet50/y_pc0580.rivet --xbins 50 --ybins 50\n",
      "/home/qw817/rivet/rivet_console /home/qw817/Desktop/Lung_TDA_application/y_pc/pc_0187.txt /home/qw817/Desktop/Lung_TDA_application/y_rivet50/y_pc0187.rivet --xbins 50 --ybins 50\n",
      "/home/qw817/rivet/rivet_console /home/qw817/Desktop/Lung_TDA_application/y_pc/pc_0268.txt /home/qw817/Desktop/Lung_TDA_application/y_rivet50/y_pc0268.rivet --xbins 50 --ybins 50\n",
      "/home/qw817/rivet/rivet_console /home/qw817/Desktop/Lung_TDA_application/y_pc/pc_0264.txt /home/qw817/Desktop/Lung_TDA_application/y_rivet50/y_pc0264.rivet --xbins 50 --ybins 50\n",
      "/home/qw817/rivet/rivet_console /home/qw817/Desktop/Lung_TDA_application/y_pc/pc_0149.txt /home/qw817/Desktop/Lung_TDA_application/y_rivet50/y_pc0149.rivet --xbins 50 --ybins 50\n",
      "/home/qw817/rivet/rivet_console /home/qw817/Desktop/Lung_TDA_application/y_pc/pc_0221.txt /home/qw817/Desktop/Lung_TDA_application/y_rivet50/y_pc0221.rivet --xbins 50 --ybins 50\n",
      "/home/qw817/rivet/rivet_console /home/qw817/Desktop/Lung_TDA_application/y_pc/pc_0220.txt /home/qw817/Desktop/Lung_TDA_application/y_rivet50/y_pc0220.rivet --xbins 50 --ybins 50\n",
      "/home/qw817/rivet/rivet_console /home/qw817/Desktop/Lung_TDA_application/y_pc/pc_0811.txt /home/qw817/Desktop/Lung_TDA_application/y_rivet50/y_pc0811.rivet --xbins 50 --ybins 50\n",
      "/home/qw817/rivet/rivet_console /home/qw817/Desktop/Lung_TDA_application/y_pc/pc_0173.txt /home/qw817/Desktop/Lung_TDA_application/y_rivet50/y_pc0173.rivet --xbins 50 --ybins 50\n",
      "/home/qw817/rivet/rivet_console /home/qw817/Desktop/Lung_TDA_application/y_pc/pc_0203.txt /home/qw817/Desktop/Lung_TDA_application/y_rivet50/y_pc0203.rivet --xbins 50 --ybins 50\n",
      "/home/qw817/rivet/rivet_console /home/qw817/Desktop/Lung_TDA_application/y_pc/pc_0272.txt /home/qw817/Desktop/Lung_TDA_application/y_rivet50/y_pc0272.rivet --xbins 50 --ybins 50\n",
      "/home/qw817/rivet/rivet_console /home/qw817/Desktop/Lung_TDA_application/y_pc/pc_0314.txt /home/qw817/Desktop/Lung_TDA_application/y_rivet50/y_pc0314.rivet --xbins 50 --ybins 50\n",
      "/home/qw817/rivet/rivet_console /home/qw817/Desktop/Lung_TDA_application/y_pc/pc_0275.txt /home/qw817/Desktop/Lung_TDA_application/y_rivet50/y_pc0275.rivet --xbins 50 --ybins 50\n",
      "/home/qw817/rivet/rivet_console /home/qw817/Desktop/Lung_TDA_application/y_pc/pc_0288.txt /home/qw817/Desktop/Lung_TDA_application/y_rivet50/y_pc0288.rivet --xbins 50 --ybins 50\n",
      "/home/qw817/rivet/rivet_console /home/qw817/Desktop/Lung_TDA_application/y_pc/pc_0222.txt /home/qw817/Desktop/Lung_TDA_application/y_rivet50/y_pc0222.rivet --xbins 50 --ybins 50\n",
      "/home/qw817/rivet/rivet_console /home/qw817/Desktop/Lung_TDA_application/y_pc/pc_0965.txt /home/qw817/Desktop/Lung_TDA_application/y_rivet50/y_pc0965.rivet --xbins 50 --ybins 50\n",
      "/home/qw817/rivet/rivet_console /home/qw817/Desktop/Lung_TDA_application/y_pc/pc_0176.txt /home/qw817/Desktop/Lung_TDA_application/y_rivet50/y_pc0176.rivet --xbins 50 --ybins 50\n",
      "/home/qw817/rivet/rivet_console /home/qw817/Desktop/Lung_TDA_application/y_pc/pc_0237.txt /home/qw817/Desktop/Lung_TDA_application/y_rivet50/y_pc0237.rivet --xbins 50 --ybins 50\n",
      "/home/qw817/rivet/rivet_console /home/qw817/Desktop/Lung_TDA_application/y_pc/pc_0190.txt /home/qw817/Desktop/Lung_TDA_application/y_rivet50/y_pc0190.rivet --xbins 50 --ybins 50\n",
      "/home/qw817/rivet/rivet_console /home/qw817/Desktop/Lung_TDA_application/y_pc/pc_0250.txt /home/qw817/Desktop/Lung_TDA_application/y_rivet50/y_pc0250.rivet --xbins 50 --ybins 50\n",
      "/home/qw817/rivet/rivet_console /home/qw817/Desktop/Lung_TDA_application/y_pc/pc_1010.txt /home/qw817/Desktop/Lung_TDA_application/y_rivet50/y_pc1010.rivet --xbins 50 --ybins 50\n",
      "/home/qw817/rivet/rivet_console /home/qw817/Desktop/Lung_TDA_application/y_pc/pc_0191.txt /home/qw817/Desktop/Lung_TDA_application/y_rivet50/y_pc0191.rivet --xbins 50 --ybins 50\n",
      "/home/qw817/rivet/rivet_console /home/qw817/Desktop/Lung_TDA_application/y_pc/pc_0138.txt /home/qw817/Desktop/Lung_TDA_application/y_rivet50/y_pc0138.rivet --xbins 50 --ybins 50\n",
      "/home/qw817/rivet/rivet_console /home/qw817/Desktop/Lung_TDA_application/y_pc/pc_0543.txt /home/qw817/Desktop/Lung_TDA_application/y_rivet50/y_pc0543.rivet --xbins 50 --ybins 50\n",
      "/home/qw817/rivet/rivet_console /home/qw817/Desktop/Lung_TDA_application/y_pc/pc_0185.txt /home/qw817/Desktop/Lung_TDA_application/y_rivet50/y_pc0185.rivet --xbins 50 --ybins 50\n",
      "/home/qw817/rivet/rivet_console /home/qw817/Desktop/Lung_TDA_application/y_pc/pc_0559.txt /home/qw817/Desktop/Lung_TDA_application/y_rivet50/y_pc0559.rivet --xbins 50 --ybins 50\n",
      "/home/qw817/rivet/rivet_console /home/qw817/Desktop/Lung_TDA_application/y_pc/pc_0246.txt /home/qw817/Desktop/Lung_TDA_application/y_rivet50/y_pc0246.rivet --xbins 50 --ybins 50\n",
      "/home/qw817/rivet/rivet_console /home/qw817/Desktop/Lung_TDA_application/y_pc/pc_0165.txt /home/qw817/Desktop/Lung_TDA_application/y_rivet50/y_pc0165.rivet --xbins 50 --ybins 50\n",
      "/home/qw817/rivet/rivet_console /home/qw817/Desktop/Lung_TDA_application/y_pc/pc_0277.txt /home/qw817/Desktop/Lung_TDA_application/y_rivet50/y_pc0277.rivet --xbins 50 --ybins 50\n",
      "/home/qw817/rivet/rivet_console /home/qw817/Desktop/Lung_TDA_application/y_pc/pc_0183.txt /home/qw817/Desktop/Lung_TDA_application/y_rivet50/y_pc0183.rivet --xbins 50 --ybins 50\n",
      "/home/qw817/rivet/rivet_console /home/qw817/Desktop/Lung_TDA_application/y_pc/pc_0163.txt /home/qw817/Desktop/Lung_TDA_application/y_rivet50/y_pc0163.rivet --xbins 50 --ybins 50\n",
      "/home/qw817/rivet/rivet_console /home/qw817/Desktop/Lung_TDA_application/y_pc/pc_0285.txt /home/qw817/Desktop/Lung_TDA_application/y_rivet50/y_pc0285.rivet --xbins 50 --ybins 50\n",
      "/home/qw817/rivet/rivet_console /home/qw817/Desktop/Lung_TDA_application/y_pc/pc_0921.txt /home/qw817/Desktop/Lung_TDA_application/y_rivet50/y_pc0921.rivet --xbins 50 --ybins 50\n",
      "/home/qw817/rivet/rivet_console /home/qw817/Desktop/Lung_TDA_application/y_pc/pc_0265.txt /home/qw817/Desktop/Lung_TDA_application/y_rivet50/y_pc0265.rivet --xbins 50 --ybins 50\n",
      "/home/qw817/rivet/rivet_console /home/qw817/Desktop/Lung_TDA_application/y_pc/pc_0162.txt /home/qw817/Desktop/Lung_TDA_application/y_rivet50/y_pc0162.rivet --xbins 50 --ybins 50\n",
      "/home/qw817/rivet/rivet_console /home/qw817/Desktop/Lung_TDA_application/y_pc/pc_0166.txt /home/qw817/Desktop/Lung_TDA_application/y_rivet50/y_pc0166.rivet --xbins 50 --ybins 50\n",
      "/home/qw817/rivet/rivet_console /home/qw817/Desktop/Lung_TDA_application/y_pc/pc_0198.txt /home/qw817/Desktop/Lung_TDA_application/y_rivet50/y_pc0198.rivet --xbins 50 --ybins 50\n",
      "/home/qw817/rivet/rivet_console /home/qw817/Desktop/Lung_TDA_application/y_pc/pc_0242.txt /home/qw817/Desktop/Lung_TDA_application/y_rivet50/y_pc0242.rivet --xbins 50 --ybins 50\n",
      "/home/qw817/rivet/rivet_console /home/qw817/Desktop/Lung_TDA_application/y_pc/pc_0274.txt /home/qw817/Desktop/Lung_TDA_application/y_rivet50/y_pc0274.rivet --xbins 50 --ybins 50\n",
      "/home/qw817/rivet/rivet_console /home/qw817/Desktop/Lung_TDA_application/y_pc/pc_0233.txt /home/qw817/Desktop/Lung_TDA_application/y_rivet50/y_pc0233.rivet --xbins 50 --ybins 50\n",
      "/home/qw817/rivet/rivet_console /home/qw817/Desktop/Lung_TDA_application/y_pc/pc_0068.txt /home/qw817/Desktop/Lung_TDA_application/y_rivet50/y_pc0068.rivet --xbins 50 --ybins 50\n",
      "/home/qw817/rivet/rivet_console /home/qw817/Desktop/Lung_TDA_application/y_pc/pc_0193.txt /home/qw817/Desktop/Lung_TDA_application/y_rivet50/y_pc0193.rivet --xbins 50 --ybins 50\n",
      "/home/qw817/rivet/rivet_console /home/qw817/Desktop/Lung_TDA_application/y_pc/pc_0280.txt /home/qw817/Desktop/Lung_TDA_application/y_rivet50/y_pc0280.rivet --xbins 50 --ybins 50\n",
      "/home/qw817/rivet/rivet_console /home/qw817/Desktop/Lung_TDA_application/y_pc/pc_0207.txt /home/qw817/Desktop/Lung_TDA_application/y_rivet50/y_pc0207.rivet --xbins 50 --ybins 50\n",
      "/home/qw817/rivet/rivet_console /home/qw817/Desktop/Lung_TDA_application/y_pc/pc_0286.txt /home/qw817/Desktop/Lung_TDA_application/y_rivet50/y_pc0286.rivet --xbins 50 --ybins 50\n",
      "/home/qw817/rivet/rivet_console /home/qw817/Desktop/Lung_TDA_application/y_pc/pc_1004.txt /home/qw817/Desktop/Lung_TDA_application/y_rivet50/y_pc1004.rivet --xbins 50 --ybins 50\n",
      "/home/qw817/rivet/rivet_console /home/qw817/Desktop/Lung_TDA_application/y_pc/pc_0234.txt /home/qw817/Desktop/Lung_TDA_application/y_rivet50/y_pc0234.rivet --xbins 50 --ybins 50\n",
      "/home/qw817/rivet/rivet_console /home/qw817/Desktop/Lung_TDA_application/y_pc/pc_1011.txt /home/qw817/Desktop/Lung_TDA_application/y_rivet50/y_pc1011.rivet --xbins 50 --ybins 50\n",
      "/home/qw817/rivet/rivet_console /home/qw817/Desktop/Lung_TDA_application/y_pc/pc_0235.txt /home/qw817/Desktop/Lung_TDA_application/y_rivet50/y_pc0235.rivet --xbins 50 --ybins 50\n",
      "/home/qw817/rivet/rivet_console /home/qw817/Desktop/Lung_TDA_application/y_pc/pc_0610.txt /home/qw817/Desktop/Lung_TDA_application/y_rivet50/y_pc0610.rivet --xbins 50 --ybins 50\n",
      "/home/qw817/rivet/rivet_console /home/qw817/Desktop/Lung_TDA_application/y_pc/pc_0255.txt /home/qw817/Desktop/Lung_TDA_application/y_rivet50/y_pc0255.rivet --xbins 50 --ybins 50\n",
      "/home/qw817/rivet/rivet_console /home/qw817/Desktop/Lung_TDA_application/y_pc/pc_0249.txt /home/qw817/Desktop/Lung_TDA_application/y_rivet50/y_pc0249.rivet --xbins 50 --ybins 50\n",
      "/home/qw817/rivet/rivet_console /home/qw817/Desktop/Lung_TDA_application/y_pc/pc_0171.txt /home/qw817/Desktop/Lung_TDA_application/y_rivet50/y_pc0171.rivet --xbins 50 --ybins 50\n",
      "/home/qw817/rivet/rivet_console /home/qw817/Desktop/Lung_TDA_application/y_pc/pc_0231.txt /home/qw817/Desktop/Lung_TDA_application/y_rivet50/y_pc0231.rivet --xbins 50 --ybins 50\n",
      "/home/qw817/rivet/rivet_console /home/qw817/Desktop/Lung_TDA_application/y_pc/pc_0939.txt /home/qw817/Desktop/Lung_TDA_application/y_rivet50/y_pc0939.rivet --xbins 50 --ybins 50\n",
      "/home/qw817/rivet/rivet_console /home/qw817/Desktop/Lung_TDA_application/y_pc/pc_0213.txt /home/qw817/Desktop/Lung_TDA_application/y_rivet50/y_pc0213.rivet --xbins 50 --ybins 50\n",
      "/home/qw817/rivet/rivet_console /home/qw817/Desktop/Lung_TDA_application/y_pc/pc_0243.txt /home/qw817/Desktop/Lung_TDA_application/y_rivet50/y_pc0243.rivet --xbins 50 --ybins 50\n",
      "/home/qw817/rivet/rivet_console /home/qw817/Desktop/Lung_TDA_application/y_pc/pc_0245.txt /home/qw817/Desktop/Lung_TDA_application/y_rivet50/y_pc0245.rivet --xbins 50 --ybins 50\n",
      "/home/qw817/rivet/rivet_console /home/qw817/Desktop/Lung_TDA_application/y_pc/pc_0289.txt /home/qw817/Desktop/Lung_TDA_application/y_rivet50/y_pc0289.rivet --xbins 50 --ybins 50\n",
      "/home/qw817/rivet/rivet_console /home/qw817/Desktop/Lung_TDA_application/y_pc/pc_0252.txt /home/qw817/Desktop/Lung_TDA_application/y_rivet50/y_pc0252.rivet --xbins 50 --ybins 50\n",
      "/home/qw817/rivet/rivet_console /home/qw817/Desktop/Lung_TDA_application/y_pc/pc_0230.txt /home/qw817/Desktop/Lung_TDA_application/y_rivet50/y_pc0230.rivet --xbins 50 --ybins 50\n",
      "/home/qw817/rivet/rivet_console /home/qw817/Desktop/Lung_TDA_application/y_pc/pc_0266.txt /home/qw817/Desktop/Lung_TDA_application/y_rivet50/y_pc0266.rivet --xbins 50 --ybins 50\n",
      "/home/qw817/rivet/rivet_console /home/qw817/Desktop/Lung_TDA_application/y_pc/pc_0129.txt /home/qw817/Desktop/Lung_TDA_application/y_rivet50/y_pc0129.rivet --xbins 50 --ybins 50\n",
      "/home/qw817/rivet/rivet_console /home/qw817/Desktop/Lung_TDA_application/y_pc/pc_0818.txt /home/qw817/Desktop/Lung_TDA_application/y_rivet50/y_pc0818.rivet --xbins 50 --ybins 50\n",
      "/home/qw817/rivet/rivet_console /home/qw817/Desktop/Lung_TDA_application/y_pc/pc_1002.txt /home/qw817/Desktop/Lung_TDA_application/y_rivet50/y_pc1002.rivet --xbins 50 --ybins 50\n",
      "/home/qw817/rivet/rivet_console /home/qw817/Desktop/Lung_TDA_application/y_pc/pc_0236.txt /home/qw817/Desktop/Lung_TDA_application/y_rivet50/y_pc0236.rivet --xbins 50 --ybins 50\n",
      "/home/qw817/rivet/rivet_console /home/qw817/Desktop/Lung_TDA_application/y_pc/pc_0192.txt /home/qw817/Desktop/Lung_TDA_application/y_rivet50/y_pc0192.rivet --xbins 50 --ybins 50\n",
      "/home/qw817/rivet/rivet_console /home/qw817/Desktop/Lung_TDA_application/y_pc/pc_0182.txt /home/qw817/Desktop/Lung_TDA_application/y_rivet50/y_pc0182.rivet --xbins 50 --ybins 50\n",
      "/home/qw817/rivet/rivet_console /home/qw817/Desktop/Lung_TDA_application/y_pc/pc_0194.txt /home/qw817/Desktop/Lung_TDA_application/y_rivet50/y_pc0194.rivet --xbins 50 --ybins 50\n",
      "/home/qw817/rivet/rivet_console /home/qw817/Desktop/Lung_TDA_application/y_pc/pc_0181.txt /home/qw817/Desktop/Lung_TDA_application/y_rivet50/y_pc0181.rivet --xbins 50 --ybins 50\n",
      "/home/qw817/rivet/rivet_console /home/qw817/Desktop/Lung_TDA_application/y_pc/pc_0211.txt /home/qw817/Desktop/Lung_TDA_application/y_rivet50/y_pc0211.rivet --xbins 50 --ybins 50\n",
      "/home/qw817/rivet/rivet_console /home/qw817/Desktop/Lung_TDA_application/y_pc/pc_0270.txt /home/qw817/Desktop/Lung_TDA_application/y_rivet50/y_pc0270.rivet --xbins 50 --ybins 50\n",
      "/home/qw817/rivet/rivet_console /home/qw817/Desktop/Lung_TDA_application/y_pc/pc_0175.txt /home/qw817/Desktop/Lung_TDA_application/y_rivet50/y_pc0175.rivet --xbins 50 --ybins 50\n",
      "/home/qw817/rivet/rivet_console /home/qw817/Desktop/Lung_TDA_application/y_pc/pc_0164.txt /home/qw817/Desktop/Lung_TDA_application/y_rivet50/y_pc0164.rivet --xbins 50 --ybins 50\n",
      "/home/qw817/rivet/rivet_console /home/qw817/Desktop/Lung_TDA_application/y_pc/pc_0251.txt /home/qw817/Desktop/Lung_TDA_application/y_rivet50/y_pc0251.rivet --xbins 50 --ybins 50\n",
      "/home/qw817/rivet/rivet_console /home/qw817/Desktop/Lung_TDA_application/y_pc/pc_0282.txt /home/qw817/Desktop/Lung_TDA_application/y_rivet50/y_pc0282.rivet --xbins 50 --ybins 50\n",
      "/home/qw817/rivet/rivet_console /home/qw817/Desktop/Lung_TDA_application/y_pc/pc_0470.txt /home/qw817/Desktop/Lung_TDA_application/y_rivet50/y_pc0470.rivet --xbins 50 --ybins 50\n",
      "/home/qw817/rivet/rivet_console /home/qw817/Desktop/Lung_TDA_application/y_pc/pc_0118.txt /home/qw817/Desktop/Lung_TDA_application/y_rivet50/y_pc0118.rivet --xbins 50 --ybins 50\n",
      "/home/qw817/rivet/rivet_console /home/qw817/Desktop/Lung_TDA_application/y_pc/pc_0260.txt /home/qw817/Desktop/Lung_TDA_application/y_rivet50/y_pc0260.rivet --xbins 50 --ybins 50\n",
      "/home/qw817/rivet/rivet_console /home/qw817/Desktop/Lung_TDA_application/y_pc/pc_0332.txt /home/qw817/Desktop/Lung_TDA_application/y_rivet50/y_pc0332.rivet --xbins 50 --ybins 50\n",
      "/home/qw817/rivet/rivet_console /home/qw817/Desktop/Lung_TDA_application/y_pc/pc_0161.txt /home/qw817/Desktop/Lung_TDA_application/y_rivet50/y_pc0161.rivet --xbins 50 --ybins 50\n",
      "/home/qw817/rivet/rivet_console /home/qw817/Desktop/Lung_TDA_application/y_pc/pc_0169.txt /home/qw817/Desktop/Lung_TDA_application/y_rivet50/y_pc0169.rivet --xbins 50 --ybins 50\n",
      "/home/qw817/rivet/rivet_console /home/qw817/Desktop/Lung_TDA_application/y_pc/pc_0771.txt /home/qw817/Desktop/Lung_TDA_application/y_rivet50/y_pc0771.rivet --xbins 50 --ybins 50\n",
      "/home/qw817/rivet/rivet_console /home/qw817/Desktop/Lung_TDA_application/small_point_clouds/pc_0405.txt /home/qw817/Desktop/Lung_TDA_application/deg_rips50_rivet/rivet0405.rivet --datatype points --homology 0 --xbins 50 --ybins 50\n",
      "/home/qw817/rivet/rivet_console /home/qw817/Desktop/Lung_TDA_application/small_point_clouds/pc_0223.txt /home/qw817/Desktop/Lung_TDA_application/deg_rips50_rivet/rivet0223.rivet --datatype points --homology 0 --xbins 50 --ybins 50\n",
      "/home/qw817/rivet/rivet_console /home/qw817/Desktop/Lung_TDA_application/small_point_clouds/pc_0624.txt /home/qw817/Desktop/Lung_TDA_application/deg_rips50_rivet/rivet0624.rivet --datatype points --homology 0 --xbins 50 --ybins 50\n",
      "/home/qw817/rivet/rivet_console /home/qw817/Desktop/Lung_TDA_application/small_point_clouds/pc_0377.txt /home/qw817/Desktop/Lung_TDA_application/deg_rips50_rivet/rivet0377.rivet --datatype points --homology 0 --xbins 50 --ybins 50\n",
      "/home/qw817/rivet/rivet_console /home/qw817/Desktop/Lung_TDA_application/small_point_clouds/pc_0290.txt /home/qw817/Desktop/Lung_TDA_application/deg_rips50_rivet/rivet0290.rivet --datatype points --homology 0 --xbins 50 --ybins 50\n",
      "/home/qw817/rivet/rivet_console /home/qw817/Desktop/Lung_TDA_application/small_point_clouds/pc_0766.txt /home/qw817/Desktop/Lung_TDA_application/deg_rips50_rivet/rivet0766.rivet --datatype points --homology 0 --xbins 50 --ybins 50\n",
      "/home/qw817/rivet/rivet_console /home/qw817/Desktop/Lung_TDA_application/small_point_clouds/pc_0994.txt /home/qw817/Desktop/Lung_TDA_application/deg_rips50_rivet/rivet0994.rivet --datatype points --homology 0 --xbins 50 --ybins 50\n",
      "/home/qw817/rivet/rivet_console /home/qw817/Desktop/Lung_TDA_application/small_point_clouds/pc_0772.txt /home/qw817/Desktop/Lung_TDA_application/deg_rips50_rivet/rivet0772.rivet --datatype points --homology 0 --xbins 50 --ybins 50\n",
      "/home/qw817/rivet/rivet_console /home/qw817/Desktop/Lung_TDA_application/small_point_clouds/pc_0217.txt /home/qw817/Desktop/Lung_TDA_application/deg_rips50_rivet/rivet0217.rivet --datatype points --homology 0 --xbins 50 --ybins 50\n",
      "/home/qw817/rivet/rivet_console /home/qw817/Desktop/Lung_TDA_application/small_point_clouds/pc_0276.txt /home/qw817/Desktop/Lung_TDA_application/deg_rips50_rivet/rivet0276.rivet --datatype points --homology 0 --xbins 50 --ybins 50\n",
      "/home/qw817/rivet/rivet_console /home/qw817/Desktop/Lung_TDA_application/small_point_clouds/pc_0167.txt /home/qw817/Desktop/Lung_TDA_application/deg_rips50_rivet/rivet0167.rivet --datatype points --homology 0 --xbins 50 --ybins 50\n",
      "/home/qw817/rivet/rivet_console /home/qw817/Desktop/Lung_TDA_application/small_point_clouds/pc_0576.txt /home/qw817/Desktop/Lung_TDA_application/deg_rips50_rivet/rivet0576.rivet --datatype points --homology 0 --xbins 50 --ybins 50\n",
      "/home/qw817/rivet/rivet_console /home/qw817/Desktop/Lung_TDA_application/small_point_clouds/pc_0875.txt /home/qw817/Desktop/Lung_TDA_application/deg_rips50_rivet/rivet0875.rivet --datatype points --homology 0 --xbins 50 --ybins 50\n",
      "/home/qw817/rivet/rivet_console /home/qw817/Desktop/Lung_TDA_application/small_point_clouds/pc_0179.txt /home/qw817/Desktop/Lung_TDA_application/deg_rips50_rivet/rivet0179.rivet --datatype points --homology 0 --xbins 50 --ybins 50\n",
      "/home/qw817/rivet/rivet_console /home/qw817/Desktop/Lung_TDA_application/small_point_clouds/pc_0180.txt /home/qw817/Desktop/Lung_TDA_application/deg_rips50_rivet/rivet0180.rivet --datatype points --homology 0 --xbins 50 --ybins 50\n",
      "/home/qw817/rivet/rivet_console /home/qw817/Desktop/Lung_TDA_application/small_point_clouds/pc_0159.txt /home/qw817/Desktop/Lung_TDA_application/deg_rips50_rivet/rivet0159.rivet --datatype points --homology 0 --xbins 50 --ybins 50\n",
      "/home/qw817/rivet/rivet_console /home/qw817/Desktop/Lung_TDA_application/small_point_clouds/pc_0493.txt /home/qw817/Desktop/Lung_TDA_application/deg_rips50_rivet/rivet0493.rivet --datatype points --homology 0 --xbins 50 --ybins 50\n",
      "/home/qw817/rivet/rivet_console /home/qw817/Desktop/Lung_TDA_application/small_point_clouds/pc_0281.txt /home/qw817/Desktop/Lung_TDA_application/deg_rips50_rivet/rivet0281.rivet --datatype points --homology 0 --xbins 50 --ybins 50\n",
      "/home/qw817/rivet/rivet_console /home/qw817/Desktop/Lung_TDA_application/small_point_clouds/pc_0091.txt /home/qw817/Desktop/Lung_TDA_application/deg_rips50_rivet/rivet0091.rivet --datatype points --homology 0 --xbins 50 --ybins 50\n",
      "/home/qw817/rivet/rivet_console /home/qw817/Desktop/Lung_TDA_application/small_point_clouds/pc_0287.txt /home/qw817/Desktop/Lung_TDA_application/deg_rips50_rivet/rivet0287.rivet --datatype points --homology 0 --xbins 50 --ybins 50\n",
      "/home/qw817/rivet/rivet_console /home/qw817/Desktop/Lung_TDA_application/small_point_clouds/pc_0522.txt /home/qw817/Desktop/Lung_TDA_application/deg_rips50_rivet/rivet0522.rivet --datatype points --homology 0 --xbins 50 --ybins 50\n",
      "/home/qw817/rivet/rivet_console /home/qw817/Desktop/Lung_TDA_application/small_point_clouds/pc_0399.txt /home/qw817/Desktop/Lung_TDA_application/deg_rips50_rivet/rivet0399.rivet --datatype points --homology 0 --xbins 50 --ybins 50\n",
      "/home/qw817/rivet/rivet_console /home/qw817/Desktop/Lung_TDA_application/small_point_clouds/pc_0210.txt /home/qw817/Desktop/Lung_TDA_application/deg_rips50_rivet/rivet0210.rivet --datatype points --homology 0 --xbins 50 --ybins 50\n",
      "/home/qw817/rivet/rivet_console /home/qw817/Desktop/Lung_TDA_application/small_point_clouds/pc_0248.txt /home/qw817/Desktop/Lung_TDA_application/deg_rips50_rivet/rivet0248.rivet --datatype points --homology 0 --xbins 50 --ybins 50\n",
      "/home/qw817/rivet/rivet_console /home/qw817/Desktop/Lung_TDA_application/small_point_clouds/pc_0212.txt /home/qw817/Desktop/Lung_TDA_application/deg_rips50_rivet/rivet0212.rivet --datatype points --homology 0 --xbins 50 --ybins 50\n",
      "/home/qw817/rivet/rivet_console /home/qw817/Desktop/Lung_TDA_application/small_point_clouds/pc_0257.txt /home/qw817/Desktop/Lung_TDA_application/deg_rips50_rivet/rivet0257.rivet --datatype points --homology 0 --xbins 50 --ybins 50\n",
      "/home/qw817/rivet/rivet_console /home/qw817/Desktop/Lung_TDA_application/small_point_clouds/pc_0271.txt /home/qw817/Desktop/Lung_TDA_application/deg_rips50_rivet/rivet0271.rivet --datatype points --homology 0 --xbins 50 --ybins 50\n",
      "/home/qw817/rivet/rivet_console /home/qw817/Desktop/Lung_TDA_application/small_point_clouds/pc_0186.txt /home/qw817/Desktop/Lung_TDA_application/deg_rips50_rivet/rivet0186.rivet --datatype points --homology 0 --xbins 50 --ybins 50\n",
      "/home/qw817/rivet/rivet_console /home/qw817/Desktop/Lung_TDA_application/small_point_clouds/pc_0137.txt /home/qw817/Desktop/Lung_TDA_application/deg_rips50_rivet/rivet0137.rivet --datatype points --homology 0 --xbins 50 --ybins 50\n",
      "/home/qw817/rivet/rivet_console /home/qw817/Desktop/Lung_TDA_application/small_point_clouds/pc_0088.txt /home/qw817/Desktop/Lung_TDA_application/deg_rips50_rivet/rivet0088.rivet --datatype points --homology 0 --xbins 50 --ybins 50\n",
      "/home/qw817/rivet/rivet_console /home/qw817/Desktop/Lung_TDA_application/small_point_clouds/pc_0168.txt /home/qw817/Desktop/Lung_TDA_application/deg_rips50_rivet/rivet0168.rivet --datatype points --homology 0 --xbins 50 --ybins 50\n",
      "/home/qw817/rivet/rivet_console /home/qw817/Desktop/Lung_TDA_application/small_point_clouds/pc_0454.txt /home/qw817/Desktop/Lung_TDA_application/deg_rips50_rivet/rivet0454.rivet --datatype points --homology 0 --xbins 50 --ybins 50\n",
      "/home/qw817/rivet/rivet_console /home/qw817/Desktop/Lung_TDA_application/small_point_clouds/pc_0072.txt /home/qw817/Desktop/Lung_TDA_application/deg_rips50_rivet/rivet0072.rivet --datatype points --homology 0 --xbins 50 --ybins 50\n",
      "/home/qw817/rivet/rivet_console /home/qw817/Desktop/Lung_TDA_application/small_point_clouds/pc_0256.txt /home/qw817/Desktop/Lung_TDA_application/deg_rips50_rivet/rivet0256.rivet --datatype points --homology 0 --xbins 50 --ybins 50\n",
      "/home/qw817/rivet/rivet_console /home/qw817/Desktop/Lung_TDA_application/small_point_clouds/pc_0188.txt /home/qw817/Desktop/Lung_TDA_application/deg_rips50_rivet/rivet0188.rivet --datatype points --homology 0 --xbins 50 --ybins 50\n",
      "/home/qw817/rivet/rivet_console /home/qw817/Desktop/Lung_TDA_application/small_point_clouds/pc_0905.txt /home/qw817/Desktop/Lung_TDA_application/deg_rips50_rivet/rivet0905.rivet --datatype points --homology 0 --xbins 50 --ybins 50\n",
      "/home/qw817/rivet/rivet_console /home/qw817/Desktop/Lung_TDA_application/small_point_clouds/pc_0924.txt /home/qw817/Desktop/Lung_TDA_application/deg_rips50_rivet/rivet0924.rivet --datatype points --homology 0 --xbins 50 --ybins 50\n",
      "/home/qw817/rivet/rivet_console /home/qw817/Desktop/Lung_TDA_application/small_point_clouds/pc_0385.txt /home/qw817/Desktop/Lung_TDA_application/deg_rips50_rivet/rivet0385.rivet --datatype points --homology 0 --xbins 50 --ybins 50\n",
      "/home/qw817/rivet/rivet_console /home/qw817/Desktop/Lung_TDA_application/small_point_clouds/pc_0283.txt /home/qw817/Desktop/Lung_TDA_application/deg_rips50_rivet/rivet0283.rivet --datatype points --homology 0 --xbins 50 --ybins 50\n",
      "/home/qw817/rivet/rivet_console /home/qw817/Desktop/Lung_TDA_application/small_point_clouds/pc_0135.txt /home/qw817/Desktop/Lung_TDA_application/deg_rips50_rivet/rivet0135.rivet --datatype points --homology 0 --xbins 50 --ybins 50\n",
      "/home/qw817/rivet/rivet_console /home/qw817/Desktop/Lung_TDA_application/small_point_clouds/pc_0267.txt /home/qw817/Desktop/Lung_TDA_application/deg_rips50_rivet/rivet0267.rivet --datatype points --homology 0 --xbins 50 --ybins 50\n",
      "/home/qw817/rivet/rivet_console /home/qw817/Desktop/Lung_TDA_application/small_point_clouds/pc_0254.txt /home/qw817/Desktop/Lung_TDA_application/deg_rips50_rivet/rivet0254.rivet --datatype points --homology 0 --xbins 50 --ybins 50\n",
      "/home/qw817/rivet/rivet_console /home/qw817/Desktop/Lung_TDA_application/small_point_clouds/pc_0562.txt /home/qw817/Desktop/Lung_TDA_application/deg_rips50_rivet/rivet0562.rivet --datatype points --homology 0 --xbins 50 --ybins 50\n",
      "/home/qw817/rivet/rivet_console /home/qw817/Desktop/Lung_TDA_application/small_point_clouds/pc_0232.txt /home/qw817/Desktop/Lung_TDA_application/deg_rips50_rivet/rivet0232.rivet --datatype points --homology 0 --xbins 50 --ybins 50\n",
      "/home/qw817/rivet/rivet_console /home/qw817/Desktop/Lung_TDA_application/small_point_clouds/pc_0244.txt /home/qw817/Desktop/Lung_TDA_application/deg_rips50_rivet/rivet0244.rivet --datatype points --homology 0 --xbins 50 --ybins 50\n",
      "/home/qw817/rivet/rivet_console /home/qw817/Desktop/Lung_TDA_application/small_point_clouds/pc_0510.txt /home/qw817/Desktop/Lung_TDA_application/deg_rips50_rivet/rivet0510.rivet --datatype points --homology 0 --xbins 50 --ybins 50\n",
      "/home/qw817/rivet/rivet_console /home/qw817/Desktop/Lung_TDA_application/small_point_clouds/pc_0273.txt /home/qw817/Desktop/Lung_TDA_application/deg_rips50_rivet/rivet0273.rivet --datatype points --homology 0 --xbins 50 --ybins 50\n",
      "/home/qw817/rivet/rivet_console /home/qw817/Desktop/Lung_TDA_application/small_point_clouds/pc_0090.txt /home/qw817/Desktop/Lung_TDA_application/deg_rips50_rivet/rivet0090.rivet --datatype points --homology 0 --xbins 50 --ybins 50\n",
      "/home/qw817/rivet/rivet_console /home/qw817/Desktop/Lung_TDA_application/small_point_clouds/pc_0325.txt /home/qw817/Desktop/Lung_TDA_application/deg_rips50_rivet/rivet0325.rivet --datatype points --homology 0 --xbins 50 --ybins 50\n",
      "/home/qw817/rivet/rivet_console /home/qw817/Desktop/Lung_TDA_application/small_point_clouds/pc_0202.txt /home/qw817/Desktop/Lung_TDA_application/deg_rips50_rivet/rivet0202.rivet --datatype points --homology 0 --xbins 50 --ybins 50\n",
      "/home/qw817/rivet/rivet_console /home/qw817/Desktop/Lung_TDA_application/small_point_clouds/pc_0278.txt /home/qw817/Desktop/Lung_TDA_application/deg_rips50_rivet/rivet0278.rivet --datatype points --homology 0 --xbins 50 --ybins 50\n",
      "/home/qw817/rivet/rivet_console /home/qw817/Desktop/Lung_TDA_application/small_point_clouds/pc_0568.txt /home/qw817/Desktop/Lung_TDA_application/deg_rips50_rivet/rivet0568.rivet --datatype points --homology 0 --xbins 50 --ybins 50\n",
      "/home/qw817/rivet/rivet_console /home/qw817/Desktop/Lung_TDA_application/small_point_clouds/pc_0184.txt /home/qw817/Desktop/Lung_TDA_application/deg_rips50_rivet/rivet0184.rivet --datatype points --homology 0 --xbins 50 --ybins 50\n",
      "/home/qw817/rivet/rivet_console /home/qw817/Desktop/Lung_TDA_application/small_point_clouds/pc_0124.txt /home/qw817/Desktop/Lung_TDA_application/deg_rips50_rivet/rivet0124.rivet --datatype points --homology 0 --xbins 50 --ybins 50\n",
      "/home/qw817/rivet/rivet_console /home/qw817/Desktop/Lung_TDA_application/small_point_clouds/pc_0258.txt /home/qw817/Desktop/Lung_TDA_application/deg_rips50_rivet/rivet0258.rivet --datatype points --homology 0 --xbins 50 --ybins 50\n",
      "/home/qw817/rivet/rivet_console /home/qw817/Desktop/Lung_TDA_application/small_point_clouds/pc_0893.txt /home/qw817/Desktop/Lung_TDA_application/deg_rips50_rivet/rivet0893.rivet --datatype points --homology 0 --xbins 50 --ybins 50\n",
      "/home/qw817/rivet/rivet_console /home/qw817/Desktop/Lung_TDA_application/small_point_clouds/pc_0580.txt /home/qw817/Desktop/Lung_TDA_application/deg_rips50_rivet/rivet0580.rivet --datatype points --homology 0 --xbins 50 --ybins 50\n",
      "/home/qw817/rivet/rivet_console /home/qw817/Desktop/Lung_TDA_application/small_point_clouds/pc_0187.txt /home/qw817/Desktop/Lung_TDA_application/deg_rips50_rivet/rivet0187.rivet --datatype points --homology 0 --xbins 50 --ybins 50\n",
      "/home/qw817/rivet/rivet_console /home/qw817/Desktop/Lung_TDA_application/small_point_clouds/pc_0268.txt /home/qw817/Desktop/Lung_TDA_application/deg_rips50_rivet/rivet0268.rivet --datatype points --homology 0 --xbins 50 --ybins 50\n",
      "/home/qw817/rivet/rivet_console /home/qw817/Desktop/Lung_TDA_application/small_point_clouds/pc_0264.txt /home/qw817/Desktop/Lung_TDA_application/deg_rips50_rivet/rivet0264.rivet --datatype points --homology 0 --xbins 50 --ybins 50\n",
      "/home/qw817/rivet/rivet_console /home/qw817/Desktop/Lung_TDA_application/small_point_clouds/pc_0149.txt /home/qw817/Desktop/Lung_TDA_application/deg_rips50_rivet/rivet0149.rivet --datatype points --homology 0 --xbins 50 --ybins 50\n",
      "/home/qw817/rivet/rivet_console /home/qw817/Desktop/Lung_TDA_application/small_point_clouds/pc_0221.txt /home/qw817/Desktop/Lung_TDA_application/deg_rips50_rivet/rivet0221.rivet --datatype points --homology 0 --xbins 50 --ybins 50\n",
      "/home/qw817/rivet/rivet_console /home/qw817/Desktop/Lung_TDA_application/small_point_clouds/pc_0220.txt /home/qw817/Desktop/Lung_TDA_application/deg_rips50_rivet/rivet0220.rivet --datatype points --homology 0 --xbins 50 --ybins 50\n",
      "/home/qw817/rivet/rivet_console /home/qw817/Desktop/Lung_TDA_application/small_point_clouds/pc_0811.txt /home/qw817/Desktop/Lung_TDA_application/deg_rips50_rivet/rivet0811.rivet --datatype points --homology 0 --xbins 50 --ybins 50\n",
      "/home/qw817/rivet/rivet_console /home/qw817/Desktop/Lung_TDA_application/small_point_clouds/pc_0173.txt /home/qw817/Desktop/Lung_TDA_application/deg_rips50_rivet/rivet0173.rivet --datatype points --homology 0 --xbins 50 --ybins 50\n",
      "/home/qw817/rivet/rivet_console /home/qw817/Desktop/Lung_TDA_application/small_point_clouds/pc_0203.txt /home/qw817/Desktop/Lung_TDA_application/deg_rips50_rivet/rivet0203.rivet --datatype points --homology 0 --xbins 50 --ybins 50\n",
      "/home/qw817/rivet/rivet_console /home/qw817/Desktop/Lung_TDA_application/small_point_clouds/pc_0272.txt /home/qw817/Desktop/Lung_TDA_application/deg_rips50_rivet/rivet0272.rivet --datatype points --homology 0 --xbins 50 --ybins 50\n",
      "/home/qw817/rivet/rivet_console /home/qw817/Desktop/Lung_TDA_application/small_point_clouds/pc_0314.txt /home/qw817/Desktop/Lung_TDA_application/deg_rips50_rivet/rivet0314.rivet --datatype points --homology 0 --xbins 50 --ybins 50\n",
      "/home/qw817/rivet/rivet_console /home/qw817/Desktop/Lung_TDA_application/small_point_clouds/pc_0275.txt /home/qw817/Desktop/Lung_TDA_application/deg_rips50_rivet/rivet0275.rivet --datatype points --homology 0 --xbins 50 --ybins 50\n",
      "/home/qw817/rivet/rivet_console /home/qw817/Desktop/Lung_TDA_application/small_point_clouds/pc_0288.txt /home/qw817/Desktop/Lung_TDA_application/deg_rips50_rivet/rivet0288.rivet --datatype points --homology 0 --xbins 50 --ybins 50\n",
      "/home/qw817/rivet/rivet_console /home/qw817/Desktop/Lung_TDA_application/small_point_clouds/pc_0222.txt /home/qw817/Desktop/Lung_TDA_application/deg_rips50_rivet/rivet0222.rivet --datatype points --homology 0 --xbins 50 --ybins 50\n",
      "/home/qw817/rivet/rivet_console /home/qw817/Desktop/Lung_TDA_application/small_point_clouds/pc_0965.txt /home/qw817/Desktop/Lung_TDA_application/deg_rips50_rivet/rivet0965.rivet --datatype points --homology 0 --xbins 50 --ybins 50\n",
      "/home/qw817/rivet/rivet_console /home/qw817/Desktop/Lung_TDA_application/small_point_clouds/pc_0176.txt /home/qw817/Desktop/Lung_TDA_application/deg_rips50_rivet/rivet0176.rivet --datatype points --homology 0 --xbins 50 --ybins 50\n",
      "/home/qw817/rivet/rivet_console /home/qw817/Desktop/Lung_TDA_application/small_point_clouds/pc_0237.txt /home/qw817/Desktop/Lung_TDA_application/deg_rips50_rivet/rivet0237.rivet --datatype points --homology 0 --xbins 50 --ybins 50\n",
      "/home/qw817/rivet/rivet_console /home/qw817/Desktop/Lung_TDA_application/small_point_clouds/pc_0190.txt /home/qw817/Desktop/Lung_TDA_application/deg_rips50_rivet/rivet0190.rivet --datatype points --homology 0 --xbins 50 --ybins 50\n",
      "/home/qw817/rivet/rivet_console /home/qw817/Desktop/Lung_TDA_application/small_point_clouds/pc_0250.txt /home/qw817/Desktop/Lung_TDA_application/deg_rips50_rivet/rivet0250.rivet --datatype points --homology 0 --xbins 50 --ybins 50\n",
      "/home/qw817/rivet/rivet_console /home/qw817/Desktop/Lung_TDA_application/small_point_clouds/pc_1010.txt /home/qw817/Desktop/Lung_TDA_application/deg_rips50_rivet/rivet1010.rivet --datatype points --homology 0 --xbins 50 --ybins 50\n",
      "/home/qw817/rivet/rivet_console /home/qw817/Desktop/Lung_TDA_application/small_point_clouds/pc_0191.txt /home/qw817/Desktop/Lung_TDA_application/deg_rips50_rivet/rivet0191.rivet --datatype points --homology 0 --xbins 50 --ybins 50\n",
      "/home/qw817/rivet/rivet_console /home/qw817/Desktop/Lung_TDA_application/small_point_clouds/pc_0138.txt /home/qw817/Desktop/Lung_TDA_application/deg_rips50_rivet/rivet0138.rivet --datatype points --homology 0 --xbins 50 --ybins 50\n",
      "/home/qw817/rivet/rivet_console /home/qw817/Desktop/Lung_TDA_application/small_point_clouds/pc_0543.txt /home/qw817/Desktop/Lung_TDA_application/deg_rips50_rivet/rivet0543.rivet --datatype points --homology 0 --xbins 50 --ybins 50\n",
      "/home/qw817/rivet/rivet_console /home/qw817/Desktop/Lung_TDA_application/small_point_clouds/pc_0185.txt /home/qw817/Desktop/Lung_TDA_application/deg_rips50_rivet/rivet0185.rivet --datatype points --homology 0 --xbins 50 --ybins 50\n",
      "/home/qw817/rivet/rivet_console /home/qw817/Desktop/Lung_TDA_application/small_point_clouds/pc_0559.txt /home/qw817/Desktop/Lung_TDA_application/deg_rips50_rivet/rivet0559.rivet --datatype points --homology 0 --xbins 50 --ybins 50\n",
      "/home/qw817/rivet/rivet_console /home/qw817/Desktop/Lung_TDA_application/small_point_clouds/pc_0246.txt /home/qw817/Desktop/Lung_TDA_application/deg_rips50_rivet/rivet0246.rivet --datatype points --homology 0 --xbins 50 --ybins 50\n",
      "/home/qw817/rivet/rivet_console /home/qw817/Desktop/Lung_TDA_application/small_point_clouds/pc_0165.txt /home/qw817/Desktop/Lung_TDA_application/deg_rips50_rivet/rivet0165.rivet --datatype points --homology 0 --xbins 50 --ybins 50\n",
      "/home/qw817/rivet/rivet_console /home/qw817/Desktop/Lung_TDA_application/small_point_clouds/pc_0277.txt /home/qw817/Desktop/Lung_TDA_application/deg_rips50_rivet/rivet0277.rivet --datatype points --homology 0 --xbins 50 --ybins 50\n",
      "/home/qw817/rivet/rivet_console /home/qw817/Desktop/Lung_TDA_application/small_point_clouds/pc_0183.txt /home/qw817/Desktop/Lung_TDA_application/deg_rips50_rivet/rivet0183.rivet --datatype points --homology 0 --xbins 50 --ybins 50\n",
      "/home/qw817/rivet/rivet_console /home/qw817/Desktop/Lung_TDA_application/small_point_clouds/pc_0163.txt /home/qw817/Desktop/Lung_TDA_application/deg_rips50_rivet/rivet0163.rivet --datatype points --homology 0 --xbins 50 --ybins 50\n",
      "/home/qw817/rivet/rivet_console /home/qw817/Desktop/Lung_TDA_application/small_point_clouds/pc_0285.txt /home/qw817/Desktop/Lung_TDA_application/deg_rips50_rivet/rivet0285.rivet --datatype points --homology 0 --xbins 50 --ybins 50\n",
      "/home/qw817/rivet/rivet_console /home/qw817/Desktop/Lung_TDA_application/small_point_clouds/pc_0921.txt /home/qw817/Desktop/Lung_TDA_application/deg_rips50_rivet/rivet0921.rivet --datatype points --homology 0 --xbins 50 --ybins 50\n",
      "/home/qw817/rivet/rivet_console /home/qw817/Desktop/Lung_TDA_application/small_point_clouds/pc_0265.txt /home/qw817/Desktop/Lung_TDA_application/deg_rips50_rivet/rivet0265.rivet --datatype points --homology 0 --xbins 50 --ybins 50\n",
      "/home/qw817/rivet/rivet_console /home/qw817/Desktop/Lung_TDA_application/small_point_clouds/pc_0162.txt /home/qw817/Desktop/Lung_TDA_application/deg_rips50_rivet/rivet0162.rivet --datatype points --homology 0 --xbins 50 --ybins 50\n",
      "/home/qw817/rivet/rivet_console /home/qw817/Desktop/Lung_TDA_application/small_point_clouds/pc_0166.txt /home/qw817/Desktop/Lung_TDA_application/deg_rips50_rivet/rivet0166.rivet --datatype points --homology 0 --xbins 50 --ybins 50\n",
      "/home/qw817/rivet/rivet_console /home/qw817/Desktop/Lung_TDA_application/small_point_clouds/pc_0198.txt /home/qw817/Desktop/Lung_TDA_application/deg_rips50_rivet/rivet0198.rivet --datatype points --homology 0 --xbins 50 --ybins 50\n",
      "/home/qw817/rivet/rivet_console /home/qw817/Desktop/Lung_TDA_application/small_point_clouds/pc_0242.txt /home/qw817/Desktop/Lung_TDA_application/deg_rips50_rivet/rivet0242.rivet --datatype points --homology 0 --xbins 50 --ybins 50\n",
      "/home/qw817/rivet/rivet_console /home/qw817/Desktop/Lung_TDA_application/small_point_clouds/pc_0274.txt /home/qw817/Desktop/Lung_TDA_application/deg_rips50_rivet/rivet0274.rivet --datatype points --homology 0 --xbins 50 --ybins 50\n",
      "/home/qw817/rivet/rivet_console /home/qw817/Desktop/Lung_TDA_application/small_point_clouds/pc_0233.txt /home/qw817/Desktop/Lung_TDA_application/deg_rips50_rivet/rivet0233.rivet --datatype points --homology 0 --xbins 50 --ybins 50\n",
      "/home/qw817/rivet/rivet_console /home/qw817/Desktop/Lung_TDA_application/small_point_clouds/pc_0068.txt /home/qw817/Desktop/Lung_TDA_application/deg_rips50_rivet/rivet0068.rivet --datatype points --homology 0 --xbins 50 --ybins 50\n",
      "/home/qw817/rivet/rivet_console /home/qw817/Desktop/Lung_TDA_application/small_point_clouds/pc_0193.txt /home/qw817/Desktop/Lung_TDA_application/deg_rips50_rivet/rivet0193.rivet --datatype points --homology 0 --xbins 50 --ybins 50\n",
      "/home/qw817/rivet/rivet_console /home/qw817/Desktop/Lung_TDA_application/small_point_clouds/pc_0280.txt /home/qw817/Desktop/Lung_TDA_application/deg_rips50_rivet/rivet0280.rivet --datatype points --homology 0 --xbins 50 --ybins 50\n",
      "/home/qw817/rivet/rivet_console /home/qw817/Desktop/Lung_TDA_application/small_point_clouds/pc_0207.txt /home/qw817/Desktop/Lung_TDA_application/deg_rips50_rivet/rivet0207.rivet --datatype points --homology 0 --xbins 50 --ybins 50\n",
      "/home/qw817/rivet/rivet_console /home/qw817/Desktop/Lung_TDA_application/small_point_clouds/pc_0286.txt /home/qw817/Desktop/Lung_TDA_application/deg_rips50_rivet/rivet0286.rivet --datatype points --homology 0 --xbins 50 --ybins 50\n",
      "/home/qw817/rivet/rivet_console /home/qw817/Desktop/Lung_TDA_application/small_point_clouds/pc_1004.txt /home/qw817/Desktop/Lung_TDA_application/deg_rips50_rivet/rivet1004.rivet --datatype points --homology 0 --xbins 50 --ybins 50\n",
      "/home/qw817/rivet/rivet_console /home/qw817/Desktop/Lung_TDA_application/small_point_clouds/pc_0234.txt /home/qw817/Desktop/Lung_TDA_application/deg_rips50_rivet/rivet0234.rivet --datatype points --homology 0 --xbins 50 --ybins 50\n",
      "/home/qw817/rivet/rivet_console /home/qw817/Desktop/Lung_TDA_application/small_point_clouds/pc_1011.txt /home/qw817/Desktop/Lung_TDA_application/deg_rips50_rivet/rivet1011.rivet --datatype points --homology 0 --xbins 50 --ybins 50\n",
      "/home/qw817/rivet/rivet_console /home/qw817/Desktop/Lung_TDA_application/small_point_clouds/pc_0235.txt /home/qw817/Desktop/Lung_TDA_application/deg_rips50_rivet/rivet0235.rivet --datatype points --homology 0 --xbins 50 --ybins 50\n",
      "/home/qw817/rivet/rivet_console /home/qw817/Desktop/Lung_TDA_application/small_point_clouds/pc_0610.txt /home/qw817/Desktop/Lung_TDA_application/deg_rips50_rivet/rivet0610.rivet --datatype points --homology 0 --xbins 50 --ybins 50\n",
      "/home/qw817/rivet/rivet_console /home/qw817/Desktop/Lung_TDA_application/small_point_clouds/pc_0255.txt /home/qw817/Desktop/Lung_TDA_application/deg_rips50_rivet/rivet0255.rivet --datatype points --homology 0 --xbins 50 --ybins 50\n",
      "/home/qw817/rivet/rivet_console /home/qw817/Desktop/Lung_TDA_application/small_point_clouds/pc_0249.txt /home/qw817/Desktop/Lung_TDA_application/deg_rips50_rivet/rivet0249.rivet --datatype points --homology 0 --xbins 50 --ybins 50\n",
      "/home/qw817/rivet/rivet_console /home/qw817/Desktop/Lung_TDA_application/small_point_clouds/pc_0171.txt /home/qw817/Desktop/Lung_TDA_application/deg_rips50_rivet/rivet0171.rivet --datatype points --homology 0 --xbins 50 --ybins 50\n",
      "/home/qw817/rivet/rivet_console /home/qw817/Desktop/Lung_TDA_application/small_point_clouds/pc_0231.txt /home/qw817/Desktop/Lung_TDA_application/deg_rips50_rivet/rivet0231.rivet --datatype points --homology 0 --xbins 50 --ybins 50\n",
      "/home/qw817/rivet/rivet_console /home/qw817/Desktop/Lung_TDA_application/small_point_clouds/pc_0939.txt /home/qw817/Desktop/Lung_TDA_application/deg_rips50_rivet/rivet0939.rivet --datatype points --homology 0 --xbins 50 --ybins 50\n",
      "/home/qw817/rivet/rivet_console /home/qw817/Desktop/Lung_TDA_application/small_point_clouds/pc_0213.txt /home/qw817/Desktop/Lung_TDA_application/deg_rips50_rivet/rivet0213.rivet --datatype points --homology 0 --xbins 50 --ybins 50\n",
      "/home/qw817/rivet/rivet_console /home/qw817/Desktop/Lung_TDA_application/small_point_clouds/pc_0243.txt /home/qw817/Desktop/Lung_TDA_application/deg_rips50_rivet/rivet0243.rivet --datatype points --homology 0 --xbins 50 --ybins 50\n",
      "/home/qw817/rivet/rivet_console /home/qw817/Desktop/Lung_TDA_application/small_point_clouds/pc_0245.txt /home/qw817/Desktop/Lung_TDA_application/deg_rips50_rivet/rivet0245.rivet --datatype points --homology 0 --xbins 50 --ybins 50\n",
      "/home/qw817/rivet/rivet_console /home/qw817/Desktop/Lung_TDA_application/small_point_clouds/pc_0289.txt /home/qw817/Desktop/Lung_TDA_application/deg_rips50_rivet/rivet0289.rivet --datatype points --homology 0 --xbins 50 --ybins 50\n",
      "/home/qw817/rivet/rivet_console /home/qw817/Desktop/Lung_TDA_application/small_point_clouds/pc_0252.txt /home/qw817/Desktop/Lung_TDA_application/deg_rips50_rivet/rivet0252.rivet --datatype points --homology 0 --xbins 50 --ybins 50\n",
      "/home/qw817/rivet/rivet_console /home/qw817/Desktop/Lung_TDA_application/small_point_clouds/pc_0230.txt /home/qw817/Desktop/Lung_TDA_application/deg_rips50_rivet/rivet0230.rivet --datatype points --homology 0 --xbins 50 --ybins 50\n",
      "/home/qw817/rivet/rivet_console /home/qw817/Desktop/Lung_TDA_application/small_point_clouds/pc_0266.txt /home/qw817/Desktop/Lung_TDA_application/deg_rips50_rivet/rivet0266.rivet --datatype points --homology 0 --xbins 50 --ybins 50\n",
      "/home/qw817/rivet/rivet_console /home/qw817/Desktop/Lung_TDA_application/small_point_clouds/pc_0129.txt /home/qw817/Desktop/Lung_TDA_application/deg_rips50_rivet/rivet0129.rivet --datatype points --homology 0 --xbins 50 --ybins 50\n",
      "/home/qw817/rivet/rivet_console /home/qw817/Desktop/Lung_TDA_application/small_point_clouds/pc_0818.txt /home/qw817/Desktop/Lung_TDA_application/deg_rips50_rivet/rivet0818.rivet --datatype points --homology 0 --xbins 50 --ybins 50\n",
      "/home/qw817/rivet/rivet_console /home/qw817/Desktop/Lung_TDA_application/small_point_clouds/pc_1002.txt /home/qw817/Desktop/Lung_TDA_application/deg_rips50_rivet/rivet1002.rivet --datatype points --homology 0 --xbins 50 --ybins 50\n",
      "/home/qw817/rivet/rivet_console /home/qw817/Desktop/Lung_TDA_application/small_point_clouds/pc_0236.txt /home/qw817/Desktop/Lung_TDA_application/deg_rips50_rivet/rivet0236.rivet --datatype points --homology 0 --xbins 50 --ybins 50\n",
      "/home/qw817/rivet/rivet_console /home/qw817/Desktop/Lung_TDA_application/small_point_clouds/pc_0192.txt /home/qw817/Desktop/Lung_TDA_application/deg_rips50_rivet/rivet0192.rivet --datatype points --homology 0 --xbins 50 --ybins 50\n",
      "/home/qw817/rivet/rivet_console /home/qw817/Desktop/Lung_TDA_application/small_point_clouds/pc_0182.txt /home/qw817/Desktop/Lung_TDA_application/deg_rips50_rivet/rivet0182.rivet --datatype points --homology 0 --xbins 50 --ybins 50\n",
      "/home/qw817/rivet/rivet_console /home/qw817/Desktop/Lung_TDA_application/small_point_clouds/pc_0194.txt /home/qw817/Desktop/Lung_TDA_application/deg_rips50_rivet/rivet0194.rivet --datatype points --homology 0 --xbins 50 --ybins 50\n",
      "/home/qw817/rivet/rivet_console /home/qw817/Desktop/Lung_TDA_application/small_point_clouds/pc_0181.txt /home/qw817/Desktop/Lung_TDA_application/deg_rips50_rivet/rivet0181.rivet --datatype points --homology 0 --xbins 50 --ybins 50\n",
      "/home/qw817/rivet/rivet_console /home/qw817/Desktop/Lung_TDA_application/small_point_clouds/pc_0211.txt /home/qw817/Desktop/Lung_TDA_application/deg_rips50_rivet/rivet0211.rivet --datatype points --homology 0 --xbins 50 --ybins 50\n",
      "/home/qw817/rivet/rivet_console /home/qw817/Desktop/Lung_TDA_application/small_point_clouds/pc_0270.txt /home/qw817/Desktop/Lung_TDA_application/deg_rips50_rivet/rivet0270.rivet --datatype points --homology 0 --xbins 50 --ybins 50\n",
      "/home/qw817/rivet/rivet_console /home/qw817/Desktop/Lung_TDA_application/small_point_clouds/pc_0175.txt /home/qw817/Desktop/Lung_TDA_application/deg_rips50_rivet/rivet0175.rivet --datatype points --homology 0 --xbins 50 --ybins 50\n",
      "/home/qw817/rivet/rivet_console /home/qw817/Desktop/Lung_TDA_application/small_point_clouds/pc_0164.txt /home/qw817/Desktop/Lung_TDA_application/deg_rips50_rivet/rivet0164.rivet --datatype points --homology 0 --xbins 50 --ybins 50\n",
      "/home/qw817/rivet/rivet_console /home/qw817/Desktop/Lung_TDA_application/small_point_clouds/pc_0251.txt /home/qw817/Desktop/Lung_TDA_application/deg_rips50_rivet/rivet0251.rivet --datatype points --homology 0 --xbins 50 --ybins 50\n",
      "/home/qw817/rivet/rivet_console /home/qw817/Desktop/Lung_TDA_application/small_point_clouds/pc_0282.txt /home/qw817/Desktop/Lung_TDA_application/deg_rips50_rivet/rivet0282.rivet --datatype points --homology 0 --xbins 50 --ybins 50\n",
      "/home/qw817/rivet/rivet_console /home/qw817/Desktop/Lung_TDA_application/small_point_clouds/pc_0470.txt /home/qw817/Desktop/Lung_TDA_application/deg_rips50_rivet/rivet0470.rivet --datatype points --homology 0 --xbins 50 --ybins 50\n",
      "/home/qw817/rivet/rivet_console /home/qw817/Desktop/Lung_TDA_application/small_point_clouds/pc_0118.txt /home/qw817/Desktop/Lung_TDA_application/deg_rips50_rivet/rivet0118.rivet --datatype points --homology 0 --xbins 50 --ybins 50\n",
      "/home/qw817/rivet/rivet_console /home/qw817/Desktop/Lung_TDA_application/small_point_clouds/pc_0260.txt /home/qw817/Desktop/Lung_TDA_application/deg_rips50_rivet/rivet0260.rivet --datatype points --homology 0 --xbins 50 --ybins 50\n",
      "/home/qw817/rivet/rivet_console /home/qw817/Desktop/Lung_TDA_application/small_point_clouds/pc_0332.txt /home/qw817/Desktop/Lung_TDA_application/deg_rips50_rivet/rivet0332.rivet --datatype points --homology 0 --xbins 50 --ybins 50\n",
      "/home/qw817/rivet/rivet_console /home/qw817/Desktop/Lung_TDA_application/small_point_clouds/pc_0161.txt /home/qw817/Desktop/Lung_TDA_application/deg_rips50_rivet/rivet0161.rivet --datatype points --homology 0 --xbins 50 --ybins 50\n",
      "/home/qw817/rivet/rivet_console /home/qw817/Desktop/Lung_TDA_application/small_point_clouds/pc_0169.txt /home/qw817/Desktop/Lung_TDA_application/deg_rips50_rivet/rivet0169.rivet --datatype points --homology 0 --xbins 50 --ybins 50\n",
      "/home/qw817/rivet/rivet_console /home/qw817/Desktop/Lung_TDA_application/small_point_clouds/pc_0771.txt /home/qw817/Desktop/Lung_TDA_application/deg_rips50_rivet/rivet0771.rivet --datatype points --homology 0 --xbins 50 --ybins 50\n"
     ]
    }
   ],
   "source": [
    "# try with larger bin size - h 50 bins\n",
    "for i in ids:\n",
    "    print(\"/home/qw817/rivet/rivet_console /home/qw817/Desktop/Lung_TDA_application/small_point_cloud_height_filtration/h_ptcl_\"+i[-4:]+\".txt /home/qw817/Desktop/Lung_TDA_application/h_rivet50/h_pc\"+i[-4:]+\".rivet --xbins 50 --ybins 50\")\n",
    "\n",
    "for i in ids:\n",
    "    print(\"/home/qw817/rivet/rivet_console /home/qw817/Desktop/Lung_TDA_application/x_pc/pc_\"+i[-4:]+\".txt /home/qw817/Desktop/Lung_TDA_application/x_rivet50/x_pc\"+i[-4:]+\".rivet --xbins 50 --ybins 50\")\n",
    "    \n",
    "for i in ids:\n",
    "    print(\"/home/qw817/rivet/rivet_console /home/qw817/Desktop/Lung_TDA_application/y_pc/pc_\"+i[-4:]+\".txt /home/qw817/Desktop/Lung_TDA_application/y_rivet50/y_pc\"+i[-4:]+\".rivet --xbins 50 --ybins 50\")\n",
    "     \n",
    "for i in ids:\n",
    "    print(\"/home/qw817/rivet/rivet_console /home/qw817/Desktop/Lung_TDA_application/small_point_clouds/pc_\"+i[-4:]+\".txt /home/qw817/Desktop/Lung_TDA_application/deg_rips50_rivet/rivet\"+i[-4:]+\".rivet --datatype points --homology 0 --xbins 50 --ybins 50\")\n",
    "\n"
   ]
  },
  {
   "cell_type": "code",
   "execution_count": null,
   "metadata": {},
   "outputs": [],
   "source": []
  },
  {
   "cell_type": "code",
   "execution_count": null,
   "metadata": {},
   "outputs": [],
   "source": []
  },
  {
   "cell_type": "code",
   "execution_count": null,
   "metadata": {},
   "outputs": [],
   "source": [
    "# convert .rivet files to rank functions for y filtration\n",
    "h100_ranks = []\n",
    "for i in ids:\n",
    "    with open(\"h_rivet100/h_pc\"+i[-4:]+\".rivet\", 'rb') as f:\n",
    "        computed_data = f.read()\n",
    "    current_rank = rank_function(computed_data, grid_size=100, fixed_bounds=None, use_weights=False, normalize=False, minimum_rank=0)\n",
    "    h100_ranks.append(current_rank)\n",
    "h100_rank_mat = np.array(h100_ranks)\n",
    "h100_rank_mat.shape\n",
    "np.savetxt(\"computed_rank_functions_y.csv\", h100_rank_mat, delimiter=',')"
   ]
  },
  {
   "cell_type": "code",
   "execution_count": null,
   "metadata": {},
   "outputs": [],
   "source": []
  }
 ],
 "metadata": {
  "kernelspec": {
   "display_name": "Python 3",
   "language": "python",
   "name": "python3"
  },
  "language_info": {
   "codemirror_mode": {
    "name": "ipython",
    "version": 3
   },
   "file_extension": ".py",
   "mimetype": "text/x-python",
   "name": "python",
   "nbconvert_exporter": "python",
   "pygments_lexer": "ipython3",
   "version": "3.7.6"
  }
 },
 "nbformat": 4,
 "nbformat_minor": 4
}
